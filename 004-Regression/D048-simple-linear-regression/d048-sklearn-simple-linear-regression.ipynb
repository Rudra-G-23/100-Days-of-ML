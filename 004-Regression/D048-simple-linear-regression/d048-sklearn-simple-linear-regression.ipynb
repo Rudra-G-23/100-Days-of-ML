{
 "cells": [
  {
   "cell_type": "markdown",
   "id": "fbf4588d",
   "metadata": {},
   "source": [
    "# Import Dataset and libraries"
   ]
  },
  {
   "cell_type": "code",
   "execution_count": 25,
   "id": "21e3b059",
   "metadata": {},
   "outputs": [],
   "source": [
    "import numpy as np\n",
    "import pandas as pd\n",
    "\n",
    "import matplotlib.pyplot as plt\n",
    "import seaborn as sns\n",
    "\n",
    "import plotly.express as px\n",
    "import plotly.graph_objects as go"
   ]
  },
  {
   "cell_type": "code",
   "execution_count": 28,
   "id": "c3474425",
   "metadata": {},
   "outputs": [],
   "source": [
    "from sklearn.model_selection import train_test_split\n",
    "from sklearn.linear_model import LinearRegression\n",
    "\n",
    "from sklearn.metrics import mean_squared_error, mean_absolute_error, r2_score"
   ]
  },
  {
   "cell_type": "code",
   "execution_count": 3,
   "id": "e36f2082",
   "metadata": {},
   "outputs": [
    {
     "data": {
      "text/html": [
       "<div>\n",
       "<style scoped>\n",
       "    .dataframe tbody tr th:only-of-type {\n",
       "        vertical-align: middle;\n",
       "    }\n",
       "\n",
       "    .dataframe tbody tr th {\n",
       "        vertical-align: top;\n",
       "    }\n",
       "\n",
       "    .dataframe thead th {\n",
       "        text-align: right;\n",
       "    }\n",
       "</style>\n",
       "<table border=\"1\" class=\"dataframe\">\n",
       "  <thead>\n",
       "    <tr style=\"text-align: right;\">\n",
       "      <th></th>\n",
       "      <th>cgpa</th>\n",
       "      <th>package</th>\n",
       "    </tr>\n",
       "  </thead>\n",
       "  <tbody>\n",
       "    <tr>\n",
       "      <th>97</th>\n",
       "      <td>5.98</td>\n",
       "      <td>2.84</td>\n",
       "    </tr>\n",
       "    <tr>\n",
       "      <th>191</th>\n",
       "      <td>7.28</td>\n",
       "      <td>3.48</td>\n",
       "    </tr>\n",
       "    <tr>\n",
       "      <th>2</th>\n",
       "      <td>7.82</td>\n",
       "      <td>3.25</td>\n",
       "    </tr>\n",
       "    <tr>\n",
       "      <th>38</th>\n",
       "      <td>8.62</td>\n",
       "      <td>4.36</td>\n",
       "    </tr>\n",
       "  </tbody>\n",
       "</table>\n",
       "</div>"
      ],
      "text/plain": [
       "     cgpa  package\n",
       "97   5.98     2.84\n",
       "191  7.28     3.48\n",
       "2    7.82     3.25\n",
       "38   8.62     4.36"
      ]
     },
     "execution_count": 3,
     "metadata": {},
     "output_type": "execute_result"
    }
   ],
   "source": [
    "df = pd.read_csv('placement.csv')\n",
    "df.sample(4)"
   ]
  },
  {
   "cell_type": "code",
   "execution_count": null,
   "id": "ba01ab97",
   "metadata": {},
   "outputs": [
    {
     "data": {
      "application/vnd.plotly.v1+json": {
       "config": {
        "plotlyServerURL": "https://plot.ly"
       },
       "data": [
        {
         "hovertemplate": "cgpa=%{x}<br>package=%{y}<extra></extra>",
         "legendgroup": "",
         "marker": {
          "color": "#636efa",
          "symbol": "circle"
         },
         "mode": "markers",
         "name": "",
         "orientation": "v",
         "showlegend": false,
         "type": "scatter",
         "x": {
          "bdata": "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",
          "dtype": "f8"
         },
         "xaxis": "x",
         "y": {
          "bdata": "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",
          "dtype": "f8"
         },
         "yaxis": "y"
        }
       ],
       "layout": {
        "legend": {
         "tracegroupgap": 0
        },
        "margin": {
         "t": 60
        },
        "template": {
         "data": {
          "bar": [
           {
            "error_x": {
             "color": "#2a3f5f"
            },
            "error_y": {
             "color": "#2a3f5f"
            },
            "marker": {
             "line": {
              "color": "#E5ECF6",
              "width": 0.5
             },
             "pattern": {
              "fillmode": "overlay",
              "size": 10,
              "solidity": 0.2
             }
            },
            "type": "bar"
           }
          ],
          "barpolar": [
           {
            "marker": {
             "line": {
              "color": "#E5ECF6",
              "width": 0.5
             },
             "pattern": {
              "fillmode": "overlay",
              "size": 10,
              "solidity": 0.2
             }
            },
            "type": "barpolar"
           }
          ],
          "carpet": [
           {
            "aaxis": {
             "endlinecolor": "#2a3f5f",
             "gridcolor": "white",
             "linecolor": "white",
             "minorgridcolor": "white",
             "startlinecolor": "#2a3f5f"
            },
            "baxis": {
             "endlinecolor": "#2a3f5f",
             "gridcolor": "white",
             "linecolor": "white",
             "minorgridcolor": "white",
             "startlinecolor": "#2a3f5f"
            },
            "type": "carpet"
           }
          ],
          "choropleth": [
           {
            "colorbar": {
             "outlinewidth": 0,
             "ticks": ""
            },
            "type": "choropleth"
           }
          ],
          "contour": [
           {
            "colorbar": {
             "outlinewidth": 0,
             "ticks": ""
            },
            "colorscale": [
             [
              0,
              "#0d0887"
             ],
             [
              0.1111111111111111,
              "#46039f"
             ],
             [
              0.2222222222222222,
              "#7201a8"
             ],
             [
              0.3333333333333333,
              "#9c179e"
             ],
             [
              0.4444444444444444,
              "#bd3786"
             ],
             [
              0.5555555555555556,
              "#d8576b"
             ],
             [
              0.6666666666666666,
              "#ed7953"
             ],
             [
              0.7777777777777778,
              "#fb9f3a"
             ],
             [
              0.8888888888888888,
              "#fdca26"
             ],
             [
              1,
              "#f0f921"
             ]
            ],
            "type": "contour"
           }
          ],
          "contourcarpet": [
           {
            "colorbar": {
             "outlinewidth": 0,
             "ticks": ""
            },
            "type": "contourcarpet"
           }
          ],
          "heatmap": [
           {
            "colorbar": {
             "outlinewidth": 0,
             "ticks": ""
            },
            "colorscale": [
             [
              0,
              "#0d0887"
             ],
             [
              0.1111111111111111,
              "#46039f"
             ],
             [
              0.2222222222222222,
              "#7201a8"
             ],
             [
              0.3333333333333333,
              "#9c179e"
             ],
             [
              0.4444444444444444,
              "#bd3786"
             ],
             [
              0.5555555555555556,
              "#d8576b"
             ],
             [
              0.6666666666666666,
              "#ed7953"
             ],
             [
              0.7777777777777778,
              "#fb9f3a"
             ],
             [
              0.8888888888888888,
              "#fdca26"
             ],
             [
              1,
              "#f0f921"
             ]
            ],
            "type": "heatmap"
           }
          ],
          "histogram": [
           {
            "marker": {
             "pattern": {
              "fillmode": "overlay",
              "size": 10,
              "solidity": 0.2
             }
            },
            "type": "histogram"
           }
          ],
          "histogram2d": [
           {
            "colorbar": {
             "outlinewidth": 0,
             "ticks": ""
            },
            "colorscale": [
             [
              0,
              "#0d0887"
             ],
             [
              0.1111111111111111,
              "#46039f"
             ],
             [
              0.2222222222222222,
              "#7201a8"
             ],
             [
              0.3333333333333333,
              "#9c179e"
             ],
             [
              0.4444444444444444,
              "#bd3786"
             ],
             [
              0.5555555555555556,
              "#d8576b"
             ],
             [
              0.6666666666666666,
              "#ed7953"
             ],
             [
              0.7777777777777778,
              "#fb9f3a"
             ],
             [
              0.8888888888888888,
              "#fdca26"
             ],
             [
              1,
              "#f0f921"
             ]
            ],
            "type": "histogram2d"
           }
          ],
          "histogram2dcontour": [
           {
            "colorbar": {
             "outlinewidth": 0,
             "ticks": ""
            },
            "colorscale": [
             [
              0,
              "#0d0887"
             ],
             [
              0.1111111111111111,
              "#46039f"
             ],
             [
              0.2222222222222222,
              "#7201a8"
             ],
             [
              0.3333333333333333,
              "#9c179e"
             ],
             [
              0.4444444444444444,
              "#bd3786"
             ],
             [
              0.5555555555555556,
              "#d8576b"
             ],
             [
              0.6666666666666666,
              "#ed7953"
             ],
             [
              0.7777777777777778,
              "#fb9f3a"
             ],
             [
              0.8888888888888888,
              "#fdca26"
             ],
             [
              1,
              "#f0f921"
             ]
            ],
            "type": "histogram2dcontour"
           }
          ],
          "mesh3d": [
           {
            "colorbar": {
             "outlinewidth": 0,
             "ticks": ""
            },
            "type": "mesh3d"
           }
          ],
          "parcoords": [
           {
            "line": {
             "colorbar": {
              "outlinewidth": 0,
              "ticks": ""
             }
            },
            "type": "parcoords"
           }
          ],
          "pie": [
           {
            "automargin": true,
            "type": "pie"
           }
          ],
          "scatter": [
           {
            "fillpattern": {
             "fillmode": "overlay",
             "size": 10,
             "solidity": 0.2
            },
            "type": "scatter"
           }
          ],
          "scatter3d": [
           {
            "line": {
             "colorbar": {
              "outlinewidth": 0,
              "ticks": ""
             }
            },
            "marker": {
             "colorbar": {
              "outlinewidth": 0,
              "ticks": ""
             }
            },
            "type": "scatter3d"
           }
          ],
          "scattercarpet": [
           {
            "marker": {
             "colorbar": {
              "outlinewidth": 0,
              "ticks": ""
             }
            },
            "type": "scattercarpet"
           }
          ],
          "scattergeo": [
           {
            "marker": {
             "colorbar": {
              "outlinewidth": 0,
              "ticks": ""
             }
            },
            "type": "scattergeo"
           }
          ],
          "scattergl": [
           {
            "marker": {
             "colorbar": {
              "outlinewidth": 0,
              "ticks": ""
             }
            },
            "type": "scattergl"
           }
          ],
          "scattermap": [
           {
            "marker": {
             "colorbar": {
              "outlinewidth": 0,
              "ticks": ""
             }
            },
            "type": "scattermap"
           }
          ],
          "scattermapbox": [
           {
            "marker": {
             "colorbar": {
              "outlinewidth": 0,
              "ticks": ""
             }
            },
            "type": "scattermapbox"
           }
          ],
          "scatterpolar": [
           {
            "marker": {
             "colorbar": {
              "outlinewidth": 0,
              "ticks": ""
             }
            },
            "type": "scatterpolar"
           }
          ],
          "scatterpolargl": [
           {
            "marker": {
             "colorbar": {
              "outlinewidth": 0,
              "ticks": ""
             }
            },
            "type": "scatterpolargl"
           }
          ],
          "scatterternary": [
           {
            "marker": {
             "colorbar": {
              "outlinewidth": 0,
              "ticks": ""
             }
            },
            "type": "scatterternary"
           }
          ],
          "surface": [
           {
            "colorbar": {
             "outlinewidth": 0,
             "ticks": ""
            },
            "colorscale": [
             [
              0,
              "#0d0887"
             ],
             [
              0.1111111111111111,
              "#46039f"
             ],
             [
              0.2222222222222222,
              "#7201a8"
             ],
             [
              0.3333333333333333,
              "#9c179e"
             ],
             [
              0.4444444444444444,
              "#bd3786"
             ],
             [
              0.5555555555555556,
              "#d8576b"
             ],
             [
              0.6666666666666666,
              "#ed7953"
             ],
             [
              0.7777777777777778,
              "#fb9f3a"
             ],
             [
              0.8888888888888888,
              "#fdca26"
             ],
             [
              1,
              "#f0f921"
             ]
            ],
            "type": "surface"
           }
          ],
          "table": [
           {
            "cells": {
             "fill": {
              "color": "#EBF0F8"
             },
             "line": {
              "color": "white"
             }
            },
            "header": {
             "fill": {
              "color": "#C8D4E3"
             },
             "line": {
              "color": "white"
             }
            },
            "type": "table"
           }
          ]
         },
         "layout": {
          "annotationdefaults": {
           "arrowcolor": "#2a3f5f",
           "arrowhead": 0,
           "arrowwidth": 1
          },
          "autotypenumbers": "strict",
          "coloraxis": {
           "colorbar": {
            "outlinewidth": 0,
            "ticks": ""
           }
          },
          "colorscale": {
           "diverging": [
            [
             0,
             "#8e0152"
            ],
            [
             0.1,
             "#c51b7d"
            ],
            [
             0.2,
             "#de77ae"
            ],
            [
             0.3,
             "#f1b6da"
            ],
            [
             0.4,
             "#fde0ef"
            ],
            [
             0.5,
             "#f7f7f7"
            ],
            [
             0.6,
             "#e6f5d0"
            ],
            [
             0.7,
             "#b8e186"
            ],
            [
             0.8,
             "#7fbc41"
            ],
            [
             0.9,
             "#4d9221"
            ],
            [
             1,
             "#276419"
            ]
           ],
           "sequential": [
            [
             0,
             "#0d0887"
            ],
            [
             0.1111111111111111,
             "#46039f"
            ],
            [
             0.2222222222222222,
             "#7201a8"
            ],
            [
             0.3333333333333333,
             "#9c179e"
            ],
            [
             0.4444444444444444,
             "#bd3786"
            ],
            [
             0.5555555555555556,
             "#d8576b"
            ],
            [
             0.6666666666666666,
             "#ed7953"
            ],
            [
             0.7777777777777778,
             "#fb9f3a"
            ],
            [
             0.8888888888888888,
             "#fdca26"
            ],
            [
             1,
             "#f0f921"
            ]
           ],
           "sequentialminus": [
            [
             0,
             "#0d0887"
            ],
            [
             0.1111111111111111,
             "#46039f"
            ],
            [
             0.2222222222222222,
             "#7201a8"
            ],
            [
             0.3333333333333333,
             "#9c179e"
            ],
            [
             0.4444444444444444,
             "#bd3786"
            ],
            [
             0.5555555555555556,
             "#d8576b"
            ],
            [
             0.6666666666666666,
             "#ed7953"
            ],
            [
             0.7777777777777778,
             "#fb9f3a"
            ],
            [
             0.8888888888888888,
             "#fdca26"
            ],
            [
             1,
             "#f0f921"
            ]
           ]
          },
          "colorway": [
           "#636efa",
           "#EF553B",
           "#00cc96",
           "#ab63fa",
           "#FFA15A",
           "#19d3f3",
           "#FF6692",
           "#B6E880",
           "#FF97FF",
           "#FECB52"
          ],
          "font": {
           "color": "#2a3f5f"
          },
          "geo": {
           "bgcolor": "white",
           "lakecolor": "white",
           "landcolor": "#E5ECF6",
           "showlakes": true,
           "showland": true,
           "subunitcolor": "white"
          },
          "hoverlabel": {
           "align": "left"
          },
          "hovermode": "closest",
          "mapbox": {
           "style": "light"
          },
          "paper_bgcolor": "white",
          "plot_bgcolor": "#E5ECF6",
          "polar": {
           "angularaxis": {
            "gridcolor": "white",
            "linecolor": "white",
            "ticks": ""
           },
           "bgcolor": "#E5ECF6",
           "radialaxis": {
            "gridcolor": "white",
            "linecolor": "white",
            "ticks": ""
           }
          },
          "scene": {
           "xaxis": {
            "backgroundcolor": "#E5ECF6",
            "gridcolor": "white",
            "gridwidth": 2,
            "linecolor": "white",
            "showbackground": true,
            "ticks": "",
            "zerolinecolor": "white"
           },
           "yaxis": {
            "backgroundcolor": "#E5ECF6",
            "gridcolor": "white",
            "gridwidth": 2,
            "linecolor": "white",
            "showbackground": true,
            "ticks": "",
            "zerolinecolor": "white"
           },
           "zaxis": {
            "backgroundcolor": "#E5ECF6",
            "gridcolor": "white",
            "gridwidth": 2,
            "linecolor": "white",
            "showbackground": true,
            "ticks": "",
            "zerolinecolor": "white"
           }
          },
          "shapedefaults": {
           "line": {
            "color": "#2a3f5f"
           }
          },
          "ternary": {
           "aaxis": {
            "gridcolor": "white",
            "linecolor": "white",
            "ticks": ""
           },
           "baxis": {
            "gridcolor": "white",
            "linecolor": "white",
            "ticks": ""
           },
           "bgcolor": "#E5ECF6",
           "caxis": {
            "gridcolor": "white",
            "linecolor": "white",
            "ticks": ""
           }
          },
          "title": {
           "x": 0.05
          },
          "xaxis": {
           "automargin": true,
           "gridcolor": "white",
           "linecolor": "white",
           "ticks": "",
           "title": {
            "standoff": 15
           },
           "zerolinecolor": "white",
           "zerolinewidth": 2
          },
          "yaxis": {
           "automargin": true,
           "gridcolor": "white",
           "linecolor": "white",
           "ticks": "",
           "title": {
            "standoff": 15
           },
           "zerolinecolor": "white",
           "zerolinewidth": 2
          }
         }
        },
        "xaxis": {
         "anchor": "y",
         "domain": [
          0,
          1
         ],
         "title": {
          "text": "cgpa"
         }
        },
        "yaxis": {
         "anchor": "x",
         "domain": [
          0,
          1
         ],
         "title": {
          "text": "package"
         }
        }
       }
      }
     },
     "metadata": {},
     "output_type": "display_data"
    }
   ],
   "source": [
    "# see how our data looks like \n",
    "\n",
    "fig = px.scatter(\n",
    "    df,\n",
    "    x= df['cgpa'],\n",
    "    y= df['package'], \n",
    ")\n",
    "\n",
    "fig.show()"
   ]
  },
  {
   "cell_type": "markdown",
   "id": "5d183525",
   "metadata": {},
   "source": [
    "# Train Test Split"
   ]
  },
  {
   "cell_type": "code",
   "execution_count": 9,
   "id": "86e92a08",
   "metadata": {},
   "outputs": [],
   "source": [
    "X = df.iloc[:, 0:1]\n",
    "y = df.iloc[:, -1]"
   ]
  },
  {
   "cell_type": "code",
   "execution_count": null,
   "id": "6d8b0368",
   "metadata": {},
   "outputs": [
    {
     "name": "stdout",
     "output_type": "stream",
     "text": [
      "(200, 1) (200,)\n"
     ]
    }
   ],
   "source": [
    "# X -> input\n",
    "# y -> target/ output\n",
    "# This is simple so this is simple linear regression 😆\n",
    "print(X.shape, y.shape)"
   ]
  },
  {
   "cell_type": "code",
   "execution_count": 10,
   "id": "99f9275b",
   "metadata": {},
   "outputs": [],
   "source": [
    "X_train, X_test, y_train, y_test = train_test_split(X, y, test_size=0.2, random_state=2)"
   ]
  },
  {
   "cell_type": "code",
   "execution_count": 11,
   "id": "26c19a3a",
   "metadata": {},
   "outputs": [
    {
     "name": "stdout",
     "output_type": "stream",
     "text": [
      "(160, 1) (40, 1)\n"
     ]
    }
   ],
   "source": [
    "print(X_train.shape, X_test.shape)"
   ]
  },
  {
   "cell_type": "code",
   "execution_count": 13,
   "id": "202fb01c",
   "metadata": {},
   "outputs": [],
   "source": [
    "# make a object of linear regression\n",
    "lr = LinearRegression()"
   ]
  },
  {
   "cell_type": "code",
   "execution_count": 15,
   "id": "daa1b165",
   "metadata": {},
   "outputs": [
    {
     "data": {
      "text/html": [
       "<style>#sk-container-id-1 {\n",
       "  /* Definition of color scheme common for light and dark mode */\n",
       "  --sklearn-color-text: #000;\n",
       "  --sklearn-color-text-muted: #666;\n",
       "  --sklearn-color-line: gray;\n",
       "  /* Definition of color scheme for unfitted estimators */\n",
       "  --sklearn-color-unfitted-level-0: #fff5e6;\n",
       "  --sklearn-color-unfitted-level-1: #f6e4d2;\n",
       "  --sklearn-color-unfitted-level-2: #ffe0b3;\n",
       "  --sklearn-color-unfitted-level-3: chocolate;\n",
       "  /* Definition of color scheme for fitted estimators */\n",
       "  --sklearn-color-fitted-level-0: #f0f8ff;\n",
       "  --sklearn-color-fitted-level-1: #d4ebff;\n",
       "  --sklearn-color-fitted-level-2: #b3dbfd;\n",
       "  --sklearn-color-fitted-level-3: cornflowerblue;\n",
       "\n",
       "  /* Specific color for light theme */\n",
       "  --sklearn-color-text-on-default-background: var(--sg-text-color, var(--theme-code-foreground, var(--jp-content-font-color1, black)));\n",
       "  --sklearn-color-background: var(--sg-background-color, var(--theme-background, var(--jp-layout-color0, white)));\n",
       "  --sklearn-color-border-box: var(--sg-text-color, var(--theme-code-foreground, var(--jp-content-font-color1, black)));\n",
       "  --sklearn-color-icon: #696969;\n",
       "\n",
       "  @media (prefers-color-scheme: dark) {\n",
       "    /* Redefinition of color scheme for dark theme */\n",
       "    --sklearn-color-text-on-default-background: var(--sg-text-color, var(--theme-code-foreground, var(--jp-content-font-color1, white)));\n",
       "    --sklearn-color-background: var(--sg-background-color, var(--theme-background, var(--jp-layout-color0, #111)));\n",
       "    --sklearn-color-border-box: var(--sg-text-color, var(--theme-code-foreground, var(--jp-content-font-color1, white)));\n",
       "    --sklearn-color-icon: #878787;\n",
       "  }\n",
       "}\n",
       "\n",
       "#sk-container-id-1 {\n",
       "  color: var(--sklearn-color-text);\n",
       "}\n",
       "\n",
       "#sk-container-id-1 pre {\n",
       "  padding: 0;\n",
       "}\n",
       "\n",
       "#sk-container-id-1 input.sk-hidden--visually {\n",
       "  border: 0;\n",
       "  clip: rect(1px 1px 1px 1px);\n",
       "  clip: rect(1px, 1px, 1px, 1px);\n",
       "  height: 1px;\n",
       "  margin: -1px;\n",
       "  overflow: hidden;\n",
       "  padding: 0;\n",
       "  position: absolute;\n",
       "  width: 1px;\n",
       "}\n",
       "\n",
       "#sk-container-id-1 div.sk-dashed-wrapped {\n",
       "  border: 1px dashed var(--sklearn-color-line);\n",
       "  margin: 0 0.4em 0.5em 0.4em;\n",
       "  box-sizing: border-box;\n",
       "  padding-bottom: 0.4em;\n",
       "  background-color: var(--sklearn-color-background);\n",
       "}\n",
       "\n",
       "#sk-container-id-1 div.sk-container {\n",
       "  /* jupyter's `normalize.less` sets `[hidden] { display: none; }`\n",
       "     but bootstrap.min.css set `[hidden] { display: none !important; }`\n",
       "     so we also need the `!important` here to be able to override the\n",
       "     default hidden behavior on the sphinx rendered scikit-learn.org.\n",
       "     See: https://github.com/scikit-learn/scikit-learn/issues/21755 */\n",
       "  display: inline-block !important;\n",
       "  position: relative;\n",
       "}\n",
       "\n",
       "#sk-container-id-1 div.sk-text-repr-fallback {\n",
       "  display: none;\n",
       "}\n",
       "\n",
       "div.sk-parallel-item,\n",
       "div.sk-serial,\n",
       "div.sk-item {\n",
       "  /* draw centered vertical line to link estimators */\n",
       "  background-image: linear-gradient(var(--sklearn-color-text-on-default-background), var(--sklearn-color-text-on-default-background));\n",
       "  background-size: 2px 100%;\n",
       "  background-repeat: no-repeat;\n",
       "  background-position: center center;\n",
       "}\n",
       "\n",
       "/* Parallel-specific style estimator block */\n",
       "\n",
       "#sk-container-id-1 div.sk-parallel-item::after {\n",
       "  content: \"\";\n",
       "  width: 100%;\n",
       "  border-bottom: 2px solid var(--sklearn-color-text-on-default-background);\n",
       "  flex-grow: 1;\n",
       "}\n",
       "\n",
       "#sk-container-id-1 div.sk-parallel {\n",
       "  display: flex;\n",
       "  align-items: stretch;\n",
       "  justify-content: center;\n",
       "  background-color: var(--sklearn-color-background);\n",
       "  position: relative;\n",
       "}\n",
       "\n",
       "#sk-container-id-1 div.sk-parallel-item {\n",
       "  display: flex;\n",
       "  flex-direction: column;\n",
       "}\n",
       "\n",
       "#sk-container-id-1 div.sk-parallel-item:first-child::after {\n",
       "  align-self: flex-end;\n",
       "  width: 50%;\n",
       "}\n",
       "\n",
       "#sk-container-id-1 div.sk-parallel-item:last-child::after {\n",
       "  align-self: flex-start;\n",
       "  width: 50%;\n",
       "}\n",
       "\n",
       "#sk-container-id-1 div.sk-parallel-item:only-child::after {\n",
       "  width: 0;\n",
       "}\n",
       "\n",
       "/* Serial-specific style estimator block */\n",
       "\n",
       "#sk-container-id-1 div.sk-serial {\n",
       "  display: flex;\n",
       "  flex-direction: column;\n",
       "  align-items: center;\n",
       "  background-color: var(--sklearn-color-background);\n",
       "  padding-right: 1em;\n",
       "  padding-left: 1em;\n",
       "}\n",
       "\n",
       "\n",
       "/* Toggleable style: style used for estimator/Pipeline/ColumnTransformer box that is\n",
       "clickable and can be expanded/collapsed.\n",
       "- Pipeline and ColumnTransformer use this feature and define the default style\n",
       "- Estimators will overwrite some part of the style using the `sk-estimator` class\n",
       "*/\n",
       "\n",
       "/* Pipeline and ColumnTransformer style (default) */\n",
       "\n",
       "#sk-container-id-1 div.sk-toggleable {\n",
       "  /* Default theme specific background. It is overwritten whether we have a\n",
       "  specific estimator or a Pipeline/ColumnTransformer */\n",
       "  background-color: var(--sklearn-color-background);\n",
       "}\n",
       "\n",
       "/* Toggleable label */\n",
       "#sk-container-id-1 label.sk-toggleable__label {\n",
       "  cursor: pointer;\n",
       "  display: flex;\n",
       "  width: 100%;\n",
       "  margin-bottom: 0;\n",
       "  padding: 0.5em;\n",
       "  box-sizing: border-box;\n",
       "  text-align: center;\n",
       "  align-items: start;\n",
       "  justify-content: space-between;\n",
       "  gap: 0.5em;\n",
       "}\n",
       "\n",
       "#sk-container-id-1 label.sk-toggleable__label .caption {\n",
       "  font-size: 0.6rem;\n",
       "  font-weight: lighter;\n",
       "  color: var(--sklearn-color-text-muted);\n",
       "}\n",
       "\n",
       "#sk-container-id-1 label.sk-toggleable__label-arrow:before {\n",
       "  /* Arrow on the left of the label */\n",
       "  content: \"▸\";\n",
       "  float: left;\n",
       "  margin-right: 0.25em;\n",
       "  color: var(--sklearn-color-icon);\n",
       "}\n",
       "\n",
       "#sk-container-id-1 label.sk-toggleable__label-arrow:hover:before {\n",
       "  color: var(--sklearn-color-text);\n",
       "}\n",
       "\n",
       "/* Toggleable content - dropdown */\n",
       "\n",
       "#sk-container-id-1 div.sk-toggleable__content {\n",
       "  max-height: 0;\n",
       "  max-width: 0;\n",
       "  overflow: hidden;\n",
       "  text-align: left;\n",
       "  /* unfitted */\n",
       "  background-color: var(--sklearn-color-unfitted-level-0);\n",
       "}\n",
       "\n",
       "#sk-container-id-1 div.sk-toggleable__content.fitted {\n",
       "  /* fitted */\n",
       "  background-color: var(--sklearn-color-fitted-level-0);\n",
       "}\n",
       "\n",
       "#sk-container-id-1 div.sk-toggleable__content pre {\n",
       "  margin: 0.2em;\n",
       "  border-radius: 0.25em;\n",
       "  color: var(--sklearn-color-text);\n",
       "  /* unfitted */\n",
       "  background-color: var(--sklearn-color-unfitted-level-0);\n",
       "}\n",
       "\n",
       "#sk-container-id-1 div.sk-toggleable__content.fitted pre {\n",
       "  /* unfitted */\n",
       "  background-color: var(--sklearn-color-fitted-level-0);\n",
       "}\n",
       "\n",
       "#sk-container-id-1 input.sk-toggleable__control:checked~div.sk-toggleable__content {\n",
       "  /* Expand drop-down */\n",
       "  max-height: 200px;\n",
       "  max-width: 100%;\n",
       "  overflow: auto;\n",
       "}\n",
       "\n",
       "#sk-container-id-1 input.sk-toggleable__control:checked~label.sk-toggleable__label-arrow:before {\n",
       "  content: \"▾\";\n",
       "}\n",
       "\n",
       "/* Pipeline/ColumnTransformer-specific style */\n",
       "\n",
       "#sk-container-id-1 div.sk-label input.sk-toggleable__control:checked~label.sk-toggleable__label {\n",
       "  color: var(--sklearn-color-text);\n",
       "  background-color: var(--sklearn-color-unfitted-level-2);\n",
       "}\n",
       "\n",
       "#sk-container-id-1 div.sk-label.fitted input.sk-toggleable__control:checked~label.sk-toggleable__label {\n",
       "  background-color: var(--sklearn-color-fitted-level-2);\n",
       "}\n",
       "\n",
       "/* Estimator-specific style */\n",
       "\n",
       "/* Colorize estimator box */\n",
       "#sk-container-id-1 div.sk-estimator input.sk-toggleable__control:checked~label.sk-toggleable__label {\n",
       "  /* unfitted */\n",
       "  background-color: var(--sklearn-color-unfitted-level-2);\n",
       "}\n",
       "\n",
       "#sk-container-id-1 div.sk-estimator.fitted input.sk-toggleable__control:checked~label.sk-toggleable__label {\n",
       "  /* fitted */\n",
       "  background-color: var(--sklearn-color-fitted-level-2);\n",
       "}\n",
       "\n",
       "#sk-container-id-1 div.sk-label label.sk-toggleable__label,\n",
       "#sk-container-id-1 div.sk-label label {\n",
       "  /* The background is the default theme color */\n",
       "  color: var(--sklearn-color-text-on-default-background);\n",
       "}\n",
       "\n",
       "/* On hover, darken the color of the background */\n",
       "#sk-container-id-1 div.sk-label:hover label.sk-toggleable__label {\n",
       "  color: var(--sklearn-color-text);\n",
       "  background-color: var(--sklearn-color-unfitted-level-2);\n",
       "}\n",
       "\n",
       "/* Label box, darken color on hover, fitted */\n",
       "#sk-container-id-1 div.sk-label.fitted:hover label.sk-toggleable__label.fitted {\n",
       "  color: var(--sklearn-color-text);\n",
       "  background-color: var(--sklearn-color-fitted-level-2);\n",
       "}\n",
       "\n",
       "/* Estimator label */\n",
       "\n",
       "#sk-container-id-1 div.sk-label label {\n",
       "  font-family: monospace;\n",
       "  font-weight: bold;\n",
       "  display: inline-block;\n",
       "  line-height: 1.2em;\n",
       "}\n",
       "\n",
       "#sk-container-id-1 div.sk-label-container {\n",
       "  text-align: center;\n",
       "}\n",
       "\n",
       "/* Estimator-specific */\n",
       "#sk-container-id-1 div.sk-estimator {\n",
       "  font-family: monospace;\n",
       "  border: 1px dotted var(--sklearn-color-border-box);\n",
       "  border-radius: 0.25em;\n",
       "  box-sizing: border-box;\n",
       "  margin-bottom: 0.5em;\n",
       "  /* unfitted */\n",
       "  background-color: var(--sklearn-color-unfitted-level-0);\n",
       "}\n",
       "\n",
       "#sk-container-id-1 div.sk-estimator.fitted {\n",
       "  /* fitted */\n",
       "  background-color: var(--sklearn-color-fitted-level-0);\n",
       "}\n",
       "\n",
       "/* on hover */\n",
       "#sk-container-id-1 div.sk-estimator:hover {\n",
       "  /* unfitted */\n",
       "  background-color: var(--sklearn-color-unfitted-level-2);\n",
       "}\n",
       "\n",
       "#sk-container-id-1 div.sk-estimator.fitted:hover {\n",
       "  /* fitted */\n",
       "  background-color: var(--sklearn-color-fitted-level-2);\n",
       "}\n",
       "\n",
       "/* Specification for estimator info (e.g. \"i\" and \"?\") */\n",
       "\n",
       "/* Common style for \"i\" and \"?\" */\n",
       "\n",
       ".sk-estimator-doc-link,\n",
       "a:link.sk-estimator-doc-link,\n",
       "a:visited.sk-estimator-doc-link {\n",
       "  float: right;\n",
       "  font-size: smaller;\n",
       "  line-height: 1em;\n",
       "  font-family: monospace;\n",
       "  background-color: var(--sklearn-color-background);\n",
       "  border-radius: 1em;\n",
       "  height: 1em;\n",
       "  width: 1em;\n",
       "  text-decoration: none !important;\n",
       "  margin-left: 0.5em;\n",
       "  text-align: center;\n",
       "  /* unfitted */\n",
       "  border: var(--sklearn-color-unfitted-level-1) 1pt solid;\n",
       "  color: var(--sklearn-color-unfitted-level-1);\n",
       "}\n",
       "\n",
       ".sk-estimator-doc-link.fitted,\n",
       "a:link.sk-estimator-doc-link.fitted,\n",
       "a:visited.sk-estimator-doc-link.fitted {\n",
       "  /* fitted */\n",
       "  border: var(--sklearn-color-fitted-level-1) 1pt solid;\n",
       "  color: var(--sklearn-color-fitted-level-1);\n",
       "}\n",
       "\n",
       "/* On hover */\n",
       "div.sk-estimator:hover .sk-estimator-doc-link:hover,\n",
       ".sk-estimator-doc-link:hover,\n",
       "div.sk-label-container:hover .sk-estimator-doc-link:hover,\n",
       ".sk-estimator-doc-link:hover {\n",
       "  /* unfitted */\n",
       "  background-color: var(--sklearn-color-unfitted-level-3);\n",
       "  color: var(--sklearn-color-background);\n",
       "  text-decoration: none;\n",
       "}\n",
       "\n",
       "div.sk-estimator.fitted:hover .sk-estimator-doc-link.fitted:hover,\n",
       ".sk-estimator-doc-link.fitted:hover,\n",
       "div.sk-label-container:hover .sk-estimator-doc-link.fitted:hover,\n",
       ".sk-estimator-doc-link.fitted:hover {\n",
       "  /* fitted */\n",
       "  background-color: var(--sklearn-color-fitted-level-3);\n",
       "  color: var(--sklearn-color-background);\n",
       "  text-decoration: none;\n",
       "}\n",
       "\n",
       "/* Span, style for the box shown on hovering the info icon */\n",
       ".sk-estimator-doc-link span {\n",
       "  display: none;\n",
       "  z-index: 9999;\n",
       "  position: relative;\n",
       "  font-weight: normal;\n",
       "  right: .2ex;\n",
       "  padding: .5ex;\n",
       "  margin: .5ex;\n",
       "  width: min-content;\n",
       "  min-width: 20ex;\n",
       "  max-width: 50ex;\n",
       "  color: var(--sklearn-color-text);\n",
       "  box-shadow: 2pt 2pt 4pt #999;\n",
       "  /* unfitted */\n",
       "  background: var(--sklearn-color-unfitted-level-0);\n",
       "  border: .5pt solid var(--sklearn-color-unfitted-level-3);\n",
       "}\n",
       "\n",
       ".sk-estimator-doc-link.fitted span {\n",
       "  /* fitted */\n",
       "  background: var(--sklearn-color-fitted-level-0);\n",
       "  border: var(--sklearn-color-fitted-level-3);\n",
       "}\n",
       "\n",
       ".sk-estimator-doc-link:hover span {\n",
       "  display: block;\n",
       "}\n",
       "\n",
       "/* \"?\"-specific style due to the `<a>` HTML tag */\n",
       "\n",
       "#sk-container-id-1 a.estimator_doc_link {\n",
       "  float: right;\n",
       "  font-size: 1rem;\n",
       "  line-height: 1em;\n",
       "  font-family: monospace;\n",
       "  background-color: var(--sklearn-color-background);\n",
       "  border-radius: 1rem;\n",
       "  height: 1rem;\n",
       "  width: 1rem;\n",
       "  text-decoration: none;\n",
       "  /* unfitted */\n",
       "  color: var(--sklearn-color-unfitted-level-1);\n",
       "  border: var(--sklearn-color-unfitted-level-1) 1pt solid;\n",
       "}\n",
       "\n",
       "#sk-container-id-1 a.estimator_doc_link.fitted {\n",
       "  /* fitted */\n",
       "  border: var(--sklearn-color-fitted-level-1) 1pt solid;\n",
       "  color: var(--sklearn-color-fitted-level-1);\n",
       "}\n",
       "\n",
       "/* On hover */\n",
       "#sk-container-id-1 a.estimator_doc_link:hover {\n",
       "  /* unfitted */\n",
       "  background-color: var(--sklearn-color-unfitted-level-3);\n",
       "  color: var(--sklearn-color-background);\n",
       "  text-decoration: none;\n",
       "}\n",
       "\n",
       "#sk-container-id-1 a.estimator_doc_link.fitted:hover {\n",
       "  /* fitted */\n",
       "  background-color: var(--sklearn-color-fitted-level-3);\n",
       "}\n",
       "</style><div id=\"sk-container-id-1\" class=\"sk-top-container\"><div class=\"sk-text-repr-fallback\"><pre>LinearRegression()</pre><b>In a Jupyter environment, please rerun this cell to show the HTML representation or trust the notebook. <br />On GitHub, the HTML representation is unable to render, please try loading this page with nbviewer.org.</b></div><div class=\"sk-container\" hidden><div class=\"sk-item\"><div class=\"sk-estimator fitted sk-toggleable\"><input class=\"sk-toggleable__control sk-hidden--visually\" id=\"sk-estimator-id-1\" type=\"checkbox\" checked><label for=\"sk-estimator-id-1\" class=\"sk-toggleable__label fitted sk-toggleable__label-arrow\"><div><div>LinearRegression</div></div><div><a class=\"sk-estimator-doc-link fitted\" rel=\"noreferrer\" target=\"_blank\" href=\"https://scikit-learn.org/1.6/modules/generated/sklearn.linear_model.LinearRegression.html\">?<span>Documentation for LinearRegression</span></a><span class=\"sk-estimator-doc-link fitted\">i<span>Fitted</span></span></div></label><div class=\"sk-toggleable__content fitted\"><pre>LinearRegression()</pre></div> </div></div></div></div>"
      ],
      "text/plain": [
       "LinearRegression()"
      ]
     },
     "execution_count": 15,
     "metadata": {},
     "output_type": "execute_result"
    }
   ],
   "source": [
    "# now learn the parameters\n",
    "lr.fit(X_train, y_train)"
   ]
  },
  {
   "cell_type": "code",
   "execution_count": 16,
   "id": "041fe1fa",
   "metadata": {},
   "outputs": [
    {
     "data": {
      "text/html": [
       "<div>\n",
       "<style scoped>\n",
       "    .dataframe tbody tr th:only-of-type {\n",
       "        vertical-align: middle;\n",
       "    }\n",
       "\n",
       "    .dataframe tbody tr th {\n",
       "        vertical-align: top;\n",
       "    }\n",
       "\n",
       "    .dataframe thead th {\n",
       "        text-align: right;\n",
       "    }\n",
       "</style>\n",
       "<table border=\"1\" class=\"dataframe\">\n",
       "  <thead>\n",
       "    <tr style=\"text-align: right;\">\n",
       "      <th></th>\n",
       "      <th>cgpa</th>\n",
       "    </tr>\n",
       "  </thead>\n",
       "  <tbody>\n",
       "    <tr>\n",
       "      <th>137</th>\n",
       "      <td>7.14</td>\n",
       "    </tr>\n",
       "    <tr>\n",
       "      <th>163</th>\n",
       "      <td>8.93</td>\n",
       "    </tr>\n",
       "    <tr>\n",
       "      <th>111</th>\n",
       "      <td>5.42</td>\n",
       "    </tr>\n",
       "    <tr>\n",
       "      <th>123</th>\n",
       "      <td>5.10</td>\n",
       "    </tr>\n",
       "    <tr>\n",
       "      <th>109</th>\n",
       "      <td>7.77</td>\n",
       "    </tr>\n",
       "  </tbody>\n",
       "</table>\n",
       "</div>"
      ],
      "text/plain": [
       "     cgpa\n",
       "137  7.14\n",
       "163  8.93\n",
       "111  5.42\n",
       "123  5.10\n",
       "109  7.77"
      ]
     },
     "execution_count": 16,
     "metadata": {},
     "output_type": "execute_result"
    }
   ],
   "source": [
    "X_train.head()"
   ]
  },
  {
   "cell_type": "code",
   "execution_count": 17,
   "id": "56897136",
   "metadata": {},
   "outputs": [
    {
     "data": {
      "text/plain": [
       "112    4.10\n",
       "29     3.49\n",
       "182    2.08\n",
       "199    2.33\n",
       "193    1.94\n",
       "Name: package, dtype: float64"
      ]
     },
     "execution_count": 17,
     "metadata": {},
     "output_type": "execute_result"
    }
   ],
   "source": [
    "y_test.head()"
   ]
  },
  {
   "cell_type": "markdown",
   "id": "82169cdc",
   "metadata": {},
   "source": [
    "# Now Predict"
   ]
  },
  {
   "cell_type": "code",
   "execution_count": null,
   "id": "f8c9a256",
   "metadata": {},
   "outputs": [
    {
     "data": {
      "text/plain": [
       "array([3.89111601, 3.09324469, 2.38464568, 2.57434935, 1.6537286 ,\n",
       "       1.77647803, 2.07219258, 2.93143862, 3.76278706, 2.93701814,\n",
       "       4.09197872, 3.51170867, 2.97049525, 2.40138424, 3.18809652,\n",
       "       3.46707251, 1.94386362, 3.24389172, 2.97607477, 3.41685683,\n",
       "       2.55761079, 3.16577844, 2.85890486, 3.12114229, 3.68467378,\n",
       "       2.8700639 , 3.49497011, 3.34432308, 3.91901361, 1.96060218,\n",
       "       3.65119666, 3.2104146 , 3.74046898, 2.7863711 , 2.78079158,\n",
       "       3.27178932, 3.52844723, 2.61340599, 2.65804215, 2.71383735])"
      ]
     },
     "execution_count": 18,
     "metadata": {},
     "output_type": "execute_result"
    }
   ],
   "source": [
    "# this predict the whole test data\n",
    "lr.predict(X_test)"
   ]
  },
  {
   "cell_type": "markdown",
   "id": "4ba39462",
   "metadata": {},
   "source": [
    "- if we want to only predict the first value of the data\n",
    "- we predict for the first value that is 8.58\n",
    "- our model predict the 3.8 but actual is 4.10\n"
   ]
  },
  {
   "cell_type": "code",
   "execution_count": null,
   "id": "7f5a1874",
   "metadata": {},
   "outputs": [
    {
     "data": {
      "text/plain": [
       "array([[8.58]])"
      ]
     },
     "execution_count": 57,
     "metadata": {},
     "output_type": "execute_result"
    }
   ],
   "source": []
  },
  {
   "cell_type": "code",
   "execution_count": 49,
   "id": "e4ee4b3f",
   "metadata": {},
   "outputs": [
    {
     "data": {
      "text/plain": [
       "cgpa    8.58\n",
       "Name: 112, dtype: float64"
      ]
     },
     "execution_count": 49,
     "metadata": {},
     "output_type": "execute_result"
    }
   ],
   "source": [
    "X_test.iloc[0]"
   ]
  },
  {
   "cell_type": "code",
   "execution_count": 24,
   "id": "3064048c",
   "metadata": {},
   "outputs": [
    {
     "data": {
      "text/plain": [
       "array([3.89111601])"
      ]
     },
     "execution_count": 24,
     "metadata": {},
     "output_type": "execute_result"
    }
   ],
   "source": [
    "lr.predict(X_test.iloc[[0]])"
   ]
  },
  {
   "cell_type": "markdown",
   "id": "3c3d807e",
   "metadata": {},
   "source": [
    "# Error"
   ]
  },
  {
   "cell_type": "markdown",
   "id": "3e18c301",
   "metadata": {},
   "source": [
    "### ℹ️ What they tell you:\n",
    "- **R² Score** → how much of the variance in the target is explained by the model (closer to 1 is better).\n",
    "- **MSE** → penalizes larger errors more than smaller ones.\n",
    "- **MAE** → average absolute difference between predicted and actual values (more interpretable in some cases).\n",
    "\n",
    "Let me know if you want to visualize the residuals too — that's also super helpful in regression analysis!"
   ]
  },
  {
   "cell_type": "code",
   "execution_count": 27,
   "id": "4d12742c",
   "metadata": {},
   "outputs": [
    {
     "name": "stdout",
     "output_type": "stream",
     "text": [
      "R² Score: 0.7807\n",
      "Mean Squared Error: 0.1213\n",
      "Mean Absolute Error: 0.2885\n"
     ]
    }
   ],
   "source": [
    "# Predict on test set\n",
    "y_pred = lr.predict(X_test)\n",
    "\n",
    "# R² Score\n",
    "r2 = r2_score(y_test, y_pred)\n",
    "\n",
    "# Mean Squared Error\n",
    "mse = mean_squared_error(y_test, y_pred)\n",
    "\n",
    "# Mean Absolute Error\n",
    "mae = mean_absolute_error(y_test, y_pred)\n",
    "\n",
    "print(f\"R² Score: {r2:.4f}\")\n",
    "print(f\"Mean Squared Error: {mse:.4f}\")\n",
    "print(f\"Mean Absolute Error: {mae:.4f}\")"
   ]
  },
  {
   "cell_type": "markdown",
   "id": "9222416e",
   "metadata": {},
   "source": [
    "# Plot the line"
   ]
  },
  {
   "cell_type": "code",
   "execution_count": null,
   "id": "e0a429fd",
   "metadata": {},
   "outputs": [
    {
     "data": {
      "application/vnd.plotly.v1+json": {
       "config": {
        "plotlyServerURL": "https://plot.ly"
       },
       "data": [
        {
         "mode": "markers",
         "name": "Actual Data",
         "type": "scatter",
         "x": {
          "bdata": "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",
          "dtype": "f8"
         },
         "y": {
          "bdata": "FK5H4XoUCkCuR+F6FK7/PwAAAAAAAApAXI/C9ShcDUCPwvUoXI8MQOxRuB6F6wdAzczMzMzMBEDXo3A9CtcDQHsUrkfhegJAFK5H4XoUDEDD9Shcj8L9P83MzMzMzARAMzMzMzMzDUAfhetRuB4HQFyPwvUoXAtA16NwPQrXCUDNzMzMzMwCQLgehetRuABA16NwPQrXB0CkcD0K16MGQEjhehSuRwlAcT0K16NwB0BmZmZmZmYCQNejcD0K1wNArkfhehSuBUAzMzMzMzMNQFyPwvUoXAtASOF6FK5HAUDsUbgehesBQOxRuB6F6wtAFK5H4XoUCkAfhetRuB4PQKRwPQrXowhA16NwPQrXBUBcj8L1KFwLQPYoXI/C9QZAuB6F61G4BkBxPQrXo3ADQHE9CtejcBFApHA9CtejCkAUrkfhehQQQJqZmZmZmQVAUrgehetRBEAUrkfhehQGQMP1KFyPwv0/pHA9CtejDEAUrkfhehQCQBSuR+F6FApAXI/C9ShcEEB7FK5H4XoSQLgehetRuBFAUrgehetRDkBxPQrXo3AQQOF6FK5H4QRAuB6F61G4CEAfhetRuB4LQOxRuB6F6wVACtejcD0K/z+4HoXrUbgIQHsUrkfhegpAhetRuB6FAUDD9Shcj8L5P7gehetRuABAAAAAAAAAEUBcj8L1KFwHQHsUrkfheg5AFK5H4XoU+j8fhetRuB4HQOxRuB6F6wdAhetRuB6FB0DNzMzMzMwCQLgehetRuApA9ihcj8L1DEAfhetRuB4QQIXrUbgehQtAPQrXo3A9CkAzMzMzMzMJQGZmZmZmZhJArkfhehSuAUAAAAAAAAAIQIXrUbgehQtAmpmZmZmZAUBcj8L1KFwBQOxRuB6F6wtAexSuR+F6+D+uR+F6FK73Pylcj8L1KAZAZmZmZmZmDECuR+F6FK73P8P1KFyPwgVASOF6FK5HBUAfhetRuB4BQAAAAAAAABBApHA9CtejCEBcj8L1KFwDQFK4HoXrUQZA4XoUrkfhBEC4HoXrUbgGQKRwPQrXow5A7FG4HoXrCUCPwvUoXI8QQClcj8L1KAxA7FG4HoXr9T8AAAAAAAAIQOxRuB6F6w1Aj8L1KFyPBkCF61G4HoUBQLgehetRuARAUrgehetRDEA9CtejcD0QQBSuR+F6FA5AAAAAAAAAAkBmZmZmZmYQQPYoXI/C9QJA7FG4HoXr/T/Xo3A9CtcQQKRwPQrXowpA7FG4HoXrB0AK16NwPQoHQDMzMzMzMwVArkfhehSu+z8pXI/C9SgIQBSuR+F6FABAZmZmZmZmAkB7FK5H4XoCQEjhehSuRwlAzczMzMzMBEDhehSuR+EIQLgehetRuApA9ihcj8L1CEDsUbgehesDQBSuR+F6FABA16NwPQrXA0CkcD0K16MEQKRwPQrXowZAzczMzMzMBEDNzMzMzMwAQArXo3A9CglAH4XrUbgeD0AzMzMzMzMDQDMzMzMzMwlAcT0K16NwCUBSuB6F61EIQKRwPQrXo/g/XI/C9ShcA0BxPQrXo3ABQK5H4XoUrgNArkfhehSuAUAzMzMzMzMLQFyPwvUoXA1A16NwPQrXBUAUrkfhehQGQKRwPQrXowhA7FG4HoXrD0DNzMzMzMwGQLgehetRuAhACtejcD0KCUCamZmZmZkFQFK4HoXrUQhAUrgehetREEBxPQrXo3AHQKRwPQrXowpAZmZmZmZmBEBI4XoUrkcPQI/C9Shcjw5AUrgehetREEDXo3A9CtcPQM3MzMzMzAxAKVyPwvUoDEB7FK5H4XoRQPYoXI/C9QZAFK5H4XoUDkAUrkfhehQEQHsUrkfhegRA7FG4HoXrB0AAAAAAAAAMQNejcD0K1wlAH4XrUbgeDUAK16NwPQoNQD0K16NwPQhAw/UoXI/CBUAfhetRuB4PQKRwPQrXowBAw/UoXI/CBUAfhetRuB4JQHE9CtejcAlAw/UoXI/CC0CF61G4HoUDQKRwPQrXowhAPQrXo3A9EECF61G4HoUFQNejcD0K1wtAAAAAAAAADkAK16NwPQr/P1yPwvUoXA1ArkfhehSuA0CPwvUoXI8EQOxRuB6F6wlArkfhehSuD0CkcD0K16MCQA==",
          "dtype": "f8"
         }
        },
        {
         "mode": "lines",
         "name": "Linear Regression Line",
         "type": "scatter",
         "x": {
          "bdata": "j8L1KFyPHEBcj8L1KNwhQK5H4XoUrhVAZmZmZmZmFEAUrkfhehQfQArXo3A9ChtAj8L1KFyPG0C4HoXrUbgaQKRwPQrXox9Aj8L1KFyPH0DsUbgehWshQM3MzMzMzB9AcT0K16NwGkAK16NwPQoZQB+F61G4HhpArkfhehSuGUBxPQrXo3AUQFyPwvUoXBhAuB6F61G4G0ApXI/C9SgcQMP1KFyPwhdAMzMzMzMzGEBSuB6F61EXQM3MzMzMzBdAH4XrUbieIkBSuB6F61EWQIXrUbgehR9AhetRuB6FGEAK16NwPQofQGZmZmZmZhNAw/UoXI/CGEAzMzMzMzMhQEjhehSuRxhAuB6F61G4HEB7FK5H4XoUQI/C9Shcjx1AAAAAAACAIECPwvUoXI8gQIXrUbgehRxAZmZmZmZmHUCkcD0K16MWQPYoXI/C9RdAhetRuB4FIECPwvUoXI8cQFyPwvUoXBlAj8L1KFyPG0CuR+F6FK4VQOF6FK5H4RlAw/UoXI/CHkCamZmZmZkdQB+F61G4Hh1AzczMzMzMF0CF61G4HoUdQLgehetRuBtAexSuR+H6IUBxPQrXo3AdQFK4HoXrURxAhetRuB6FFUA9CtejcD0eQHE9CtejcCBAXI/C9ShcF0AfhetRuB4bQMP1KFyPwhxAH4XrUbgeHUApXI/C9SgbQHsUrkfhehhAZmZmZmZmG0BmZmZmZmYgQFyPwvUoXBtAexSuR+F6HUDhehSuR+EYQHE9CtejcBpA7FG4HoXrFEDXo3A9CtccQGZmZmZmZhtAw/UoXI/CGEAzMzMzMzMdQK5H4XoUrhhAj8L1KFyPF0CuR+F6FC4gQHE9CtejcBxACtejcD0KEUDD9Shcj8IbQOxRuB6F6xdA16NwPQrXGkBSuB6F61EdQB+F61G4HiJAZmZmZmZmGEDsUbgehesVQGZmZmZmZhhAPQrXo3A9HkApXI/C9SgdQFyPwvUoXBdA7FG4HoXrHUBxPQrXo3AeQClcj8L1KBdAcT0K16NwFkBcj8L1KFwdQMP1KFyPwiJApHA9CtejH0DD9Shcj8IbQMP1KFyPwh9AH4XrUbieIEDXo3A9CtcbQLgehetRuBtAcT0K16NwHEDhehSuR+EgQFyPwvUoXCBApHA9CtejGkDhehSuR+EgQHsUrkfhehxAMzMzMzMzGUBcj8L1KFwXQOxRuB6F6xtAhetRuB6FHkCPwvUoXI8WQLgehetRuB1APQrXo3C9IUBcj8L1KFwfQFyPwvUoXBdAKVyPwvUoI0A9CtejcL0gQIXrUbgehR5APQrXo3A9GUAAAAAAAAAaQLgehetROCBASOF6FK5HGEDsUbgehesSQDMzMzMzMx1ACtejcD0KGkAfhetRuB4dQK5H4XoUrhtAZmZmZmZmGUA9CtejcD0hQDMzMzMzMxxAhetRuB6FIkBSuB6F61EZQOF6FK5H4RhAw/UoXI/CG0CF61G4HoUUQMP1KFyPQiBAmpmZmZmZF0AUrkfhehQiQD0K16NwPRhASOF6FK5HHkAzMzMzMzMgQFK4HoXrUSJAXI/C9ShcF0CPwvUoXI8fQIXrUbgehRpAXI/C9ShcHEAfhetRuB4WQAAAAAAAABtAexSuR+F6HkDhehSuR+EbQKRwPQrXox5Aj8L1KFyPGEAfhetRuB4fQAAAAAAAAB1AzczMzMxMIUA=",
          "dtype": "f8"
         },
         "y": {
          "bdata": "6+Gsy4mzCEBqNjEIeVgQQANbM3QeBgFASEjUSusw/z/wBckiboMLQMTwHVZRAQdADq8f6t2VB0AMo2si56UGQPINQf1nIwxAhHpUcI0MDEAeFzgCjrUPQM40GhcdUQxADJ8vNepVBkAJiwOT+cUEQFVRfQGA+gVAeCZo+s18BUC428DXxUf/P+OlKOW3AwRA6tX4A5PDB0DGAA4LRUEIQCxUOsRQWANAB39PywLWA0BPKSW9ntoCQOOdsAq+YwNA/674QpUxEUBy9pfb8rwBQMww3ikgAQxAv8wB/2wxBEA6vFLcAHgLQI7iuYeT9fw/CYfHpfx1BEBA7CL72zcPQHYSPFjd7ANAxgiG5T7hCEAmb61koF7/P8gUOq010QlAPtj2WOunDUBitVksM8oNQDWYNoUcqAhA7O1gk4CjCUApREoPXRgCQL7EiSRzkQNAFu/fvayVDEDr4azLibMIQMHYtcZjIQVADq8f6t2VB0ADWzN0HgYBQAuXt1rwtQVAOrgW7wMoC0CAXrDzotwJQOzpJKaDUwlA452wCr5jA0ASy8NmyMUJQOrV+AOTwwdAjxOU28B6EECkN9fZ7a4JQKIn5yT6bghAJzRaWmnYAEDu+RRbd5MKQBr7k4WjhQ1ABnObAwzmAkAyhArjKxgHQH5S/Cus7AhA7OkkpoNTCUDpzYApmSMHQAiDi7j/JQRAMohG0ChoB0CqZ6f4yG4NQHs+0Im7XAdAXIFNIFu6CUAtZCp5RJgEQAyfLzXqVQZAcOJrOQItAEDs5ei4hgMJQDKIRtAoaAdACYfHpfx1BEBafREzXmoJQJvz2hgiXwRAmOPqYy4fA0DOPJLxFvEMQMcESvhBkQhAPOgzDTWx9z+hH29KAM8HQAh7E94FhgNAMYDO9S7IBkCAWnQGpowJQJAVMlK/ohBAmu+eKyUPBEBNFfkarkoBQJrvnislDwRA7vkUW3eTCkCkM5vs8F4JQAZzmwMM5gJAOKxiJw04CkCCamS7mcwKQHMCTKPprAJAl9P6rjrfAUA2pOpME5gJQP+wlrmTWRFA8g1B/WcjDEChH29KAM8HQBbro9CvRQxAiJK8/3rsDUAPs1vX2uUHQOrV+AOTwwdAxwRK+EGRCEDQUL6TB4EOQDzUumvuVw1Anw9/lQyPBkDQUL6TB4EOQH5OwD6vnAhA5bHcrK7zBEAGc5sDDOYCQH1GSGS1/AdA8P1QSHTjCkC7sF2CggECQKQ7E8fq/glARVnONDE2EEDwCQUQa9MLQAZzmwMM5gJAJJI1etjLEUDQTIKmCjEOQPD9UEh04wpAm/tS8xv/BEAwdBouONgFQDzQfn7xBw1AdhI8WN3sA0Bq+aLsVOP7P1p9ETNeaglA5r2QdKXjBUDs6SSmg1MJQDOMgr0luAdAdyIsDdEsBUCsfw+Itk4PQH1KhFGyTAhAtfbQEgQVEUAKjz+A9hUFQC1kKnlEmARAoR9vSgDPB0CUAprxenX/P6xjawvMHg1AUC1hqpsqA0DYy7sLUpcQQL7IxRFw4QNApkOLoeSeCkCEhgg4hPwMQCKGgbLh2xBABnObAwzmAkCEelRwjQwMQHoyHMLEbAZAWXFda2d6CEDfhUh70IMBQA2npw/k9QZAOLTaAQfYCkDF/NEdSPEHQBTbsxu8BQtAdhZ4Rdo8BECoTz9p244LQMgMwtI7MQlA1FxyW/5wD0A=",
          "dtype": "f8"
         }
        }
       ],
       "layout": {
        "template": {
         "data": {
          "bar": [
           {
            "error_x": {
             "color": "#2a3f5f"
            },
            "error_y": {
             "color": "#2a3f5f"
            },
            "marker": {
             "line": {
              "color": "white",
              "width": 0.5
             },
             "pattern": {
              "fillmode": "overlay",
              "size": 10,
              "solidity": 0.2
             }
            },
            "type": "bar"
           }
          ],
          "barpolar": [
           {
            "marker": {
             "line": {
              "color": "white",
              "width": 0.5
             },
             "pattern": {
              "fillmode": "overlay",
              "size": 10,
              "solidity": 0.2
             }
            },
            "type": "barpolar"
           }
          ],
          "carpet": [
           {
            "aaxis": {
             "endlinecolor": "#2a3f5f",
             "gridcolor": "#C8D4E3",
             "linecolor": "#C8D4E3",
             "minorgridcolor": "#C8D4E3",
             "startlinecolor": "#2a3f5f"
            },
            "baxis": {
             "endlinecolor": "#2a3f5f",
             "gridcolor": "#C8D4E3",
             "linecolor": "#C8D4E3",
             "minorgridcolor": "#C8D4E3",
             "startlinecolor": "#2a3f5f"
            },
            "type": "carpet"
           }
          ],
          "choropleth": [
           {
            "colorbar": {
             "outlinewidth": 0,
             "ticks": ""
            },
            "type": "choropleth"
           }
          ],
          "contour": [
           {
            "colorbar": {
             "outlinewidth": 0,
             "ticks": ""
            },
            "colorscale": [
             [
              0,
              "#0d0887"
             ],
             [
              0.1111111111111111,
              "#46039f"
             ],
             [
              0.2222222222222222,
              "#7201a8"
             ],
             [
              0.3333333333333333,
              "#9c179e"
             ],
             [
              0.4444444444444444,
              "#bd3786"
             ],
             [
              0.5555555555555556,
              "#d8576b"
             ],
             [
              0.6666666666666666,
              "#ed7953"
             ],
             [
              0.7777777777777778,
              "#fb9f3a"
             ],
             [
              0.8888888888888888,
              "#fdca26"
             ],
             [
              1,
              "#f0f921"
             ]
            ],
            "type": "contour"
           }
          ],
          "contourcarpet": [
           {
            "colorbar": {
             "outlinewidth": 0,
             "ticks": ""
            },
            "type": "contourcarpet"
           }
          ],
          "heatmap": [
           {
            "colorbar": {
             "outlinewidth": 0,
             "ticks": ""
            },
            "colorscale": [
             [
              0,
              "#0d0887"
             ],
             [
              0.1111111111111111,
              "#46039f"
             ],
             [
              0.2222222222222222,
              "#7201a8"
             ],
             [
              0.3333333333333333,
              "#9c179e"
             ],
             [
              0.4444444444444444,
              "#bd3786"
             ],
             [
              0.5555555555555556,
              "#d8576b"
             ],
             [
              0.6666666666666666,
              "#ed7953"
             ],
             [
              0.7777777777777778,
              "#fb9f3a"
             ],
             [
              0.8888888888888888,
              "#fdca26"
             ],
             [
              1,
              "#f0f921"
             ]
            ],
            "type": "heatmap"
           }
          ],
          "histogram": [
           {
            "marker": {
             "pattern": {
              "fillmode": "overlay",
              "size": 10,
              "solidity": 0.2
             }
            },
            "type": "histogram"
           }
          ],
          "histogram2d": [
           {
            "colorbar": {
             "outlinewidth": 0,
             "ticks": ""
            },
            "colorscale": [
             [
              0,
              "#0d0887"
             ],
             [
              0.1111111111111111,
              "#46039f"
             ],
             [
              0.2222222222222222,
              "#7201a8"
             ],
             [
              0.3333333333333333,
              "#9c179e"
             ],
             [
              0.4444444444444444,
              "#bd3786"
             ],
             [
              0.5555555555555556,
              "#d8576b"
             ],
             [
              0.6666666666666666,
              "#ed7953"
             ],
             [
              0.7777777777777778,
              "#fb9f3a"
             ],
             [
              0.8888888888888888,
              "#fdca26"
             ],
             [
              1,
              "#f0f921"
             ]
            ],
            "type": "histogram2d"
           }
          ],
          "histogram2dcontour": [
           {
            "colorbar": {
             "outlinewidth": 0,
             "ticks": ""
            },
            "colorscale": [
             [
              0,
              "#0d0887"
             ],
             [
              0.1111111111111111,
              "#46039f"
             ],
             [
              0.2222222222222222,
              "#7201a8"
             ],
             [
              0.3333333333333333,
              "#9c179e"
             ],
             [
              0.4444444444444444,
              "#bd3786"
             ],
             [
              0.5555555555555556,
              "#d8576b"
             ],
             [
              0.6666666666666666,
              "#ed7953"
             ],
             [
              0.7777777777777778,
              "#fb9f3a"
             ],
             [
              0.8888888888888888,
              "#fdca26"
             ],
             [
              1,
              "#f0f921"
             ]
            ],
            "type": "histogram2dcontour"
           }
          ],
          "mesh3d": [
           {
            "colorbar": {
             "outlinewidth": 0,
             "ticks": ""
            },
            "type": "mesh3d"
           }
          ],
          "parcoords": [
           {
            "line": {
             "colorbar": {
              "outlinewidth": 0,
              "ticks": ""
             }
            },
            "type": "parcoords"
           }
          ],
          "pie": [
           {
            "automargin": true,
            "type": "pie"
           }
          ],
          "scatter": [
           {
            "fillpattern": {
             "fillmode": "overlay",
             "size": 10,
             "solidity": 0.2
            },
            "type": "scatter"
           }
          ],
          "scatter3d": [
           {
            "line": {
             "colorbar": {
              "outlinewidth": 0,
              "ticks": ""
             }
            },
            "marker": {
             "colorbar": {
              "outlinewidth": 0,
              "ticks": ""
             }
            },
            "type": "scatter3d"
           }
          ],
          "scattercarpet": [
           {
            "marker": {
             "colorbar": {
              "outlinewidth": 0,
              "ticks": ""
             }
            },
            "type": "scattercarpet"
           }
          ],
          "scattergeo": [
           {
            "marker": {
             "colorbar": {
              "outlinewidth": 0,
              "ticks": ""
             }
            },
            "type": "scattergeo"
           }
          ],
          "scattergl": [
           {
            "marker": {
             "colorbar": {
              "outlinewidth": 0,
              "ticks": ""
             }
            },
            "type": "scattergl"
           }
          ],
          "scattermap": [
           {
            "marker": {
             "colorbar": {
              "outlinewidth": 0,
              "ticks": ""
             }
            },
            "type": "scattermap"
           }
          ],
          "scattermapbox": [
           {
            "marker": {
             "colorbar": {
              "outlinewidth": 0,
              "ticks": ""
             }
            },
            "type": "scattermapbox"
           }
          ],
          "scatterpolar": [
           {
            "marker": {
             "colorbar": {
              "outlinewidth": 0,
              "ticks": ""
             }
            },
            "type": "scatterpolar"
           }
          ],
          "scatterpolargl": [
           {
            "marker": {
             "colorbar": {
              "outlinewidth": 0,
              "ticks": ""
             }
            },
            "type": "scatterpolargl"
           }
          ],
          "scatterternary": [
           {
            "marker": {
             "colorbar": {
              "outlinewidth": 0,
              "ticks": ""
             }
            },
            "type": "scatterternary"
           }
          ],
          "surface": [
           {
            "colorbar": {
             "outlinewidth": 0,
             "ticks": ""
            },
            "colorscale": [
             [
              0,
              "#0d0887"
             ],
             [
              0.1111111111111111,
              "#46039f"
             ],
             [
              0.2222222222222222,
              "#7201a8"
             ],
             [
              0.3333333333333333,
              "#9c179e"
             ],
             [
              0.4444444444444444,
              "#bd3786"
             ],
             [
              0.5555555555555556,
              "#d8576b"
             ],
             [
              0.6666666666666666,
              "#ed7953"
             ],
             [
              0.7777777777777778,
              "#fb9f3a"
             ],
             [
              0.8888888888888888,
              "#fdca26"
             ],
             [
              1,
              "#f0f921"
             ]
            ],
            "type": "surface"
           }
          ],
          "table": [
           {
            "cells": {
             "fill": {
              "color": "#EBF0F8"
             },
             "line": {
              "color": "white"
             }
            },
            "header": {
             "fill": {
              "color": "#C8D4E3"
             },
             "line": {
              "color": "white"
             }
            },
            "type": "table"
           }
          ]
         },
         "layout": {
          "annotationdefaults": {
           "arrowcolor": "#2a3f5f",
           "arrowhead": 0,
           "arrowwidth": 1
          },
          "autotypenumbers": "strict",
          "coloraxis": {
           "colorbar": {
            "outlinewidth": 0,
            "ticks": ""
           }
          },
          "colorscale": {
           "diverging": [
            [
             0,
             "#8e0152"
            ],
            [
             0.1,
             "#c51b7d"
            ],
            [
             0.2,
             "#de77ae"
            ],
            [
             0.3,
             "#f1b6da"
            ],
            [
             0.4,
             "#fde0ef"
            ],
            [
             0.5,
             "#f7f7f7"
            ],
            [
             0.6,
             "#e6f5d0"
            ],
            [
             0.7,
             "#b8e186"
            ],
            [
             0.8,
             "#7fbc41"
            ],
            [
             0.9,
             "#4d9221"
            ],
            [
             1,
             "#276419"
            ]
           ],
           "sequential": [
            [
             0,
             "#0d0887"
            ],
            [
             0.1111111111111111,
             "#46039f"
            ],
            [
             0.2222222222222222,
             "#7201a8"
            ],
            [
             0.3333333333333333,
             "#9c179e"
            ],
            [
             0.4444444444444444,
             "#bd3786"
            ],
            [
             0.5555555555555556,
             "#d8576b"
            ],
            [
             0.6666666666666666,
             "#ed7953"
            ],
            [
             0.7777777777777778,
             "#fb9f3a"
            ],
            [
             0.8888888888888888,
             "#fdca26"
            ],
            [
             1,
             "#f0f921"
            ]
           ],
           "sequentialminus": [
            [
             0,
             "#0d0887"
            ],
            [
             0.1111111111111111,
             "#46039f"
            ],
            [
             0.2222222222222222,
             "#7201a8"
            ],
            [
             0.3333333333333333,
             "#9c179e"
            ],
            [
             0.4444444444444444,
             "#bd3786"
            ],
            [
             0.5555555555555556,
             "#d8576b"
            ],
            [
             0.6666666666666666,
             "#ed7953"
            ],
            [
             0.7777777777777778,
             "#fb9f3a"
            ],
            [
             0.8888888888888888,
             "#fdca26"
            ],
            [
             1,
             "#f0f921"
            ]
           ]
          },
          "colorway": [
           "#636efa",
           "#EF553B",
           "#00cc96",
           "#ab63fa",
           "#FFA15A",
           "#19d3f3",
           "#FF6692",
           "#B6E880",
           "#FF97FF",
           "#FECB52"
          ],
          "font": {
           "color": "#2a3f5f"
          },
          "geo": {
           "bgcolor": "white",
           "lakecolor": "white",
           "landcolor": "white",
           "showlakes": true,
           "showland": true,
           "subunitcolor": "#C8D4E3"
          },
          "hoverlabel": {
           "align": "left"
          },
          "hovermode": "closest",
          "mapbox": {
           "style": "light"
          },
          "paper_bgcolor": "white",
          "plot_bgcolor": "white",
          "polar": {
           "angularaxis": {
            "gridcolor": "#EBF0F8",
            "linecolor": "#EBF0F8",
            "ticks": ""
           },
           "bgcolor": "white",
           "radialaxis": {
            "gridcolor": "#EBF0F8",
            "linecolor": "#EBF0F8",
            "ticks": ""
           }
          },
          "scene": {
           "xaxis": {
            "backgroundcolor": "white",
            "gridcolor": "#DFE8F3",
            "gridwidth": 2,
            "linecolor": "#EBF0F8",
            "showbackground": true,
            "ticks": "",
            "zerolinecolor": "#EBF0F8"
           },
           "yaxis": {
            "backgroundcolor": "white",
            "gridcolor": "#DFE8F3",
            "gridwidth": 2,
            "linecolor": "#EBF0F8",
            "showbackground": true,
            "ticks": "",
            "zerolinecolor": "#EBF0F8"
           },
           "zaxis": {
            "backgroundcolor": "white",
            "gridcolor": "#DFE8F3",
            "gridwidth": 2,
            "linecolor": "#EBF0F8",
            "showbackground": true,
            "ticks": "",
            "zerolinecolor": "#EBF0F8"
           }
          },
          "shapedefaults": {
           "line": {
            "color": "#2a3f5f"
           }
          },
          "ternary": {
           "aaxis": {
            "gridcolor": "#DFE8F3",
            "linecolor": "#A2B1C6",
            "ticks": ""
           },
           "baxis": {
            "gridcolor": "#DFE8F3",
            "linecolor": "#A2B1C6",
            "ticks": ""
           },
           "bgcolor": "white",
           "caxis": {
            "gridcolor": "#DFE8F3",
            "linecolor": "#A2B1C6",
            "ticks": ""
           }
          },
          "title": {
           "x": 0.05
          },
          "xaxis": {
           "automargin": true,
           "gridcolor": "#EBF0F8",
           "linecolor": "#EBF0F8",
           "ticks": "",
           "title": {
            "standoff": 15
           },
           "zerolinecolor": "#EBF0F8",
           "zerolinewidth": 2
          },
          "yaxis": {
           "automargin": true,
           "gridcolor": "#EBF0F8",
           "linecolor": "#EBF0F8",
           "ticks": "",
           "title": {
            "standoff": 15
           },
           "zerolinecolor": "#EBF0F8",
           "zerolinewidth": 2
          }
         }
        },
        "title": {
         "text": "CGPA vs Package"
        },
        "xaxis": {
         "title": {
          "text": "CGPA"
         }
        },
        "yaxis": {
         "title": {
          "text": "Package (in LPA)"
         }
        }
       }
      }
     },
     "metadata": {},
     "output_type": "display_data"
    }
   ],
   "source": [
    "# Scatter plot for actual data\n",
    "scatter = go.Scatter(\n",
    "    x= df['cgpa'],\n",
    "    y= df['package'],\n",
    "    mode= 'markers',\n",
    "    name= 'Actual Data'\n",
    ")\n",
    "\n",
    "# for prediction line\n",
    "line = go.Scatter(\n",
    "    x= X_train.squeeze(), # squeeze in case it's a single feature\n",
    "    y=  lr.predict(X_train),\n",
    "    mode='lines',\n",
    "    name= 'Linear Regression Line',\n",
    ")\n",
    "\n",
    "# combine both\n",
    "fig = go.Figure(data=[scatter, line])\n",
    "\n",
    "# Set Axis labels\n",
    "fig.update_layout(\n",
    "    title= \"CGPA vs Package\",\n",
    "    xaxis_title= \"CGPA\",\n",
    "    yaxis_title= \"Package (in LPA)\",\n",
    "    template='plotly_white',\n",
    ")\n",
    "fig.show(render='iframe')"
   ]
  },
  {
   "cell_type": "code",
   "execution_count": 43,
   "id": "186dabf5",
   "metadata": {},
   "outputs": [
    {
     "data": {
      "text/plain": [
       "array([0.55795197])"
      ]
     },
     "execution_count": 43,
     "metadata": {},
     "output_type": "execute_result"
    }
   ],
   "source": [
    "# This is the slope\n",
    "m = lr.coef_\n",
    "m"
   ]
  },
  {
   "cell_type": "code",
   "execution_count": 44,
   "id": "f91b506d",
   "metadata": {},
   "outputs": [
    {
     "data": {
      "text/plain": [
       "np.float64(-0.8961119222429144)"
      ]
     },
     "execution_count": 44,
     "metadata": {},
     "output_type": "execute_result"
    }
   ],
   "source": [
    "# intercept\n",
    "b = lr.intercept_\n",
    "b"
   ]
  },
  {
   "cell_type": "code",
   "execution_count": 45,
   "id": "daea6ac7",
   "metadata": {},
   "outputs": [
    {
     "data": {
      "text/plain": [
       "array([3.89111601])"
      ]
     },
     "execution_count": 45,
     "metadata": {},
     "output_type": "execute_result"
    }
   ],
   "source": [
    "# y = mx + b\n",
    "m * 8.58 + b"
   ]
  },
  {
   "cell_type": "code",
   "execution_count": 46,
   "id": "ac85216d",
   "metadata": {},
   "outputs": [
    {
     "data": {
      "text/plain": [
       "array([4.40443183])"
      ]
     },
     "execution_count": 46,
     "metadata": {},
     "output_type": "execute_result"
    }
   ],
   "source": [
    "m * 9.5 + b"
   ]
  },
  {
   "cell_type": "code",
   "execution_count": 47,
   "id": "47e963f6",
   "metadata": {},
   "outputs": [
    {
     "data": {
      "text/plain": [
       "array([54.89908542])"
      ]
     },
     "execution_count": 47,
     "metadata": {},
     "output_type": "execute_result"
    }
   ],
   "source": [
    "m * 100 + b"
   ]
  },
  {
   "cell_type": "code",
   "execution_count": 48,
   "id": "26499b31",
   "metadata": {},
   "outputs": [
    {
     "data": {
      "text/plain": [
       "array([3.08766517])"
      ]
     },
     "execution_count": 48,
     "metadata": {},
     "output_type": "execute_result"
    }
   ],
   "source": [
    "m * 7.14 + b"
   ]
  },
  {
   "cell_type": "code",
   "execution_count": 77,
   "id": "0fb7a5e8",
   "metadata": {},
   "outputs": [],
   "source": [
    "def predict_y_of_given_x(x: float = 0, num:float = 0.00) -> int:\n",
    "    \"\"\" This function help to predict the function if you give the 'x' value.\"\"\"\n",
    "    \n",
    "    m = lr.coef_ # slope\n",
    "    b = lr.intercept_ # intercept\n",
    "    # equation\n",
    "    y = m * x + b\n",
    "    print(f\"Manual Calculated y is {y}\")\n",
    "    \n",
    "    # Check if the user provide value is already present is dataframe\n",
    "    if (df['cgpa'] == num ).any():\n",
    "        value = df[df['cgpa'] == num]['cgpa'].values.reshape(-1, 1)\n",
    "        predict_value = lr.predict(value)\n",
    "    print(f\"Sklearn predict this value is {predict_value}\")\n",
    "        \n",
    "    \n",
    "    "
   ]
  },
  {
   "cell_type": "code",
   "execution_count": 76,
   "id": "35066eeb",
   "metadata": {},
   "outputs": [
    {
     "name": "stdout",
     "output_type": "stream",
     "text": [
      "Manual Calculated y is [3.89111601]\n",
      "Sklearn predict this value is [3.89111601]\n"
     ]
    },
    {
     "name": "stderr",
     "output_type": "stream",
     "text": [
      "c:\\Users\\Rudra\\AppData\\Local\\Programs\\Python\\Python312\\Lib\\site-packages\\sklearn\\utils\\validation.py:2739: UserWarning:\n",
      "\n",
      "X does not have valid feature names, but LinearRegression was fitted with feature names\n",
      "\n"
     ]
    }
   ],
   "source": [
    "predict_y_of_given_x(8.58, 8.58)"
   ]
  },
  {
   "cell_type": "code",
   "execution_count": 78,
   "id": "b8a90158",
   "metadata": {},
   "outputs": [],
   "source": [
    "def predict_y_of_given_x(x, num):\n",
    "    # manually calculated slope and intercept\n",
    "    m = lr.coef_[0]\n",
    "    b = lr.intercept_\n",
    "\n",
    "    # equation\n",
    "    y = m * x + b\n",
    "    print(f\"Your y is {y}\")\n",
    "\n",
    "    # Check if 'num' exists in the df['cgpa']\n",
    "    if not df[df['cgpa'] == num].empty:\n",
    "        value = pd.DataFrame({'cgpa': [num]})\n",
    "        predicted = lr.predict(value)[0]\n",
    "        print(f\"Sklearn predicts this value is {predicted}\")\n",
    "    else:\n",
    "        print(f\"No entry in dataset with cgpa = {num}\")\n"
   ]
  },
  {
   "cell_type": "code",
   "execution_count": null,
   "id": "4eb60b42",
   "metadata": {},
   "outputs": [],
   "source": []
  }
 ],
 "metadata": {
  "kernelspec": {
   "display_name": "Python 3",
   "language": "python",
   "name": "python3"
  },
  "language_info": {
   "codemirror_mode": {
    "name": "ipython",
    "version": 3
   },
   "file_extension": ".py",
   "mimetype": "text/x-python",
   "name": "python",
   "nbconvert_exporter": "python",
   "pygments_lexer": "ipython3",
   "version": "3.12.3"
  }
 },
 "nbformat": 4,
 "nbformat_minor": 5
}
