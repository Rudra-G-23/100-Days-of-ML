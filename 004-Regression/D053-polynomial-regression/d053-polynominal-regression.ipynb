{
 "cells": [
  {
   "cell_type": "markdown",
   "id": "4de6a6ca",
   "metadata": {},
   "source": [
    "# Import libraries"
   ]
  },
  {
   "cell_type": "code",
   "execution_count": 2,
   "id": "cc7e28b5",
   "metadata": {},
   "outputs": [],
   "source": [
    "import numpy as np\n",
    "import matplotlib.pyplot as plt\n",
    "\n",
    "import plotly.express as px\n",
    "import plotly.graph_objects as go \n",
    "\n",
    "from sklearn.model_selection import train_test_split\n",
    "from sklearn.linear_model import LinearRegression, SGDRegressor\n",
    "from sklearn.preprocessing import PolynomialFeatures, StandardScaler\n",
    "\n",
    "from sklearn.metrics import r2_score\n",
    "from sklearn.pipeline import Pipeline"
   ]
  },
  {
   "cell_type": "code",
   "execution_count": null,
   "id": "833165a4",
   "metadata": {},
   "outputs": [],
   "source": [
    "# When you interact with this notebook remove this comment fot interactive graph\n",
    "import plotly.io as pio\n",
    "# pio.renderers.default = 'svg'"
   ]
  },
  {
   "cell_type": "code",
   "execution_count": 3,
   "id": "3e051bd5",
   "metadata": {},
   "outputs": [],
   "source": [
    "from sklearn import set_config\n",
    "set_config(display='diagram')"
   ]
  },
  {
   "cell_type": "markdown",
   "id": "2a827372",
   "metadata": {},
   "source": [
    "# Create a dataset for polynomial  (degree=2)"
   ]
  },
  {
   "cell_type": "code",
   "execution_count": 4,
   "id": "46adbcec",
   "metadata": {},
   "outputs": [],
   "source": [
    "# y = 0.8(x^2)  + 0.9x + 2\n",
    "\n",
    "X = 6 * np.random.rand(200, 1) - 3\n",
    "y =( 0.8 * (X**2)) +( 0.9 * X) + 2 + np.random.rand(200, 1)"
   ]
  },
  {
   "cell_type": "code",
   "execution_count": 10,
   "id": "0abd5fc4",
   "metadata": {},
   "outputs": [
    {
     "data": {
      "application/vnd.plotly.v1+json": {
       "config": {
        "plotlyServerURL": "https://plot.ly"
       },
       "data": [
        {
         "hovertemplate": "x=%{x}<br>y=%{y}<extra></extra>",
         "legendgroup": "",
         "marker": {
          "color": "#636efa",
          "symbol": "circle"
         },
         "mode": "markers",
         "name": "",
         "orientation": "v",
         "showlegend": false,
         "type": "scatter",
         "x": {
          "bdata": "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",
          "dtype": "f8"
         },
         "xaxis": "x",
         "y": {
          "bdata": "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",
          "dtype": "f8"
         },
         "yaxis": "y"
        }
       ],
       "layout": {
        "legend": {
         "tracegroupgap": 0
        },
        "margin": {
         "t": 60
        },
        "template": {
         "data": {
          "bar": [
           {
            "error_x": {
             "color": "#2a3f5f"
            },
            "error_y": {
             "color": "#2a3f5f"
            },
            "marker": {
             "line": {
              "color": "#E5ECF6",
              "width": 0.5
             },
             "pattern": {
              "fillmode": "overlay",
              "size": 10,
              "solidity": 0.2
             }
            },
            "type": "bar"
           }
          ],
          "barpolar": [
           {
            "marker": {
             "line": {
              "color": "#E5ECF6",
              "width": 0.5
             },
             "pattern": {
              "fillmode": "overlay",
              "size": 10,
              "solidity": 0.2
             }
            },
            "type": "barpolar"
           }
          ],
          "carpet": [
           {
            "aaxis": {
             "endlinecolor": "#2a3f5f",
             "gridcolor": "white",
             "linecolor": "white",
             "minorgridcolor": "white",
             "startlinecolor": "#2a3f5f"
            },
            "baxis": {
             "endlinecolor": "#2a3f5f",
             "gridcolor": "white",
             "linecolor": "white",
             "minorgridcolor": "white",
             "startlinecolor": "#2a3f5f"
            },
            "type": "carpet"
           }
          ],
          "choropleth": [
           {
            "colorbar": {
             "outlinewidth": 0,
             "ticks": ""
            },
            "type": "choropleth"
           }
          ],
          "contour": [
           {
            "colorbar": {
             "outlinewidth": 0,
             "ticks": ""
            },
            "colorscale": [
             [
              0,
              "#0d0887"
             ],
             [
              0.1111111111111111,
              "#46039f"
             ],
             [
              0.2222222222222222,
              "#7201a8"
             ],
             [
              0.3333333333333333,
              "#9c179e"
             ],
             [
              0.4444444444444444,
              "#bd3786"
             ],
             [
              0.5555555555555556,
              "#d8576b"
             ],
             [
              0.6666666666666666,
              "#ed7953"
             ],
             [
              0.7777777777777778,
              "#fb9f3a"
             ],
             [
              0.8888888888888888,
              "#fdca26"
             ],
             [
              1,
              "#f0f921"
             ]
            ],
            "type": "contour"
           }
          ],
          "contourcarpet": [
           {
            "colorbar": {
             "outlinewidth": 0,
             "ticks": ""
            },
            "type": "contourcarpet"
           }
          ],
          "heatmap": [
           {
            "colorbar": {
             "outlinewidth": 0,
             "ticks": ""
            },
            "colorscale": [
             [
              0,
              "#0d0887"
             ],
             [
              0.1111111111111111,
              "#46039f"
             ],
             [
              0.2222222222222222,
              "#7201a8"
             ],
             [
              0.3333333333333333,
              "#9c179e"
             ],
             [
              0.4444444444444444,
              "#bd3786"
             ],
             [
              0.5555555555555556,
              "#d8576b"
             ],
             [
              0.6666666666666666,
              "#ed7953"
             ],
             [
              0.7777777777777778,
              "#fb9f3a"
             ],
             [
              0.8888888888888888,
              "#fdca26"
             ],
             [
              1,
              "#f0f921"
             ]
            ],
            "type": "heatmap"
           }
          ],
          "histogram": [
           {
            "marker": {
             "pattern": {
              "fillmode": "overlay",
              "size": 10,
              "solidity": 0.2
             }
            },
            "type": "histogram"
           }
          ],
          "histogram2d": [
           {
            "colorbar": {
             "outlinewidth": 0,
             "ticks": ""
            },
            "colorscale": [
             [
              0,
              "#0d0887"
             ],
             [
              0.1111111111111111,
              "#46039f"
             ],
             [
              0.2222222222222222,
              "#7201a8"
             ],
             [
              0.3333333333333333,
              "#9c179e"
             ],
             [
              0.4444444444444444,
              "#bd3786"
             ],
             [
              0.5555555555555556,
              "#d8576b"
             ],
             [
              0.6666666666666666,
              "#ed7953"
             ],
             [
              0.7777777777777778,
              "#fb9f3a"
             ],
             [
              0.8888888888888888,
              "#fdca26"
             ],
             [
              1,
              "#f0f921"
             ]
            ],
            "type": "histogram2d"
           }
          ],
          "histogram2dcontour": [
           {
            "colorbar": {
             "outlinewidth": 0,
             "ticks": ""
            },
            "colorscale": [
             [
              0,
              "#0d0887"
             ],
             [
              0.1111111111111111,
              "#46039f"
             ],
             [
              0.2222222222222222,
              "#7201a8"
             ],
             [
              0.3333333333333333,
              "#9c179e"
             ],
             [
              0.4444444444444444,
              "#bd3786"
             ],
             [
              0.5555555555555556,
              "#d8576b"
             ],
             [
              0.6666666666666666,
              "#ed7953"
             ],
             [
              0.7777777777777778,
              "#fb9f3a"
             ],
             [
              0.8888888888888888,
              "#fdca26"
             ],
             [
              1,
              "#f0f921"
             ]
            ],
            "type": "histogram2dcontour"
           }
          ],
          "mesh3d": [
           {
            "colorbar": {
             "outlinewidth": 0,
             "ticks": ""
            },
            "type": "mesh3d"
           }
          ],
          "parcoords": [
           {
            "line": {
             "colorbar": {
              "outlinewidth": 0,
              "ticks": ""
             }
            },
            "type": "parcoords"
           }
          ],
          "pie": [
           {
            "automargin": true,
            "type": "pie"
           }
          ],
          "scatter": [
           {
            "fillpattern": {
             "fillmode": "overlay",
             "size": 10,
             "solidity": 0.2
            },
            "type": "scatter"
           }
          ],
          "scatter3d": [
           {
            "line": {
             "colorbar": {
              "outlinewidth": 0,
              "ticks": ""
             }
            },
            "marker": {
             "colorbar": {
              "outlinewidth": 0,
              "ticks": ""
             }
            },
            "type": "scatter3d"
           }
          ],
          "scattercarpet": [
           {
            "marker": {
             "colorbar": {
              "outlinewidth": 0,
              "ticks": ""
             }
            },
            "type": "scattercarpet"
           }
          ],
          "scattergeo": [
           {
            "marker": {
             "colorbar": {
              "outlinewidth": 0,
              "ticks": ""
             }
            },
            "type": "scattergeo"
           }
          ],
          "scattergl": [
           {
            "marker": {
             "colorbar": {
              "outlinewidth": 0,
              "ticks": ""
             }
            },
            "type": "scattergl"
           }
          ],
          "scattermap": [
           {
            "marker": {
             "colorbar": {
              "outlinewidth": 0,
              "ticks": ""
             }
            },
            "type": "scattermap"
           }
          ],
          "scattermapbox": [
           {
            "marker": {
             "colorbar": {
              "outlinewidth": 0,
              "ticks": ""
             }
            },
            "type": "scattermapbox"
           }
          ],
          "scatterpolar": [
           {
            "marker": {
             "colorbar": {
              "outlinewidth": 0,
              "ticks": ""
             }
            },
            "type": "scatterpolar"
           }
          ],
          "scatterpolargl": [
           {
            "marker": {
             "colorbar": {
              "outlinewidth": 0,
              "ticks": ""
             }
            },
            "type": "scatterpolargl"
           }
          ],
          "scatterternary": [
           {
            "marker": {
             "colorbar": {
              "outlinewidth": 0,
              "ticks": ""
             }
            },
            "type": "scatterternary"
           }
          ],
          "surface": [
           {
            "colorbar": {
             "outlinewidth": 0,
             "ticks": ""
            },
            "colorscale": [
             [
              0,
              "#0d0887"
             ],
             [
              0.1111111111111111,
              "#46039f"
             ],
             [
              0.2222222222222222,
              "#7201a8"
             ],
             [
              0.3333333333333333,
              "#9c179e"
             ],
             [
              0.4444444444444444,
              "#bd3786"
             ],
             [
              0.5555555555555556,
              "#d8576b"
             ],
             [
              0.6666666666666666,
              "#ed7953"
             ],
             [
              0.7777777777777778,
              "#fb9f3a"
             ],
             [
              0.8888888888888888,
              "#fdca26"
             ],
             [
              1,
              "#f0f921"
             ]
            ],
            "type": "surface"
           }
          ],
          "table": [
           {
            "cells": {
             "fill": {
              "color": "#EBF0F8"
             },
             "line": {
              "color": "white"
             }
            },
            "header": {
             "fill": {
              "color": "#C8D4E3"
             },
             "line": {
              "color": "white"
             }
            },
            "type": "table"
           }
          ]
         },
         "layout": {
          "annotationdefaults": {
           "arrowcolor": "#2a3f5f",
           "arrowhead": 0,
           "arrowwidth": 1
          },
          "autotypenumbers": "strict",
          "coloraxis": {
           "colorbar": {
            "outlinewidth": 0,
            "ticks": ""
           }
          },
          "colorscale": {
           "diverging": [
            [
             0,
             "#8e0152"
            ],
            [
             0.1,
             "#c51b7d"
            ],
            [
             0.2,
             "#de77ae"
            ],
            [
             0.3,
             "#f1b6da"
            ],
            [
             0.4,
             "#fde0ef"
            ],
            [
             0.5,
             "#f7f7f7"
            ],
            [
             0.6,
             "#e6f5d0"
            ],
            [
             0.7,
             "#b8e186"
            ],
            [
             0.8,
             "#7fbc41"
            ],
            [
             0.9,
             "#4d9221"
            ],
            [
             1,
             "#276419"
            ]
           ],
           "sequential": [
            [
             0,
             "#0d0887"
            ],
            [
             0.1111111111111111,
             "#46039f"
            ],
            [
             0.2222222222222222,
             "#7201a8"
            ],
            [
             0.3333333333333333,
             "#9c179e"
            ],
            [
             0.4444444444444444,
             "#bd3786"
            ],
            [
             0.5555555555555556,
             "#d8576b"
            ],
            [
             0.6666666666666666,
             "#ed7953"
            ],
            [
             0.7777777777777778,
             "#fb9f3a"
            ],
            [
             0.8888888888888888,
             "#fdca26"
            ],
            [
             1,
             "#f0f921"
            ]
           ],
           "sequentialminus": [
            [
             0,
             "#0d0887"
            ],
            [
             0.1111111111111111,
             "#46039f"
            ],
            [
             0.2222222222222222,
             "#7201a8"
            ],
            [
             0.3333333333333333,
             "#9c179e"
            ],
            [
             0.4444444444444444,
             "#bd3786"
            ],
            [
             0.5555555555555556,
             "#d8576b"
            ],
            [
             0.6666666666666666,
             "#ed7953"
            ],
            [
             0.7777777777777778,
             "#fb9f3a"
            ],
            [
             0.8888888888888888,
             "#fdca26"
            ],
            [
             1,
             "#f0f921"
            ]
           ]
          },
          "colorway": [
           "#636efa",
           "#EF553B",
           "#00cc96",
           "#ab63fa",
           "#FFA15A",
           "#19d3f3",
           "#FF6692",
           "#B6E880",
           "#FF97FF",
           "#FECB52"
          ],
          "font": {
           "color": "#2a3f5f"
          },
          "geo": {
           "bgcolor": "white",
           "lakecolor": "white",
           "landcolor": "#E5ECF6",
           "showlakes": true,
           "showland": true,
           "subunitcolor": "white"
          },
          "hoverlabel": {
           "align": "left"
          },
          "hovermode": "closest",
          "mapbox": {
           "style": "light"
          },
          "paper_bgcolor": "white",
          "plot_bgcolor": "#E5ECF6",
          "polar": {
           "angularaxis": {
            "gridcolor": "white",
            "linecolor": "white",
            "ticks": ""
           },
           "bgcolor": "#E5ECF6",
           "radialaxis": {
            "gridcolor": "white",
            "linecolor": "white",
            "ticks": ""
           }
          },
          "scene": {
           "xaxis": {
            "backgroundcolor": "#E5ECF6",
            "gridcolor": "white",
            "gridwidth": 2,
            "linecolor": "white",
            "showbackground": true,
            "ticks": "",
            "zerolinecolor": "white"
           },
           "yaxis": {
            "backgroundcolor": "#E5ECF6",
            "gridcolor": "white",
            "gridwidth": 2,
            "linecolor": "white",
            "showbackground": true,
            "ticks": "",
            "zerolinecolor": "white"
           },
           "zaxis": {
            "backgroundcolor": "#E5ECF6",
            "gridcolor": "white",
            "gridwidth": 2,
            "linecolor": "white",
            "showbackground": true,
            "ticks": "",
            "zerolinecolor": "white"
           }
          },
          "shapedefaults": {
           "line": {
            "color": "#2a3f5f"
           }
          },
          "ternary": {
           "aaxis": {
            "gridcolor": "white",
            "linecolor": "white",
            "ticks": ""
           },
           "baxis": {
            "gridcolor": "white",
            "linecolor": "white",
            "ticks": ""
           },
           "bgcolor": "#E5ECF6",
           "caxis": {
            "gridcolor": "white",
            "linecolor": "white",
            "ticks": ""
           }
          },
          "title": {
           "x": 0.05
          },
          "xaxis": {
           "automargin": true,
           "gridcolor": "white",
           "linecolor": "white",
           "ticks": "",
           "title": {
            "standoff": 15
           },
           "zerolinecolor": "white",
           "zerolinewidth": 2
          },
          "yaxis": {
           "automargin": true,
           "gridcolor": "white",
           "linecolor": "white",
           "ticks": "",
           "title": {
            "standoff": 15
           },
           "zerolinecolor": "white",
           "zerolinewidth": 2
          }
         }
        },
        "xaxis": {
         "anchor": "y",
         "domain": [
          0,
          1
         ],
         "title": {
          "text": "x"
         }
        },
        "yaxis": {
         "anchor": "x",
         "domain": [
          0,
          1
         ],
         "title": {
          "text": "y"
         }
        }
       }
      }
     },
     "metadata": {},
     "output_type": "display_data"
    }
   ],
   "source": [
    "# see the data what we create\n",
    "fig = px.scatter(\n",
    "    x=X.ravel(),\n",
    "    y= y.ravel(),\n",
    ")\n",
    "\n",
    "fig.show()"
   ]
  },
  {
   "cell_type": "markdown",
   "id": "c409070d",
   "metadata": {},
   "source": [
    "# Train test split"
   ]
  },
  {
   "cell_type": "code",
   "execution_count": 11,
   "id": "e1f56ce5",
   "metadata": {},
   "outputs": [],
   "source": [
    "X_train, X_test, y_train, y_test = train_test_split(X, y, test_size=0.2, random_state=2)"
   ]
  },
  {
   "cell_type": "code",
   "execution_count": 12,
   "id": "cf9e1438",
   "metadata": {},
   "outputs": [],
   "source": [
    "# apply linear regression\n",
    "lr = LinearRegression()"
   ]
  },
  {
   "cell_type": "code",
   "execution_count": 13,
   "id": "c42141bd",
   "metadata": {},
   "outputs": [
    {
     "data": {
      "text/html": [
       "<style>#sk-container-id-1 {\n",
       "  /* Definition of color scheme common for light and dark mode */\n",
       "  --sklearn-color-text: #000;\n",
       "  --sklearn-color-text-muted: #666;\n",
       "  --sklearn-color-line: gray;\n",
       "  /* Definition of color scheme for unfitted estimators */\n",
       "  --sklearn-color-unfitted-level-0: #fff5e6;\n",
       "  --sklearn-color-unfitted-level-1: #f6e4d2;\n",
       "  --sklearn-color-unfitted-level-2: #ffe0b3;\n",
       "  --sklearn-color-unfitted-level-3: chocolate;\n",
       "  /* Definition of color scheme for fitted estimators */\n",
       "  --sklearn-color-fitted-level-0: #f0f8ff;\n",
       "  --sklearn-color-fitted-level-1: #d4ebff;\n",
       "  --sklearn-color-fitted-level-2: #b3dbfd;\n",
       "  --sklearn-color-fitted-level-3: cornflowerblue;\n",
       "\n",
       "  /* Specific color for light theme */\n",
       "  --sklearn-color-text-on-default-background: var(--sg-text-color, var(--theme-code-foreground, var(--jp-content-font-color1, black)));\n",
       "  --sklearn-color-background: var(--sg-background-color, var(--theme-background, var(--jp-layout-color0, white)));\n",
       "  --sklearn-color-border-box: var(--sg-text-color, var(--theme-code-foreground, var(--jp-content-font-color1, black)));\n",
       "  --sklearn-color-icon: #696969;\n",
       "\n",
       "  @media (prefers-color-scheme: dark) {\n",
       "    /* Redefinition of color scheme for dark theme */\n",
       "    --sklearn-color-text-on-default-background: var(--sg-text-color, var(--theme-code-foreground, var(--jp-content-font-color1, white)));\n",
       "    --sklearn-color-background: var(--sg-background-color, var(--theme-background, var(--jp-layout-color0, #111)));\n",
       "    --sklearn-color-border-box: var(--sg-text-color, var(--theme-code-foreground, var(--jp-content-font-color1, white)));\n",
       "    --sklearn-color-icon: #878787;\n",
       "  }\n",
       "}\n",
       "\n",
       "#sk-container-id-1 {\n",
       "  color: var(--sklearn-color-text);\n",
       "}\n",
       "\n",
       "#sk-container-id-1 pre {\n",
       "  padding: 0;\n",
       "}\n",
       "\n",
       "#sk-container-id-1 input.sk-hidden--visually {\n",
       "  border: 0;\n",
       "  clip: rect(1px 1px 1px 1px);\n",
       "  clip: rect(1px, 1px, 1px, 1px);\n",
       "  height: 1px;\n",
       "  margin: -1px;\n",
       "  overflow: hidden;\n",
       "  padding: 0;\n",
       "  position: absolute;\n",
       "  width: 1px;\n",
       "}\n",
       "\n",
       "#sk-container-id-1 div.sk-dashed-wrapped {\n",
       "  border: 1px dashed var(--sklearn-color-line);\n",
       "  margin: 0 0.4em 0.5em 0.4em;\n",
       "  box-sizing: border-box;\n",
       "  padding-bottom: 0.4em;\n",
       "  background-color: var(--sklearn-color-background);\n",
       "}\n",
       "\n",
       "#sk-container-id-1 div.sk-container {\n",
       "  /* jupyter's `normalize.less` sets `[hidden] { display: none; }`\n",
       "     but bootstrap.min.css set `[hidden] { display: none !important; }`\n",
       "     so we also need the `!important` here to be able to override the\n",
       "     default hidden behavior on the sphinx rendered scikit-learn.org.\n",
       "     See: https://github.com/scikit-learn/scikit-learn/issues/21755 */\n",
       "  display: inline-block !important;\n",
       "  position: relative;\n",
       "}\n",
       "\n",
       "#sk-container-id-1 div.sk-text-repr-fallback {\n",
       "  display: none;\n",
       "}\n",
       "\n",
       "div.sk-parallel-item,\n",
       "div.sk-serial,\n",
       "div.sk-item {\n",
       "  /* draw centered vertical line to link estimators */\n",
       "  background-image: linear-gradient(var(--sklearn-color-text-on-default-background), var(--sklearn-color-text-on-default-background));\n",
       "  background-size: 2px 100%;\n",
       "  background-repeat: no-repeat;\n",
       "  background-position: center center;\n",
       "}\n",
       "\n",
       "/* Parallel-specific style estimator block */\n",
       "\n",
       "#sk-container-id-1 div.sk-parallel-item::after {\n",
       "  content: \"\";\n",
       "  width: 100%;\n",
       "  border-bottom: 2px solid var(--sklearn-color-text-on-default-background);\n",
       "  flex-grow: 1;\n",
       "}\n",
       "\n",
       "#sk-container-id-1 div.sk-parallel {\n",
       "  display: flex;\n",
       "  align-items: stretch;\n",
       "  justify-content: center;\n",
       "  background-color: var(--sklearn-color-background);\n",
       "  position: relative;\n",
       "}\n",
       "\n",
       "#sk-container-id-1 div.sk-parallel-item {\n",
       "  display: flex;\n",
       "  flex-direction: column;\n",
       "}\n",
       "\n",
       "#sk-container-id-1 div.sk-parallel-item:first-child::after {\n",
       "  align-self: flex-end;\n",
       "  width: 50%;\n",
       "}\n",
       "\n",
       "#sk-container-id-1 div.sk-parallel-item:last-child::after {\n",
       "  align-self: flex-start;\n",
       "  width: 50%;\n",
       "}\n",
       "\n",
       "#sk-container-id-1 div.sk-parallel-item:only-child::after {\n",
       "  width: 0;\n",
       "}\n",
       "\n",
       "/* Serial-specific style estimator block */\n",
       "\n",
       "#sk-container-id-1 div.sk-serial {\n",
       "  display: flex;\n",
       "  flex-direction: column;\n",
       "  align-items: center;\n",
       "  background-color: var(--sklearn-color-background);\n",
       "  padding-right: 1em;\n",
       "  padding-left: 1em;\n",
       "}\n",
       "\n",
       "\n",
       "/* Toggleable style: style used for estimator/Pipeline/ColumnTransformer box that is\n",
       "clickable and can be expanded/collapsed.\n",
       "- Pipeline and ColumnTransformer use this feature and define the default style\n",
       "- Estimators will overwrite some part of the style using the `sk-estimator` class\n",
       "*/\n",
       "\n",
       "/* Pipeline and ColumnTransformer style (default) */\n",
       "\n",
       "#sk-container-id-1 div.sk-toggleable {\n",
       "  /* Default theme specific background. It is overwritten whether we have a\n",
       "  specific estimator or a Pipeline/ColumnTransformer */\n",
       "  background-color: var(--sklearn-color-background);\n",
       "}\n",
       "\n",
       "/* Toggleable label */\n",
       "#sk-container-id-1 label.sk-toggleable__label {\n",
       "  cursor: pointer;\n",
       "  display: flex;\n",
       "  width: 100%;\n",
       "  margin-bottom: 0;\n",
       "  padding: 0.5em;\n",
       "  box-sizing: border-box;\n",
       "  text-align: center;\n",
       "  align-items: start;\n",
       "  justify-content: space-between;\n",
       "  gap: 0.5em;\n",
       "}\n",
       "\n",
       "#sk-container-id-1 label.sk-toggleable__label .caption {\n",
       "  font-size: 0.6rem;\n",
       "  font-weight: lighter;\n",
       "  color: var(--sklearn-color-text-muted);\n",
       "}\n",
       "\n",
       "#sk-container-id-1 label.sk-toggleable__label-arrow:before {\n",
       "  /* Arrow on the left of the label */\n",
       "  content: \"▸\";\n",
       "  float: left;\n",
       "  margin-right: 0.25em;\n",
       "  color: var(--sklearn-color-icon);\n",
       "}\n",
       "\n",
       "#sk-container-id-1 label.sk-toggleable__label-arrow:hover:before {\n",
       "  color: var(--sklearn-color-text);\n",
       "}\n",
       "\n",
       "/* Toggleable content - dropdown */\n",
       "\n",
       "#sk-container-id-1 div.sk-toggleable__content {\n",
       "  max-height: 0;\n",
       "  max-width: 0;\n",
       "  overflow: hidden;\n",
       "  text-align: left;\n",
       "  /* unfitted */\n",
       "  background-color: var(--sklearn-color-unfitted-level-0);\n",
       "}\n",
       "\n",
       "#sk-container-id-1 div.sk-toggleable__content.fitted {\n",
       "  /* fitted */\n",
       "  background-color: var(--sklearn-color-fitted-level-0);\n",
       "}\n",
       "\n",
       "#sk-container-id-1 div.sk-toggleable__content pre {\n",
       "  margin: 0.2em;\n",
       "  border-radius: 0.25em;\n",
       "  color: var(--sklearn-color-text);\n",
       "  /* unfitted */\n",
       "  background-color: var(--sklearn-color-unfitted-level-0);\n",
       "}\n",
       "\n",
       "#sk-container-id-1 div.sk-toggleable__content.fitted pre {\n",
       "  /* unfitted */\n",
       "  background-color: var(--sklearn-color-fitted-level-0);\n",
       "}\n",
       "\n",
       "#sk-container-id-1 input.sk-toggleable__control:checked~div.sk-toggleable__content {\n",
       "  /* Expand drop-down */\n",
       "  max-height: 200px;\n",
       "  max-width: 100%;\n",
       "  overflow: auto;\n",
       "}\n",
       "\n",
       "#sk-container-id-1 input.sk-toggleable__control:checked~label.sk-toggleable__label-arrow:before {\n",
       "  content: \"▾\";\n",
       "}\n",
       "\n",
       "/* Pipeline/ColumnTransformer-specific style */\n",
       "\n",
       "#sk-container-id-1 div.sk-label input.sk-toggleable__control:checked~label.sk-toggleable__label {\n",
       "  color: var(--sklearn-color-text);\n",
       "  background-color: var(--sklearn-color-unfitted-level-2);\n",
       "}\n",
       "\n",
       "#sk-container-id-1 div.sk-label.fitted input.sk-toggleable__control:checked~label.sk-toggleable__label {\n",
       "  background-color: var(--sklearn-color-fitted-level-2);\n",
       "}\n",
       "\n",
       "/* Estimator-specific style */\n",
       "\n",
       "/* Colorize estimator box */\n",
       "#sk-container-id-1 div.sk-estimator input.sk-toggleable__control:checked~label.sk-toggleable__label {\n",
       "  /* unfitted */\n",
       "  background-color: var(--sklearn-color-unfitted-level-2);\n",
       "}\n",
       "\n",
       "#sk-container-id-1 div.sk-estimator.fitted input.sk-toggleable__control:checked~label.sk-toggleable__label {\n",
       "  /* fitted */\n",
       "  background-color: var(--sklearn-color-fitted-level-2);\n",
       "}\n",
       "\n",
       "#sk-container-id-1 div.sk-label label.sk-toggleable__label,\n",
       "#sk-container-id-1 div.sk-label label {\n",
       "  /* The background is the default theme color */\n",
       "  color: var(--sklearn-color-text-on-default-background);\n",
       "}\n",
       "\n",
       "/* On hover, darken the color of the background */\n",
       "#sk-container-id-1 div.sk-label:hover label.sk-toggleable__label {\n",
       "  color: var(--sklearn-color-text);\n",
       "  background-color: var(--sklearn-color-unfitted-level-2);\n",
       "}\n",
       "\n",
       "/* Label box, darken color on hover, fitted */\n",
       "#sk-container-id-1 div.sk-label.fitted:hover label.sk-toggleable__label.fitted {\n",
       "  color: var(--sklearn-color-text);\n",
       "  background-color: var(--sklearn-color-fitted-level-2);\n",
       "}\n",
       "\n",
       "/* Estimator label */\n",
       "\n",
       "#sk-container-id-1 div.sk-label label {\n",
       "  font-family: monospace;\n",
       "  font-weight: bold;\n",
       "  display: inline-block;\n",
       "  line-height: 1.2em;\n",
       "}\n",
       "\n",
       "#sk-container-id-1 div.sk-label-container {\n",
       "  text-align: center;\n",
       "}\n",
       "\n",
       "/* Estimator-specific */\n",
       "#sk-container-id-1 div.sk-estimator {\n",
       "  font-family: monospace;\n",
       "  border: 1px dotted var(--sklearn-color-border-box);\n",
       "  border-radius: 0.25em;\n",
       "  box-sizing: border-box;\n",
       "  margin-bottom: 0.5em;\n",
       "  /* unfitted */\n",
       "  background-color: var(--sklearn-color-unfitted-level-0);\n",
       "}\n",
       "\n",
       "#sk-container-id-1 div.sk-estimator.fitted {\n",
       "  /* fitted */\n",
       "  background-color: var(--sklearn-color-fitted-level-0);\n",
       "}\n",
       "\n",
       "/* on hover */\n",
       "#sk-container-id-1 div.sk-estimator:hover {\n",
       "  /* unfitted */\n",
       "  background-color: var(--sklearn-color-unfitted-level-2);\n",
       "}\n",
       "\n",
       "#sk-container-id-1 div.sk-estimator.fitted:hover {\n",
       "  /* fitted */\n",
       "  background-color: var(--sklearn-color-fitted-level-2);\n",
       "}\n",
       "\n",
       "/* Specification for estimator info (e.g. \"i\" and \"?\") */\n",
       "\n",
       "/* Common style for \"i\" and \"?\" */\n",
       "\n",
       ".sk-estimator-doc-link,\n",
       "a:link.sk-estimator-doc-link,\n",
       "a:visited.sk-estimator-doc-link {\n",
       "  float: right;\n",
       "  font-size: smaller;\n",
       "  line-height: 1em;\n",
       "  font-family: monospace;\n",
       "  background-color: var(--sklearn-color-background);\n",
       "  border-radius: 1em;\n",
       "  height: 1em;\n",
       "  width: 1em;\n",
       "  text-decoration: none !important;\n",
       "  margin-left: 0.5em;\n",
       "  text-align: center;\n",
       "  /* unfitted */\n",
       "  border: var(--sklearn-color-unfitted-level-1) 1pt solid;\n",
       "  color: var(--sklearn-color-unfitted-level-1);\n",
       "}\n",
       "\n",
       ".sk-estimator-doc-link.fitted,\n",
       "a:link.sk-estimator-doc-link.fitted,\n",
       "a:visited.sk-estimator-doc-link.fitted {\n",
       "  /* fitted */\n",
       "  border: var(--sklearn-color-fitted-level-1) 1pt solid;\n",
       "  color: var(--sklearn-color-fitted-level-1);\n",
       "}\n",
       "\n",
       "/* On hover */\n",
       "div.sk-estimator:hover .sk-estimator-doc-link:hover,\n",
       ".sk-estimator-doc-link:hover,\n",
       "div.sk-label-container:hover .sk-estimator-doc-link:hover,\n",
       ".sk-estimator-doc-link:hover {\n",
       "  /* unfitted */\n",
       "  background-color: var(--sklearn-color-unfitted-level-3);\n",
       "  color: var(--sklearn-color-background);\n",
       "  text-decoration: none;\n",
       "}\n",
       "\n",
       "div.sk-estimator.fitted:hover .sk-estimator-doc-link.fitted:hover,\n",
       ".sk-estimator-doc-link.fitted:hover,\n",
       "div.sk-label-container:hover .sk-estimator-doc-link.fitted:hover,\n",
       ".sk-estimator-doc-link.fitted:hover {\n",
       "  /* fitted */\n",
       "  background-color: var(--sklearn-color-fitted-level-3);\n",
       "  color: var(--sklearn-color-background);\n",
       "  text-decoration: none;\n",
       "}\n",
       "\n",
       "/* Span, style for the box shown on hovering the info icon */\n",
       ".sk-estimator-doc-link span {\n",
       "  display: none;\n",
       "  z-index: 9999;\n",
       "  position: relative;\n",
       "  font-weight: normal;\n",
       "  right: .2ex;\n",
       "  padding: .5ex;\n",
       "  margin: .5ex;\n",
       "  width: min-content;\n",
       "  min-width: 20ex;\n",
       "  max-width: 50ex;\n",
       "  color: var(--sklearn-color-text);\n",
       "  box-shadow: 2pt 2pt 4pt #999;\n",
       "  /* unfitted */\n",
       "  background: var(--sklearn-color-unfitted-level-0);\n",
       "  border: .5pt solid var(--sklearn-color-unfitted-level-3);\n",
       "}\n",
       "\n",
       ".sk-estimator-doc-link.fitted span {\n",
       "  /* fitted */\n",
       "  background: var(--sklearn-color-fitted-level-0);\n",
       "  border: var(--sklearn-color-fitted-level-3);\n",
       "}\n",
       "\n",
       ".sk-estimator-doc-link:hover span {\n",
       "  display: block;\n",
       "}\n",
       "\n",
       "/* \"?\"-specific style due to the `<a>` HTML tag */\n",
       "\n",
       "#sk-container-id-1 a.estimator_doc_link {\n",
       "  float: right;\n",
       "  font-size: 1rem;\n",
       "  line-height: 1em;\n",
       "  font-family: monospace;\n",
       "  background-color: var(--sklearn-color-background);\n",
       "  border-radius: 1rem;\n",
       "  height: 1rem;\n",
       "  width: 1rem;\n",
       "  text-decoration: none;\n",
       "  /* unfitted */\n",
       "  color: var(--sklearn-color-unfitted-level-1);\n",
       "  border: var(--sklearn-color-unfitted-level-1) 1pt solid;\n",
       "}\n",
       "\n",
       "#sk-container-id-1 a.estimator_doc_link.fitted {\n",
       "  /* fitted */\n",
       "  border: var(--sklearn-color-fitted-level-1) 1pt solid;\n",
       "  color: var(--sklearn-color-fitted-level-1);\n",
       "}\n",
       "\n",
       "/* On hover */\n",
       "#sk-container-id-1 a.estimator_doc_link:hover {\n",
       "  /* unfitted */\n",
       "  background-color: var(--sklearn-color-unfitted-level-3);\n",
       "  color: var(--sklearn-color-background);\n",
       "  text-decoration: none;\n",
       "}\n",
       "\n",
       "#sk-container-id-1 a.estimator_doc_link.fitted:hover {\n",
       "  /* fitted */\n",
       "  background-color: var(--sklearn-color-fitted-level-3);\n",
       "}\n",
       "</style><div id=\"sk-container-id-1\" class=\"sk-top-container\"><div class=\"sk-text-repr-fallback\"><pre>LinearRegression()</pre><b>In a Jupyter environment, please rerun this cell to show the HTML representation or trust the notebook. <br />On GitHub, the HTML representation is unable to render, please try loading this page with nbviewer.org.</b></div><div class=\"sk-container\" hidden><div class=\"sk-item\"><div class=\"sk-estimator fitted sk-toggleable\"><input class=\"sk-toggleable__control sk-hidden--visually\" id=\"sk-estimator-id-1\" type=\"checkbox\" checked><label for=\"sk-estimator-id-1\" class=\"sk-toggleable__label fitted sk-toggleable__label-arrow\"><div><div>LinearRegression</div></div><div><a class=\"sk-estimator-doc-link fitted\" rel=\"noreferrer\" target=\"_blank\" href=\"https://scikit-learn.org/1.6/modules/generated/sklearn.linear_model.LinearRegression.html\">?<span>Documentation for LinearRegression</span></a><span class=\"sk-estimator-doc-link fitted\">i<span>Fitted</span></span></div></label><div class=\"sk-toggleable__content fitted\"><pre>LinearRegression()</pre></div> </div></div></div></div>"
      ],
      "text/plain": [
       "LinearRegression()"
      ]
     },
     "execution_count": 13,
     "metadata": {},
     "output_type": "execute_result"
    }
   ],
   "source": [
    "lr.fit(X_train, y_train)"
   ]
  },
  {
   "cell_type": "code",
   "execution_count": 14,
   "id": "65808a31",
   "metadata": {},
   "outputs": [
    {
     "data": {
      "text/plain": [
       "0.11095427446069062"
      ]
     },
     "execution_count": 14,
     "metadata": {},
     "output_type": "execute_result"
    }
   ],
   "source": [
    "# predict\n",
    "y_pred = lr.predict(X_test)\n",
    "r2_score(y_test, y_pred)"
   ]
  },
  {
   "cell_type": "markdown",
   "id": "0c751aa3",
   "metadata": {},
   "source": [
    "-  this is very accuracy \n",
    "-  why  ?\n",
    "-  see graph you understand"
   ]
  },
  {
   "cell_type": "code",
   "execution_count": 20,
   "id": "3761196f",
   "metadata": {},
   "outputs": [
    {
     "data": {
      "image/png": "[encoded data removed]",
      "text/plain": [
       "<Figure size 640x480 with 1 Axes>"
      ]
     },
     "metadata": {},
     "output_type": "display_data"
    }
   ],
   "source": [
    "plt.plot(X_train,lr.predict(X_train),color='r')\n",
    "plt.plot(X, y, \"b.\")\n",
    "plt.xlabel(\"X\")\n",
    "plt.ylabel(\"y\")\n",
    "plt.show()"
   ]
  },
  {
   "cell_type": "markdown",
   "id": "21104f65",
   "metadata": {},
   "source": [
    "# Applying polynomial with degree 2"
   ]
  },
  {
   "cell_type": "code",
   "execution_count": 39,
   "id": "fcf918fd",
   "metadata": {},
   "outputs": [],
   "source": [
    "poly = PolynomialFeatures(degree=2, include_bias=True)\n"
   ]
  },
  {
   "cell_type": "code",
   "execution_count": 40,
   "id": "5afb7ba6",
   "metadata": {},
   "outputs": [],
   "source": [
    "# learn the parameters\n",
    "X_train_trans = poly.fit_transform(X_train)\n",
    "X_test_trans = poly.transform(X_test)"
   ]
  },
  {
   "cell_type": "code",
   "execution_count": 41,
   "id": "43d991b9",
   "metadata": {},
   "outputs": [
    {
     "name": "stdout",
     "output_type": "stream",
     "text": [
      "(160, 3) (40, 3)\n"
     ]
    }
   ],
   "source": [
    "print(X_train_trans.shape, X_test_trans.shape)"
   ]
  },
  {
   "cell_type": "code",
   "execution_count": 57,
   "id": "1daf9ead",
   "metadata": {},
   "outputs": [
    {
     "name": "stdout",
     "output_type": "stream",
     "text": [
      "This is only X means our actual data point.\n",
      "Before applying the poly : [0.68521806] \n",
      "\n",
      "This is x^0 + X^1 + X^2\n",
      "After applying the poly :  [1.         0.68521806 0.4695238 ]\n"
     ]
    }
   ],
   "source": [
    "# let's see what poly do with our data\n",
    "print(\"This is only X means our actual data point.\") \n",
    "print(f\"Before applying the poly : {X_train[0]} \\n\")\n",
    "\n",
    "print(\"This is x^0 + X^1 + X^2\")\n",
    "print(f\"After applying the poly :  {X_train_trans[0]}\")"
   ]
  },
  {
   "cell_type": "markdown",
   "id": "ac17e566",
   "metadata": {},
   "source": [
    "# Now apply the algorithm after poly function applied"
   ]
  },
  {
   "cell_type": "code",
   "execution_count": 43,
   "id": "08d784fb",
   "metadata": {},
   "outputs": [
    {
     "data": {
      "text/html": [
       "<style>#sk-container-id-2 {\n",
       "  /* Definition of color scheme common for light and dark mode */\n",
       "  --sklearn-color-text: #000;\n",
       "  --sklearn-color-text-muted: #666;\n",
       "  --sklearn-color-line: gray;\n",
       "  /* Definition of color scheme for unfitted estimators */\n",
       "  --sklearn-color-unfitted-level-0: #fff5e6;\n",
       "  --sklearn-color-unfitted-level-1: #f6e4d2;\n",
       "  --sklearn-color-unfitted-level-2: #ffe0b3;\n",
       "  --sklearn-color-unfitted-level-3: chocolate;\n",
       "  /* Definition of color scheme for fitted estimators */\n",
       "  --sklearn-color-fitted-level-0: #f0f8ff;\n",
       "  --sklearn-color-fitted-level-1: #d4ebff;\n",
       "  --sklearn-color-fitted-level-2: #b3dbfd;\n",
       "  --sklearn-color-fitted-level-3: cornflowerblue;\n",
       "\n",
       "  /* Specific color for light theme */\n",
       "  --sklearn-color-text-on-default-background: var(--sg-text-color, var(--theme-code-foreground, var(--jp-content-font-color1, black)));\n",
       "  --sklearn-color-background: var(--sg-background-color, var(--theme-background, var(--jp-layout-color0, white)));\n",
       "  --sklearn-color-border-box: var(--sg-text-color, var(--theme-code-foreground, var(--jp-content-font-color1, black)));\n",
       "  --sklearn-color-icon: #696969;\n",
       "\n",
       "  @media (prefers-color-scheme: dark) {\n",
       "    /* Redefinition of color scheme for dark theme */\n",
       "    --sklearn-color-text-on-default-background: var(--sg-text-color, var(--theme-code-foreground, var(--jp-content-font-color1, white)));\n",
       "    --sklearn-color-background: var(--sg-background-color, var(--theme-background, var(--jp-layout-color0, #111)));\n",
       "    --sklearn-color-border-box: var(--sg-text-color, var(--theme-code-foreground, var(--jp-content-font-color1, white)));\n",
       "    --sklearn-color-icon: #878787;\n",
       "  }\n",
       "}\n",
       "\n",
       "#sk-container-id-2 {\n",
       "  color: var(--sklearn-color-text);\n",
       "}\n",
       "\n",
       "#sk-container-id-2 pre {\n",
       "  padding: 0;\n",
       "}\n",
       "\n",
       "#sk-container-id-2 input.sk-hidden--visually {\n",
       "  border: 0;\n",
       "  clip: rect(1px 1px 1px 1px);\n",
       "  clip: rect(1px, 1px, 1px, 1px);\n",
       "  height: 1px;\n",
       "  margin: -1px;\n",
       "  overflow: hidden;\n",
       "  padding: 0;\n",
       "  position: absolute;\n",
       "  width: 1px;\n",
       "}\n",
       "\n",
       "#sk-container-id-2 div.sk-dashed-wrapped {\n",
       "  border: 1px dashed var(--sklearn-color-line);\n",
       "  margin: 0 0.4em 0.5em 0.4em;\n",
       "  box-sizing: border-box;\n",
       "  padding-bottom: 0.4em;\n",
       "  background-color: var(--sklearn-color-background);\n",
       "}\n",
       "\n",
       "#sk-container-id-2 div.sk-container {\n",
       "  /* jupyter's `normalize.less` sets `[hidden] { display: none; }`\n",
       "     but bootstrap.min.css set `[hidden] { display: none !important; }`\n",
       "     so we also need the `!important` here to be able to override the\n",
       "     default hidden behavior on the sphinx rendered scikit-learn.org.\n",
       "     See: https://github.com/scikit-learn/scikit-learn/issues/21755 */\n",
       "  display: inline-block !important;\n",
       "  position: relative;\n",
       "}\n",
       "\n",
       "#sk-container-id-2 div.sk-text-repr-fallback {\n",
       "  display: none;\n",
       "}\n",
       "\n",
       "div.sk-parallel-item,\n",
       "div.sk-serial,\n",
       "div.sk-item {\n",
       "  /* draw centered vertical line to link estimators */\n",
       "  background-image: linear-gradient(var(--sklearn-color-text-on-default-background), var(--sklearn-color-text-on-default-background));\n",
       "  background-size: 2px 100%;\n",
       "  background-repeat: no-repeat;\n",
       "  background-position: center center;\n",
       "}\n",
       "\n",
       "/* Parallel-specific style estimator block */\n",
       "\n",
       "#sk-container-id-2 div.sk-parallel-item::after {\n",
       "  content: \"\";\n",
       "  width: 100%;\n",
       "  border-bottom: 2px solid var(--sklearn-color-text-on-default-background);\n",
       "  flex-grow: 1;\n",
       "}\n",
       "\n",
       "#sk-container-id-2 div.sk-parallel {\n",
       "  display: flex;\n",
       "  align-items: stretch;\n",
       "  justify-content: center;\n",
       "  background-color: var(--sklearn-color-background);\n",
       "  position: relative;\n",
       "}\n",
       "\n",
       "#sk-container-id-2 div.sk-parallel-item {\n",
       "  display: flex;\n",
       "  flex-direction: column;\n",
       "}\n",
       "\n",
       "#sk-container-id-2 div.sk-parallel-item:first-child::after {\n",
       "  align-self: flex-end;\n",
       "  width: 50%;\n",
       "}\n",
       "\n",
       "#sk-container-id-2 div.sk-parallel-item:last-child::after {\n",
       "  align-self: flex-start;\n",
       "  width: 50%;\n",
       "}\n",
       "\n",
       "#sk-container-id-2 div.sk-parallel-item:only-child::after {\n",
       "  width: 0;\n",
       "}\n",
       "\n",
       "/* Serial-specific style estimator block */\n",
       "\n",
       "#sk-container-id-2 div.sk-serial {\n",
       "  display: flex;\n",
       "  flex-direction: column;\n",
       "  align-items: center;\n",
       "  background-color: var(--sklearn-color-background);\n",
       "  padding-right: 1em;\n",
       "  padding-left: 1em;\n",
       "}\n",
       "\n",
       "\n",
       "/* Toggleable style: style used for estimator/Pipeline/ColumnTransformer box that is\n",
       "clickable and can be expanded/collapsed.\n",
       "- Pipeline and ColumnTransformer use this feature and define the default style\n",
       "- Estimators will overwrite some part of the style using the `sk-estimator` class\n",
       "*/\n",
       "\n",
       "/* Pipeline and ColumnTransformer style (default) */\n",
       "\n",
       "#sk-container-id-2 div.sk-toggleable {\n",
       "  /* Default theme specific background. It is overwritten whether we have a\n",
       "  specific estimator or a Pipeline/ColumnTransformer */\n",
       "  background-color: var(--sklearn-color-background);\n",
       "}\n",
       "\n",
       "/* Toggleable label */\n",
       "#sk-container-id-2 label.sk-toggleable__label {\n",
       "  cursor: pointer;\n",
       "  display: flex;\n",
       "  width: 100%;\n",
       "  margin-bottom: 0;\n",
       "  padding: 0.5em;\n",
       "  box-sizing: border-box;\n",
       "  text-align: center;\n",
       "  align-items: start;\n",
       "  justify-content: space-between;\n",
       "  gap: 0.5em;\n",
       "}\n",
       "\n",
       "#sk-container-id-2 label.sk-toggleable__label .caption {\n",
       "  font-size: 0.6rem;\n",
       "  font-weight: lighter;\n",
       "  color: var(--sklearn-color-text-muted);\n",
       "}\n",
       "\n",
       "#sk-container-id-2 label.sk-toggleable__label-arrow:before {\n",
       "  /* Arrow on the left of the label */\n",
       "  content: \"▸\";\n",
       "  float: left;\n",
       "  margin-right: 0.25em;\n",
       "  color: var(--sklearn-color-icon);\n",
       "}\n",
       "\n",
       "#sk-container-id-2 label.sk-toggleable__label-arrow:hover:before {\n",
       "  color: var(--sklearn-color-text);\n",
       "}\n",
       "\n",
       "/* Toggleable content - dropdown */\n",
       "\n",
       "#sk-container-id-2 div.sk-toggleable__content {\n",
       "  max-height: 0;\n",
       "  max-width: 0;\n",
       "  overflow: hidden;\n",
       "  text-align: left;\n",
       "  /* unfitted */\n",
       "  background-color: var(--sklearn-color-unfitted-level-0);\n",
       "}\n",
       "\n",
       "#sk-container-id-2 div.sk-toggleable__content.fitted {\n",
       "  /* fitted */\n",
       "  background-color: var(--sklearn-color-fitted-level-0);\n",
       "}\n",
       "\n",
       "#sk-container-id-2 div.sk-toggleable__content pre {\n",
       "  margin: 0.2em;\n",
       "  border-radius: 0.25em;\n",
       "  color: var(--sklearn-color-text);\n",
       "  /* unfitted */\n",
       "  background-color: var(--sklearn-color-unfitted-level-0);\n",
       "}\n",
       "\n",
       "#sk-container-id-2 div.sk-toggleable__content.fitted pre {\n",
       "  /* unfitted */\n",
       "  background-color: var(--sklearn-color-fitted-level-0);\n",
       "}\n",
       "\n",
       "#sk-container-id-2 input.sk-toggleable__control:checked~div.sk-toggleable__content {\n",
       "  /* Expand drop-down */\n",
       "  max-height: 200px;\n",
       "  max-width: 100%;\n",
       "  overflow: auto;\n",
       "}\n",
       "\n",
       "#sk-container-id-2 input.sk-toggleable__control:checked~label.sk-toggleable__label-arrow:before {\n",
       "  content: \"▾\";\n",
       "}\n",
       "\n",
       "/* Pipeline/ColumnTransformer-specific style */\n",
       "\n",
       "#sk-container-id-2 div.sk-label input.sk-toggleable__control:checked~label.sk-toggleable__label {\n",
       "  color: var(--sklearn-color-text);\n",
       "  background-color: var(--sklearn-color-unfitted-level-2);\n",
       "}\n",
       "\n",
       "#sk-container-id-2 div.sk-label.fitted input.sk-toggleable__control:checked~label.sk-toggleable__label {\n",
       "  background-color: var(--sklearn-color-fitted-level-2);\n",
       "}\n",
       "\n",
       "/* Estimator-specific style */\n",
       "\n",
       "/* Colorize estimator box */\n",
       "#sk-container-id-2 div.sk-estimator input.sk-toggleable__control:checked~label.sk-toggleable__label {\n",
       "  /* unfitted */\n",
       "  background-color: var(--sklearn-color-unfitted-level-2);\n",
       "}\n",
       "\n",
       "#sk-container-id-2 div.sk-estimator.fitted input.sk-toggleable__control:checked~label.sk-toggleable__label {\n",
       "  /* fitted */\n",
       "  background-color: var(--sklearn-color-fitted-level-2);\n",
       "}\n",
       "\n",
       "#sk-container-id-2 div.sk-label label.sk-toggleable__label,\n",
       "#sk-container-id-2 div.sk-label label {\n",
       "  /* The background is the default theme color */\n",
       "  color: var(--sklearn-color-text-on-default-background);\n",
       "}\n",
       "\n",
       "/* On hover, darken the color of the background */\n",
       "#sk-container-id-2 div.sk-label:hover label.sk-toggleable__label {\n",
       "  color: var(--sklearn-color-text);\n",
       "  background-color: var(--sklearn-color-unfitted-level-2);\n",
       "}\n",
       "\n",
       "/* Label box, darken color on hover, fitted */\n",
       "#sk-container-id-2 div.sk-label.fitted:hover label.sk-toggleable__label.fitted {\n",
       "  color: var(--sklearn-color-text);\n",
       "  background-color: var(--sklearn-color-fitted-level-2);\n",
       "}\n",
       "\n",
       "/* Estimator label */\n",
       "\n",
       "#sk-container-id-2 div.sk-label label {\n",
       "  font-family: monospace;\n",
       "  font-weight: bold;\n",
       "  display: inline-block;\n",
       "  line-height: 1.2em;\n",
       "}\n",
       "\n",
       "#sk-container-id-2 div.sk-label-container {\n",
       "  text-align: center;\n",
       "}\n",
       "\n",
       "/* Estimator-specific */\n",
       "#sk-container-id-2 div.sk-estimator {\n",
       "  font-family: monospace;\n",
       "  border: 1px dotted var(--sklearn-color-border-box);\n",
       "  border-radius: 0.25em;\n",
       "  box-sizing: border-box;\n",
       "  margin-bottom: 0.5em;\n",
       "  /* unfitted */\n",
       "  background-color: var(--sklearn-color-unfitted-level-0);\n",
       "}\n",
       "\n",
       "#sk-container-id-2 div.sk-estimator.fitted {\n",
       "  /* fitted */\n",
       "  background-color: var(--sklearn-color-fitted-level-0);\n",
       "}\n",
       "\n",
       "/* on hover */\n",
       "#sk-container-id-2 div.sk-estimator:hover {\n",
       "  /* unfitted */\n",
       "  background-color: var(--sklearn-color-unfitted-level-2);\n",
       "}\n",
       "\n",
       "#sk-container-id-2 div.sk-estimator.fitted:hover {\n",
       "  /* fitted */\n",
       "  background-color: var(--sklearn-color-fitted-level-2);\n",
       "}\n",
       "\n",
       "/* Specification for estimator info (e.g. \"i\" and \"?\") */\n",
       "\n",
       "/* Common style for \"i\" and \"?\" */\n",
       "\n",
       ".sk-estimator-doc-link,\n",
       "a:link.sk-estimator-doc-link,\n",
       "a:visited.sk-estimator-doc-link {\n",
       "  float: right;\n",
       "  font-size: smaller;\n",
       "  line-height: 1em;\n",
       "  font-family: monospace;\n",
       "  background-color: var(--sklearn-color-background);\n",
       "  border-radius: 1em;\n",
       "  height: 1em;\n",
       "  width: 1em;\n",
       "  text-decoration: none !important;\n",
       "  margin-left: 0.5em;\n",
       "  text-align: center;\n",
       "  /* unfitted */\n",
       "  border: var(--sklearn-color-unfitted-level-1) 1pt solid;\n",
       "  color: var(--sklearn-color-unfitted-level-1);\n",
       "}\n",
       "\n",
       ".sk-estimator-doc-link.fitted,\n",
       "a:link.sk-estimator-doc-link.fitted,\n",
       "a:visited.sk-estimator-doc-link.fitted {\n",
       "  /* fitted */\n",
       "  border: var(--sklearn-color-fitted-level-1) 1pt solid;\n",
       "  color: var(--sklearn-color-fitted-level-1);\n",
       "}\n",
       "\n",
       "/* On hover */\n",
       "div.sk-estimator:hover .sk-estimator-doc-link:hover,\n",
       ".sk-estimator-doc-link:hover,\n",
       "div.sk-label-container:hover .sk-estimator-doc-link:hover,\n",
       ".sk-estimator-doc-link:hover {\n",
       "  /* unfitted */\n",
       "  background-color: var(--sklearn-color-unfitted-level-3);\n",
       "  color: var(--sklearn-color-background);\n",
       "  text-decoration: none;\n",
       "}\n",
       "\n",
       "div.sk-estimator.fitted:hover .sk-estimator-doc-link.fitted:hover,\n",
       ".sk-estimator-doc-link.fitted:hover,\n",
       "div.sk-label-container:hover .sk-estimator-doc-link.fitted:hover,\n",
       ".sk-estimator-doc-link.fitted:hover {\n",
       "  /* fitted */\n",
       "  background-color: var(--sklearn-color-fitted-level-3);\n",
       "  color: var(--sklearn-color-background);\n",
       "  text-decoration: none;\n",
       "}\n",
       "\n",
       "/* Span, style for the box shown on hovering the info icon */\n",
       ".sk-estimator-doc-link span {\n",
       "  display: none;\n",
       "  z-index: 9999;\n",
       "  position: relative;\n",
       "  font-weight: normal;\n",
       "  right: .2ex;\n",
       "  padding: .5ex;\n",
       "  margin: .5ex;\n",
       "  width: min-content;\n",
       "  min-width: 20ex;\n",
       "  max-width: 50ex;\n",
       "  color: var(--sklearn-color-text);\n",
       "  box-shadow: 2pt 2pt 4pt #999;\n",
       "  /* unfitted */\n",
       "  background: var(--sklearn-color-unfitted-level-0);\n",
       "  border: .5pt solid var(--sklearn-color-unfitted-level-3);\n",
       "}\n",
       "\n",
       ".sk-estimator-doc-link.fitted span {\n",
       "  /* fitted */\n",
       "  background: var(--sklearn-color-fitted-level-0);\n",
       "  border: var(--sklearn-color-fitted-level-3);\n",
       "}\n",
       "\n",
       ".sk-estimator-doc-link:hover span {\n",
       "  display: block;\n",
       "}\n",
       "\n",
       "/* \"?\"-specific style due to the `<a>` HTML tag */\n",
       "\n",
       "#sk-container-id-2 a.estimator_doc_link {\n",
       "  float: right;\n",
       "  font-size: 1rem;\n",
       "  line-height: 1em;\n",
       "  font-family: monospace;\n",
       "  background-color: var(--sklearn-color-background);\n",
       "  border-radius: 1rem;\n",
       "  height: 1rem;\n",
       "  width: 1rem;\n",
       "  text-decoration: none;\n",
       "  /* unfitted */\n",
       "  color: var(--sklearn-color-unfitted-level-1);\n",
       "  border: var(--sklearn-color-unfitted-level-1) 1pt solid;\n",
       "}\n",
       "\n",
       "#sk-container-id-2 a.estimator_doc_link.fitted {\n",
       "  /* fitted */\n",
       "  border: var(--sklearn-color-fitted-level-1) 1pt solid;\n",
       "  color: var(--sklearn-color-fitted-level-1);\n",
       "}\n",
       "\n",
       "/* On hover */\n",
       "#sk-container-id-2 a.estimator_doc_link:hover {\n",
       "  /* unfitted */\n",
       "  background-color: var(--sklearn-color-unfitted-level-3);\n",
       "  color: var(--sklearn-color-background);\n",
       "  text-decoration: none;\n",
       "}\n",
       "\n",
       "#sk-container-id-2 a.estimator_doc_link.fitted:hover {\n",
       "  /* fitted */\n",
       "  background-color: var(--sklearn-color-fitted-level-3);\n",
       "}\n",
       "</style><div id=\"sk-container-id-2\" class=\"sk-top-container\"><div class=\"sk-text-repr-fallback\"><pre>LinearRegression()</pre><b>In a Jupyter environment, please rerun this cell to show the HTML representation or trust the notebook. <br />On GitHub, the HTML representation is unable to render, please try loading this page with nbviewer.org.</b></div><div class=\"sk-container\" hidden><div class=\"sk-item\"><div class=\"sk-estimator fitted sk-toggleable\"><input class=\"sk-toggleable__control sk-hidden--visually\" id=\"sk-estimator-id-2\" type=\"checkbox\" checked><label for=\"sk-estimator-id-2\" class=\"sk-toggleable__label fitted sk-toggleable__label-arrow\"><div><div>LinearRegression</div></div><div><a class=\"sk-estimator-doc-link fitted\" rel=\"noreferrer\" target=\"_blank\" href=\"https://scikit-learn.org/1.6/modules/generated/sklearn.linear_model.LinearRegression.html\">?<span>Documentation for LinearRegression</span></a><span class=\"sk-estimator-doc-link fitted\">i<span>Fitted</span></span></div></label><div class=\"sk-toggleable__content fitted\"><pre>LinearRegression()</pre></div> </div></div></div></div>"
      ],
      "text/plain": [
       "LinearRegression()"
      ]
     },
     "execution_count": 43,
     "metadata": {},
     "output_type": "execute_result"
    }
   ],
   "source": [
    "lr = LinearRegression()\n",
    "lr.fit(X_train_trans, y_train)"
   ]
  },
  {
   "cell_type": "code",
   "execution_count": 44,
   "id": "f3a47b4d",
   "metadata": {},
   "outputs": [
    {
     "data": {
      "text/plain": [
       "(40, 1)"
      ]
     },
     "execution_count": 44,
     "metadata": {},
     "output_type": "execute_result"
    }
   ],
   "source": [
    "y_pred = lr.predict(X_test_trans)\n",
    "y_pred.shape"
   ]
  },
  {
   "cell_type": "code",
   "execution_count": 45,
   "id": "52309428",
   "metadata": {},
   "outputs": [
    {
     "data": {
      "text/plain": [
       "0.9902292187950676"
      ]
     },
     "execution_count": 45,
     "metadata": {},
     "output_type": "execute_result"
    }
   ],
   "source": [
    "r2_score(y_test, y_pred)"
   ]
  },
  {
   "cell_type": "code",
   "execution_count": 46,
   "id": "69d65d86",
   "metadata": {},
   "outputs": [
    {
     "name": "stdout",
     "output_type": "stream",
     "text": [
      "[[0.         0.89598419 0.8088605 ]] [2.49311495]\n"
     ]
    }
   ],
   "source": [
    "# now the see the m and b\n",
    "print(lr.coef_, lr.intercept_)"
   ]
  },
  {
   "cell_type": "code",
   "execution_count": null,
   "id": "bc5baaae",
   "metadata": {},
   "outputs": [],
   "source": [
    "X_new=np.linspace(-3, 3, 200).reshape(200, 1)\n",
    "X_new_poly = poly.transform(X_new)\n",
    "y_new = lr.predict(X_new_poly)"
   ]
  },
  {
   "cell_type": "code",
   "execution_count": 48,
   "id": "f83a5aa5",
   "metadata": {},
   "outputs": [
    {
     "data": {
      "image/png": "[encoded data removed]",
      "text/plain": [
       "<Figure size 640x480 with 1 Axes>"
      ]
     },
     "metadata": {},
     "output_type": "display_data"
    }
   ],
   "source": [
    "plt.plot(X_new, y_new, \"r-\", linewidth=2, label=\"Predictions\")\n",
    "plt.plot(X_train, y_train, \"b.\",label='Training points')\n",
    "plt.plot(X_test, y_test, \"g.\",label='Testing points')\n",
    "plt.xlabel(\"X\")\n",
    "plt.ylabel(\"y\")\n",
    "plt.legend()\n",
    "plt.show()"
   ]
  },
  {
   "cell_type": "markdown",
   "id": "b1370fbf",
   "metadata": {},
   "source": [
    "# Make function"
   ]
  },
  {
   "cell_type": "code",
   "execution_count": 50,
   "id": "5f0c7b71",
   "metadata": {},
   "outputs": [],
   "source": [
    "def polynomial_regression(degree):\n",
    "    \n",
    "    # Create a new points\n",
    "    X_new=np.linspace(-3, 3, 100).reshape(100, 1)\n",
    "    X_new_poly = poly.transform(X_new)\n",
    "\n",
    "    # Apply Algorithm\n",
    "    polybig_features = PolynomialFeatures(degree=degree, include_bias=False)\n",
    "    std_scaler = StandardScaler()\n",
    "    lin_reg = LinearRegression()\n",
    "    polynomial_regression = Pipeline([\n",
    "            (\"poly_features\", polybig_features),\n",
    "            (\"std_scaler\", std_scaler),\n",
    "            (\"lin_reg\", lin_reg),\n",
    "        ])\n",
    "    polynomial_regression.fit(X, y)\n",
    "    y_newbig = polynomial_regression.predict(X_new)\n",
    "    plt.plot(X_new, y_newbig,'r', label=\"Degree \" + str(degree), linewidth=2)\n",
    "\n",
    "    # Plot the Graph\n",
    "    plt.plot(X_train, y_train, \"b.\", linewidth=3)\n",
    "    plt.plot(X_test, y_test, \"g.\", linewidth=3)\n",
    "    plt.legend(loc=\"upper left\")\n",
    "    plt.xlabel(\"X\")\n",
    "    plt.ylabel(\"y\")\n",
    "    plt.axis([-3, 3, 0, 10])\n",
    "    plt.show()"
   ]
  },
  {
   "cell_type": "code",
   "execution_count": 53,
   "id": "ad03fb54",
   "metadata": {},
   "outputs": [
    {
     "data": {
      "image/png": "[encoded data removed]",
      "text/plain": [
       "<Figure size 640x480 with 1 Axes>"
      ]
     },
     "metadata": {},
     "output_type": "display_data"
    }
   ],
   "source": [
    "polynomial_regression(5)"
   ]
  },
  {
   "cell_type": "code",
   "execution_count": 54,
   "id": "a66f4871",
   "metadata": {},
   "outputs": [
    {
     "data": {
      "image/png": "[encoded data removed]",
      "text/plain": [
       "<Figure size 640x480 with 1 Axes>"
      ]
     },
     "metadata": {},
     "output_type": "display_data"
    }
   ],
   "source": [
    "polynomial_regression(50)"
   ]
  },
  {
   "cell_type": "code",
   "execution_count": null,
   "id": "20caf630",
   "metadata": {},
   "outputs": [
    {
     "data": {
      "image/png": "[encoded data removed]",
      "text/plain": [
       "<Figure size 640x480 with 1 Axes>"
      ]
     },
     "metadata": {},
     "output_type": "display_data"
    }
   ],
   "source": [
    "# over fitting \n",
    "polynomial_regression(200)"
   ]
  },
  {
   "cell_type": "code",
   "execution_count": null,
   "id": "7c760d50",
   "metadata": {},
   "outputs": [
    {
     "data": {
      "text/plain": [
       "array([[0],\n",
       "       [1],\n",
       "       [2]])"
      ]
     },
     "execution_count": 58,
     "metadata": {},
     "output_type": "execute_result"
    }
   ],
   "source": [
    "# power of the function\n",
    "poly.powers_"
   ]
  },
  {
   "cell_type": "markdown",
   "id": "d5784b63",
   "metadata": {},
   "source": [
    "# Apply the Gradient Descent"
   ]
  },
  {
   "cell_type": "code",
   "execution_count": 66,
   "id": "0d1fe0aa",
   "metadata": {},
   "outputs": [
    {
     "name": "stderr",
     "output_type": "stream",
     "text": [
      "c:\\Users\\Rudra\\AppData\\Local\\Programs\\Python\\Python312\\Lib\\site-packages\\sklearn\\utils\\validation.py:1408: DataConversionWarning:\n",
      "\n",
      "A column-vector y was passed when a 1d array was expected. Please change the shape of y to (n_samples, ), for example using ravel().\n",
      "\n"
     ]
    },
    {
     "data": {
      "image/png": "[encoded data removed]",
      "text/plain": [
       "<Figure size 640x480 with 1 Axes>"
      ]
     },
     "metadata": {},
     "output_type": "display_data"
    }
   ],
   "source": [
    "poly = PolynomialFeatures(degree=2)\n",
    "\n",
    "X_train_trans = poly.fit_transform(X_train)\n",
    "X_test_trans = poly.transform(X_test)\n",
    "\n",
    "sgd = SGDRegressor(max_iter=100)\n",
    "sgd.fit(X_train_trans,y_train)\n",
    "\n",
    "X_new=np.linspace(-2.9, 2.8, 200).reshape(200, 1)\n",
    "X_new_poly = poly.transform(X_new)\n",
    "y_new = sgd.predict(X_new_poly)\n",
    "\n",
    "y_pred = sgd.predict(X_test_trans)\n",
    "\n",
    "plt.plot(X_new, y_new, \"r-\", linewidth=2, label=\"Predictions \" + str(round(r2_score(y_test,y_pred),2)))\n",
    "plt.plot(X_train, y_train, \"b.\",label='Training points')\n",
    "plt.plot(X_test, y_test, \"g.\",label='Testing points')\n",
    "plt.xlabel(\"X\")\n",
    "plt.ylabel(\"y\")\n",
    "plt.legend()\n",
    "plt.show()"
   ]
  },
  {
   "cell_type": "markdown",
   "id": "a65c6921",
   "metadata": {},
   "source": [
    "# Now Create the 3D data"
   ]
  },
  {
   "cell_type": "code",
   "execution_count": 68,
   "id": "3fe1b4b9",
   "metadata": {},
   "outputs": [],
   "source": [
    "# 3D polynomial regression\n",
    "x = 7 * np.random.rand(100, 1) - 2.8\n",
    "y = 7 * np.random.rand(100, 1) - 2.8\n",
    "\n",
    "z = x**2 + y**2 + 0.2*x + 0.2*y + 0.1*x*y +2 + np.random.randn(100, 1)\n",
    "# z = x^2 + y^2 + 0.2x + 0.2y + 0.1xy + 2"
   ]
  },
  {
   "cell_type": "markdown",
   "id": "b2545884",
   "metadata": {},
   "source": [
    "## See the data"
   ]
  },
  {
   "cell_type": "code",
   "execution_count": 71,
   "id": "50461a5d",
   "metadata": {},
   "outputs": [
    {
     "data": {
      "application/vnd.plotly.v1+json": {
       "config": {
        "plotlyServerURL": "https://plot.ly"
       },
       "data": [
        {
         "hovertemplate": "x=%{x}<br>y=%{y}<br>z=%{z}<extra></extra>",
         "legendgroup": "",
         "marker": {
          "color": "#636efa",
          "symbol": "circle"
         },
         "mode": "markers",
         "name": "",
         "scene": "scene",
         "showlegend": false,
         "type": "scatter3d",
         "x": {
          "bdata": "36/CwvYjEEBGCYHYn2YIQLKo3FdRqAhAjvAvs9meDED6cMqALocAwHBaegrgwtM/Uncptwy7AEDmwuo665cAwM8XlwxXiP2/kJoezK7izL/kbRTGKgcOQGVR7T93jRBAbLi1baKzD0CI3491nkbrv+DqbISG4Pw/eonIdBwW+b+m6TgrCkT2v6SwpLQ3pAXAqI/fJ/GM1j8E6hOGh70MQPoWJv0rKgBAVOkWpdz3778egfphfU4EwCl8RHtEcALAADKOX7JSAEDt1Q0m20gDwJwLjzQAgQdAnC1cQs+EA0AwMFHxIJ7uP8CVaT5vAvQ/yhkFsldyC0DqNLElFTkDQAQFcRMVj+e/9h0vGOC3AsDcDu/Zns34PxDlAAnISgBAWJXnsLgpDkA2bfaKNygDwFodKUg+jgpAKk5fHVg68T9gsTu9fHDZv0yZR0naUglApCoPV8S287+IM/tmva/+P5TBXQx6y/k/WBTvnwLH9D8K/s66XswPQPA6S1x/5/U/0OAbSeQ+6L8jP8KpQ1EQQMaK1WmJOAlAJvnG2vaRDEAkAyjprusCQEA6Ml/dqq2/WanguuLmA8Ar8P5nUHkCwB3U1eZwbPG/8CjLStM+/D+ApTE5Bg8BwAD0m5bUTIY/gL5kWB/ErL+sSB+cBOrpP567f70pCAHAwBG3TEb36D8kLZHi3vf+vyhKy7zoewdAICWHdN9GxD+SgG/sCXn6v3zfL2Wz8/Y/OBoS7/+c5r+hZ2ZkQLEDwDyWtLHyEA1A0IsWtbGk1z/kTpe2OVv5P9v2eyB9cxBAzthWHtOHC0Beo+x3AgX3v0w6X1TuuPM/clrK62zZDUAuj6DAQG0JQDjpDOydCQNAOCWk6I5T/T8IG47it/ntP67ZRgJVGwRAuGLS8+Xu9L9cHkU42Nz6P1zxW3dUgQHAMJdvAkTQ+7+W3MdZd6kDQAwsQ1koYghAHiVq2v0+87+QE+HZwjMDwJi+q8iRBOQ/8HS+iqdWAEBG/vztdw0JQGicUNB7c9Y/EOe6lqGW47+EouhWdBD/P26l2FVmi/y/hB49OCwAAUA=",
          "dtype": "f8"
         },
         "y": {
          "bdata": "Q6bcUxKk/L+EdRYLqP/5P+cVMaKDVBBA0AJFAE1s+L9v9YM2aO4FwNKrdTkfxA1AqEkyngnuCEAQ9vhGAL73PwAejyWR3+o/ZFO36WB/C0As/Fh4v5IFQHxzdhzVY+e/9r+cxpCO8D/s9b/r8nH1P2oiCc2lrARAMAlGGSPg3j/gR/9ByF/Dv4B1vorhXew/0KdgY+XGAcCcRukMuoQIQKBhfW/Lbui/uEUYeF0H47+se57T/7HzPx6ovA/PAAFAnAV+ag0N/T+kR1Udy1X+P9AUX64XffY/stNPRvcYBMA2lB8+7bPyPyhFm3Y5KuS/eF9zKqNW/j9I+ywfxj/ZvyQ7O/RzUPk/NrH0a8XZ8b8M0hL11pIKQODiJEK3//G/WGSkamXT+T9KP58MWeUKQN7H9z6NIAxAUJn+GFKz1z/xE/nJzHcBwN6CHlEKbPK/WjWl5m1IA0Ds+FxPU9wCwPDverMSOg1AwFDXXnpnsb82ChS1a9r+v+L93f2gwADA/nVdBWlqCkAAMdWLlMq5v5q84+7iFg1Ayh32w/wqDECAfGSmncjlP01l9LA/TwDAtqgrwo6N/7/nU7+z88cCwDSATBa3LuA/sYcjO06W9b+kEDhvovn2vwC9iIebWpc/LpPU3vUfBkA45J3cLCLfvyha3dhowP8/MhpQHQ+SC0CcPW3x0FULQFaUWImoPAZAKIREu5E91T/s2jk2T2gIQNDhY6LGpwpA4Ph15wi7B0Bw1BFokQoFwMTIvdAoo/Y/hOTcaCs/5T/87CDaJbH7P+aOYMBhrfE/eO/pFd+x/D9Qa2v2RuDgP/HpgO0hZQHA8JjV8pWo8T/uMr/xS6bwP9pWOdunz/G/aCnzZ/NrBcD+uvSCOPoCQKqyEd/Es/+/aKymK8kGB0AmQmstD/sFQDjnXNRMXdU/AMZF2p1tjj8cu9xNwO4KQOaDSV4k8Pm/YLHyGcjbBkDQRePeMb7mP0Rttf91xgRAjfNeMFT+BMCgythmv+3WP4SAMGAZTv6/MJx6FZznDUCgDLDoP2/TP0RIYxQxDPu/0IO7elgyDEA=",
          "dtype": "f8"
         },
         "z": {
          "bdata": "HRHwf5QdNUAkfsPNhP4wQGz7zZEAGkBARhSORByQMECyLBo17sErQKR3HkrZ/zBAwejAGvgXMkDxUSg7PI8gQLU5+SyVqhpA1NQUJcejKUA1fo2PzG05QDbwEj+aeTVASpGPQmiZNEAYS/FUxlYVQJtWncl5PypAT5yshqCHFUAoff/+ybYSQMjvvGm/QCJArWQVecirE0AxbVgIQNA5QI6MC/BepBtA/v8FNcQzEEDpL0oDA10jQINl8JD5eShAO8tJGIuiJUCNLrUZzsUmQMH8MYd9yytAwEjbf/hgKUAtWGgnoRgYQJRI0/nZWg1AOQEwPs4ZM0BDzrpR/HMhQNhL3aqi7BNAH39Qp3PmIEAOQhTCmAstQDuvw9jkxR5AnnSz/LvbNEANJE7/hNszQMdHNki8xz1AjfUBQgMUFUDqUMOIFvwcQKNsQGzu7ShAUUTMJKpVI0AqB2HXVGEpQCYeToo5NzNAd/IUrOUEFEDjSnlrr3Y2QC6wxLerHRtAp/0KtjmBLkC3CJ3O0+cyQPtluMRNBTpAFmCK1DcFPUC40+8yw1ckQJjl+slRsRdAjHJdLteuKkBzcib6Uh0rQLA/KlRpWQ9AEWMr238pG0D0+rj0V10jQACeA9dKFgRAjaJZZ6X4IkCLMq8In6IGQMLVpIr3YyVAxkWsyJluLkDl2dSeppYxQA7QPIAdSDRAtQdMjJD3/z8OtGLzvggsQP7isfOZ+C1A7ftwARB3JUDX+6mgXLEtQHjVob1zwjJAK0+u9YE++D+3PnTj/WojQPCb0XB7PTVAzk2hO6zaM0DYdhimaZkSQCop8OxzlRxAlgIPBKeeMkAGj7YJYTkuQA5hXtqTmyNAX/V+hU7VKUBeZa7VaS4jQKIpeFQGcSVA1SiJc2tjKEAey05jfjssQPrvCG8m5RxAvN4XAjL3FEA+wOftmdg0QJ9LX03snSpAyu5tjJceKUCrWWt9mlghQDQ6fkEq3CNAhOtNiMdsK0DCVPA9cdAoQMYNMNowgR1AMFskj+p9MECDEUJQvhIVQNGhuSga/xxAS4cdQoPxNEA=",
          "dtype": "f8"
         }
        }
       ],
       "layout": {
        "legend": {
         "tracegroupgap": 0
        },
        "margin": {
         "t": 60
        },
        "scene": {
         "domain": {
          "x": [
           0,
           1
          ],
          "y": [
           0,
           1
          ]
         },
         "xaxis": {
          "title": {
           "text": "x"
          }
         },
         "yaxis": {
          "title": {
           "text": "y"
          }
         },
         "zaxis": {
          "title": {
           "text": "z"
          }
         }
        },
        "template": {
         "data": {
          "bar": [
           {
            "error_x": {
             "color": "#2a3f5f"
            },
            "error_y": {
             "color": "#2a3f5f"
            },
            "marker": {
             "line": {
              "color": "#E5ECF6",
              "width": 0.5
             },
             "pattern": {
              "fillmode": "overlay",
              "size": 10,
              "solidity": 0.2
             }
            },
            "type": "bar"
           }
          ],
          "barpolar": [
           {
            "marker": {
             "line": {
              "color": "#E5ECF6",
              "width": 0.5
             },
             "pattern": {
              "fillmode": "overlay",
              "size": 10,
              "solidity": 0.2
             }
            },
            "type": "barpolar"
           }
          ],
          "carpet": [
           {
            "aaxis": {
             "endlinecolor": "#2a3f5f",
             "gridcolor": "white",
             "linecolor": "white",
             "minorgridcolor": "white",
             "startlinecolor": "#2a3f5f"
            },
            "baxis": {
             "endlinecolor": "#2a3f5f",
             "gridcolor": "white",
             "linecolor": "white",
             "minorgridcolor": "white",
             "startlinecolor": "#2a3f5f"
            },
            "type": "carpet"
           }
          ],
          "choropleth": [
           {
            "colorbar": {
             "outlinewidth": 0,
             "ticks": ""
            },
            "type": "choropleth"
           }
          ],
          "contour": [
           {
            "colorbar": {
             "outlinewidth": 0,
             "ticks": ""
            },
            "colorscale": [
             [
              0,
              "#0d0887"
             ],
             [
              0.1111111111111111,
              "#46039f"
             ],
             [
              0.2222222222222222,
              "#7201a8"
             ],
             [
              0.3333333333333333,
              "#9c179e"
             ],
             [
              0.4444444444444444,
              "#bd3786"
             ],
             [
              0.5555555555555556,
              "#d8576b"
             ],
             [
              0.6666666666666666,
              "#ed7953"
             ],
             [
              0.7777777777777778,
              "#fb9f3a"
             ],
             [
              0.8888888888888888,
              "#fdca26"
             ],
             [
              1,
              "#f0f921"
             ]
            ],
            "type": "contour"
           }
          ],
          "contourcarpet": [
           {
            "colorbar": {
             "outlinewidth": 0,
             "ticks": ""
            },
            "type": "contourcarpet"
           }
          ],
          "heatmap": [
           {
            "colorbar": {
             "outlinewidth": 0,
             "ticks": ""
            },
            "colorscale": [
             [
              0,
              "#0d0887"
             ],
             [
              0.1111111111111111,
              "#46039f"
             ],
             [
              0.2222222222222222,
              "#7201a8"
             ],
             [
              0.3333333333333333,
              "#9c179e"
             ],
             [
              0.4444444444444444,
              "#bd3786"
             ],
             [
              0.5555555555555556,
              "#d8576b"
             ],
             [
              0.6666666666666666,
              "#ed7953"
             ],
             [
              0.7777777777777778,
              "#fb9f3a"
             ],
             [
              0.8888888888888888,
              "#fdca26"
             ],
             [
              1,
              "#f0f921"
             ]
            ],
            "type": "heatmap"
           }
          ],
          "histogram": [
           {
            "marker": {
             "pattern": {
              "fillmode": "overlay",
              "size": 10,
              "solidity": 0.2
             }
            },
            "type": "histogram"
           }
          ],
          "histogram2d": [
           {
            "colorbar": {
             "outlinewidth": 0,
             "ticks": ""
            },
            "colorscale": [
             [
              0,
              "#0d0887"
             ],
             [
              0.1111111111111111,
              "#46039f"
             ],
             [
              0.2222222222222222,
              "#7201a8"
             ],
             [
              0.3333333333333333,
              "#9c179e"
             ],
             [
              0.4444444444444444,
              "#bd3786"
             ],
             [
              0.5555555555555556,
              "#d8576b"
             ],
             [
              0.6666666666666666,
              "#ed7953"
             ],
             [
              0.7777777777777778,
              "#fb9f3a"
             ],
             [
              0.8888888888888888,
              "#fdca26"
             ],
             [
              1,
              "#f0f921"
             ]
            ],
            "type": "histogram2d"
           }
          ],
          "histogram2dcontour": [
           {
            "colorbar": {
             "outlinewidth": 0,
             "ticks": ""
            },
            "colorscale": [
             [
              0,
              "#0d0887"
             ],
             [
              0.1111111111111111,
              "#46039f"
             ],
             [
              0.2222222222222222,
              "#7201a8"
             ],
             [
              0.3333333333333333,
              "#9c179e"
             ],
             [
              0.4444444444444444,
              "#bd3786"
             ],
             [
              0.5555555555555556,
              "#d8576b"
             ],
             [
              0.6666666666666666,
              "#ed7953"
             ],
             [
              0.7777777777777778,
              "#fb9f3a"
             ],
             [
              0.8888888888888888,
              "#fdca26"
             ],
             [
              1,
              "#f0f921"
             ]
            ],
            "type": "histogram2dcontour"
           }
          ],
          "mesh3d": [
           {
            "colorbar": {
             "outlinewidth": 0,
             "ticks": ""
            },
            "type": "mesh3d"
           }
          ],
          "parcoords": [
           {
            "line": {
             "colorbar": {
              "outlinewidth": 0,
              "ticks": ""
             }
            },
            "type": "parcoords"
           }
          ],
          "pie": [
           {
            "automargin": true,
            "type": "pie"
           }
          ],
          "scatter": [
           {
            "fillpattern": {
             "fillmode": "overlay",
             "size": 10,
             "solidity": 0.2
            },
            "type": "scatter"
           }
          ],
          "scatter3d": [
           {
            "line": {
             "colorbar": {
              "outlinewidth": 0,
              "ticks": ""
             }
            },
            "marker": {
             "colorbar": {
              "outlinewidth": 0,
              "ticks": ""
             }
            },
            "type": "scatter3d"
           }
          ],
          "scattercarpet": [
           {
            "marker": {
             "colorbar": {
              "outlinewidth": 0,
              "ticks": ""
             }
            },
            "type": "scattercarpet"
           }
          ],
          "scattergeo": [
           {
            "marker": {
             "colorbar": {
              "outlinewidth": 0,
              "ticks": ""
             }
            },
            "type": "scattergeo"
           }
          ],
          "scattergl": [
           {
            "marker": {
             "colorbar": {
              "outlinewidth": 0,
              "ticks": ""
             }
            },
            "type": "scattergl"
           }
          ],
          "scattermap": [
           {
            "marker": {
             "colorbar": {
              "outlinewidth": 0,
              "ticks": ""
             }
            },
            "type": "scattermap"
           }
          ],
          "scattermapbox": [
           {
            "marker": {
             "colorbar": {
              "outlinewidth": 0,
              "ticks": ""
             }
            },
            "type": "scattermapbox"
           }
          ],
          "scatterpolar": [
           {
            "marker": {
             "colorbar": {
              "outlinewidth": 0,
              "ticks": ""
             }
            },
            "type": "scatterpolar"
           }
          ],
          "scatterpolargl": [
           {
            "marker": {
             "colorbar": {
              "outlinewidth": 0,
              "ticks": ""
             }
            },
            "type": "scatterpolargl"
           }
          ],
          "scatterternary": [
           {
            "marker": {
             "colorbar": {
              "outlinewidth": 0,
              "ticks": ""
             }
            },
            "type": "scatterternary"
           }
          ],
          "surface": [
           {
            "colorbar": {
             "outlinewidth": 0,
             "ticks": ""
            },
            "colorscale": [
             [
              0,
              "#0d0887"
             ],
             [
              0.1111111111111111,
              "#46039f"
             ],
             [
              0.2222222222222222,
              "#7201a8"
             ],
             [
              0.3333333333333333,
              "#9c179e"
             ],
             [
              0.4444444444444444,
              "#bd3786"
             ],
             [
              0.5555555555555556,
              "#d8576b"
             ],
             [
              0.6666666666666666,
              "#ed7953"
             ],
             [
              0.7777777777777778,
              "#fb9f3a"
             ],
             [
              0.8888888888888888,
              "#fdca26"
             ],
             [
              1,
              "#f0f921"
             ]
            ],
            "type": "surface"
           }
          ],
          "table": [
           {
            "cells": {
             "fill": {
              "color": "#EBF0F8"
             },
             "line": {
              "color": "white"
             }
            },
            "header": {
             "fill": {
              "color": "#C8D4E3"
             },
             "line": {
              "color": "white"
             }
            },
            "type": "table"
           }
          ]
         },
         "layout": {
          "annotationdefaults": {
           "arrowcolor": "#2a3f5f",
           "arrowhead": 0,
           "arrowwidth": 1
          },
          "autotypenumbers": "strict",
          "coloraxis": {
           "colorbar": {
            "outlinewidth": 0,
            "ticks": ""
           }
          },
          "colorscale": {
           "diverging": [
            [
             0,
             "#8e0152"
            ],
            [
             0.1,
             "#c51b7d"
            ],
            [
             0.2,
             "#de77ae"
            ],
            [
             0.3,
             "#f1b6da"
            ],
            [
             0.4,
             "#fde0ef"
            ],
            [
             0.5,
             "#f7f7f7"
            ],
            [
             0.6,
             "#e6f5d0"
            ],
            [
             0.7,
             "#b8e186"
            ],
            [
             0.8,
             "#7fbc41"
            ],
            [
             0.9,
             "#4d9221"
            ],
            [
             1,
             "#276419"
            ]
           ],
           "sequential": [
            [
             0,
             "#0d0887"
            ],
            [
             0.1111111111111111,
             "#46039f"
            ],
            [
             0.2222222222222222,
             "#7201a8"
            ],
            [
             0.3333333333333333,
             "#9c179e"
            ],
            [
             0.4444444444444444,
             "#bd3786"
            ],
            [
             0.5555555555555556,
             "#d8576b"
            ],
            [
             0.6666666666666666,
             "#ed7953"
            ],
            [
             0.7777777777777778,
             "#fb9f3a"
            ],
            [
             0.8888888888888888,
             "#fdca26"
            ],
            [
             1,
             "#f0f921"
            ]
           ],
           "sequentialminus": [
            [
             0,
             "#0d0887"
            ],
            [
             0.1111111111111111,
             "#46039f"
            ],
            [
             0.2222222222222222,
             "#7201a8"
            ],
            [
             0.3333333333333333,
             "#9c179e"
            ],
            [
             0.4444444444444444,
             "#bd3786"
            ],
            [
             0.5555555555555556,
             "#d8576b"
            ],
            [
             0.6666666666666666,
             "#ed7953"
            ],
            [
             0.7777777777777778,
             "#fb9f3a"
            ],
            [
             0.8888888888888888,
             "#fdca26"
            ],
            [
             1,
             "#f0f921"
            ]
           ]
          },
          "colorway": [
           "#636efa",
           "#EF553B",
           "#00cc96",
           "#ab63fa",
           "#FFA15A",
           "#19d3f3",
           "#FF6692",
           "#B6E880",
           "#FF97FF",
           "#FECB52"
          ],
          "font": {
           "color": "#2a3f5f"
          },
          "geo": {
           "bgcolor": "white",
           "lakecolor": "white",
           "landcolor": "#E5ECF6",
           "showlakes": true,
           "showland": true,
           "subunitcolor": "white"
          },
          "hoverlabel": {
           "align": "left"
          },
          "hovermode": "closest",
          "mapbox": {
           "style": "light"
          },
          "paper_bgcolor": "white",
          "plot_bgcolor": "#E5ECF6",
          "polar": {
           "angularaxis": {
            "gridcolor": "white",
            "linecolor": "white",
            "ticks": ""
           },
           "bgcolor": "#E5ECF6",
           "radialaxis": {
            "gridcolor": "white",
            "linecolor": "white",
            "ticks": ""
           }
          },
          "scene": {
           "xaxis": {
            "backgroundcolor": "#E5ECF6",
            "gridcolor": "white",
            "gridwidth": 2,
            "linecolor": "white",
            "showbackground": true,
            "ticks": "",
            "zerolinecolor": "white"
           },
           "yaxis": {
            "backgroundcolor": "#E5ECF6",
            "gridcolor": "white",
            "gridwidth": 2,
            "linecolor": "white",
            "showbackground": true,
            "ticks": "",
            "zerolinecolor": "white"
           },
           "zaxis": {
            "backgroundcolor": "#E5ECF6",
            "gridcolor": "white",
            "gridwidth": 2,
            "linecolor": "white",
            "showbackground": true,
            "ticks": "",
            "zerolinecolor": "white"
           }
          },
          "shapedefaults": {
           "line": {
            "color": "#2a3f5f"
           }
          },
          "ternary": {
           "aaxis": {
            "gridcolor": "white",
            "linecolor": "white",
            "ticks": ""
           },
           "baxis": {
            "gridcolor": "white",
            "linecolor": "white",
            "ticks": ""
           },
           "bgcolor": "#E5ECF6",
           "caxis": {
            "gridcolor": "white",
            "linecolor": "white",
            "ticks": ""
           }
          },
          "title": {
           "x": 0.05
          },
          "xaxis": {
           "automargin": true,
           "gridcolor": "white",
           "linecolor": "white",
           "ticks": "",
           "title": {
            "standoff": 15
           },
           "zerolinecolor": "white",
           "zerolinewidth": 2
          },
          "yaxis": {
           "automargin": true,
           "gridcolor": "white",
           "linecolor": "white",
           "ticks": "",
           "title": {
            "standoff": 15
           },
           "zerolinecolor": "white",
           "zerolinewidth": 2
          }
         }
        }
       }
      }
     },
     "metadata": {},
     "output_type": "display_data"
    }
   ],
   "source": [
    "# import the data then plot\n",
    "df = px.data.iris()\n",
    "\n",
    "fig = px.scatter_3d(\n",
    "    df, x=x.ravel(),\n",
    "    y=y.ravel(),\n",
    "    z=z.ravel())\n",
    "fig.show()"
   ]
  },
  {
   "cell_type": "markdown",
   "id": "b1a0304e",
   "metadata": {},
   "source": [
    "# Before poly apply the algorithm"
   ]
  },
  {
   "cell_type": "code",
   "execution_count": null,
   "id": "e720a354",
   "metadata": {},
   "outputs": [],
   "source": [
    "# Apply the model\n",
    "lr = LinearRegression()\n",
    "lr.fit(np.array([x,y]).reshape(100,2),z)\n",
    "\n",
    "# input columns\n",
    "x_input = np.linspace(x.min(), x.max(), 10)\n",
    "y_input = np.linspace(y.min(), y.max(), 10)\n",
    "xGrid, yGrid = np.meshgrid(x_input,y_input)\n",
    "\n",
    "final = np.vstack((xGrid.ravel().reshape(1,100),yGrid.ravel().reshape(1,100))).T\n",
    "\n",
    "# Prediction plane\n",
    "z_final = lr.predict(final).reshape(10,10)\n",
    "\n"
   ]
  },
  {
   "cell_type": "code",
   "execution_count": 74,
   "id": "9e07b863",
   "metadata": {},
   "outputs": [
    {
     "data": {
      "application/vnd.plotly.v1+json": {
       "config": {
        "plotlyServerURL": "https://plot.ly"
       },
       "data": [
        {
         "hovertemplate": "x=%{x}<br>y=%{y}<br>z=%{z}<extra></extra>",
         "legendgroup": "",
         "marker": {
          "color": "#636efa",
          "symbol": "circle"
         },
         "mode": "markers",
         "name": "",
         "scene": "scene",
         "showlegend": false,
         "type": "scatter3d",
         "x": {
          "bdata": "36/CwvYjEEBGCYHYn2YIQLKo3FdRqAhAjvAvs9meDED6cMqALocAwHBaegrgwtM/Uncptwy7AEDmwuo665cAwM8XlwxXiP2/kJoezK7izL/kbRTGKgcOQGVR7T93jRBAbLi1baKzD0CI3491nkbrv+DqbISG4Pw/eonIdBwW+b+m6TgrCkT2v6SwpLQ3pAXAqI/fJ/GM1j8E6hOGh70MQPoWJv0rKgBAVOkWpdz3778egfphfU4EwCl8RHtEcALAADKOX7JSAEDt1Q0m20gDwJwLjzQAgQdAnC1cQs+EA0AwMFHxIJ7uP8CVaT5vAvQ/yhkFsldyC0DqNLElFTkDQAQFcRMVj+e/9h0vGOC3AsDcDu/Zns34PxDlAAnISgBAWJXnsLgpDkA2bfaKNygDwFodKUg+jgpAKk5fHVg68T9gsTu9fHDZv0yZR0naUglApCoPV8S287+IM/tmva/+P5TBXQx6y/k/WBTvnwLH9D8K/s66XswPQPA6S1x/5/U/0OAbSeQ+6L8jP8KpQ1EQQMaK1WmJOAlAJvnG2vaRDEAkAyjprusCQEA6Ml/dqq2/WanguuLmA8Ar8P5nUHkCwB3U1eZwbPG/8CjLStM+/D+ApTE5Bg8BwAD0m5bUTIY/gL5kWB/ErL+sSB+cBOrpP567f70pCAHAwBG3TEb36D8kLZHi3vf+vyhKy7zoewdAICWHdN9GxD+SgG/sCXn6v3zfL2Wz8/Y/OBoS7/+c5r+hZ2ZkQLEDwDyWtLHyEA1A0IsWtbGk1z/kTpe2OVv5P9v2eyB9cxBAzthWHtOHC0Beo+x3AgX3v0w6X1TuuPM/clrK62zZDUAuj6DAQG0JQDjpDOydCQNAOCWk6I5T/T8IG47it/ntP67ZRgJVGwRAuGLS8+Xu9L9cHkU42Nz6P1zxW3dUgQHAMJdvAkTQ+7+W3MdZd6kDQAwsQ1koYghAHiVq2v0+87+QE+HZwjMDwJi+q8iRBOQ/8HS+iqdWAEBG/vztdw0JQGicUNB7c9Y/EOe6lqGW47+EouhWdBD/P26l2FVmi/y/hB49OCwAAUA=",
          "dtype": "f8"
         },
         "y": {
          "bdata": "Q6bcUxKk/L+EdRYLqP/5P+cVMaKDVBBA0AJFAE1s+L9v9YM2aO4FwNKrdTkfxA1AqEkyngnuCEAQ9vhGAL73PwAejyWR3+o/ZFO36WB/C0As/Fh4v5IFQHxzdhzVY+e/9r+cxpCO8D/s9b/r8nH1P2oiCc2lrARAMAlGGSPg3j/gR/9ByF/Dv4B1vorhXew/0KdgY+XGAcCcRukMuoQIQKBhfW/Lbui/uEUYeF0H47+se57T/7HzPx6ovA/PAAFAnAV+ag0N/T+kR1Udy1X+P9AUX64XffY/stNPRvcYBMA2lB8+7bPyPyhFm3Y5KuS/eF9zKqNW/j9I+ywfxj/ZvyQ7O/RzUPk/NrH0a8XZ8b8M0hL11pIKQODiJEK3//G/WGSkamXT+T9KP58MWeUKQN7H9z6NIAxAUJn+GFKz1z/xE/nJzHcBwN6CHlEKbPK/WjWl5m1IA0Ds+FxPU9wCwPDverMSOg1AwFDXXnpnsb82ChS1a9r+v+L93f2gwADA/nVdBWlqCkAAMdWLlMq5v5q84+7iFg1Ayh32w/wqDECAfGSmncjlP01l9LA/TwDAtqgrwo6N/7/nU7+z88cCwDSATBa3LuA/sYcjO06W9b+kEDhvovn2vwC9iIebWpc/LpPU3vUfBkA45J3cLCLfvyha3dhowP8/MhpQHQ+SC0CcPW3x0FULQFaUWImoPAZAKIREu5E91T/s2jk2T2gIQNDhY6LGpwpA4Ph15wi7B0Bw1BFokQoFwMTIvdAoo/Y/hOTcaCs/5T/87CDaJbH7P+aOYMBhrfE/eO/pFd+x/D9Qa2v2RuDgP/HpgO0hZQHA8JjV8pWo8T/uMr/xS6bwP9pWOdunz/G/aCnzZ/NrBcD+uvSCOPoCQKqyEd/Es/+/aKymK8kGB0AmQmstD/sFQDjnXNRMXdU/AMZF2p1tjj8cu9xNwO4KQOaDSV4k8Pm/YLHyGcjbBkDQRePeMb7mP0Rttf91xgRAjfNeMFT+BMCgythmv+3WP4SAMGAZTv6/MJx6FZznDUCgDLDoP2/TP0RIYxQxDPu/0IO7elgyDEA=",
          "dtype": "f8"
         },
         "z": {
          "bdata": "HRHwf5QdNUAkfsPNhP4wQGz7zZEAGkBARhSORByQMECyLBo17sErQKR3HkrZ/zBAwejAGvgXMkDxUSg7PI8gQLU5+SyVqhpA1NQUJcejKUA1fo2PzG05QDbwEj+aeTVASpGPQmiZNEAYS/FUxlYVQJtWncl5PypAT5yshqCHFUAoff/+ybYSQMjvvGm/QCJArWQVecirE0AxbVgIQNA5QI6MC/BepBtA/v8FNcQzEEDpL0oDA10jQINl8JD5eShAO8tJGIuiJUCNLrUZzsUmQMH8MYd9yytAwEjbf/hgKUAtWGgnoRgYQJRI0/nZWg1AOQEwPs4ZM0BDzrpR/HMhQNhL3aqi7BNAH39Qp3PmIEAOQhTCmAstQDuvw9jkxR5AnnSz/LvbNEANJE7/hNszQMdHNki8xz1AjfUBQgMUFUDqUMOIFvwcQKNsQGzu7ShAUUTMJKpVI0AqB2HXVGEpQCYeToo5NzNAd/IUrOUEFEDjSnlrr3Y2QC6wxLerHRtAp/0KtjmBLkC3CJ3O0+cyQPtluMRNBTpAFmCK1DcFPUC40+8yw1ckQJjl+slRsRdAjHJdLteuKkBzcib6Uh0rQLA/KlRpWQ9AEWMr238pG0D0+rj0V10jQACeA9dKFgRAjaJZZ6X4IkCLMq8In6IGQMLVpIr3YyVAxkWsyJluLkDl2dSeppYxQA7QPIAdSDRAtQdMjJD3/z8OtGLzvggsQP7isfOZ+C1A7ftwARB3JUDX+6mgXLEtQHjVob1zwjJAK0+u9YE++D+3PnTj/WojQPCb0XB7PTVAzk2hO6zaM0DYdhimaZkSQCop8OxzlRxAlgIPBKeeMkAGj7YJYTkuQA5hXtqTmyNAX/V+hU7VKUBeZa7VaS4jQKIpeFQGcSVA1SiJc2tjKEAey05jfjssQPrvCG8m5RxAvN4XAjL3FEA+wOftmdg0QJ9LX03snSpAyu5tjJceKUCrWWt9mlghQDQ6fkEq3CNAhOtNiMdsK0DCVPA9cdAoQMYNMNowgR1AMFskj+p9MECDEUJQvhIVQNGhuSga/xxAS4cdQoPxNEA=",
          "dtype": "f8"
         }
        },
        {
         "type": "surface",
         "x": {
          "bdata": "pLCktDekBcC+Trsk9R3/vzQ8LeB68/K/qKZ8bgIk27+Ao7uj5oXVP2r7fO3zi/E/9A0LMm62/T9AkEw7dPAEQISZk12xBQtAZVHtP3eNEEA=",
          "dtype": "f8"
         },
         "y": {
          "bdata": "b/WDNmjuBcBfHCpuKbv/v+BNTG+CmfO/iP25wW3f3b94PL05LqfSP54dTY1yy/A/GuwqjBnt/D9NXYRFYIcEQI1E88QzmApA5xUxooNUEEA=",
          "dtype": "f8"
         },
         "z": {
          "bdata": "dUwfKT3mKEBq3XvJJRwpQF5u2GkOUilAU/80CveHKUBHkJGq370pQDwh7krI8ylAMLJK67ApKkAlQ6eLmV8qQBnUAyyClSpADmVgzGrLKkCpbLJAEL4oQJ79DuH48yhAko5rgeEpKUCHH8ghyl8pQHuwJMKylSlAcEGBYpvLKUBk0t0ChAEqQFljOqNsNypATfSWQ1VtKkBChfPjPaMqQN2MRVjjlShA0h2i+MvLKEDGrv6YtAEpQLs/WzmdNylAr9C32YVtKUCkYRR6bqMpQJjycBpX2SlAjYPNuj8PKkCBFCpbKEUqQHalhvsQeypAEa3Yb7ZtKEAGPjUQn6MoQPrOkbCH2ShA71/uUHAPKUDj8ErxWEUpQNiBp5FBeylAzBIEMiqxKUDBo2DSEucpQLU0vXL7HCpAqsUZE+RSKkBGzWuHiUUoQDpeyCdyeyhALu8kyFqxKEAjgIFoQ+coQBcR3ggsHSlADKI6qRRTKUAAM5dJ/YgpQPXD8+nlvilA6VRQis70KUDe5awqtyoqQHrt/p5cHShAbn5bP0VTKEBiD7jfLYkoQFegFIAWvyhASzFxIP/0KEBAws3A5yopQDRTKmHQYClAKeSGAbmWKUAddeOhocwpQBIGQEKKAipArg2Sti/1J0Cinu5WGCsoQJcvS/cAYShAi8Cnl+mWKEB/UQQ40swoQHTiYNi6AilAaHO9eKM4KUBdBBoZjG4pQFGVdrl0pClARibTWV3aKUDiLSXOAs0nQNa+gW7rAihAy0/eDtQ4KEC/4DqvvG4oQLNxl0+lpChAqAL0743aKECck1CQdhApQJEkrTBfRilAhbUJ0Ud8KUB6RmZxMLIpQBZOuOXVpCdACt8Uhr7aJ0D/b3EmpxAoQPMAzsaPRihA6JEqZ3h8KEDcIocHYbIoQNCz46dJ6ChAxURASDIeKUC51ZzoGlQpQK5m+YgDiilASm5L/ah8J0A+/6edkbInQDOQBD566CdAJyFh3mIeKEAcsr1+S1QoQBBDGh80iihABNR2vxzAKED5ZNNfBfYoQO31LwDuKylA4oaMoNZhKUA=",
          "dtype": "f8",
          "shape": "10, 10"
         }
        }
       ],
       "layout": {
        "legend": {
         "tracegroupgap": 0
        },
        "margin": {
         "t": 60
        },
        "scene": {
         "domain": {
          "x": [
           0,
           1
          ],
          "y": [
           0,
           1
          ]
         },
         "xaxis": {
          "title": {
           "text": "x"
          }
         },
         "yaxis": {
          "title": {
           "text": "y"
          }
         },
         "zaxis": {
          "title": {
           "text": "z"
          }
         }
        },
        "template": {
         "data": {
          "bar": [
           {
            "error_x": {
             "color": "#2a3f5f"
            },
            "error_y": {
             "color": "#2a3f5f"
            },
            "marker": {
             "line": {
              "color": "#E5ECF6",
              "width": 0.5
             },
             "pattern": {
              "fillmode": "overlay",
              "size": 10,
              "solidity": 0.2
             }
            },
            "type": "bar"
           }
          ],
          "barpolar": [
           {
            "marker": {
             "line": {
              "color": "#E5ECF6",
              "width": 0.5
             },
             "pattern": {
              "fillmode": "overlay",
              "size": 10,
              "solidity": 0.2
             }
            },
            "type": "barpolar"
           }
          ],
          "carpet": [
           {
            "aaxis": {
             "endlinecolor": "#2a3f5f",
             "gridcolor": "white",
             "linecolor": "white",
             "minorgridcolor": "white",
             "startlinecolor": "#2a3f5f"
            },
            "baxis": {
             "endlinecolor": "#2a3f5f",
             "gridcolor": "white",
             "linecolor": "white",
             "minorgridcolor": "white",
             "startlinecolor": "#2a3f5f"
            },
            "type": "carpet"
           }
          ],
          "choropleth": [
           {
            "colorbar": {
             "outlinewidth": 0,
             "ticks": ""
            },
            "type": "choropleth"
           }
          ],
          "contour": [
           {
            "colorbar": {
             "outlinewidth": 0,
             "ticks": ""
            },
            "colorscale": [
             [
              0,
              "#0d0887"
             ],
             [
              0.1111111111111111,
              "#46039f"
             ],
             [
              0.2222222222222222,
              "#7201a8"
             ],
             [
              0.3333333333333333,
              "#9c179e"
             ],
             [
              0.4444444444444444,
              "#bd3786"
             ],
             [
              0.5555555555555556,
              "#d8576b"
             ],
             [
              0.6666666666666666,
              "#ed7953"
             ],
             [
              0.7777777777777778,
              "#fb9f3a"
             ],
             [
              0.8888888888888888,
              "#fdca26"
             ],
             [
              1,
              "#f0f921"
             ]
            ],
            "type": "contour"
           }
          ],
          "contourcarpet": [
           {
            "colorbar": {
             "outlinewidth": 0,
             "ticks": ""
            },
            "type": "contourcarpet"
           }
          ],
          "heatmap": [
           {
            "colorbar": {
             "outlinewidth": 0,
             "ticks": ""
            },
            "colorscale": [
             [
              0,
              "#0d0887"
             ],
             [
              0.1111111111111111,
              "#46039f"
             ],
             [
              0.2222222222222222,
              "#7201a8"
             ],
             [
              0.3333333333333333,
              "#9c179e"
             ],
             [
              0.4444444444444444,
              "#bd3786"
             ],
             [
              0.5555555555555556,
              "#d8576b"
             ],
             [
              0.6666666666666666,
              "#ed7953"
             ],
             [
              0.7777777777777778,
              "#fb9f3a"
             ],
             [
              0.8888888888888888,
              "#fdca26"
             ],
             [
              1,
              "#f0f921"
             ]
            ],
            "type": "heatmap"
           }
          ],
          "histogram": [
           {
            "marker": {
             "pattern": {
              "fillmode": "overlay",
              "size": 10,
              "solidity": 0.2
             }
            },
            "type": "histogram"
           }
          ],
          "histogram2d": [
           {
            "colorbar": {
             "outlinewidth": 0,
             "ticks": ""
            },
            "colorscale": [
             [
              0,
              "#0d0887"
             ],
             [
              0.1111111111111111,
              "#46039f"
             ],
             [
              0.2222222222222222,
              "#7201a8"
             ],
             [
              0.3333333333333333,
              "#9c179e"
             ],
             [
              0.4444444444444444,
              "#bd3786"
             ],
             [
              0.5555555555555556,
              "#d8576b"
             ],
             [
              0.6666666666666666,
              "#ed7953"
             ],
             [
              0.7777777777777778,
              "#fb9f3a"
             ],
             [
              0.8888888888888888,
              "#fdca26"
             ],
             [
              1,
              "#f0f921"
             ]
            ],
            "type": "histogram2d"
           }
          ],
          "histogram2dcontour": [
           {
            "colorbar": {
             "outlinewidth": 0,
             "ticks": ""
            },
            "colorscale": [
             [
              0,
              "#0d0887"
             ],
             [
              0.1111111111111111,
              "#46039f"
             ],
             [
              0.2222222222222222,
              "#7201a8"
             ],
             [
              0.3333333333333333,
              "#9c179e"
             ],
             [
              0.4444444444444444,
              "#bd3786"
             ],
             [
              0.5555555555555556,
              "#d8576b"
             ],
             [
              0.6666666666666666,
              "#ed7953"
             ],
             [
              0.7777777777777778,
              "#fb9f3a"
             ],
             [
              0.8888888888888888,
              "#fdca26"
             ],
             [
              1,
              "#f0f921"
             ]
            ],
            "type": "histogram2dcontour"
           }
          ],
          "mesh3d": [
           {
            "colorbar": {
             "outlinewidth": 0,
             "ticks": ""
            },
            "type": "mesh3d"
           }
          ],
          "parcoords": [
           {
            "line": {
             "colorbar": {
              "outlinewidth": 0,
              "ticks": ""
             }
            },
            "type": "parcoords"
           }
          ],
          "pie": [
           {
            "automargin": true,
            "type": "pie"
           }
          ],
          "scatter": [
           {
            "fillpattern": {
             "fillmode": "overlay",
             "size": 10,
             "solidity": 0.2
            },
            "type": "scatter"
           }
          ],
          "scatter3d": [
           {
            "line": {
             "colorbar": {
              "outlinewidth": 0,
              "ticks": ""
             }
            },
            "marker": {
             "colorbar": {
              "outlinewidth": 0,
              "ticks": ""
             }
            },
            "type": "scatter3d"
           }
          ],
          "scattercarpet": [
           {
            "marker": {
             "colorbar": {
              "outlinewidth": 0,
              "ticks": ""
             }
            },
            "type": "scattercarpet"
           }
          ],
          "scattergeo": [
           {
            "marker": {
             "colorbar": {
              "outlinewidth": 0,
              "ticks": ""
             }
            },
            "type": "scattergeo"
           }
          ],
          "scattergl": [
           {
            "marker": {
             "colorbar": {
              "outlinewidth": 0,
              "ticks": ""
             }
            },
            "type": "scattergl"
           }
          ],
          "scattermap": [
           {
            "marker": {
             "colorbar": {
              "outlinewidth": 0,
              "ticks": ""
             }
            },
            "type": "scattermap"
           }
          ],
          "scattermapbox": [
           {
            "marker": {
             "colorbar": {
              "outlinewidth": 0,
              "ticks": ""
             }
            },
            "type": "scattermapbox"
           }
          ],
          "scatterpolar": [
           {
            "marker": {
             "colorbar": {
              "outlinewidth": 0,
              "ticks": ""
             }
            },
            "type": "scatterpolar"
           }
          ],
          "scatterpolargl": [
           {
            "marker": {
             "colorbar": {
              "outlinewidth": 0,
              "ticks": ""
             }
            },
            "type": "scatterpolargl"
           }
          ],
          "scatterternary": [
           {
            "marker": {
             "colorbar": {
              "outlinewidth": 0,
              "ticks": ""
             }
            },
            "type": "scatterternary"
           }
          ],
          "surface": [
           {
            "colorbar": {
             "outlinewidth": 0,
             "ticks": ""
            },
            "colorscale": [
             [
              0,
              "#0d0887"
             ],
             [
              0.1111111111111111,
              "#46039f"
             ],
             [
              0.2222222222222222,
              "#7201a8"
             ],
             [
              0.3333333333333333,
              "#9c179e"
             ],
             [
              0.4444444444444444,
              "#bd3786"
             ],
             [
              0.5555555555555556,
              "#d8576b"
             ],
             [
              0.6666666666666666,
              "#ed7953"
             ],
             [
              0.7777777777777778,
              "#fb9f3a"
             ],
             [
              0.8888888888888888,
              "#fdca26"
             ],
             [
              1,
              "#f0f921"
             ]
            ],
            "type": "surface"
           }
          ],
          "table": [
           {
            "cells": {
             "fill": {
              "color": "#EBF0F8"
             },
             "line": {
              "color": "white"
             }
            },
            "header": {
             "fill": {
              "color": "#C8D4E3"
             },
             "line": {
              "color": "white"
             }
            },
            "type": "table"
           }
          ]
         },
         "layout": {
          "annotationdefaults": {
           "arrowcolor": "#2a3f5f",
           "arrowhead": 0,
           "arrowwidth": 1
          },
          "autotypenumbers": "strict",
          "coloraxis": {
           "colorbar": {
            "outlinewidth": 0,
            "ticks": ""
           }
          },
          "colorscale": {
           "diverging": [
            [
             0,
             "#8e0152"
            ],
            [
             0.1,
             "#c51b7d"
            ],
            [
             0.2,
             "#de77ae"
            ],
            [
             0.3,
             "#f1b6da"
            ],
            [
             0.4,
             "#fde0ef"
            ],
            [
             0.5,
             "#f7f7f7"
            ],
            [
             0.6,
             "#e6f5d0"
            ],
            [
             0.7,
             "#b8e186"
            ],
            [
             0.8,
             "#7fbc41"
            ],
            [
             0.9,
             "#4d9221"
            ],
            [
             1,
             "#276419"
            ]
           ],
           "sequential": [
            [
             0,
             "#0d0887"
            ],
            [
             0.1111111111111111,
             "#46039f"
            ],
            [
             0.2222222222222222,
             "#7201a8"
            ],
            [
             0.3333333333333333,
             "#9c179e"
            ],
            [
             0.4444444444444444,
             "#bd3786"
            ],
            [
             0.5555555555555556,
             "#d8576b"
            ],
            [
             0.6666666666666666,
             "#ed7953"
            ],
            [
             0.7777777777777778,
             "#fb9f3a"
            ],
            [
             0.8888888888888888,
             "#fdca26"
            ],
            [
             1,
             "#f0f921"
            ]
           ],
           "sequentialminus": [
            [
             0,
             "#0d0887"
            ],
            [
             0.1111111111111111,
             "#46039f"
            ],
            [
             0.2222222222222222,
             "#7201a8"
            ],
            [
             0.3333333333333333,
             "#9c179e"
            ],
            [
             0.4444444444444444,
             "#bd3786"
            ],
            [
             0.5555555555555556,
             "#d8576b"
            ],
            [
             0.6666666666666666,
             "#ed7953"
            ],
            [
             0.7777777777777778,
             "#fb9f3a"
            ],
            [
             0.8888888888888888,
             "#fdca26"
            ],
            [
             1,
             "#f0f921"
            ]
           ]
          },
          "colorway": [
           "#636efa",
           "#EF553B",
           "#00cc96",
           "#ab63fa",
           "#FFA15A",
           "#19d3f3",
           "#FF6692",
           "#B6E880",
           "#FF97FF",
           "#FECB52"
          ],
          "font": {
           "color": "#2a3f5f"
          },
          "geo": {
           "bgcolor": "white",
           "lakecolor": "white",
           "landcolor": "#E5ECF6",
           "showlakes": true,
           "showland": true,
           "subunitcolor": "white"
          },
          "hoverlabel": {
           "align": "left"
          },
          "hovermode": "closest",
          "mapbox": {
           "style": "light"
          },
          "paper_bgcolor": "white",
          "plot_bgcolor": "#E5ECF6",
          "polar": {
           "angularaxis": {
            "gridcolor": "white",
            "linecolor": "white",
            "ticks": ""
           },
           "bgcolor": "#E5ECF6",
           "radialaxis": {
            "gridcolor": "white",
            "linecolor": "white",
            "ticks": ""
           }
          },
          "scene": {
           "xaxis": {
            "backgroundcolor": "#E5ECF6",
            "gridcolor": "white",
            "gridwidth": 2,
            "linecolor": "white",
            "showbackground": true,
            "ticks": "",
            "zerolinecolor": "white"
           },
           "yaxis": {
            "backgroundcolor": "#E5ECF6",
            "gridcolor": "white",
            "gridwidth": 2,
            "linecolor": "white",
            "showbackground": true,
            "ticks": "",
            "zerolinecolor": "white"
           },
           "zaxis": {
            "backgroundcolor": "#E5ECF6",
            "gridcolor": "white",
            "gridwidth": 2,
            "linecolor": "white",
            "showbackground": true,
            "ticks": "",
            "zerolinecolor": "white"
           }
          },
          "shapedefaults": {
           "line": {
            "color": "#2a3f5f"
           }
          },
          "ternary": {
           "aaxis": {
            "gridcolor": "white",
            "linecolor": "white",
            "ticks": ""
           },
           "baxis": {
            "gridcolor": "white",
            "linecolor": "white",
            "ticks": ""
           },
           "bgcolor": "#E5ECF6",
           "caxis": {
            "gridcolor": "white",
            "linecolor": "white",
            "ticks": ""
           }
          },
          "title": {
           "x": 0.05
          },
          "xaxis": {
           "automargin": true,
           "gridcolor": "white",
           "linecolor": "white",
           "ticks": "",
           "title": {
            "standoff": 15
           },
           "zerolinecolor": "white",
           "zerolinewidth": 2
          },
          "yaxis": {
           "automargin": true,
           "gridcolor": "white",
           "linecolor": "white",
           "ticks": "",
           "title": {
            "standoff": 15
           },
           "zerolinecolor": "white",
           "zerolinewidth": 2
          }
         }
        }
       }
      }
     },
     "metadata": {},
     "output_type": "display_data"
    }
   ],
   "source": [
    "fig = px.scatter_3d(\n",
    "    df, x=x.ravel(),\n",
    "    y=y.ravel(),\n",
    "    z=z.ravel()\n",
    ")\n",
    "\n",
    "fig.add_trace(go.Surface(x = x_input, y = y_input, z =z_final ))\n",
    "\n",
    "fig.show()"
   ]
  },
  {
   "cell_type": "markdown",
   "id": "14d89f5d",
   "metadata": {},
   "source": [
    "# Apply the poly"
   ]
  },
  {
   "cell_type": "code",
   "execution_count": 75,
   "id": "d444413d",
   "metadata": {},
   "outputs": [
    {
     "data": {
      "text/plain": [
       "(100, 2)"
      ]
     },
     "execution_count": 75,
     "metadata": {},
     "output_type": "execute_result"
    }
   ],
   "source": [
    "X_multi = np.array([x,y]).reshape(100,2)\n",
    "X_multi.shape"
   ]
  },
  {
   "cell_type": "code",
   "execution_count": 78,
   "id": "9ac9f361",
   "metadata": {},
   "outputs": [
    {
     "data": {
      "text/plain": [
       "(100, 496)"
      ]
     },
     "execution_count": 78,
     "metadata": {},
     "output_type": "execute_result"
    }
   ],
   "source": [
    "poly = PolynomialFeatures(degree=30)\n",
    "X_multi_trans = poly.fit_transform(X_multi)\n",
    "X_multi_trans.shape"
   ]
  },
  {
   "cell_type": "code",
   "execution_count": 79,
   "id": "5256337f",
   "metadata": {},
   "outputs": [
    {
     "data": {
      "text/plain": [
       "(100, 2)"
      ]
     },
     "execution_count": 79,
     "metadata": {},
     "output_type": "execute_result"
    }
   ],
   "source": [
    "X_multi.shape"
   ]
  },
  {
   "cell_type": "code",
   "execution_count": null,
   "id": "bdf63cfa",
   "metadata": {},
   "outputs": [
    {
     "data": {
      "text/plain": [
       "2"
      ]
     },
     "execution_count": 83,
     "metadata": {},
     "output_type": "execute_result"
    }
   ],
   "source": [
    "# how many input -> x, y (two)\n",
    "poly.n_features_in_"
   ]
  },
  {
   "cell_type": "code",
   "execution_count": null,
   "id": "f4f99d26",
   "metadata": {},
   "outputs": [
    {
     "data": {
      "text/plain": [
       "496"
      ]
     },
     "execution_count": 84,
     "metadata": {},
     "output_type": "execute_result"
    }
   ],
   "source": [
    "# how may output based on the degree\n",
    "poly.n_output_features_"
   ]
  },
  {
   "cell_type": "code",
   "execution_count": null,
   "id": "c6377d51",
   "metadata": {},
   "outputs": [
    {
     "data": {
      "text/plain": [
       "array([[ 0,  0],\n",
       "       [ 1,  0],\n",
       "       [ 0,  1],\n",
       "       [ 2,  0],\n",
       "       [ 1,  1],\n",
       "       [ 0,  2],\n",
       "       [ 3,  0],\n",
       "       [ 2,  1],\n",
       "       [ 1,  2],\n",
       "       [ 0,  3],\n",
       "       [ 4,  0],\n",
       "       [ 3,  1],\n",
       "       [ 2,  2],\n",
       "       [ 1,  3],\n",
       "       [ 0,  4],\n",
       "       [ 5,  0],\n",
       "       [ 4,  1],\n",
       "       [ 3,  2],\n",
       "       [ 2,  3],\n",
       "       [ 1,  4],\n",
       "       [ 0,  5],\n",
       "       [ 6,  0],\n",
       "       [ 5,  1],\n",
       "       [ 4,  2],\n",
       "       [ 3,  3],\n",
       "       [ 2,  4],\n",
       "       [ 1,  5],\n",
       "       [ 0,  6],\n",
       "       [ 7,  0],\n",
       "       [ 6,  1],\n",
       "       [ 5,  2],\n",
       "       [ 4,  3],\n",
       "       [ 3,  4],\n",
       "       [ 2,  5],\n",
       "       [ 1,  6],\n",
       "       [ 0,  7],\n",
       "       [ 8,  0],\n",
       "       [ 7,  1],\n",
       "       [ 6,  2],\n",
       "       [ 5,  3],\n",
       "       [ 4,  4],\n",
       "       [ 3,  5],\n",
       "       [ 2,  6],\n",
       "       [ 1,  7],\n",
       "       [ 0,  8],\n",
       "       [ 9,  0],\n",
       "       [ 8,  1],\n",
       "       [ 7,  2],\n",
       "       [ 6,  3],\n",
       "       [ 5,  4],\n",
       "       [ 4,  5],\n",
       "       [ 3,  6],\n",
       "       [ 2,  7],\n",
       "       [ 1,  8],\n",
       "       [ 0,  9],\n",
       "       [10,  0],\n",
       "       [ 9,  1],\n",
       "       [ 8,  2],\n",
       "       [ 7,  3],\n",
       "       [ 6,  4],\n",
       "       [ 5,  5],\n",
       "       [ 4,  6],\n",
       "       [ 3,  7],\n",
       "       [ 2,  8],\n",
       "       [ 1,  9],\n",
       "       [ 0, 10],\n",
       "       [11,  0],\n",
       "       [10,  1],\n",
       "       [ 9,  2],\n",
       "       [ 8,  3],\n",
       "       [ 7,  4],\n",
       "       [ 6,  5],\n",
       "       [ 5,  6],\n",
       "       [ 4,  7],\n",
       "       [ 3,  8],\n",
       "       [ 2,  9],\n",
       "       [ 1, 10],\n",
       "       [ 0, 11],\n",
       "       [12,  0],\n",
       "       [11,  1],\n",
       "       [10,  2],\n",
       "       [ 9,  3],\n",
       "       [ 8,  4],\n",
       "       [ 7,  5],\n",
       "       [ 6,  6],\n",
       "       [ 5,  7],\n",
       "       [ 4,  8],\n",
       "       [ 3,  9],\n",
       "       [ 2, 10],\n",
       "       [ 1, 11],\n",
       "       [ 0, 12],\n",
       "       [13,  0],\n",
       "       [12,  1],\n",
       "       [11,  2],\n",
       "       [10,  3],\n",
       "       [ 9,  4],\n",
       "       [ 8,  5],\n",
       "       [ 7,  6],\n",
       "       [ 6,  7],\n",
       "       [ 5,  8],\n",
       "       [ 4,  9],\n",
       "       [ 3, 10],\n",
       "       [ 2, 11],\n",
       "       [ 1, 12],\n",
       "       [ 0, 13],\n",
       "       [14,  0],\n",
       "       [13,  1],\n",
       "       [12,  2],\n",
       "       [11,  3],\n",
       "       [10,  4],\n",
       "       [ 9,  5],\n",
       "       [ 8,  6],\n",
       "       [ 7,  7],\n",
       "       [ 6,  8],\n",
       "       [ 5,  9],\n",
       "       [ 4, 10],\n",
       "       [ 3, 11],\n",
       "       [ 2, 12],\n",
       "       [ 1, 13],\n",
       "       [ 0, 14],\n",
       "       [15,  0],\n",
       "       [14,  1],\n",
       "       [13,  2],\n",
       "       [12,  3],\n",
       "       [11,  4],\n",
       "       [10,  5],\n",
       "       [ 9,  6],\n",
       "       [ 8,  7],\n",
       "       [ 7,  8],\n",
       "       [ 6,  9],\n",
       "       [ 5, 10],\n",
       "       [ 4, 11],\n",
       "       [ 3, 12],\n",
       "       [ 2, 13],\n",
       "       [ 1, 14],\n",
       "       [ 0, 15],\n",
       "       [16,  0],\n",
       "       [15,  1],\n",
       "       [14,  2],\n",
       "       [13,  3],\n",
       "       [12,  4],\n",
       "       [11,  5],\n",
       "       [10,  6],\n",
       "       [ 9,  7],\n",
       "       [ 8,  8],\n",
       "       [ 7,  9],\n",
       "       [ 6, 10],\n",
       "       [ 5, 11],\n",
       "       [ 4, 12],\n",
       "       [ 3, 13],\n",
       "       [ 2, 14],\n",
       "       [ 1, 15],\n",
       "       [ 0, 16],\n",
       "       [17,  0],\n",
       "       [16,  1],\n",
       "       [15,  2],\n",
       "       [14,  3],\n",
       "       [13,  4],\n",
       "       [12,  5],\n",
       "       [11,  6],\n",
       "       [10,  7],\n",
       "       [ 9,  8],\n",
       "       [ 8,  9],\n",
       "       [ 7, 10],\n",
       "       [ 6, 11],\n",
       "       [ 5, 12],\n",
       "       [ 4, 13],\n",
       "       [ 3, 14],\n",
       "       [ 2, 15],\n",
       "       [ 1, 16],\n",
       "       [ 0, 17],\n",
       "       [18,  0],\n",
       "       [17,  1],\n",
       "       [16,  2],\n",
       "       [15,  3],\n",
       "       [14,  4],\n",
       "       [13,  5],\n",
       "       [12,  6],\n",
       "       [11,  7],\n",
       "       [10,  8],\n",
       "       [ 9,  9],\n",
       "       [ 8, 10],\n",
       "       [ 7, 11],\n",
       "       [ 6, 12],\n",
       "       [ 5, 13],\n",
       "       [ 4, 14],\n",
       "       [ 3, 15],\n",
       "       [ 2, 16],\n",
       "       [ 1, 17],\n",
       "       [ 0, 18],\n",
       "       [19,  0],\n",
       "       [18,  1],\n",
       "       [17,  2],\n",
       "       [16,  3],\n",
       "       [15,  4],\n",
       "       [14,  5],\n",
       "       [13,  6],\n",
       "       [12,  7],\n",
       "       [11,  8],\n",
       "       [10,  9],\n",
       "       [ 9, 10],\n",
       "       [ 8, 11],\n",
       "       [ 7, 12],\n",
       "       [ 6, 13],\n",
       "       [ 5, 14],\n",
       "       [ 4, 15],\n",
       "       [ 3, 16],\n",
       "       [ 2, 17],\n",
       "       [ 1, 18],\n",
       "       [ 0, 19],\n",
       "       [20,  0],\n",
       "       [19,  1],\n",
       "       [18,  2],\n",
       "       [17,  3],\n",
       "       [16,  4],\n",
       "       [15,  5],\n",
       "       [14,  6],\n",
       "       [13,  7],\n",
       "       [12,  8],\n",
       "       [11,  9],\n",
       "       [10, 10],\n",
       "       [ 9, 11],\n",
       "       [ 8, 12],\n",
       "       [ 7, 13],\n",
       "       [ 6, 14],\n",
       "       [ 5, 15],\n",
       "       [ 4, 16],\n",
       "       [ 3, 17],\n",
       "       [ 2, 18],\n",
       "       [ 1, 19],\n",
       "       [ 0, 20],\n",
       "       [21,  0],\n",
       "       [20,  1],\n",
       "       [19,  2],\n",
       "       [18,  3],\n",
       "       [17,  4],\n",
       "       [16,  5],\n",
       "       [15,  6],\n",
       "       [14,  7],\n",
       "       [13,  8],\n",
       "       [12,  9],\n",
       "       [11, 10],\n",
       "       [10, 11],\n",
       "       [ 9, 12],\n",
       "       [ 8, 13],\n",
       "       [ 7, 14],\n",
       "       [ 6, 15],\n",
       "       [ 5, 16],\n",
       "       [ 4, 17],\n",
       "       [ 3, 18],\n",
       "       [ 2, 19],\n",
       "       [ 1, 20],\n",
       "       [ 0, 21],\n",
       "       [22,  0],\n",
       "       [21,  1],\n",
       "       [20,  2],\n",
       "       [19,  3],\n",
       "       [18,  4],\n",
       "       [17,  5],\n",
       "       [16,  6],\n",
       "       [15,  7],\n",
       "       [14,  8],\n",
       "       [13,  9],\n",
       "       [12, 10],\n",
       "       [11, 11],\n",
       "       [10, 12],\n",
       "       [ 9, 13],\n",
       "       [ 8, 14],\n",
       "       [ 7, 15],\n",
       "       [ 6, 16],\n",
       "       [ 5, 17],\n",
       "       [ 4, 18],\n",
       "       [ 3, 19],\n",
       "       [ 2, 20],\n",
       "       [ 1, 21],\n",
       "       [ 0, 22],\n",
       "       [23,  0],\n",
       "       [22,  1],\n",
       "       [21,  2],\n",
       "       [20,  3],\n",
       "       [19,  4],\n",
       "       [18,  5],\n",
       "       [17,  6],\n",
       "       [16,  7],\n",
       "       [15,  8],\n",
       "       [14,  9],\n",
       "       [13, 10],\n",
       "       [12, 11],\n",
       "       [11, 12],\n",
       "       [10, 13],\n",
       "       [ 9, 14],\n",
       "       [ 8, 15],\n",
       "       [ 7, 16],\n",
       "       [ 6, 17],\n",
       "       [ 5, 18],\n",
       "       [ 4, 19],\n",
       "       [ 3, 20],\n",
       "       [ 2, 21],\n",
       "       [ 1, 22],\n",
       "       [ 0, 23],\n",
       "       [24,  0],\n",
       "       [23,  1],\n",
       "       [22,  2],\n",
       "       [21,  3],\n",
       "       [20,  4],\n",
       "       [19,  5],\n",
       "       [18,  6],\n",
       "       [17,  7],\n",
       "       [16,  8],\n",
       "       [15,  9],\n",
       "       [14, 10],\n",
       "       [13, 11],\n",
       "       [12, 12],\n",
       "       [11, 13],\n",
       "       [10, 14],\n",
       "       [ 9, 15],\n",
       "       [ 8, 16],\n",
       "       [ 7, 17],\n",
       "       [ 6, 18],\n",
       "       [ 5, 19],\n",
       "       [ 4, 20],\n",
       "       [ 3, 21],\n",
       "       [ 2, 22],\n",
       "       [ 1, 23],\n",
       "       [ 0, 24],\n",
       "       [25,  0],\n",
       "       [24,  1],\n",
       "       [23,  2],\n",
       "       [22,  3],\n",
       "       [21,  4],\n",
       "       [20,  5],\n",
       "       [19,  6],\n",
       "       [18,  7],\n",
       "       [17,  8],\n",
       "       [16,  9],\n",
       "       [15, 10],\n",
       "       [14, 11],\n",
       "       [13, 12],\n",
       "       [12, 13],\n",
       "       [11, 14],\n",
       "       [10, 15],\n",
       "       [ 9, 16],\n",
       "       [ 8, 17],\n",
       "       [ 7, 18],\n",
       "       [ 6, 19],\n",
       "       [ 5, 20],\n",
       "       [ 4, 21],\n",
       "       [ 3, 22],\n",
       "       [ 2, 23],\n",
       "       [ 1, 24],\n",
       "       [ 0, 25],\n",
       "       [26,  0],\n",
       "       [25,  1],\n",
       "       [24,  2],\n",
       "       [23,  3],\n",
       "       [22,  4],\n",
       "       [21,  5],\n",
       "       [20,  6],\n",
       "       [19,  7],\n",
       "       [18,  8],\n",
       "       [17,  9],\n",
       "       [16, 10],\n",
       "       [15, 11],\n",
       "       [14, 12],\n",
       "       [13, 13],\n",
       "       [12, 14],\n",
       "       [11, 15],\n",
       "       [10, 16],\n",
       "       [ 9, 17],\n",
       "       [ 8, 18],\n",
       "       [ 7, 19],\n",
       "       [ 6, 20],\n",
       "       [ 5, 21],\n",
       "       [ 4, 22],\n",
       "       [ 3, 23],\n",
       "       [ 2, 24],\n",
       "       [ 1, 25],\n",
       "       [ 0, 26],\n",
       "       [27,  0],\n",
       "       [26,  1],\n",
       "       [25,  2],\n",
       "       [24,  3],\n",
       "       [23,  4],\n",
       "       [22,  5],\n",
       "       [21,  6],\n",
       "       [20,  7],\n",
       "       [19,  8],\n",
       "       [18,  9],\n",
       "       [17, 10],\n",
       "       [16, 11],\n",
       "       [15, 12],\n",
       "       [14, 13],\n",
       "       [13, 14],\n",
       "       [12, 15],\n",
       "       [11, 16],\n",
       "       [10, 17],\n",
       "       [ 9, 18],\n",
       "       [ 8, 19],\n",
       "       [ 7, 20],\n",
       "       [ 6, 21],\n",
       "       [ 5, 22],\n",
       "       [ 4, 23],\n",
       "       [ 3, 24],\n",
       "       [ 2, 25],\n",
       "       [ 1, 26],\n",
       "       [ 0, 27],\n",
       "       [28,  0],\n",
       "       [27,  1],\n",
       "       [26,  2],\n",
       "       [25,  3],\n",
       "       [24,  4],\n",
       "       [23,  5],\n",
       "       [22,  6],\n",
       "       [21,  7],\n",
       "       [20,  8],\n",
       "       [19,  9],\n",
       "       [18, 10],\n",
       "       [17, 11],\n",
       "       [16, 12],\n",
       "       [15, 13],\n",
       "       [14, 14],\n",
       "       [13, 15],\n",
       "       [12, 16],\n",
       "       [11, 17],\n",
       "       [10, 18],\n",
       "       [ 9, 19],\n",
       "       [ 8, 20],\n",
       "       [ 7, 21],\n",
       "       [ 6, 22],\n",
       "       [ 5, 23],\n",
       "       [ 4, 24],\n",
       "       [ 3, 25],\n",
       "       [ 2, 26],\n",
       "       [ 1, 27],\n",
       "       [ 0, 28],\n",
       "       [29,  0],\n",
       "       [28,  1],\n",
       "       [27,  2],\n",
       "       [26,  3],\n",
       "       [25,  4],\n",
       "       [24,  5],\n",
       "       [23,  6],\n",
       "       [22,  7],\n",
       "       [21,  8],\n",
       "       [20,  9],\n",
       "       [19, 10],\n",
       "       [18, 11],\n",
       "       [17, 12],\n",
       "       [16, 13],\n",
       "       [15, 14],\n",
       "       [14, 15],\n",
       "       [13, 16],\n",
       "       [12, 17],\n",
       "       [11, 18],\n",
       "       [10, 19],\n",
       "       [ 9, 20],\n",
       "       [ 8, 21],\n",
       "       [ 7, 22],\n",
       "       [ 6, 23],\n",
       "       [ 5, 24],\n",
       "       [ 4, 25],\n",
       "       [ 3, 26],\n",
       "       [ 2, 27],\n",
       "       [ 1, 28],\n",
       "       [ 0, 29],\n",
       "       [30,  0],\n",
       "       [29,  1],\n",
       "       [28,  2],\n",
       "       [27,  3],\n",
       "       [26,  4],\n",
       "       [25,  5],\n",
       "       [24,  6],\n",
       "       [23,  7],\n",
       "       [22,  8],\n",
       "       [21,  9],\n",
       "       [20, 10],\n",
       "       [19, 11],\n",
       "       [18, 12],\n",
       "       [17, 13],\n",
       "       [16, 14],\n",
       "       [15, 15],\n",
       "       [14, 16],\n",
       "       [13, 17],\n",
       "       [12, 18],\n",
       "       [11, 19],\n",
       "       [10, 20],\n",
       "       [ 9, 21],\n",
       "       [ 8, 22],\n",
       "       [ 7, 23],\n",
       "       [ 6, 24],\n",
       "       [ 5, 25],\n",
       "       [ 4, 26],\n",
       "       [ 3, 27],\n",
       "       [ 2, 28],\n",
       "       [ 1, 29],\n",
       "       [ 0, 30]])"
      ]
     },
     "execution_count": 85,
     "metadata": {},
     "output_type": "execute_result"
    }
   ],
   "source": [
    "# degree \n",
    "poly.powers_"
   ]
  },
  {
   "cell_type": "markdown",
   "id": "2550fbe7",
   "metadata": {},
   "source": [
    "## now apply the linear algorithm"
   ]
  },
  {
   "cell_type": "code",
   "execution_count": 80,
   "id": "62d0ca4c",
   "metadata": {},
   "outputs": [
    {
     "data": {
      "text/html": [
       "<style>#sk-container-id-3 {\n",
       "  /* Definition of color scheme common for light and dark mode */\n",
       "  --sklearn-color-text: #000;\n",
       "  --sklearn-color-text-muted: #666;\n",
       "  --sklearn-color-line: gray;\n",
       "  /* Definition of color scheme for unfitted estimators */\n",
       "  --sklearn-color-unfitted-level-0: #fff5e6;\n",
       "  --sklearn-color-unfitted-level-1: #f6e4d2;\n",
       "  --sklearn-color-unfitted-level-2: #ffe0b3;\n",
       "  --sklearn-color-unfitted-level-3: chocolate;\n",
       "  /* Definition of color scheme for fitted estimators */\n",
       "  --sklearn-color-fitted-level-0: #f0f8ff;\n",
       "  --sklearn-color-fitted-level-1: #d4ebff;\n",
       "  --sklearn-color-fitted-level-2: #b3dbfd;\n",
       "  --sklearn-color-fitted-level-3: cornflowerblue;\n",
       "\n",
       "  /* Specific color for light theme */\n",
       "  --sklearn-color-text-on-default-background: var(--sg-text-color, var(--theme-code-foreground, var(--jp-content-font-color1, black)));\n",
       "  --sklearn-color-background: var(--sg-background-color, var(--theme-background, var(--jp-layout-color0, white)));\n",
       "  --sklearn-color-border-box: var(--sg-text-color, var(--theme-code-foreground, var(--jp-content-font-color1, black)));\n",
       "  --sklearn-color-icon: #696969;\n",
       "\n",
       "  @media (prefers-color-scheme: dark) {\n",
       "    /* Redefinition of color scheme for dark theme */\n",
       "    --sklearn-color-text-on-default-background: var(--sg-text-color, var(--theme-code-foreground, var(--jp-content-font-color1, white)));\n",
       "    --sklearn-color-background: var(--sg-background-color, var(--theme-background, var(--jp-layout-color0, #111)));\n",
       "    --sklearn-color-border-box: var(--sg-text-color, var(--theme-code-foreground, var(--jp-content-font-color1, white)));\n",
       "    --sklearn-color-icon: #878787;\n",
       "  }\n",
       "}\n",
       "\n",
       "#sk-container-id-3 {\n",
       "  color: var(--sklearn-color-text);\n",
       "}\n",
       "\n",
       "#sk-container-id-3 pre {\n",
       "  padding: 0;\n",
       "}\n",
       "\n",
       "#sk-container-id-3 input.sk-hidden--visually {\n",
       "  border: 0;\n",
       "  clip: rect(1px 1px 1px 1px);\n",
       "  clip: rect(1px, 1px, 1px, 1px);\n",
       "  height: 1px;\n",
       "  margin: -1px;\n",
       "  overflow: hidden;\n",
       "  padding: 0;\n",
       "  position: absolute;\n",
       "  width: 1px;\n",
       "}\n",
       "\n",
       "#sk-container-id-3 div.sk-dashed-wrapped {\n",
       "  border: 1px dashed var(--sklearn-color-line);\n",
       "  margin: 0 0.4em 0.5em 0.4em;\n",
       "  box-sizing: border-box;\n",
       "  padding-bottom: 0.4em;\n",
       "  background-color: var(--sklearn-color-background);\n",
       "}\n",
       "\n",
       "#sk-container-id-3 div.sk-container {\n",
       "  /* jupyter's `normalize.less` sets `[hidden] { display: none; }`\n",
       "     but bootstrap.min.css set `[hidden] { display: none !important; }`\n",
       "     so we also need the `!important` here to be able to override the\n",
       "     default hidden behavior on the sphinx rendered scikit-learn.org.\n",
       "     See: https://github.com/scikit-learn/scikit-learn/issues/21755 */\n",
       "  display: inline-block !important;\n",
       "  position: relative;\n",
       "}\n",
       "\n",
       "#sk-container-id-3 div.sk-text-repr-fallback {\n",
       "  display: none;\n",
       "}\n",
       "\n",
       "div.sk-parallel-item,\n",
       "div.sk-serial,\n",
       "div.sk-item {\n",
       "  /* draw centered vertical line to link estimators */\n",
       "  background-image: linear-gradient(var(--sklearn-color-text-on-default-background), var(--sklearn-color-text-on-default-background));\n",
       "  background-size: 2px 100%;\n",
       "  background-repeat: no-repeat;\n",
       "  background-position: center center;\n",
       "}\n",
       "\n",
       "/* Parallel-specific style estimator block */\n",
       "\n",
       "#sk-container-id-3 div.sk-parallel-item::after {\n",
       "  content: \"\";\n",
       "  width: 100%;\n",
       "  border-bottom: 2px solid var(--sklearn-color-text-on-default-background);\n",
       "  flex-grow: 1;\n",
       "}\n",
       "\n",
       "#sk-container-id-3 div.sk-parallel {\n",
       "  display: flex;\n",
       "  align-items: stretch;\n",
       "  justify-content: center;\n",
       "  background-color: var(--sklearn-color-background);\n",
       "  position: relative;\n",
       "}\n",
       "\n",
       "#sk-container-id-3 div.sk-parallel-item {\n",
       "  display: flex;\n",
       "  flex-direction: column;\n",
       "}\n",
       "\n",
       "#sk-container-id-3 div.sk-parallel-item:first-child::after {\n",
       "  align-self: flex-end;\n",
       "  width: 50%;\n",
       "}\n",
       "\n",
       "#sk-container-id-3 div.sk-parallel-item:last-child::after {\n",
       "  align-self: flex-start;\n",
       "  width: 50%;\n",
       "}\n",
       "\n",
       "#sk-container-id-3 div.sk-parallel-item:only-child::after {\n",
       "  width: 0;\n",
       "}\n",
       "\n",
       "/* Serial-specific style estimator block */\n",
       "\n",
       "#sk-container-id-3 div.sk-serial {\n",
       "  display: flex;\n",
       "  flex-direction: column;\n",
       "  align-items: center;\n",
       "  background-color: var(--sklearn-color-background);\n",
       "  padding-right: 1em;\n",
       "  padding-left: 1em;\n",
       "}\n",
       "\n",
       "\n",
       "/* Toggleable style: style used for estimator/Pipeline/ColumnTransformer box that is\n",
       "clickable and can be expanded/collapsed.\n",
       "- Pipeline and ColumnTransformer use this feature and define the default style\n",
       "- Estimators will overwrite some part of the style using the `sk-estimator` class\n",
       "*/\n",
       "\n",
       "/* Pipeline and ColumnTransformer style (default) */\n",
       "\n",
       "#sk-container-id-3 div.sk-toggleable {\n",
       "  /* Default theme specific background. It is overwritten whether we have a\n",
       "  specific estimator or a Pipeline/ColumnTransformer */\n",
       "  background-color: var(--sklearn-color-background);\n",
       "}\n",
       "\n",
       "/* Toggleable label */\n",
       "#sk-container-id-3 label.sk-toggleable__label {\n",
       "  cursor: pointer;\n",
       "  display: flex;\n",
       "  width: 100%;\n",
       "  margin-bottom: 0;\n",
       "  padding: 0.5em;\n",
       "  box-sizing: border-box;\n",
       "  text-align: center;\n",
       "  align-items: start;\n",
       "  justify-content: space-between;\n",
       "  gap: 0.5em;\n",
       "}\n",
       "\n",
       "#sk-container-id-3 label.sk-toggleable__label .caption {\n",
       "  font-size: 0.6rem;\n",
       "  font-weight: lighter;\n",
       "  color: var(--sklearn-color-text-muted);\n",
       "}\n",
       "\n",
       "#sk-container-id-3 label.sk-toggleable__label-arrow:before {\n",
       "  /* Arrow on the left of the label */\n",
       "  content: \"▸\";\n",
       "  float: left;\n",
       "  margin-right: 0.25em;\n",
       "  color: var(--sklearn-color-icon);\n",
       "}\n",
       "\n",
       "#sk-container-id-3 label.sk-toggleable__label-arrow:hover:before {\n",
       "  color: var(--sklearn-color-text);\n",
       "}\n",
       "\n",
       "/* Toggleable content - dropdown */\n",
       "\n",
       "#sk-container-id-3 div.sk-toggleable__content {\n",
       "  max-height: 0;\n",
       "  max-width: 0;\n",
       "  overflow: hidden;\n",
       "  text-align: left;\n",
       "  /* unfitted */\n",
       "  background-color: var(--sklearn-color-unfitted-level-0);\n",
       "}\n",
       "\n",
       "#sk-container-id-3 div.sk-toggleable__content.fitted {\n",
       "  /* fitted */\n",
       "  background-color: var(--sklearn-color-fitted-level-0);\n",
       "}\n",
       "\n",
       "#sk-container-id-3 div.sk-toggleable__content pre {\n",
       "  margin: 0.2em;\n",
       "  border-radius: 0.25em;\n",
       "  color: var(--sklearn-color-text);\n",
       "  /* unfitted */\n",
       "  background-color: var(--sklearn-color-unfitted-level-0);\n",
       "}\n",
       "\n",
       "#sk-container-id-3 div.sk-toggleable__content.fitted pre {\n",
       "  /* unfitted */\n",
       "  background-color: var(--sklearn-color-fitted-level-0);\n",
       "}\n",
       "\n",
       "#sk-container-id-3 input.sk-toggleable__control:checked~div.sk-toggleable__content {\n",
       "  /* Expand drop-down */\n",
       "  max-height: 200px;\n",
       "  max-width: 100%;\n",
       "  overflow: auto;\n",
       "}\n",
       "\n",
       "#sk-container-id-3 input.sk-toggleable__control:checked~label.sk-toggleable__label-arrow:before {\n",
       "  content: \"▾\";\n",
       "}\n",
       "\n",
       "/* Pipeline/ColumnTransformer-specific style */\n",
       "\n",
       "#sk-container-id-3 div.sk-label input.sk-toggleable__control:checked~label.sk-toggleable__label {\n",
       "  color: var(--sklearn-color-text);\n",
       "  background-color: var(--sklearn-color-unfitted-level-2);\n",
       "}\n",
       "\n",
       "#sk-container-id-3 div.sk-label.fitted input.sk-toggleable__control:checked~label.sk-toggleable__label {\n",
       "  background-color: var(--sklearn-color-fitted-level-2);\n",
       "}\n",
       "\n",
       "/* Estimator-specific style */\n",
       "\n",
       "/* Colorize estimator box */\n",
       "#sk-container-id-3 div.sk-estimator input.sk-toggleable__control:checked~label.sk-toggleable__label {\n",
       "  /* unfitted */\n",
       "  background-color: var(--sklearn-color-unfitted-level-2);\n",
       "}\n",
       "\n",
       "#sk-container-id-3 div.sk-estimator.fitted input.sk-toggleable__control:checked~label.sk-toggleable__label {\n",
       "  /* fitted */\n",
       "  background-color: var(--sklearn-color-fitted-level-2);\n",
       "}\n",
       "\n",
       "#sk-container-id-3 div.sk-label label.sk-toggleable__label,\n",
       "#sk-container-id-3 div.sk-label label {\n",
       "  /* The background is the default theme color */\n",
       "  color: var(--sklearn-color-text-on-default-background);\n",
       "}\n",
       "\n",
       "/* On hover, darken the color of the background */\n",
       "#sk-container-id-3 div.sk-label:hover label.sk-toggleable__label {\n",
       "  color: var(--sklearn-color-text);\n",
       "  background-color: var(--sklearn-color-unfitted-level-2);\n",
       "}\n",
       "\n",
       "/* Label box, darken color on hover, fitted */\n",
       "#sk-container-id-3 div.sk-label.fitted:hover label.sk-toggleable__label.fitted {\n",
       "  color: var(--sklearn-color-text);\n",
       "  background-color: var(--sklearn-color-fitted-level-2);\n",
       "}\n",
       "\n",
       "/* Estimator label */\n",
       "\n",
       "#sk-container-id-3 div.sk-label label {\n",
       "  font-family: monospace;\n",
       "  font-weight: bold;\n",
       "  display: inline-block;\n",
       "  line-height: 1.2em;\n",
       "}\n",
       "\n",
       "#sk-container-id-3 div.sk-label-container {\n",
       "  text-align: center;\n",
       "}\n",
       "\n",
       "/* Estimator-specific */\n",
       "#sk-container-id-3 div.sk-estimator {\n",
       "  font-family: monospace;\n",
       "  border: 1px dotted var(--sklearn-color-border-box);\n",
       "  border-radius: 0.25em;\n",
       "  box-sizing: border-box;\n",
       "  margin-bottom: 0.5em;\n",
       "  /* unfitted */\n",
       "  background-color: var(--sklearn-color-unfitted-level-0);\n",
       "}\n",
       "\n",
       "#sk-container-id-3 div.sk-estimator.fitted {\n",
       "  /* fitted */\n",
       "  background-color: var(--sklearn-color-fitted-level-0);\n",
       "}\n",
       "\n",
       "/* on hover */\n",
       "#sk-container-id-3 div.sk-estimator:hover {\n",
       "  /* unfitted */\n",
       "  background-color: var(--sklearn-color-unfitted-level-2);\n",
       "}\n",
       "\n",
       "#sk-container-id-3 div.sk-estimator.fitted:hover {\n",
       "  /* fitted */\n",
       "  background-color: var(--sklearn-color-fitted-level-2);\n",
       "}\n",
       "\n",
       "/* Specification for estimator info (e.g. \"i\" and \"?\") */\n",
       "\n",
       "/* Common style for \"i\" and \"?\" */\n",
       "\n",
       ".sk-estimator-doc-link,\n",
       "a:link.sk-estimator-doc-link,\n",
       "a:visited.sk-estimator-doc-link {\n",
       "  float: right;\n",
       "  font-size: smaller;\n",
       "  line-height: 1em;\n",
       "  font-family: monospace;\n",
       "  background-color: var(--sklearn-color-background);\n",
       "  border-radius: 1em;\n",
       "  height: 1em;\n",
       "  width: 1em;\n",
       "  text-decoration: none !important;\n",
       "  margin-left: 0.5em;\n",
       "  text-align: center;\n",
       "  /* unfitted */\n",
       "  border: var(--sklearn-color-unfitted-level-1) 1pt solid;\n",
       "  color: var(--sklearn-color-unfitted-level-1);\n",
       "}\n",
       "\n",
       ".sk-estimator-doc-link.fitted,\n",
       "a:link.sk-estimator-doc-link.fitted,\n",
       "a:visited.sk-estimator-doc-link.fitted {\n",
       "  /* fitted */\n",
       "  border: var(--sklearn-color-fitted-level-1) 1pt solid;\n",
       "  color: var(--sklearn-color-fitted-level-1);\n",
       "}\n",
       "\n",
       "/* On hover */\n",
       "div.sk-estimator:hover .sk-estimator-doc-link:hover,\n",
       ".sk-estimator-doc-link:hover,\n",
       "div.sk-label-container:hover .sk-estimator-doc-link:hover,\n",
       ".sk-estimator-doc-link:hover {\n",
       "  /* unfitted */\n",
       "  background-color: var(--sklearn-color-unfitted-level-3);\n",
       "  color: var(--sklearn-color-background);\n",
       "  text-decoration: none;\n",
       "}\n",
       "\n",
       "div.sk-estimator.fitted:hover .sk-estimator-doc-link.fitted:hover,\n",
       ".sk-estimator-doc-link.fitted:hover,\n",
       "div.sk-label-container:hover .sk-estimator-doc-link.fitted:hover,\n",
       ".sk-estimator-doc-link.fitted:hover {\n",
       "  /* fitted */\n",
       "  background-color: var(--sklearn-color-fitted-level-3);\n",
       "  color: var(--sklearn-color-background);\n",
       "  text-decoration: none;\n",
       "}\n",
       "\n",
       "/* Span, style for the box shown on hovering the info icon */\n",
       ".sk-estimator-doc-link span {\n",
       "  display: none;\n",
       "  z-index: 9999;\n",
       "  position: relative;\n",
       "  font-weight: normal;\n",
       "  right: .2ex;\n",
       "  padding: .5ex;\n",
       "  margin: .5ex;\n",
       "  width: min-content;\n",
       "  min-width: 20ex;\n",
       "  max-width: 50ex;\n",
       "  color: var(--sklearn-color-text);\n",
       "  box-shadow: 2pt 2pt 4pt #999;\n",
       "  /* unfitted */\n",
       "  background: var(--sklearn-color-unfitted-level-0);\n",
       "  border: .5pt solid var(--sklearn-color-unfitted-level-3);\n",
       "}\n",
       "\n",
       ".sk-estimator-doc-link.fitted span {\n",
       "  /* fitted */\n",
       "  background: var(--sklearn-color-fitted-level-0);\n",
       "  border: var(--sklearn-color-fitted-level-3);\n",
       "}\n",
       "\n",
       ".sk-estimator-doc-link:hover span {\n",
       "  display: block;\n",
       "}\n",
       "\n",
       "/* \"?\"-specific style due to the `<a>` HTML tag */\n",
       "\n",
       "#sk-container-id-3 a.estimator_doc_link {\n",
       "  float: right;\n",
       "  font-size: 1rem;\n",
       "  line-height: 1em;\n",
       "  font-family: monospace;\n",
       "  background-color: var(--sklearn-color-background);\n",
       "  border-radius: 1rem;\n",
       "  height: 1rem;\n",
       "  width: 1rem;\n",
       "  text-decoration: none;\n",
       "  /* unfitted */\n",
       "  color: var(--sklearn-color-unfitted-level-1);\n",
       "  border: var(--sklearn-color-unfitted-level-1) 1pt solid;\n",
       "}\n",
       "\n",
       "#sk-container-id-3 a.estimator_doc_link.fitted {\n",
       "  /* fitted */\n",
       "  border: var(--sklearn-color-fitted-level-1) 1pt solid;\n",
       "  color: var(--sklearn-color-fitted-level-1);\n",
       "}\n",
       "\n",
       "/* On hover */\n",
       "#sk-container-id-3 a.estimator_doc_link:hover {\n",
       "  /* unfitted */\n",
       "  background-color: var(--sklearn-color-unfitted-level-3);\n",
       "  color: var(--sklearn-color-background);\n",
       "  text-decoration: none;\n",
       "}\n",
       "\n",
       "#sk-container-id-3 a.estimator_doc_link.fitted:hover {\n",
       "  /* fitted */\n",
       "  background-color: var(--sklearn-color-fitted-level-3);\n",
       "}\n",
       "</style><div id=\"sk-container-id-3\" class=\"sk-top-container\"><div class=\"sk-text-repr-fallback\"><pre>LinearRegression()</pre><b>In a Jupyter environment, please rerun this cell to show the HTML representation or trust the notebook. <br />On GitHub, the HTML representation is unable to render, please try loading this page with nbviewer.org.</b></div><div class=\"sk-container\" hidden><div class=\"sk-item\"><div class=\"sk-estimator fitted sk-toggleable\"><input class=\"sk-toggleable__control sk-hidden--visually\" id=\"sk-estimator-id-3\" type=\"checkbox\" checked><label for=\"sk-estimator-id-3\" class=\"sk-toggleable__label fitted sk-toggleable__label-arrow\"><div><div>LinearRegression</div></div><div><a class=\"sk-estimator-doc-link fitted\" rel=\"noreferrer\" target=\"_blank\" href=\"https://scikit-learn.org/1.6/modules/generated/sklearn.linear_model.LinearRegression.html\">?<span>Documentation for LinearRegression</span></a><span class=\"sk-estimator-doc-link fitted\">i<span>Fitted</span></span></div></label><div class=\"sk-toggleable__content fitted\"><pre>LinearRegression()</pre></div> </div></div></div></div>"
      ],
      "text/plain": [
       "LinearRegression()"
      ]
     },
     "execution_count": 80,
     "metadata": {},
     "output_type": "execute_result"
    }
   ],
   "source": [
    "lr = LinearRegression()\n",
    "lr.fit(X_multi_trans, z)"
   ]
  },
  {
   "cell_type": "code",
   "execution_count": 81,
   "id": "e1ae5ef8",
   "metadata": {},
   "outputs": [
    {
     "data": {
      "text/plain": [
       "array([[ 1.00000000e+00, -2.70518438e+00, -2.74140971e+00, ...,\n",
       "         1.34172725e+13,  1.35969442e+13,  1.37790219e+13],\n",
       "       [ 1.00000000e+00, -1.94481387e+00, -2.74140971e+00, ...,\n",
       "         6.93468251e+12,  9.77512876e+12,  1.37790219e+13],\n",
       "       [ 1.00000000e+00, -1.18444336e+00, -2.74140971e+00, ...,\n",
       "         2.57216657e+12,  5.95331333e+12,  1.37790219e+13],\n",
       "       ...,\n",
       "       [ 1.00000000e+00,  2.61740919e+00,  4.08253339e+00, ...,\n",
       "         8.74532845e+17,  1.36406243e+18,  2.12761170e+18],\n",
       "       [ 1.00000000e+00,  3.37777970e+00,  4.08253339e+00, ...,\n",
       "         1.45644980e+18,  1.76032941e+18,  2.12761170e+18],\n",
       "       [ 1.00000000e+00,  4.13815021e+00,  4.08253339e+00, ...,\n",
       "         2.18597596e+18,  2.15659640e+18,  2.12761170e+18]],\n",
       "      shape=(100, 496))"
      ]
     },
     "execution_count": 81,
     "metadata": {},
     "output_type": "execute_result"
    }
   ],
   "source": [
    "X_test_multi = poly.transform(final)\n",
    "X_test_multi"
   ]
  },
  {
   "cell_type": "code",
   "execution_count": 82,
   "id": "3b589681",
   "metadata": {},
   "outputs": [],
   "source": [
    "# predict based on the z\n",
    "z_final = lr.predict(X_multi_trans).reshape(10,10)"
   ]
  },
  {
   "cell_type": "markdown",
   "id": "577a54ab",
   "metadata": {},
   "source": [
    "# Now next see the degree polynomial of plane  "
   ]
  },
  {
   "cell_type": "code",
   "execution_count": 86,
   "id": "522205af",
   "metadata": {},
   "outputs": [
    {
     "data": {
      "application/vnd.plotly.v1+json": {
       "config": {
        "plotlyServerURL": "https://plot.ly"
       },
       "data": [
        {
         "hovertemplate": "x=%{x}<br>y=%{y}<br>z=%{z}<extra></extra>",
         "legendgroup": "",
         "marker": {
          "color": "#636efa",
          "symbol": "circle"
         },
         "mode": "markers",
         "name": "",
         "scene": "scene",
         "showlegend": false,
         "type": "scatter3d",
         "x": {
          "bdata": "36/CwvYjEEBGCYHYn2YIQLKo3FdRqAhAjvAvs9meDED6cMqALocAwHBaegrgwtM/Uncptwy7AEDmwuo665cAwM8XlwxXiP2/kJoezK7izL/kbRTGKgcOQGVR7T93jRBAbLi1baKzD0CI3491nkbrv+DqbISG4Pw/eonIdBwW+b+m6TgrCkT2v6SwpLQ3pAXAqI/fJ/GM1j8E6hOGh70MQPoWJv0rKgBAVOkWpdz3778egfphfU4EwCl8RHtEcALAADKOX7JSAEDt1Q0m20gDwJwLjzQAgQdAnC1cQs+EA0AwMFHxIJ7uP8CVaT5vAvQ/yhkFsldyC0DqNLElFTkDQAQFcRMVj+e/9h0vGOC3AsDcDu/Zns34PxDlAAnISgBAWJXnsLgpDkA2bfaKNygDwFodKUg+jgpAKk5fHVg68T9gsTu9fHDZv0yZR0naUglApCoPV8S287+IM/tmva/+P5TBXQx6y/k/WBTvnwLH9D8K/s66XswPQPA6S1x/5/U/0OAbSeQ+6L8jP8KpQ1EQQMaK1WmJOAlAJvnG2vaRDEAkAyjprusCQEA6Ml/dqq2/WanguuLmA8Ar8P5nUHkCwB3U1eZwbPG/8CjLStM+/D+ApTE5Bg8BwAD0m5bUTIY/gL5kWB/ErL+sSB+cBOrpP567f70pCAHAwBG3TEb36D8kLZHi3vf+vyhKy7zoewdAICWHdN9GxD+SgG/sCXn6v3zfL2Wz8/Y/OBoS7/+c5r+hZ2ZkQLEDwDyWtLHyEA1A0IsWtbGk1z/kTpe2OVv5P9v2eyB9cxBAzthWHtOHC0Beo+x3AgX3v0w6X1TuuPM/clrK62zZDUAuj6DAQG0JQDjpDOydCQNAOCWk6I5T/T8IG47it/ntP67ZRgJVGwRAuGLS8+Xu9L9cHkU42Nz6P1zxW3dUgQHAMJdvAkTQ+7+W3MdZd6kDQAwsQ1koYghAHiVq2v0+87+QE+HZwjMDwJi+q8iRBOQ/8HS+iqdWAEBG/vztdw0JQGicUNB7c9Y/EOe6lqGW47+EouhWdBD/P26l2FVmi/y/hB49OCwAAUA=",
          "dtype": "f8"
         },
         "y": {
          "bdata": "Q6bcUxKk/L+EdRYLqP/5P+cVMaKDVBBA0AJFAE1s+L9v9YM2aO4FwNKrdTkfxA1AqEkyngnuCEAQ9vhGAL73PwAejyWR3+o/ZFO36WB/C0As/Fh4v5IFQHxzdhzVY+e/9r+cxpCO8D/s9b/r8nH1P2oiCc2lrARAMAlGGSPg3j/gR/9ByF/Dv4B1vorhXew/0KdgY+XGAcCcRukMuoQIQKBhfW/Lbui/uEUYeF0H47+se57T/7HzPx6ovA/PAAFAnAV+ag0N/T+kR1Udy1X+P9AUX64XffY/stNPRvcYBMA2lB8+7bPyPyhFm3Y5KuS/eF9zKqNW/j9I+ywfxj/ZvyQ7O/RzUPk/NrH0a8XZ8b8M0hL11pIKQODiJEK3//G/WGSkamXT+T9KP58MWeUKQN7H9z6NIAxAUJn+GFKz1z/xE/nJzHcBwN6CHlEKbPK/WjWl5m1IA0Ds+FxPU9wCwPDverMSOg1AwFDXXnpnsb82ChS1a9r+v+L93f2gwADA/nVdBWlqCkAAMdWLlMq5v5q84+7iFg1Ayh32w/wqDECAfGSmncjlP01l9LA/TwDAtqgrwo6N/7/nU7+z88cCwDSATBa3LuA/sYcjO06W9b+kEDhvovn2vwC9iIebWpc/LpPU3vUfBkA45J3cLCLfvyha3dhowP8/MhpQHQ+SC0CcPW3x0FULQFaUWImoPAZAKIREu5E91T/s2jk2T2gIQNDhY6LGpwpA4Ph15wi7B0Bw1BFokQoFwMTIvdAoo/Y/hOTcaCs/5T/87CDaJbH7P+aOYMBhrfE/eO/pFd+x/D9Qa2v2RuDgP/HpgO0hZQHA8JjV8pWo8T/uMr/xS6bwP9pWOdunz/G/aCnzZ/NrBcD+uvSCOPoCQKqyEd/Es/+/aKymK8kGB0AmQmstD/sFQDjnXNRMXdU/AMZF2p1tjj8cu9xNwO4KQOaDSV4k8Pm/YLHyGcjbBkDQRePeMb7mP0Rttf91xgRAjfNeMFT+BMCgythmv+3WP4SAMGAZTv6/MJx6FZznDUCgDLDoP2/TP0RIYxQxDPu/0IO7elgyDEA=",
          "dtype": "f8"
         },
         "z": {
          "bdata": "HRHwf5QdNUAkfsPNhP4wQGz7zZEAGkBARhSORByQMECyLBo17sErQKR3HkrZ/zBAwejAGvgXMkDxUSg7PI8gQLU5+SyVqhpA1NQUJcejKUA1fo2PzG05QDbwEj+aeTVASpGPQmiZNEAYS/FUxlYVQJtWncl5PypAT5yshqCHFUAoff/+ybYSQMjvvGm/QCJArWQVecirE0AxbVgIQNA5QI6MC/BepBtA/v8FNcQzEEDpL0oDA10jQINl8JD5eShAO8tJGIuiJUCNLrUZzsUmQMH8MYd9yytAwEjbf/hgKUAtWGgnoRgYQJRI0/nZWg1AOQEwPs4ZM0BDzrpR/HMhQNhL3aqi7BNAH39Qp3PmIEAOQhTCmAstQDuvw9jkxR5AnnSz/LvbNEANJE7/hNszQMdHNki8xz1AjfUBQgMUFUDqUMOIFvwcQKNsQGzu7ShAUUTMJKpVI0AqB2HXVGEpQCYeToo5NzNAd/IUrOUEFEDjSnlrr3Y2QC6wxLerHRtAp/0KtjmBLkC3CJ3O0+cyQPtluMRNBTpAFmCK1DcFPUC40+8yw1ckQJjl+slRsRdAjHJdLteuKkBzcib6Uh0rQLA/KlRpWQ9AEWMr238pG0D0+rj0V10jQACeA9dKFgRAjaJZZ6X4IkCLMq8In6IGQMLVpIr3YyVAxkWsyJluLkDl2dSeppYxQA7QPIAdSDRAtQdMjJD3/z8OtGLzvggsQP7isfOZ+C1A7ftwARB3JUDX+6mgXLEtQHjVob1zwjJAK0+u9YE++D+3PnTj/WojQPCb0XB7PTVAzk2hO6zaM0DYdhimaZkSQCop8OxzlRxAlgIPBKeeMkAGj7YJYTkuQA5hXtqTmyNAX/V+hU7VKUBeZa7VaS4jQKIpeFQGcSVA1SiJc2tjKEAey05jfjssQPrvCG8m5RxAvN4XAjL3FEA+wOftmdg0QJ9LX03snSpAyu5tjJceKUCrWWt9mlghQDQ6fkEq3CNAhOtNiMdsK0DCVPA9cdAoQMYNMNowgR1AMFskj+p9MECDEUJQvhIVQNGhuSga/xxAS4cdQoPxNEA=",
          "dtype": "f8"
         }
        },
        {
         "type": "surface",
         "x": {
          "bdata": "pLCktDekBcC+Trsk9R3/vzQ8LeB68/K/qKZ8bgIk27+Ao7uj5oXVP2r7fO3zi/E/9A0LMm62/T9AkEw7dPAEQISZk12xBQtAZVHtP3eNEEA=",
          "dtype": "f8"
         },
         "y": {
          "bdata": "b/WDNmjuBcBfHCpuKbv/v+BNTG+CmfO/iP25wW3f3b94PL05LqfSP54dTY1yy/A/GuwqjBnt/D9NXYRFYIcEQI1E88QzmApA5xUxooNUEEA=",
          "dtype": "f8"
         },
         "z": {
          "bdata": "Tlr6uZEdNUBOWvrJhP4wQN7dLrJKE0BAbhKj5uGQMEAHGW2oDoArQE5a+rnu/zBATlr62fgXMkAAPonqexQgQDjpw+uOqhpAnLT0OcajKUBsjyM5xag5QE5qAcWfeTVATlKIY2OZNEA4aXkw0VYVQGDEz4YJvClAOGnpQ5+HFUA4E5A8YrUSQHw0oCswLyJAOGnph8mrE0BOWi6iPtA5QDhp6fdcpBtARPI6B74eCEBeEZWpH7cpQJy09BP8eShAnLT0c4uiJUCctPQzzcUmQJxMFqECCSxAnPS+y+VgKUC97eSYnbcnQFC8w1NIhQ1AgPEudBW8KUB06fKPvXchQDhpB7Oi7BNATRKBla3aKEBK9UO4fr4pQDhp6ffixR5ABP0ska7SKUBOWvq5edszQPAKYF9JuSlAOGnppwIUFUA4YeUmBPocQJwko5H97ihA1yaohw9JKEDcDT475GApQE5aOmE5NzNAOIEfufcEFECa5CdRDSw2QDhp2QSPHRtAvqvvSVjQLkAebO21OegyQGEo0ak7ADpATlr62T0FPUCctPTzwlckQDhpqZtQsRdAnLT0bdauKkCclHh2FR0rQIqqSbrYuylAOEEsx8MWG0AGQ451FbwpQHDSctFGFgRACrAKdBW8KUBw5MyRrHQFQBwrEGrXEiVAnJQLm6BuLkBdsQIEHLwpQGyZcgZbrSpACW3gK1PYKUCctBSTvggsQJy09MGY+C1AnLR0ihB3JUAgEkw2srAtQE7er7xtwjJA4KSlf3s++D8cQo11L2wjQE5aUql5PTVATlr62araM0CYJ791zG0SQDi5E+pflRxAz+x5cCO6KUBntF48TcApQJy0eNiCmyNAnLT0X03VKUCctPRnaC4jQJy0vBAFcSVAnLT0b2pjKECchEFUfTssQKCp1losKypAoC5Lz1msKUDOyU5IZ9g0QF1pYhYUvClAnBTnCpweKUCcMpgonVghQJy0dMIr3CNA5iT1cxW8KUCctNQ3cNAoQDjph1D0gh1ATtonS+p9MECg1wvDePYVQDhp6bMZ/xxATlr6wILxNEA=",
          "dtype": "f8",
          "shape": "10, 10"
         }
        }
       ],
       "layout": {
        "legend": {
         "tracegroupgap": 0
        },
        "margin": {
         "t": 60
        },
        "scene": {
         "domain": {
          "x": [
           0,
           1
          ],
          "y": [
           0,
           1
          ]
         },
         "xaxis": {
          "title": {
           "text": "x"
          }
         },
         "yaxis": {
          "title": {
           "text": "y"
          }
         },
         "zaxis": {
          "range": [
           0,
           35
          ],
          "title": {
           "text": "z"
          }
         }
        },
        "template": {
         "data": {
          "bar": [
           {
            "error_x": {
             "color": "#2a3f5f"
            },
            "error_y": {
             "color": "#2a3f5f"
            },
            "marker": {
             "line": {
              "color": "#E5ECF6",
              "width": 0.5
             },
             "pattern": {
              "fillmode": "overlay",
              "size": 10,
              "solidity": 0.2
             }
            },
            "type": "bar"
           }
          ],
          "barpolar": [
           {
            "marker": {
             "line": {
              "color": "#E5ECF6",
              "width": 0.5
             },
             "pattern": {
              "fillmode": "overlay",
              "size": 10,
              "solidity": 0.2
             }
            },
            "type": "barpolar"
           }
          ],
          "carpet": [
           {
            "aaxis": {
             "endlinecolor": "#2a3f5f",
             "gridcolor": "white",
             "linecolor": "white",
             "minorgridcolor": "white",
             "startlinecolor": "#2a3f5f"
            },
            "baxis": {
             "endlinecolor": "#2a3f5f",
             "gridcolor": "white",
             "linecolor": "white",
             "minorgridcolor": "white",
             "startlinecolor": "#2a3f5f"
            },
            "type": "carpet"
           }
          ],
          "choropleth": [
           {
            "colorbar": {
             "outlinewidth": 0,
             "ticks": ""
            },
            "type": "choropleth"
           }
          ],
          "contour": [
           {
            "colorbar": {
             "outlinewidth": 0,
             "ticks": ""
            },
            "colorscale": [
             [
              0,
              "#0d0887"
             ],
             [
              0.1111111111111111,
              "#46039f"
             ],
             [
              0.2222222222222222,
              "#7201a8"
             ],
             [
              0.3333333333333333,
              "#9c179e"
             ],
             [
              0.4444444444444444,
              "#bd3786"
             ],
             [
              0.5555555555555556,
              "#d8576b"
             ],
             [
              0.6666666666666666,
              "#ed7953"
             ],
             [
              0.7777777777777778,
              "#fb9f3a"
             ],
             [
              0.8888888888888888,
              "#fdca26"
             ],
             [
              1,
              "#f0f921"
             ]
            ],
            "type": "contour"
           }
          ],
          "contourcarpet": [
           {
            "colorbar": {
             "outlinewidth": 0,
             "ticks": ""
            },
            "type": "contourcarpet"
           }
          ],
          "heatmap": [
           {
            "colorbar": {
             "outlinewidth": 0,
             "ticks": ""
            },
            "colorscale": [
             [
              0,
              "#0d0887"
             ],
             [
              0.1111111111111111,
              "#46039f"
             ],
             [
              0.2222222222222222,
              "#7201a8"
             ],
             [
              0.3333333333333333,
              "#9c179e"
             ],
             [
              0.4444444444444444,
              "#bd3786"
             ],
             [
              0.5555555555555556,
              "#d8576b"
             ],
             [
              0.6666666666666666,
              "#ed7953"
             ],
             [
              0.7777777777777778,
              "#fb9f3a"
             ],
             [
              0.8888888888888888,
              "#fdca26"
             ],
             [
              1,
              "#f0f921"
             ]
            ],
            "type": "heatmap"
           }
          ],
          "histogram": [
           {
            "marker": {
             "pattern": {
              "fillmode": "overlay",
              "size": 10,
              "solidity": 0.2
             }
            },
            "type": "histogram"
           }
          ],
          "histogram2d": [
           {
            "colorbar": {
             "outlinewidth": 0,
             "ticks": ""
            },
            "colorscale": [
             [
              0,
              "#0d0887"
             ],
             [
              0.1111111111111111,
              "#46039f"
             ],
             [
              0.2222222222222222,
              "#7201a8"
             ],
             [
              0.3333333333333333,
              "#9c179e"
             ],
             [
              0.4444444444444444,
              "#bd3786"
             ],
             [
              0.5555555555555556,
              "#d8576b"
             ],
             [
              0.6666666666666666,
              "#ed7953"
             ],
             [
              0.7777777777777778,
              "#fb9f3a"
             ],
             [
              0.8888888888888888,
              "#fdca26"
             ],
             [
              1,
              "#f0f921"
             ]
            ],
            "type": "histogram2d"
           }
          ],
          "histogram2dcontour": [
           {
            "colorbar": {
             "outlinewidth": 0,
             "ticks": ""
            },
            "colorscale": [
             [
              0,
              "#0d0887"
             ],
             [
              0.1111111111111111,
              "#46039f"
             ],
             [
              0.2222222222222222,
              "#7201a8"
             ],
             [
              0.3333333333333333,
              "#9c179e"
             ],
             [
              0.4444444444444444,
              "#bd3786"
             ],
             [
              0.5555555555555556,
              "#d8576b"
             ],
             [
              0.6666666666666666,
              "#ed7953"
             ],
             [
              0.7777777777777778,
              "#fb9f3a"
             ],
             [
              0.8888888888888888,
              "#fdca26"
             ],
             [
              1,
              "#f0f921"
             ]
            ],
            "type": "histogram2dcontour"
           }
          ],
          "mesh3d": [
           {
            "colorbar": {
             "outlinewidth": 0,
             "ticks": ""
            },
            "type": "mesh3d"
           }
          ],
          "parcoords": [
           {
            "line": {
             "colorbar": {
              "outlinewidth": 0,
              "ticks": ""
             }
            },
            "type": "parcoords"
           }
          ],
          "pie": [
           {
            "automargin": true,
            "type": "pie"
           }
          ],
          "scatter": [
           {
            "fillpattern": {
             "fillmode": "overlay",
             "size": 10,
             "solidity": 0.2
            },
            "type": "scatter"
           }
          ],
          "scatter3d": [
           {
            "line": {
             "colorbar": {
              "outlinewidth": 0,
              "ticks": ""
             }
            },
            "marker": {
             "colorbar": {
              "outlinewidth": 0,
              "ticks": ""
             }
            },
            "type": "scatter3d"
           }
          ],
          "scattercarpet": [
           {
            "marker": {
             "colorbar": {
              "outlinewidth": 0,
              "ticks": ""
             }
            },
            "type": "scattercarpet"
           }
          ],
          "scattergeo": [
           {
            "marker": {
             "colorbar": {
              "outlinewidth": 0,
              "ticks": ""
             }
            },
            "type": "scattergeo"
           }
          ],
          "scattergl": [
           {
            "marker": {
             "colorbar": {
              "outlinewidth": 0,
              "ticks": ""
             }
            },
            "type": "scattergl"
           }
          ],
          "scattermap": [
           {
            "marker": {
             "colorbar": {
              "outlinewidth": 0,
              "ticks": ""
             }
            },
            "type": "scattermap"
           }
          ],
          "scattermapbox": [
           {
            "marker": {
             "colorbar": {
              "outlinewidth": 0,
              "ticks": ""
             }
            },
            "type": "scattermapbox"
           }
          ],
          "scatterpolar": [
           {
            "marker": {
             "colorbar": {
              "outlinewidth": 0,
              "ticks": ""
             }
            },
            "type": "scatterpolar"
           }
          ],
          "scatterpolargl": [
           {
            "marker": {
             "colorbar": {
              "outlinewidth": 0,
              "ticks": ""
             }
            },
            "type": "scatterpolargl"
           }
          ],
          "scatterternary": [
           {
            "marker": {
             "colorbar": {
              "outlinewidth": 0,
              "ticks": ""
             }
            },
            "type": "scatterternary"
           }
          ],
          "surface": [
           {
            "colorbar": {
             "outlinewidth": 0,
             "ticks": ""
            },
            "colorscale": [
             [
              0,
              "#0d0887"
             ],
             [
              0.1111111111111111,
              "#46039f"
             ],
             [
              0.2222222222222222,
              "#7201a8"
             ],
             [
              0.3333333333333333,
              "#9c179e"
             ],
             [
              0.4444444444444444,
              "#bd3786"
             ],
             [
              0.5555555555555556,
              "#d8576b"
             ],
             [
              0.6666666666666666,
              "#ed7953"
             ],
             [
              0.7777777777777778,
              "#fb9f3a"
             ],
             [
              0.8888888888888888,
              "#fdca26"
             ],
             [
              1,
              "#f0f921"
             ]
            ],
            "type": "surface"
           }
          ],
          "table": [
           {
            "cells": {
             "fill": {
              "color": "#EBF0F8"
             },
             "line": {
              "color": "white"
             }
            },
            "header": {
             "fill": {
              "color": "#C8D4E3"
             },
             "line": {
              "color": "white"
             }
            },
            "type": "table"
           }
          ]
         },
         "layout": {
          "annotationdefaults": {
           "arrowcolor": "#2a3f5f",
           "arrowhead": 0,
           "arrowwidth": 1
          },
          "autotypenumbers": "strict",
          "coloraxis": {
           "colorbar": {
            "outlinewidth": 0,
            "ticks": ""
           }
          },
          "colorscale": {
           "diverging": [
            [
             0,
             "#8e0152"
            ],
            [
             0.1,
             "#c51b7d"
            ],
            [
             0.2,
             "#de77ae"
            ],
            [
             0.3,
             "#f1b6da"
            ],
            [
             0.4,
             "#fde0ef"
            ],
            [
             0.5,
             "#f7f7f7"
            ],
            [
             0.6,
             "#e6f5d0"
            ],
            [
             0.7,
             "#b8e186"
            ],
            [
             0.8,
             "#7fbc41"
            ],
            [
             0.9,
             "#4d9221"
            ],
            [
             1,
             "#276419"
            ]
           ],
           "sequential": [
            [
             0,
             "#0d0887"
            ],
            [
             0.1111111111111111,
             "#46039f"
            ],
            [
             0.2222222222222222,
             "#7201a8"
            ],
            [
             0.3333333333333333,
             "#9c179e"
            ],
            [
             0.4444444444444444,
             "#bd3786"
            ],
            [
             0.5555555555555556,
             "#d8576b"
            ],
            [
             0.6666666666666666,
             "#ed7953"
            ],
            [
             0.7777777777777778,
             "#fb9f3a"
            ],
            [
             0.8888888888888888,
             "#fdca26"
            ],
            [
             1,
             "#f0f921"
            ]
           ],
           "sequentialminus": [
            [
             0,
             "#0d0887"
            ],
            [
             0.1111111111111111,
             "#46039f"
            ],
            [
             0.2222222222222222,
             "#7201a8"
            ],
            [
             0.3333333333333333,
             "#9c179e"
            ],
            [
             0.4444444444444444,
             "#bd3786"
            ],
            [
             0.5555555555555556,
             "#d8576b"
            ],
            [
             0.6666666666666666,
             "#ed7953"
            ],
            [
             0.7777777777777778,
             "#fb9f3a"
            ],
            [
             0.8888888888888888,
             "#fdca26"
            ],
            [
             1,
             "#f0f921"
            ]
           ]
          },
          "colorway": [
           "#636efa",
           "#EF553B",
           "#00cc96",
           "#ab63fa",
           "#FFA15A",
           "#19d3f3",
           "#FF6692",
           "#B6E880",
           "#FF97FF",
           "#FECB52"
          ],
          "font": {
           "color": "#2a3f5f"
          },
          "geo": {
           "bgcolor": "white",
           "lakecolor": "white",
           "landcolor": "#E5ECF6",
           "showlakes": true,
           "showland": true,
           "subunitcolor": "white"
          },
          "hoverlabel": {
           "align": "left"
          },
          "hovermode": "closest",
          "mapbox": {
           "style": "light"
          },
          "paper_bgcolor": "white",
          "plot_bgcolor": "#E5ECF6",
          "polar": {
           "angularaxis": {
            "gridcolor": "white",
            "linecolor": "white",
            "ticks": ""
           },
           "bgcolor": "#E5ECF6",
           "radialaxis": {
            "gridcolor": "white",
            "linecolor": "white",
            "ticks": ""
           }
          },
          "scene": {
           "xaxis": {
            "backgroundcolor": "#E5ECF6",
            "gridcolor": "white",
            "gridwidth": 2,
            "linecolor": "white",
            "showbackground": true,
            "ticks": "",
            "zerolinecolor": "white"
           },
           "yaxis": {
            "backgroundcolor": "#E5ECF6",
            "gridcolor": "white",
            "gridwidth": 2,
            "linecolor": "white",
            "showbackground": true,
            "ticks": "",
            "zerolinecolor": "white"
           },
           "zaxis": {
            "backgroundcolor": "#E5ECF6",
            "gridcolor": "white",
            "gridwidth": 2,
            "linecolor": "white",
            "showbackground": true,
            "ticks": "",
            "zerolinecolor": "white"
           }
          },
          "shapedefaults": {
           "line": {
            "color": "#2a3f5f"
           }
          },
          "ternary": {
           "aaxis": {
            "gridcolor": "white",
            "linecolor": "white",
            "ticks": ""
           },
           "baxis": {
            "gridcolor": "white",
            "linecolor": "white",
            "ticks": ""
           },
           "bgcolor": "#E5ECF6",
           "caxis": {
            "gridcolor": "white",
            "linecolor": "white",
            "ticks": ""
           }
          },
          "title": {
           "x": 0.05
          },
          "xaxis": {
           "automargin": true,
           "gridcolor": "white",
           "linecolor": "white",
           "ticks": "",
           "title": {
            "standoff": 15
           },
           "zerolinecolor": "white",
           "zerolinewidth": 2
          },
          "yaxis": {
           "automargin": true,
           "gridcolor": "white",
           "linecolor": "white",
           "ticks": "",
           "title": {
            "standoff": 15
           },
           "zerolinecolor": "white",
           "zerolinewidth": 2
          }
         }
        }
       }
      }
     },
     "metadata": {},
     "output_type": "display_data"
    }
   ],
   "source": [
    "fig = px.scatter_3d(\n",
    "    x=x.ravel(),\n",
    "    y=y.ravel(),\n",
    "    z=z.ravel()\n",
    ")\n",
    "\n",
    "fig.add_trace(\n",
    "    go.Surface(x = x_input, y = y_input, z =z_final)\n",
    ")\n",
    "\n",
    "fig.update_layout(scene = dict(zaxis = dict(range=[0,35])))\n",
    "\n",
    "fig.show()"
   ]
  },
  {
   "cell_type": "code",
   "execution_count": null,
   "id": "fca82f32",
   "metadata": {},
   "outputs": [],
   "source": [
    "def plot_n_degree_graph(degree=10):\n",
    "\n",
    "    lr = LinearRegression()\n",
    "\n",
    "    # Apply the model\n",
    "    lr = LinearRegression()\n",
    "    lr.fit(np.array([x,y]).reshape(100,2),z)\n",
    "\n",
    "    # input columns\n",
    "    x_input = np.linspace(x.min(), x.max(), 10)\n",
    "    y_input = np.linspace(y.min(), y.max(), 10)\n",
    "    xGrid, yGrid = np.meshgrid(x_input,y_input)\n",
    "\n",
    "    # Make a mesh\n",
    "    final = np.vstack((xGrid.ravel().reshape(1,100),yGrid.ravel().reshape(1,100))).T\n",
    "\n",
    "    # Prediction plane\n",
    "    z_final = lr.predict(final).reshape(10,10)\n",
    "\n",
    "    X_multi = np.array([x,y]).reshape(100,2)\n",
    "\n",
    "    # apply the polynomial \n",
    "    poly = PolynomialFeatures(degree=degree)\n",
    "    X_multi_trans = poly.fit_transform(X_multi)\n",
    "\n",
    "    lr.fit(X_multi_trans, z)\n",
    "    X_test_multi = poly.transform(final)\n",
    "    z_final = lr.predict(X_multi_trans).reshape(10,10)\n",
    "\n",
    "    # plot the graph\n",
    "    fig = px.scatter_3d(x=x.ravel(), y=y.ravel(), z=z.ravel())\n",
    "    fig.add_trace(go.Surface(x = x_input, y = y_input, z =z_final))\n",
    "    fig.update_layout(scene = dict(zaxis = dict(range=[0,35])))\n",
    "    fig.show()"
   ]
  },
  {
   "cell_type": "code",
   "execution_count": 94,
   "id": "14e00f4d",
   "metadata": {},
   "outputs": [
    {
     "name": "stdout",
     "output_type": "stream",
     "text": [
      "(100, 231) (100, 2)\n"
     ]
    },
    {
     "data": {
      "application/vnd.plotly.v1+json": {
       "config": {
        "plotlyServerURL": "https://plot.ly"
       },
       "data": [
        {
         "hovertemplate": "x=%{x}<br>y=%{y}<br>z=%{z}<extra></extra>",
         "legendgroup": "",
         "marker": {
          "color": "#636efa",
          "symbol": "circle"
         },
         "mode": "markers",
         "name": "",
         "scene": "scene",
         "showlegend": false,
         "type": "scatter3d",
         "x": {
          "bdata": "36/CwvYjEEBGCYHYn2YIQLKo3FdRqAhAjvAvs9meDED6cMqALocAwHBaegrgwtM/Uncptwy7AEDmwuo665cAwM8XlwxXiP2/kJoezK7izL/kbRTGKgcOQGVR7T93jRBAbLi1baKzD0CI3491nkbrv+DqbISG4Pw/eonIdBwW+b+m6TgrCkT2v6SwpLQ3pAXAqI/fJ/GM1j8E6hOGh70MQPoWJv0rKgBAVOkWpdz3778egfphfU4EwCl8RHtEcALAADKOX7JSAEDt1Q0m20gDwJwLjzQAgQdAnC1cQs+EA0AwMFHxIJ7uP8CVaT5vAvQ/yhkFsldyC0DqNLElFTkDQAQFcRMVj+e/9h0vGOC3AsDcDu/Zns34PxDlAAnISgBAWJXnsLgpDkA2bfaKNygDwFodKUg+jgpAKk5fHVg68T9gsTu9fHDZv0yZR0naUglApCoPV8S287+IM/tmva/+P5TBXQx6y/k/WBTvnwLH9D8K/s66XswPQPA6S1x/5/U/0OAbSeQ+6L8jP8KpQ1EQQMaK1WmJOAlAJvnG2vaRDEAkAyjprusCQEA6Ml/dqq2/WanguuLmA8Ar8P5nUHkCwB3U1eZwbPG/8CjLStM+/D+ApTE5Bg8BwAD0m5bUTIY/gL5kWB/ErL+sSB+cBOrpP567f70pCAHAwBG3TEb36D8kLZHi3vf+vyhKy7zoewdAICWHdN9GxD+SgG/sCXn6v3zfL2Wz8/Y/OBoS7/+c5r+hZ2ZkQLEDwDyWtLHyEA1A0IsWtbGk1z/kTpe2OVv5P9v2eyB9cxBAzthWHtOHC0Beo+x3AgX3v0w6X1TuuPM/clrK62zZDUAuj6DAQG0JQDjpDOydCQNAOCWk6I5T/T8IG47it/ntP67ZRgJVGwRAuGLS8+Xu9L9cHkU42Nz6P1zxW3dUgQHAMJdvAkTQ+7+W3MdZd6kDQAwsQ1koYghAHiVq2v0+87+QE+HZwjMDwJi+q8iRBOQ/8HS+iqdWAEBG/vztdw0JQGicUNB7c9Y/EOe6lqGW47+EouhWdBD/P26l2FVmi/y/hB49OCwAAUA=",
          "dtype": "f8"
         },
         "y": {
          "bdata": "Q6bcUxKk/L+EdRYLqP/5P+cVMaKDVBBA0AJFAE1s+L9v9YM2aO4FwNKrdTkfxA1AqEkyngnuCEAQ9vhGAL73PwAejyWR3+o/ZFO36WB/C0As/Fh4v5IFQHxzdhzVY+e/9r+cxpCO8D/s9b/r8nH1P2oiCc2lrARAMAlGGSPg3j/gR/9ByF/Dv4B1vorhXew/0KdgY+XGAcCcRukMuoQIQKBhfW/Lbui/uEUYeF0H47+se57T/7HzPx6ovA/PAAFAnAV+ag0N/T+kR1Udy1X+P9AUX64XffY/stNPRvcYBMA2lB8+7bPyPyhFm3Y5KuS/eF9zKqNW/j9I+ywfxj/ZvyQ7O/RzUPk/NrH0a8XZ8b8M0hL11pIKQODiJEK3//G/WGSkamXT+T9KP58MWeUKQN7H9z6NIAxAUJn+GFKz1z/xE/nJzHcBwN6CHlEKbPK/WjWl5m1IA0Ds+FxPU9wCwPDverMSOg1AwFDXXnpnsb82ChS1a9r+v+L93f2gwADA/nVdBWlqCkAAMdWLlMq5v5q84+7iFg1Ayh32w/wqDECAfGSmncjlP01l9LA/TwDAtqgrwo6N/7/nU7+z88cCwDSATBa3LuA/sYcjO06W9b+kEDhvovn2vwC9iIebWpc/LpPU3vUfBkA45J3cLCLfvyha3dhowP8/MhpQHQ+SC0CcPW3x0FULQFaUWImoPAZAKIREu5E91T/s2jk2T2gIQNDhY6LGpwpA4Ph15wi7B0Bw1BFokQoFwMTIvdAoo/Y/hOTcaCs/5T/87CDaJbH7P+aOYMBhrfE/eO/pFd+x/D9Qa2v2RuDgP/HpgO0hZQHA8JjV8pWo8T/uMr/xS6bwP9pWOdunz/G/aCnzZ/NrBcD+uvSCOPoCQKqyEd/Es/+/aKymK8kGB0AmQmstD/sFQDjnXNRMXdU/AMZF2p1tjj8cu9xNwO4KQOaDSV4k8Pm/YLHyGcjbBkDQRePeMb7mP0Rttf91xgRAjfNeMFT+BMCgythmv+3WP4SAMGAZTv6/MJx6FZznDUCgDLDoP2/TP0RIYxQxDPu/0IO7elgyDEA=",
          "dtype": "f8"
         },
         "z": {
          "bdata": "HRHwf5QdNUAkfsPNhP4wQGz7zZEAGkBARhSORByQMECyLBo17sErQKR3HkrZ/zBAwejAGvgXMkDxUSg7PI8gQLU5+SyVqhpA1NQUJcejKUA1fo2PzG05QDbwEj+aeTVASpGPQmiZNEAYS/FUxlYVQJtWncl5PypAT5yshqCHFUAoff/+ybYSQMjvvGm/QCJArWQVecirE0AxbVgIQNA5QI6MC/BepBtA/v8FNcQzEEDpL0oDA10jQINl8JD5eShAO8tJGIuiJUCNLrUZzsUmQMH8MYd9yytAwEjbf/hgKUAtWGgnoRgYQJRI0/nZWg1AOQEwPs4ZM0BDzrpR/HMhQNhL3aqi7BNAH39Qp3PmIEAOQhTCmAstQDuvw9jkxR5AnnSz/LvbNEANJE7/hNszQMdHNki8xz1AjfUBQgMUFUDqUMOIFvwcQKNsQGzu7ShAUUTMJKpVI0AqB2HXVGEpQCYeToo5NzNAd/IUrOUEFEDjSnlrr3Y2QC6wxLerHRtAp/0KtjmBLkC3CJ3O0+cyQPtluMRNBTpAFmCK1DcFPUC40+8yw1ckQJjl+slRsRdAjHJdLteuKkBzcib6Uh0rQLA/KlRpWQ9AEWMr238pG0D0+rj0V10jQACeA9dKFgRAjaJZZ6X4IkCLMq8In6IGQMLVpIr3YyVAxkWsyJluLkDl2dSeppYxQA7QPIAdSDRAtQdMjJD3/z8OtGLzvggsQP7isfOZ+C1A7ftwARB3JUDX+6mgXLEtQHjVob1zwjJAK0+u9YE++D+3PnTj/WojQPCb0XB7PTVAzk2hO6zaM0DYdhimaZkSQCop8OxzlRxAlgIPBKeeMkAGj7YJYTkuQA5hXtqTmyNAX/V+hU7VKUBeZa7VaS4jQKIpeFQGcSVA1SiJc2tjKEAey05jfjssQPrvCG8m5RxAvN4XAjL3FEA+wOftmdg0QJ9LX03snSpAyu5tjJceKUCrWWt9mlghQDQ6fkEq3CNAhOtNiMdsK0DCVPA9cdAoQMYNMNowgR1AMFskj+p9MECDEUJQvhIVQNGhuSga/xxAS4cdQoPxNEA=",
          "dtype": "f8"
         }
        },
        {
         "type": "surface",
         "x": {
          "bdata": "pLCktDekBcC+Trsk9R3/vzQ8LeB68/K/qKZ8bgIk27+Ao7uj5oXVP2r7fO3zi/E/9A0LMm62/T9AkEw7dPAEQISZk12xBQtAZVHtP3eNEEA=",
          "dtype": "f8"
         },
         "y": {
          "bdata": "b/WDNmjuBcBfHCpuKbv/v+BNTG+CmfO/iP25wW3f3b94PL05LqfSP54dTY1yy/A/GuwqjBnt/D9NXYRFYIcEQI1E88QzmApA5xUxooNUEEA=",
          "dtype": "f8"
         },
         "z": {
          "bdata": "Tlp6aYgdNUBOWno+bf4wQM0qmZZaGkBATqrvuJiQMEANh6j7ecIrQE5aegob/zBAgR591esXMkB8B1dCjI8gQDhp1QzAqxpAnLT0ddajKUDqfme3w205QE4ad6nWdzVAThokRxqZNEA4aR3+CGcVQNWvB4VeKypAOGlVvJ6KFUA4ie7H8qgSQJzAf+VzQCJAOGkdJbCrE0D0TdU2uNE5QDhpSSqypBtAOA/bBeMzEEDiSDNYKVwjQOwCbKzaeShAnLT0wD6iJUCctPRc+sUmQJx0iuvkyytAnLRFTSxlKUA4jXy0AxcYQHCa++9SZw1AL1xYwnX1K0DUL0kII3UhQDhpafDO6xNA5hI1Es/mIECICNBZjRctQDhp6ZnhxR5A/xaVo4LZNEBOWnoGZNszQKYQxAyHxz1AOGnpfXkUFUA40Zqoyv8cQJy00oWO7ShAnAtGyPxVI0AcQveXUGcpQE5a2gljNzNAOGnHHwrqE0BOBz1yqXY2QBXUddMoGhtA/K4PMyOBLkBOAvgpl+UyQA6g3BghBTpAbhtOSAsFPUCctPQ8w1ckQBin2u+2pBdAnLSEpb6uKkAX0cNz2xorQMRuiShiWQ9A0LcBqgksG0DLEsK4ZkErQHDS0vUJFwRAYuJwRtDOIkBwkr0J3aEGQJy2Ipf0YyVAnDR4UR1vLkDslrb/b4AxQIZ/O8oJSDRAmGMscCDx/z9Gia5OpwgsQJy0dNb8+C1AmP9TxXx1JUAzuLYY1rgtQE7ahU6nwzJA4KSlz3M7+D+cNIsl6WsjQE5auiu7PjVATlp6TpraM0A49o4g0ZgSQDhppHxJlhxAgqFLaZ2eMkBBbYI9TzouQMhWT7U+myNAnLT0UCPVKUCctNSCTCsjQJy0pCiwcCVAnLT0/gRlKEDUW/ToaTssQFh05jQ65xxAOL79WTn5FEAuC87XPdg0QPuvxrmLvCpAnLRRwSogKUCc5OPGw1QhQJy0lNkD2CNAaqUnGuMNLkCc8TVIgtAoQNDIT1Dehh1ATloSysp9MEA4jSZ2cRIVQLJV57MCAB1ATlp6S4TxNEA=",
          "dtype": "f8",
          "shape": "10, 10"
         }
        }
       ],
       "layout": {
        "legend": {
         "tracegroupgap": 0
        },
        "margin": {
         "t": 60
        },
        "scene": {
         "domain": {
          "x": [
           0,
           1
          ],
          "y": [
           0,
           1
          ]
         },
         "xaxis": {
          "title": {
           "text": "x"
          }
         },
         "yaxis": {
          "title": {
           "text": "y"
          }
         },
         "zaxis": {
          "range": [
           0,
           35
          ],
          "title": {
           "text": "z"
          }
         }
        },
        "template": {
         "data": {
          "bar": [
           {
            "error_x": {
             "color": "#2a3f5f"
            },
            "error_y": {
             "color": "#2a3f5f"
            },
            "marker": {
             "line": {
              "color": "#E5ECF6",
              "width": 0.5
             },
             "pattern": {
              "fillmode": "overlay",
              "size": 10,
              "solidity": 0.2
             }
            },
            "type": "bar"
           }
          ],
          "barpolar": [
           {
            "marker": {
             "line": {
              "color": "#E5ECF6",
              "width": 0.5
             },
             "pattern": {
              "fillmode": "overlay",
              "size": 10,
              "solidity": 0.2
             }
            },
            "type": "barpolar"
           }
          ],
          "carpet": [
           {
            "aaxis": {
             "endlinecolor": "#2a3f5f",
             "gridcolor": "white",
             "linecolor": "white",
             "minorgridcolor": "white",
             "startlinecolor": "#2a3f5f"
            },
            "baxis": {
             "endlinecolor": "#2a3f5f",
             "gridcolor": "white",
             "linecolor": "white",
             "minorgridcolor": "white",
             "startlinecolor": "#2a3f5f"
            },
            "type": "carpet"
           }
          ],
          "choropleth": [
           {
            "colorbar": {
             "outlinewidth": 0,
             "ticks": ""
            },
            "type": "choropleth"
           }
          ],
          "contour": [
           {
            "colorbar": {
             "outlinewidth": 0,
             "ticks": ""
            },
            "colorscale": [
             [
              0,
              "#0d0887"
             ],
             [
              0.1111111111111111,
              "#46039f"
             ],
             [
              0.2222222222222222,
              "#7201a8"
             ],
             [
              0.3333333333333333,
              "#9c179e"
             ],
             [
              0.4444444444444444,
              "#bd3786"
             ],
             [
              0.5555555555555556,
              "#d8576b"
             ],
             [
              0.6666666666666666,
              "#ed7953"
             ],
             [
              0.7777777777777778,
              "#fb9f3a"
             ],
             [
              0.8888888888888888,
              "#fdca26"
             ],
             [
              1,
              "#f0f921"
             ]
            ],
            "type": "contour"
           }
          ],
          "contourcarpet": [
           {
            "colorbar": {
             "outlinewidth": 0,
             "ticks": ""
            },
            "type": "contourcarpet"
           }
          ],
          "heatmap": [
           {
            "colorbar": {
             "outlinewidth": 0,
             "ticks": ""
            },
            "colorscale": [
             [
              0,
              "#0d0887"
             ],
             [
              0.1111111111111111,
              "#46039f"
             ],
             [
              0.2222222222222222,
              "#7201a8"
             ],
             [
              0.3333333333333333,
              "#9c179e"
             ],
             [
              0.4444444444444444,
              "#bd3786"
             ],
             [
              0.5555555555555556,
              "#d8576b"
             ],
             [
              0.6666666666666666,
              "#ed7953"
             ],
             [
              0.7777777777777778,
              "#fb9f3a"
             ],
             [
              0.8888888888888888,
              "#fdca26"
             ],
             [
              1,
              "#f0f921"
             ]
            ],
            "type": "heatmap"
           }
          ],
          "histogram": [
           {
            "marker": {
             "pattern": {
              "fillmode": "overlay",
              "size": 10,
              "solidity": 0.2
             }
            },
            "type": "histogram"
           }
          ],
          "histogram2d": [
           {
            "colorbar": {
             "outlinewidth": 0,
             "ticks": ""
            },
            "colorscale": [
             [
              0,
              "#0d0887"
             ],
             [
              0.1111111111111111,
              "#46039f"
             ],
             [
              0.2222222222222222,
              "#7201a8"
             ],
             [
              0.3333333333333333,
              "#9c179e"
             ],
             [
              0.4444444444444444,
              "#bd3786"
             ],
             [
              0.5555555555555556,
              "#d8576b"
             ],
             [
              0.6666666666666666,
              "#ed7953"
             ],
             [
              0.7777777777777778,
              "#fb9f3a"
             ],
             [
              0.8888888888888888,
              "#fdca26"
             ],
             [
              1,
              "#f0f921"
             ]
            ],
            "type": "histogram2d"
           }
          ],
          "histogram2dcontour": [
           {
            "colorbar": {
             "outlinewidth": 0,
             "ticks": ""
            },
            "colorscale": [
             [
              0,
              "#0d0887"
             ],
             [
              0.1111111111111111,
              "#46039f"
             ],
             [
              0.2222222222222222,
              "#7201a8"
             ],
             [
              0.3333333333333333,
              "#9c179e"
             ],
             [
              0.4444444444444444,
              "#bd3786"
             ],
             [
              0.5555555555555556,
              "#d8576b"
             ],
             [
              0.6666666666666666,
              "#ed7953"
             ],
             [
              0.7777777777777778,
              "#fb9f3a"
             ],
             [
              0.8888888888888888,
              "#fdca26"
             ],
             [
              1,
              "#f0f921"
             ]
            ],
            "type": "histogram2dcontour"
           }
          ],
          "mesh3d": [
           {
            "colorbar": {
             "outlinewidth": 0,
             "ticks": ""
            },
            "type": "mesh3d"
           }
          ],
          "parcoords": [
           {
            "line": {
             "colorbar": {
              "outlinewidth": 0,
              "ticks": ""
             }
            },
            "type": "parcoords"
           }
          ],
          "pie": [
           {
            "automargin": true,
            "type": "pie"
           }
          ],
          "scatter": [
           {
            "fillpattern": {
             "fillmode": "overlay",
             "size": 10,
             "solidity": 0.2
            },
            "type": "scatter"
           }
          ],
          "scatter3d": [
           {
            "line": {
             "colorbar": {
              "outlinewidth": 0,
              "ticks": ""
             }
            },
            "marker": {
             "colorbar": {
              "outlinewidth": 0,
              "ticks": ""
             }
            },
            "type": "scatter3d"
           }
          ],
          "scattercarpet": [
           {
            "marker": {
             "colorbar": {
              "outlinewidth": 0,
              "ticks": ""
             }
            },
            "type": "scattercarpet"
           }
          ],
          "scattergeo": [
           {
            "marker": {
             "colorbar": {
              "outlinewidth": 0,
              "ticks": ""
             }
            },
            "type": "scattergeo"
           }
          ],
          "scattergl": [
           {
            "marker": {
             "colorbar": {
              "outlinewidth": 0,
              "ticks": ""
             }
            },
            "type": "scattergl"
           }
          ],
          "scattermap": [
           {
            "marker": {
             "colorbar": {
              "outlinewidth": 0,
              "ticks": ""
             }
            },
            "type": "scattermap"
           }
          ],
          "scattermapbox": [
           {
            "marker": {
             "colorbar": {
              "outlinewidth": 0,
              "ticks": ""
             }
            },
            "type": "scattermapbox"
           }
          ],
          "scatterpolar": [
           {
            "marker": {
             "colorbar": {
              "outlinewidth": 0,
              "ticks": ""
             }
            },
            "type": "scatterpolar"
           }
          ],
          "scatterpolargl": [
           {
            "marker": {
             "colorbar": {
              "outlinewidth": 0,
              "ticks": ""
             }
            },
            "type": "scatterpolargl"
           }
          ],
          "scatterternary": [
           {
            "marker": {
             "colorbar": {
              "outlinewidth": 0,
              "ticks": ""
             }
            },
            "type": "scatterternary"
           }
          ],
          "surface": [
           {
            "colorbar": {
             "outlinewidth": 0,
             "ticks": ""
            },
            "colorscale": [
             [
              0,
              "#0d0887"
             ],
             [
              0.1111111111111111,
              "#46039f"
             ],
             [
              0.2222222222222222,
              "#7201a8"
             ],
             [
              0.3333333333333333,
              "#9c179e"
             ],
             [
              0.4444444444444444,
              "#bd3786"
             ],
             [
              0.5555555555555556,
              "#d8576b"
             ],
             [
              0.6666666666666666,
              "#ed7953"
             ],
             [
              0.7777777777777778,
              "#fb9f3a"
             ],
             [
              0.8888888888888888,
              "#fdca26"
             ],
             [
              1,
              "#f0f921"
             ]
            ],
            "type": "surface"
           }
          ],
          "table": [
           {
            "cells": {
             "fill": {
              "color": "#EBF0F8"
             },
             "line": {
              "color": "white"
             }
            },
            "header": {
             "fill": {
              "color": "#C8D4E3"
             },
             "line": {
              "color": "white"
             }
            },
            "type": "table"
           }
          ]
         },
         "layout": {
          "annotationdefaults": {
           "arrowcolor": "#2a3f5f",
           "arrowhead": 0,
           "arrowwidth": 1
          },
          "autotypenumbers": "strict",
          "coloraxis": {
           "colorbar": {
            "outlinewidth": 0,
            "ticks": ""
           }
          },
          "colorscale": {
           "diverging": [
            [
             0,
             "#8e0152"
            ],
            [
             0.1,
             "#c51b7d"
            ],
            [
             0.2,
             "#de77ae"
            ],
            [
             0.3,
             "#f1b6da"
            ],
            [
             0.4,
             "#fde0ef"
            ],
            [
             0.5,
             "#f7f7f7"
            ],
            [
             0.6,
             "#e6f5d0"
            ],
            [
             0.7,
             "#b8e186"
            ],
            [
             0.8,
             "#7fbc41"
            ],
            [
             0.9,
             "#4d9221"
            ],
            [
             1,
             "#276419"
            ]
           ],
           "sequential": [
            [
             0,
             "#0d0887"
            ],
            [
             0.1111111111111111,
             "#46039f"
            ],
            [
             0.2222222222222222,
             "#7201a8"
            ],
            [
             0.3333333333333333,
             "#9c179e"
            ],
            [
             0.4444444444444444,
             "#bd3786"
            ],
            [
             0.5555555555555556,
             "#d8576b"
            ],
            [
             0.6666666666666666,
             "#ed7953"
            ],
            [
             0.7777777777777778,
             "#fb9f3a"
            ],
            [
             0.8888888888888888,
             "#fdca26"
            ],
            [
             1,
             "#f0f921"
            ]
           ],
           "sequentialminus": [
            [
             0,
             "#0d0887"
            ],
            [
             0.1111111111111111,
             "#46039f"
            ],
            [
             0.2222222222222222,
             "#7201a8"
            ],
            [
             0.3333333333333333,
             "#9c179e"
            ],
            [
             0.4444444444444444,
             "#bd3786"
            ],
            [
             0.5555555555555556,
             "#d8576b"
            ],
            [
             0.6666666666666666,
             "#ed7953"
            ],
            [
             0.7777777777777778,
             "#fb9f3a"
            ],
            [
             0.8888888888888888,
             "#fdca26"
            ],
            [
             1,
             "#f0f921"
            ]
           ]
          },
          "colorway": [
           "#636efa",
           "#EF553B",
           "#00cc96",
           "#ab63fa",
           "#FFA15A",
           "#19d3f3",
           "#FF6692",
           "#B6E880",
           "#FF97FF",
           "#FECB52"
          ],
          "font": {
           "color": "#2a3f5f"
          },
          "geo": {
           "bgcolor": "white",
           "lakecolor": "white",
           "landcolor": "#E5ECF6",
           "showlakes": true,
           "showland": true,
           "subunitcolor": "white"
          },
          "hoverlabel": {
           "align": "left"
          },
          "hovermode": "closest",
          "mapbox": {
           "style": "light"
          },
          "paper_bgcolor": "white",
          "plot_bgcolor": "#E5ECF6",
          "polar": {
           "angularaxis": {
            "gridcolor": "white",
            "linecolor": "white",
            "ticks": ""
           },
           "bgcolor": "#E5ECF6",
           "radialaxis": {
            "gridcolor": "white",
            "linecolor": "white",
            "ticks": ""
           }
          },
          "scene": {
           "xaxis": {
            "backgroundcolor": "#E5ECF6",
            "gridcolor": "white",
            "gridwidth": 2,
            "linecolor": "white",
            "showbackground": true,
            "ticks": "",
            "zerolinecolor": "white"
           },
           "yaxis": {
            "backgroundcolor": "#E5ECF6",
            "gridcolor": "white",
            "gridwidth": 2,
            "linecolor": "white",
            "showbackground": true,
            "ticks": "",
            "zerolinecolor": "white"
           },
           "zaxis": {
            "backgroundcolor": "#E5ECF6",
            "gridcolor": "white",
            "gridwidth": 2,
            "linecolor": "white",
            "showbackground": true,
            "ticks": "",
            "zerolinecolor": "white"
           }
          },
          "shapedefaults": {
           "line": {
            "color": "#2a3f5f"
           }
          },
          "ternary": {
           "aaxis": {
            "gridcolor": "white",
            "linecolor": "white",
            "ticks": ""
           },
           "baxis": {
            "gridcolor": "white",
            "linecolor": "white",
            "ticks": ""
           },
           "bgcolor": "#E5ECF6",
           "caxis": {
            "gridcolor": "white",
            "linecolor": "white",
            "ticks": ""
           }
          },
          "title": {
           "x": 0.05
          },
          "xaxis": {
           "automargin": true,
           "gridcolor": "white",
           "linecolor": "white",
           "ticks": "",
           "title": {
            "standoff": 15
           },
           "zerolinecolor": "white",
           "zerolinewidth": 2
          },
          "yaxis": {
           "automargin": true,
           "gridcolor": "white",
           "linecolor": "white",
           "ticks": "",
           "title": {
            "standoff": 15
           },
           "zerolinecolor": "white",
           "zerolinewidth": 2
          }
         }
        }
       }
      }
     },
     "metadata": {},
     "output_type": "display_data"
    }
   ],
   "source": [
    "plot_n_degree_graph(20)"
   ]
  },
  {
   "cell_type": "code",
   "execution_count": null,
   "id": "846295db",
   "metadata": {},
   "outputs": [],
   "source": []
  }
 ],
 "metadata": {
  "kernelspec": {
   "display_name": "Python 3",
   "language": "python",
   "name": "python3"
  },
  "language_info": {
   "codemirror_mode": {
    "name": "ipython",
    "version": 3
   },
   "file_extension": ".py",
   "mimetype": "text/x-python",
   "name": "python",
   "nbconvert_exporter": "python",
   "pygments_lexer": "ipython3",
   "version": "3.12.3"
  }
 },
 "nbformat": 4,
 "nbformat_minor": 5
}
