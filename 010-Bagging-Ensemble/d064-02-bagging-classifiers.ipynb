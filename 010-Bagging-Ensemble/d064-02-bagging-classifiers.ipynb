{
 "cells": [
  {
   "cell_type": "markdown",
   "id": "6923cb88",
   "metadata": {},
   "source": [
    "# import libraries and dataset"
   ]
  },
  {
   "cell_type": "code",
   "execution_count": 1,
   "id": "7d3b482c",
   "metadata": {},
   "outputs": [],
   "source": [
    "import numpy as np\n",
    "import pandas as pd\n",
    "import matplotlib.pyplot as plt\n",
    "import seaborn as sns"
   ]
  },
  {
   "cell_type": "code",
   "execution_count": 2,
   "id": "8e286946",
   "metadata": {},
   "outputs": [
    {
     "data": {
      "text/html": [
       "<div>\n",
       "<style scoped>\n",
       "    .dataframe tbody tr th:only-of-type {\n",
       "        vertical-align: middle;\n",
       "    }\n",
       "\n",
       "    .dataframe tbody tr th {\n",
       "        vertical-align: top;\n",
       "    }\n",
       "\n",
       "    .dataframe thead th {\n",
       "        text-align: right;\n",
       "    }\n",
       "</style>\n",
       "<table border=\"1\" class=\"dataframe\">\n",
       "  <thead>\n",
       "    <tr style=\"text-align: right;\">\n",
       "      <th></th>\n",
       "      <th>sepal_length</th>\n",
       "      <th>sepal_width</th>\n",
       "      <th>petal_length</th>\n",
       "      <th>petal_width</th>\n",
       "      <th>species</th>\n",
       "    </tr>\n",
       "  </thead>\n",
       "  <tbody>\n",
       "    <tr>\n",
       "      <th>16</th>\n",
       "      <td>5.4</td>\n",
       "      <td>3.9</td>\n",
       "      <td>1.3</td>\n",
       "      <td>0.4</td>\n",
       "      <td>setosa</td>\n",
       "    </tr>\n",
       "    <tr>\n",
       "      <th>141</th>\n",
       "      <td>6.9</td>\n",
       "      <td>3.1</td>\n",
       "      <td>5.1</td>\n",
       "      <td>2.3</td>\n",
       "      <td>virginica</td>\n",
       "    </tr>\n",
       "    <tr>\n",
       "      <th>110</th>\n",
       "      <td>6.5</td>\n",
       "      <td>3.2</td>\n",
       "      <td>5.1</td>\n",
       "      <td>2.0</td>\n",
       "      <td>virginica</td>\n",
       "    </tr>\n",
       "  </tbody>\n",
       "</table>\n",
       "</div>"
      ],
      "text/plain": [
       "     sepal_length  sepal_width  petal_length  petal_width    species\n",
       "16            5.4          3.9           1.3          0.4     setosa\n",
       "141           6.9          3.1           5.1          2.3  virginica\n",
       "110           6.5          3.2           5.1          2.0  virginica"
      ]
     },
     "execution_count": 2,
     "metadata": {},
     "output_type": "execute_result"
    }
   ],
   "source": [
    "df = sns.load_dataset('iris')\n",
    "df.sample(3)"
   ]
  },
  {
   "cell_type": "markdown",
   "id": "b61f1f8f",
   "metadata": {},
   "source": [
    "# Label Encoder"
   ]
  },
  {
   "cell_type": "code",
   "execution_count": 3,
   "id": "4187f1ba",
   "metadata": {},
   "outputs": [],
   "source": [
    "from sklearn.preprocessing import LabelEncoder"
   ]
  },
  {
   "cell_type": "code",
   "execution_count": 4,
   "id": "bd9fd5e1",
   "metadata": {},
   "outputs": [],
   "source": [
    "# create an object\n",
    "encoder = LabelEncoder()"
   ]
  },
  {
   "cell_type": "code",
   "execution_count": 5,
   "id": "06f88dd2",
   "metadata": {},
   "outputs": [
    {
     "data": {
      "text/html": [
       "<div>\n",
       "<style scoped>\n",
       "    .dataframe tbody tr th:only-of-type {\n",
       "        vertical-align: middle;\n",
       "    }\n",
       "\n",
       "    .dataframe tbody tr th {\n",
       "        vertical-align: top;\n",
       "    }\n",
       "\n",
       "    .dataframe thead th {\n",
       "        text-align: right;\n",
       "    }\n",
       "</style>\n",
       "<table border=\"1\" class=\"dataframe\">\n",
       "  <thead>\n",
       "    <tr style=\"text-align: right;\">\n",
       "      <th></th>\n",
       "      <th>sepal_length</th>\n",
       "      <th>sepal_width</th>\n",
       "      <th>petal_length</th>\n",
       "      <th>petal_width</th>\n",
       "      <th>species</th>\n",
       "    </tr>\n",
       "  </thead>\n",
       "  <tbody>\n",
       "    <tr>\n",
       "      <th>112</th>\n",
       "      <td>6.8</td>\n",
       "      <td>3.0</td>\n",
       "      <td>5.5</td>\n",
       "      <td>2.1</td>\n",
       "      <td>2</td>\n",
       "    </tr>\n",
       "    <tr>\n",
       "      <th>65</th>\n",
       "      <td>6.7</td>\n",
       "      <td>3.1</td>\n",
       "      <td>4.4</td>\n",
       "      <td>1.4</td>\n",
       "      <td>1</td>\n",
       "    </tr>\n",
       "    <tr>\n",
       "      <th>44</th>\n",
       "      <td>5.1</td>\n",
       "      <td>3.8</td>\n",
       "      <td>1.9</td>\n",
       "      <td>0.4</td>\n",
       "      <td>0</td>\n",
       "    </tr>\n",
       "  </tbody>\n",
       "</table>\n",
       "</div>"
      ],
      "text/plain": [
       "     sepal_length  sepal_width  petal_length  petal_width  species\n",
       "112           6.8          3.0           5.5          2.1        2\n",
       "65            6.7          3.1           4.4          1.4        1\n",
       "44            5.1          3.8           1.9          0.4        0"
      ]
     },
     "execution_count": 5,
     "metadata": {},
     "output_type": "execute_result"
    }
   ],
   "source": [
    "df['species'] = encoder.fit_transform(df['species'])\n",
    "df.sample(3)"
   ]
  },
  {
   "cell_type": "code",
   "execution_count": 6,
   "id": "dcbdcf01",
   "metadata": {},
   "outputs": [],
   "source": [
    "df = df.iloc[:,1:]"
   ]
  },
  {
   "cell_type": "code",
   "execution_count": 7,
   "id": "7a423c5d",
   "metadata": {},
   "outputs": [
    {
     "data": {
      "text/plain": [
       "Index(['sepal_width', 'petal_length', 'petal_width', 'species'], dtype='object')"
      ]
     },
     "execution_count": 7,
     "metadata": {},
     "output_type": "execute_result"
    }
   ],
   "source": [
    "df.columns"
   ]
  },
  {
   "cell_type": "code",
   "execution_count": 26,
   "id": "d4d609a1",
   "metadata": {},
   "outputs": [],
   "source": [
    "df = df[df['species'] != 0][['sepal_width', 'petal_length', 'species']]"
   ]
  },
  {
   "cell_type": "code",
   "execution_count": 27,
   "id": "7f7b3162",
   "metadata": {},
   "outputs": [
    {
     "data": {
      "text/html": [
       "<div>\n",
       "<style scoped>\n",
       "    .dataframe tbody tr th:only-of-type {\n",
       "        vertical-align: middle;\n",
       "    }\n",
       "\n",
       "    .dataframe tbody tr th {\n",
       "        vertical-align: top;\n",
       "    }\n",
       "\n",
       "    .dataframe thead th {\n",
       "        text-align: right;\n",
       "    }\n",
       "</style>\n",
       "<table border=\"1\" class=\"dataframe\">\n",
       "  <thead>\n",
       "    <tr style=\"text-align: right;\">\n",
       "      <th></th>\n",
       "      <th>sepal_width</th>\n",
       "      <th>petal_length</th>\n",
       "      <th>species</th>\n",
       "    </tr>\n",
       "  </thead>\n",
       "  <tbody>\n",
       "    <tr>\n",
       "      <th>100</th>\n",
       "      <td>3.3</td>\n",
       "      <td>6.0</td>\n",
       "      <td>2</td>\n",
       "    </tr>\n",
       "    <tr>\n",
       "      <th>62</th>\n",
       "      <td>2.2</td>\n",
       "      <td>4.0</td>\n",
       "      <td>1</td>\n",
       "    </tr>\n",
       "    <tr>\n",
       "      <th>121</th>\n",
       "      <td>2.8</td>\n",
       "      <td>4.9</td>\n",
       "      <td>2</td>\n",
       "    </tr>\n",
       "  </tbody>\n",
       "</table>\n",
       "</div>"
      ],
      "text/plain": [
       "     sepal_width  petal_length  species\n",
       "100          3.3           6.0        2\n",
       "62           2.2           4.0        1\n",
       "121          2.8           4.9        2"
      ]
     },
     "execution_count": 27,
     "metadata": {},
     "output_type": "execute_result"
    }
   ],
   "source": [
    "df.sample(3)"
   ]
  },
  {
   "cell_type": "code",
   "execution_count": 28,
   "id": "691a2d49",
   "metadata": {},
   "outputs": [
    {
     "data": {
      "image/png": "[encoded data removed]",
      "text/plain": [
       "<Figure size 640x480 with 1 Axes>"
      ]
     },
     "metadata": {},
     "output_type": "display_data"
    }
   ],
   "source": [
    "plt.scatter(\n",
    "    df['sepal_width'],\n",
    "    df['petal_length'],\n",
    "    c=df['species']\n",
    ")\n",
    "\n",
    "plt.show()"
   ]
  },
  {
   "cell_type": "code",
   "execution_count": 29,
   "id": "e4120f80",
   "metadata": {},
   "outputs": [],
   "source": [
    "# 10 row for training, validation, testing\n",
    "df = df.sample(100)\n",
    "df_train = df.iloc[:60, :].sample(10)\n",
    "df_val = df.iloc[60:80, :].sample(5)\n",
    "df_test = df.iloc[80:, :].sample(5)"
   ]
  },
  {
   "cell_type": "code",
   "execution_count": 30,
   "id": "213084b6",
   "metadata": {},
   "outputs": [
    {
     "name": "stdout",
     "output_type": "stream",
     "text": [
      "     sepal_width  petal_length  species\n",
      "95           3.0           4.2        1\n",
      "120          3.2           5.7        2\n",
      "64           2.9           3.6        1\n",
      "128          2.8           5.6        2\n",
      "85           3.4           4.5        1\n",
      "54           2.8           4.6        1\n",
      "75           3.0           4.4        1\n",
      "68           2.2           4.5        1\n",
      "111          2.7           5.3        2\n",
      "135          3.0           6.1        2\n",
      "----------------------------------------\n",
      "     sepal_width  petal_length  species\n",
      "147          3.0           5.2        2\n",
      "110          3.2           5.1        2\n",
      "131          3.8           6.4        2\n",
      "72           2.5           4.9        1\n",
      "51           3.2           4.5        1\n",
      "----------------------------------------\n",
      "     sepal_width  petal_length  species\n",
      "144          3.3           5.7        2\n",
      "53           2.3           4.0        1\n",
      "107          2.9           6.3        2\n",
      "55           2.8           4.5        1\n",
      "84           3.0           4.5        1\n",
      "----------------------------------------\n"
     ]
    }
   ],
   "source": [
    "print(df_train)\n",
    "print('--'*20)\n",
    "\n",
    "print(df_test)\n",
    "print('--'*20)\n",
    "\n",
    "print(df_val)\n",
    "print('--'*20)"
   ]
  },
  {
   "cell_type": "markdown",
   "id": "eb635f1c",
   "metadata": {},
   "source": [
    "# case 1 - Bagging"
   ]
  },
  {
   "cell_type": "code",
   "execution_count": 31,
   "id": "77b75e55",
   "metadata": {},
   "outputs": [],
   "source": [
    "df_bag = df_train.sample(8, replace=True)\n",
    "\n",
    "X = df_bag.iloc[:, 0:2]\n",
    "y =df_bag.iloc[:, -1]"
   ]
  },
  {
   "cell_type": "code",
   "execution_count": 32,
   "id": "5e7cc6cf",
   "metadata": {},
   "outputs": [
    {
     "name": "stdout",
     "output_type": "stream",
     "text": [
      "     sepal_width  petal_length  species\n",
      "111          2.7           5.3        2\n",
      "68           2.2           4.5        1\n",
      "111          2.7           5.3        2\n",
      "64           2.9           3.6        1\n",
      "120          3.2           5.7        2\n",
      "95           3.0           4.2        1\n",
      "135          3.0           6.1        2\n",
      "54           2.8           4.6        1\n",
      "----------------------------------------\n",
      "     sepal_width  petal_length\n",
      "111          2.7           5.3\n",
      "68           2.2           4.5\n",
      "111          2.7           5.3\n",
      "64           2.9           3.6\n",
      "120          3.2           5.7\n",
      "95           3.0           4.2\n",
      "135          3.0           6.1\n",
      "54           2.8           4.6\n",
      "----------------------------------------\n",
      "111    2\n",
      "68     1\n",
      "111    2\n",
      "64     1\n",
      "120    2\n",
      "95     1\n",
      "135    2\n",
      "54     1\n",
      "Name: species, dtype: int64\n",
      "----------------------------------------\n"
     ]
    }
   ],
   "source": [
    "print(df_bag)\n",
    "print('--'*20)\n",
    "\n",
    "print(X)\n",
    "print('--'*20)\n",
    "\n",
    "print(y)\n",
    "print('--'*20)"
   ]
  },
  {
   "cell_type": "markdown",
   "id": "91a6699c",
   "metadata": {},
   "source": [
    "# import ml models"
   ]
  },
  {
   "cell_type": "code",
   "execution_count": 33,
   "id": "0ee4eb63",
   "metadata": {},
   "outputs": [],
   "source": [
    "from sklearn.tree import DecisionTreeClassifier\n",
    "from sklearn.tree import plot_tree\n",
    "from mlxtend.plotting import plot_decision_regions\n",
    "from sklearn.metrics import accuracy_score"
   ]
  },
  {
   "cell_type": "code",
   "execution_count": 34,
   "id": "f1c755ac",
   "metadata": {},
   "outputs": [],
   "source": [
    "import warnings\n",
    "warnings.filterwarnings('ignore')"
   ]
  },
  {
   "cell_type": "code",
   "execution_count": 35,
   "id": "1467b2e8",
   "metadata": {},
   "outputs": [],
   "source": [
    "X_test = df_val.iloc[:, 0:2].values\n",
    "y_test = df_val.iloc[:, -1].values"
   ]
  },
  {
   "cell_type": "code",
   "execution_count": 36,
   "id": "3ac25082",
   "metadata": {},
   "outputs": [
    {
     "name": "stdout",
     "output_type": "stream",
     "text": [
      "[[3.3 5.7]\n",
      " [2.3 4. ]\n",
      " [2.9 6.3]\n",
      " [2.8 4.5]\n",
      " [3.  4.5]]\n",
      "--------------------\n",
      "[2 1 2 1 1]\n"
     ]
    }
   ],
   "source": [
    "print(X_test)\n",
    "print('--'*10)\n",
    "\n",
    "print(y_test)"
   ]
  },
  {
   "cell_type": "code",
   "execution_count": 52,
   "id": "4d32263e",
   "metadata": {},
   "outputs": [],
   "source": [
    "def evaluate(clf,X,y):\n",
    "    clf.fit(X,y)\n",
    "    plot_tree(clf)\n",
    "    plt.show()\n",
    "    plot_decision_regions(X.values, y.values, clf=clf, legend=2)\n",
    "    y_pred = clf.predict(X_test)\n",
    "    print(accuracy_score(y_test,y_pred))\n",
    "    "
   ]
  },
  {
   "cell_type": "code",
   "execution_count": null,
   "id": "23b107a1",
   "metadata": {},
   "outputs": [],
   "source": [
    "def evaluate(clf, X, y) -> None:\n",
    "    \"\"\"Plot the Decision boundaries & accuracy of the given data.\n",
    "\n",
    "    Args:\n",
    "        clf : ML model\n",
    "        X : X_train\n",
    "        y : y_train\n",
    "    Return:\n",
    "        Plot the Graphs and accuracy.\n",
    "    \"\"\"\n",
    "    clf.fit(X, y)\n",
    "    plot_tree(clf)\n",
    "    plt.show()\n",
    "    \n",
    "    plot_decision_regions(X.values, y.values, clf= clf, legend=2)\n",
    "    y_pred = clf.predict(X_test)\n",
    "    print('--'*20)\n",
    "    \n",
    "    print(f\"Accuracy is  {accuracy_score(y_test, y_pred)}\")\n",
    "    print('--'*20)"
   ]
  },
  {
   "cell_type": "code",
   "execution_count": 53,
   "id": "a773e2d6",
   "metadata": {},
   "outputs": [],
   "source": [
    "df_bag1 = DecisionTreeClassifier()"
   ]
  },
  {
   "cell_type": "code",
   "execution_count": 54,
   "id": "9f576f64",
   "metadata": {},
   "outputs": [
    {
     "data": {
      "image/png": "[encoded data removed]",
      "text/plain": [
       "<Figure size 640x480 with 1 Axes>"
      ]
     },
     "metadata": {},
     "output_type": "display_data"
    },
    {
     "name": "stdout",
     "output_type": "stream",
     "text": [
      "1.0\n"
     ]
    },
    {
     "data": {
      "image/png": "[encoded data removed]",
      "text/plain": [
       "<Figure size 640x480 with 1 Axes>"
      ]
     },
     "metadata": {},
     "output_type": "display_data"
    }
   ],
   "source": [
    "evaluate(df_bag1, X, y)"
   ]
  },
  {
   "cell_type": "code",
   "execution_count": null,
   "id": "2fc8cf6e",
   "metadata": {},
   "outputs": [
    {
     "name": "stdout",
     "output_type": "stream",
     "text": [
      "     sepal_width  petal_length  species\n",
      "54           2.8           4.6        1\n",
      "128          2.8           5.6        2\n",
      "95           3.0           4.2        1\n",
      "135          3.0           6.1        2\n",
      "128          2.8           5.6        2\n",
      "64           2.9           3.6        1\n",
      "54           2.8           4.6        1\n",
      "95           3.0           4.2        1\n",
      "----------------------------------------\n",
      "     sepal_width  petal_length\n",
      "54           2.8           4.6\n",
      "128          2.8           5.6\n",
      "95           3.0           4.2\n",
      "135          3.0           6.1\n",
      "128          2.8           5.6\n",
      "64           2.9           3.6\n",
      "54           2.8           4.6\n",
      "95           3.0           4.2\n",
      "----------------------------------------\n",
      "54     1\n",
      "128    2\n",
      "95     1\n",
      "135    2\n",
      "128    2\n",
      "64     1\n",
      "54     1\n",
      "95     1\n",
      "Name: species, dtype: int64\n",
      "----------------------------------------\n"
     ]
    }
   ],
   "source": [
    "# Data fro Tree 1\n",
    "df_bag = df_train.sample(8, replace=True)\n",
    "\n",
    "X = df_bag.iloc[:, 0:2]\n",
    "y = df_bag.iloc[:, -1]\n",
    "\n",
    "\n",
    "print(df_bag)\n",
    "print('--'*20)\n",
    "\n",
    "print(X)\n",
    "print('--'*20)\n",
    "\n",
    "print(y)\n",
    "print('--'*20)"
   ]
  },
  {
   "cell_type": "code",
   "execution_count": null,
   "id": "3954a67d",
   "metadata": {},
   "outputs": [
    {
     "data": {
      "image/png": "[encoded data removed]",
      "text/plain": [
       "<Figure size 640x480 with 1 Axes>"
      ]
     },
     "metadata": {},
     "output_type": "display_data"
    },
    {
     "name": "stdout",
     "output_type": "stream",
     "text": [
      "1.0\n"
     ]
    },
    {
     "data": {
      "image/png": "[encoded data removed]",
      "text/plain": [
       "<Figure size 640x480 with 1 Axes>"
      ]
     },
     "metadata": {},
     "output_type": "display_data"
    }
   ],
   "source": [
    "df_bag2 = DecisionTreeClassifier()\n",
    "evaluate(df_bag2, X, y)"
   ]
  },
  {
   "cell_type": "code",
   "execution_count": 57,
   "id": "9425ac8a",
   "metadata": {},
   "outputs": [
    {
     "name": "stdout",
     "output_type": "stream",
     "text": [
      "     sepal_width  petal_length  species\n",
      "85           3.4           4.5        1\n",
      "111          2.7           5.3        2\n",
      "128          2.8           5.6        2\n",
      "68           2.2           4.5        1\n",
      "75           3.0           4.4        1\n",
      "111          2.7           5.3        2\n",
      "85           3.4           4.5        1\n",
      "68           2.2           4.5        1\n",
      "----------------------------------------\n",
      "     sepal_width  petal_length\n",
      "85           3.4           4.5\n",
      "111          2.7           5.3\n",
      "128          2.8           5.6\n",
      "68           2.2           4.5\n",
      "75           3.0           4.4\n",
      "111          2.7           5.3\n",
      "85           3.4           4.5\n",
      "68           2.2           4.5\n",
      "----------------------------------------\n",
      "85     1\n",
      "111    2\n",
      "128    2\n",
      "68     1\n",
      "75     1\n",
      "111    2\n",
      "85     1\n",
      "68     1\n",
      "Name: species, dtype: int64\n",
      "----------------------------------------\n"
     ]
    }
   ],
   "source": [
    "df_bag = df_train.sample(8, replace=True)\n",
    "\n",
    "X = df_bag.iloc[:, 0:2]\n",
    "y = df_bag.iloc[:, -1]\n",
    "\n",
    "print(df_bag)\n",
    "print('--'*20)\n",
    "\n",
    "print(X)\n",
    "print('--'*20)\n",
    "\n",
    "print(y)\n",
    "print('--'*20)"
   ]
  },
  {
   "cell_type": "code",
   "execution_count": 58,
   "id": "bf5bbd28",
   "metadata": {},
   "outputs": [
    {
     "data": {
      "image/png": "[encoded data removed]",
      "text/plain": [
       "<Figure size 640x480 with 1 Axes>"
      ]
     },
     "metadata": {},
     "output_type": "display_data"
    },
    {
     "name": "stdout",
     "output_type": "stream",
     "text": [
      "1.0\n"
     ]
    },
    {
     "data": {
      "image/png": "[encoded data removed]",
      "text/plain": [
       "<Figure size 640x480 with 1 Axes>"
      ]
     },
     "metadata": {},
     "output_type": "display_data"
    }
   ],
   "source": [
    "df_bag3 = DecisionTreeClassifier()\n",
    "evaluate(df_bag3, X, y)"
   ]
  },
  {
   "cell_type": "markdown",
   "id": "1e48d276",
   "metadata": {},
   "source": [
    "# Predict"
   ]
  },
  {
   "cell_type": "code",
   "execution_count": null,
   "id": "37725365",
   "metadata": {},
   "outputs": [
    {
     "data": {
      "text/plain": [
       "sepal_width     2.8\n",
       "petal_length    6.1\n",
       "species         2.0\n",
       "Name: 130, dtype: float64"
      ]
     },
     "execution_count": 67,
     "metadata": {},
     "output_type": "execute_result"
    }
   ],
   "source": [
    "# Lets check the know value \n",
    "# See what our three model give species output\n",
    "df.loc[130]\n",
    "print('--'*20)\n",
    "\n",
    "print(\"Predictor Value of Decision Tree 1 -> \",df_bag1.predict(np.array([2.8, 6.1]).reshape(1,2)))\n",
    "print(\"Predictor Value of Decision Tree 2 -> \",df_bag2.predict(np.array([2.8, 6.1]).reshape(1,2)))\n",
    "print(\"Predictor Value of Decision Tree 3 -> \",df_bag3.predict(np.array([2.8, 6.1]).reshape(1,2)))"
   ]
  },
  {
   "cell_type": "code",
   "execution_count": 77,
   "id": "d9a376a8",
   "metadata": {},
   "outputs": [
    {
     "name": "stdout",
     "output_type": "stream",
     "text": [
      "sepal_width     3.4\n",
      "petal_length    5.4\n",
      "species         2.0\n",
      "Name: 148, dtype: float64\n",
      "----------------------------------------\n",
      "Predictor Value of Decision Tree 1 ->  [2]\n",
      "Predictor Value of Decision Tree 2 ->  [2]\n",
      "Predictor Value of Decision Tree 3 ->  [2]\n"
     ]
    }
   ],
   "source": [
    "print(df.iloc[23])\n",
    "print('--'*20)\n",
    "\n",
    "print(\"Predictor Value of Decision Tree 1 -> \",df_bag1.predict(np.array([3.4, 5.4]).reshape(1,2)))\n",
    "print(\"Predictor Value of Decision Tree 2 -> \",df_bag2.predict(np.array([3.4, 5.4]).reshape(1,2)))\n",
    "print(\"Predictor Value of Decision Tree 3 -> \",df_bag3.predict(np.array([3.4, 5.4]).reshape(1,2)))"
   ]
  },
  {
   "cell_type": "code",
   "execution_count": 81,
   "id": "c21c72f2",
   "metadata": {},
   "outputs": [
    {
     "name": "stdout",
     "output_type": "stream",
     "text": [
      "sepal_width     3.0\n",
      "petal_length    5.2\n",
      "species         2.0\n",
      "Name: 147, dtype: float64\n",
      "----------------------------------------\n",
      "Predictor Value of Decision Tree 1 ->  [2]\n",
      "Predictor Value of Decision Tree 2 ->  [2]\n",
      "Predictor Value of Decision Tree 3 ->  [2]\n"
     ]
    }
   ],
   "source": [
    "print(df.iloc[97])\n",
    "print('--'*20)\n",
    "\n",
    "print(\"Predictor Value of Decision Tree 1 -> \",df_bag1.predict(np.array([3.0, 5.2]).reshape(1,2)))\n",
    "print(\"Predictor Value of Decision Tree 2 -> \",df_bag2.predict(np.array([3.0, 5.2]).reshape(1,2)))\n",
    "print(\"Predictor Value of Decision Tree 3 -> \",df_bag3.predict(np.array([3.0, 5.2]).reshape(1,2)))"
   ]
  },
  {
   "cell_type": "markdown",
   "id": "e675e1b7",
   "metadata": {},
   "source": [
    "# Pasting\n",
    "- Row sampling without replacement"
   ]
  },
  {
   "cell_type": "code",
   "execution_count": 82,
   "id": "7e056db0",
   "metadata": {},
   "outputs": [
    {
     "data": {
      "text/html": [
       "<div>\n",
       "<style scoped>\n",
       "    .dataframe tbody tr th:only-of-type {\n",
       "        vertical-align: middle;\n",
       "    }\n",
       "\n",
       "    .dataframe tbody tr th {\n",
       "        vertical-align: top;\n",
       "    }\n",
       "\n",
       "    .dataframe thead th {\n",
       "        text-align: right;\n",
       "    }\n",
       "</style>\n",
       "<table border=\"1\" class=\"dataframe\">\n",
       "  <thead>\n",
       "    <tr style=\"text-align: right;\">\n",
       "      <th></th>\n",
       "      <th>sepal_width</th>\n",
       "      <th>petal_length</th>\n",
       "      <th>species</th>\n",
       "    </tr>\n",
       "  </thead>\n",
       "  <tbody>\n",
       "    <tr>\n",
       "      <th>95</th>\n",
       "      <td>3.0</td>\n",
       "      <td>4.2</td>\n",
       "      <td>1</td>\n",
       "    </tr>\n",
       "    <tr>\n",
       "      <th>120</th>\n",
       "      <td>3.2</td>\n",
       "      <td>5.7</td>\n",
       "      <td>2</td>\n",
       "    </tr>\n",
       "    <tr>\n",
       "      <th>64</th>\n",
       "      <td>2.9</td>\n",
       "      <td>3.6</td>\n",
       "      <td>1</td>\n",
       "    </tr>\n",
       "    <tr>\n",
       "      <th>128</th>\n",
       "      <td>2.8</td>\n",
       "      <td>5.6</td>\n",
       "      <td>2</td>\n",
       "    </tr>\n",
       "    <tr>\n",
       "      <th>85</th>\n",
       "      <td>3.4</td>\n",
       "      <td>4.5</td>\n",
       "      <td>1</td>\n",
       "    </tr>\n",
       "    <tr>\n",
       "      <th>54</th>\n",
       "      <td>2.8</td>\n",
       "      <td>4.6</td>\n",
       "      <td>1</td>\n",
       "    </tr>\n",
       "    <tr>\n",
       "      <th>75</th>\n",
       "      <td>3.0</td>\n",
       "      <td>4.4</td>\n",
       "      <td>1</td>\n",
       "    </tr>\n",
       "    <tr>\n",
       "      <th>68</th>\n",
       "      <td>2.2</td>\n",
       "      <td>4.5</td>\n",
       "      <td>1</td>\n",
       "    </tr>\n",
       "    <tr>\n",
       "      <th>111</th>\n",
       "      <td>2.7</td>\n",
       "      <td>5.3</td>\n",
       "      <td>2</td>\n",
       "    </tr>\n",
       "    <tr>\n",
       "      <th>135</th>\n",
       "      <td>3.0</td>\n",
       "      <td>6.1</td>\n",
       "      <td>2</td>\n",
       "    </tr>\n",
       "  </tbody>\n",
       "</table>\n",
       "</div>"
      ],
      "text/plain": [
       "     sepal_width  petal_length  species\n",
       "95           3.0           4.2        1\n",
       "120          3.2           5.7        2\n",
       "64           2.9           3.6        1\n",
       "128          2.8           5.6        2\n",
       "85           3.4           4.5        1\n",
       "54           2.8           4.6        1\n",
       "75           3.0           4.4        1\n",
       "68           2.2           4.5        1\n",
       "111          2.7           5.3        2\n",
       "135          3.0           6.1        2"
      ]
     },
     "execution_count": 82,
     "metadata": {},
     "output_type": "execute_result"
    }
   ],
   "source": [
    "df_train"
   ]
  },
  {
   "cell_type": "code",
   "execution_count": 83,
   "id": "dc42b2e4",
   "metadata": {},
   "outputs": [
    {
     "data": {
      "text/html": [
       "<div>\n",
       "<style scoped>\n",
       "    .dataframe tbody tr th:only-of-type {\n",
       "        vertical-align: middle;\n",
       "    }\n",
       "\n",
       "    .dataframe tbody tr th {\n",
       "        vertical-align: top;\n",
       "    }\n",
       "\n",
       "    .dataframe thead th {\n",
       "        text-align: right;\n",
       "    }\n",
       "</style>\n",
       "<table border=\"1\" class=\"dataframe\">\n",
       "  <thead>\n",
       "    <tr style=\"text-align: right;\">\n",
       "      <th></th>\n",
       "      <th>sepal_width</th>\n",
       "      <th>petal_length</th>\n",
       "      <th>species</th>\n",
       "    </tr>\n",
       "  </thead>\n",
       "  <tbody>\n",
       "    <tr>\n",
       "      <th>120</th>\n",
       "      <td>3.2</td>\n",
       "      <td>5.7</td>\n",
       "      <td>2</td>\n",
       "    </tr>\n",
       "    <tr>\n",
       "      <th>85</th>\n",
       "      <td>3.4</td>\n",
       "      <td>4.5</td>\n",
       "      <td>1</td>\n",
       "    </tr>\n",
       "    <tr>\n",
       "      <th>64</th>\n",
       "      <td>2.9</td>\n",
       "      <td>3.6</td>\n",
       "      <td>1</td>\n",
       "    </tr>\n",
       "    <tr>\n",
       "      <th>54</th>\n",
       "      <td>2.8</td>\n",
       "      <td>4.6</td>\n",
       "      <td>1</td>\n",
       "    </tr>\n",
       "    <tr>\n",
       "      <th>75</th>\n",
       "      <td>3.0</td>\n",
       "      <td>4.4</td>\n",
       "      <td>1</td>\n",
       "    </tr>\n",
       "    <tr>\n",
       "      <th>111</th>\n",
       "      <td>2.7</td>\n",
       "      <td>5.3</td>\n",
       "      <td>2</td>\n",
       "    </tr>\n",
       "    <tr>\n",
       "      <th>68</th>\n",
       "      <td>2.2</td>\n",
       "      <td>4.5</td>\n",
       "      <td>1</td>\n",
       "    </tr>\n",
       "    <tr>\n",
       "      <th>128</th>\n",
       "      <td>2.8</td>\n",
       "      <td>5.6</td>\n",
       "      <td>2</td>\n",
       "    </tr>\n",
       "  </tbody>\n",
       "</table>\n",
       "</div>"
      ],
      "text/plain": [
       "     sepal_width  petal_length  species\n",
       "120          3.2           5.7        2\n",
       "85           3.4           4.5        1\n",
       "64           2.9           3.6        1\n",
       "54           2.8           4.6        1\n",
       "75           3.0           4.4        1\n",
       "111          2.7           5.3        2\n",
       "68           2.2           4.5        1\n",
       "128          2.8           5.6        2"
      ]
     },
     "execution_count": 83,
     "metadata": {},
     "output_type": "execute_result"
    }
   ],
   "source": [
    "df_train.sample(8)"
   ]
  },
  {
   "cell_type": "markdown",
   "id": "e8c66d7e",
   "metadata": {},
   "source": [
    "# Radom subspaces"
   ]
  },
  {
   "cell_type": "code",
   "execution_count": null,
   "id": "fe595c01",
   "metadata": {},
   "outputs": [
    {
     "data": {
      "text/html": [
       "<div>\n",
       "<style scoped>\n",
       "    .dataframe tbody tr th:only-of-type {\n",
       "        vertical-align: middle;\n",
       "    }\n",
       "\n",
       "    .dataframe tbody tr th {\n",
       "        vertical-align: top;\n",
       "    }\n",
       "\n",
       "    .dataframe thead th {\n",
       "        text-align: right;\n",
       "    }\n",
       "</style>\n",
       "<table border=\"1\" class=\"dataframe\">\n",
       "  <thead>\n",
       "    <tr style=\"text-align: right;\">\n",
       "      <th></th>\n",
       "      <th>sepal_length</th>\n",
       "      <th>sepal_width</th>\n",
       "      <th>petal_length</th>\n",
       "      <th>petal_width</th>\n",
       "      <th>species</th>\n",
       "    </tr>\n",
       "  </thead>\n",
       "  <tbody>\n",
       "    <tr>\n",
       "      <th>59</th>\n",
       "      <td>5.2</td>\n",
       "      <td>2.7</td>\n",
       "      <td>3.9</td>\n",
       "      <td>1.4</td>\n",
       "      <td>versicolor</td>\n",
       "    </tr>\n",
       "    <tr>\n",
       "      <th>109</th>\n",
       "      <td>7.2</td>\n",
       "      <td>3.6</td>\n",
       "      <td>6.1</td>\n",
       "      <td>2.5</td>\n",
       "      <td>virginica</td>\n",
       "    </tr>\n",
       "    <tr>\n",
       "      <th>51</th>\n",
       "      <td>6.4</td>\n",
       "      <td>3.2</td>\n",
       "      <td>4.5</td>\n",
       "      <td>1.5</td>\n",
       "      <td>versicolor</td>\n",
       "    </tr>\n",
       "    <tr>\n",
       "      <th>13</th>\n",
       "      <td>4.3</td>\n",
       "      <td>3.0</td>\n",
       "      <td>1.1</td>\n",
       "      <td>0.1</td>\n",
       "      <td>setosa</td>\n",
       "    </tr>\n",
       "    <tr>\n",
       "      <th>123</th>\n",
       "      <td>6.3</td>\n",
       "      <td>2.7</td>\n",
       "      <td>4.9</td>\n",
       "      <td>1.8</td>\n",
       "      <td>virginica</td>\n",
       "    </tr>\n",
       "    <tr>\n",
       "      <th>139</th>\n",
       "      <td>6.9</td>\n",
       "      <td>3.1</td>\n",
       "      <td>5.4</td>\n",
       "      <td>2.1</td>\n",
       "      <td>virginica</td>\n",
       "    </tr>\n",
       "    <tr>\n",
       "      <th>22</th>\n",
       "      <td>4.6</td>\n",
       "      <td>3.6</td>\n",
       "      <td>1.0</td>\n",
       "      <td>0.2</td>\n",
       "      <td>setosa</td>\n",
       "    </tr>\n",
       "    <tr>\n",
       "      <th>141</th>\n",
       "      <td>6.9</td>\n",
       "      <td>3.1</td>\n",
       "      <td>5.1</td>\n",
       "      <td>2.3</td>\n",
       "      <td>virginica</td>\n",
       "    </tr>\n",
       "    <tr>\n",
       "      <th>146</th>\n",
       "      <td>6.3</td>\n",
       "      <td>2.5</td>\n",
       "      <td>5.0</td>\n",
       "      <td>1.9</td>\n",
       "      <td>virginica</td>\n",
       "    </tr>\n",
       "    <tr>\n",
       "      <th>134</th>\n",
       "      <td>6.1</td>\n",
       "      <td>2.6</td>\n",
       "      <td>5.6</td>\n",
       "      <td>1.4</td>\n",
       "      <td>virginica</td>\n",
       "    </tr>\n",
       "  </tbody>\n",
       "</table>\n",
       "</div>"
      ],
      "text/plain": [
       "     sepal_length  sepal_width  petal_length  petal_width     species\n",
       "59            5.2          2.7           3.9          1.4  versicolor\n",
       "109           7.2          3.6           6.1          2.5   virginica\n",
       "51            6.4          3.2           4.5          1.5  versicolor\n",
       "13            4.3          3.0           1.1          0.1      setosa\n",
       "123           6.3          2.7           4.9          1.8   virginica\n",
       "139           6.9          3.1           5.4          2.1   virginica\n",
       "22            4.6          3.6           1.0          0.2      setosa\n",
       "141           6.9          3.1           5.1          2.3   virginica\n",
       "146           6.3          2.5           5.0          1.9   virginica\n",
       "134           6.1          2.6           5.6          1.4   virginica"
      ]
     },
     "execution_count": 90,
     "metadata": {},
     "output_type": "execute_result"
    }
   ],
   "source": [
    "# row randomly choose\n",
    "iris_df = sns.load_dataset('iris')\n",
    "df1 = iris_df.sample(10)\n",
    "df1"
   ]
  },
  {
   "cell_type": "code",
   "execution_count": null,
   "id": "40740aff",
   "metadata": {},
   "outputs": [
    {
     "data": {
      "text/html": [
       "<div>\n",
       "<style scoped>\n",
       "    .dataframe tbody tr th:only-of-type {\n",
       "        vertical-align: middle;\n",
       "    }\n",
       "\n",
       "    .dataframe tbody tr th {\n",
       "        vertical-align: top;\n",
       "    }\n",
       "\n",
       "    .dataframe thead th {\n",
       "        text-align: right;\n",
       "    }\n",
       "</style>\n",
       "<table border=\"1\" class=\"dataframe\">\n",
       "  <thead>\n",
       "    <tr style=\"text-align: right;\">\n",
       "      <th></th>\n",
       "      <th>petal_length</th>\n",
       "      <th>species</th>\n",
       "      <th>petal_length</th>\n",
       "    </tr>\n",
       "  </thead>\n",
       "  <tbody>\n",
       "    <tr>\n",
       "      <th>59</th>\n",
       "      <td>3.9</td>\n",
       "      <td>versicolor</td>\n",
       "      <td>3.9</td>\n",
       "    </tr>\n",
       "    <tr>\n",
       "      <th>109</th>\n",
       "      <td>6.1</td>\n",
       "      <td>virginica</td>\n",
       "      <td>6.1</td>\n",
       "    </tr>\n",
       "    <tr>\n",
       "      <th>51</th>\n",
       "      <td>4.5</td>\n",
       "      <td>versicolor</td>\n",
       "      <td>4.5</td>\n",
       "    </tr>\n",
       "    <tr>\n",
       "      <th>13</th>\n",
       "      <td>1.1</td>\n",
       "      <td>setosa</td>\n",
       "      <td>1.1</td>\n",
       "    </tr>\n",
       "    <tr>\n",
       "      <th>123</th>\n",
       "      <td>4.9</td>\n",
       "      <td>virginica</td>\n",
       "      <td>4.9</td>\n",
       "    </tr>\n",
       "    <tr>\n",
       "      <th>139</th>\n",
       "      <td>5.4</td>\n",
       "      <td>virginica</td>\n",
       "      <td>5.4</td>\n",
       "    </tr>\n",
       "    <tr>\n",
       "      <th>22</th>\n",
       "      <td>1.0</td>\n",
       "      <td>setosa</td>\n",
       "      <td>1.0</td>\n",
       "    </tr>\n",
       "    <tr>\n",
       "      <th>141</th>\n",
       "      <td>5.1</td>\n",
       "      <td>virginica</td>\n",
       "      <td>5.1</td>\n",
       "    </tr>\n",
       "    <tr>\n",
       "      <th>146</th>\n",
       "      <td>5.0</td>\n",
       "      <td>virginica</td>\n",
       "      <td>5.0</td>\n",
       "    </tr>\n",
       "    <tr>\n",
       "      <th>134</th>\n",
       "      <td>5.6</td>\n",
       "      <td>virginica</td>\n",
       "      <td>5.6</td>\n",
       "    </tr>\n",
       "  </tbody>\n",
       "</table>\n",
       "</div>"
      ],
      "text/plain": [
       "     petal_length     species  petal_length\n",
       "59            3.9  versicolor           3.9\n",
       "109           6.1   virginica           6.1\n",
       "51            4.5  versicolor           4.5\n",
       "13            1.1      setosa           1.1\n",
       "123           4.9   virginica           4.9\n",
       "139           5.4   virginica           5.4\n",
       "22            1.0      setosa           1.0\n",
       "141           5.1   virginica           5.1\n",
       "146           5.0   virginica           5.0\n",
       "134           5.6   virginica           5.6"
      ]
     },
     "execution_count": 95,
     "metadata": {},
     "output_type": "execute_result"
    }
   ],
   "source": [
    "# column randomly choose\n",
    "df1.sample(3, replace=True, axis=1)"
   ]
  },
  {
   "cell_type": "markdown",
   "id": "55c9de90",
   "metadata": {},
   "source": [
    "# Radom Patches"
   ]
  },
  {
   "cell_type": "code",
   "execution_count": 96,
   "id": "6ac75fd1",
   "metadata": {},
   "outputs": [
    {
     "data": {
      "text/html": [
       "<div>\n",
       "<style scoped>\n",
       "    .dataframe tbody tr th:only-of-type {\n",
       "        vertical-align: middle;\n",
       "    }\n",
       "\n",
       "    .dataframe tbody tr th {\n",
       "        vertical-align: top;\n",
       "    }\n",
       "\n",
       "    .dataframe thead th {\n",
       "        text-align: right;\n",
       "    }\n",
       "</style>\n",
       "<table border=\"1\" class=\"dataframe\">\n",
       "  <thead>\n",
       "    <tr style=\"text-align: right;\">\n",
       "      <th></th>\n",
       "      <th>sepal_length</th>\n",
       "      <th>sepal_width</th>\n",
       "      <th>petal_length</th>\n",
       "      <th>petal_width</th>\n",
       "      <th>species</th>\n",
       "    </tr>\n",
       "  </thead>\n",
       "  <tbody>\n",
       "    <tr>\n",
       "      <th>59</th>\n",
       "      <td>5.2</td>\n",
       "      <td>2.7</td>\n",
       "      <td>3.9</td>\n",
       "      <td>1.4</td>\n",
       "      <td>versicolor</td>\n",
       "    </tr>\n",
       "    <tr>\n",
       "      <th>109</th>\n",
       "      <td>7.2</td>\n",
       "      <td>3.6</td>\n",
       "      <td>6.1</td>\n",
       "      <td>2.5</td>\n",
       "      <td>virginica</td>\n",
       "    </tr>\n",
       "    <tr>\n",
       "      <th>51</th>\n",
       "      <td>6.4</td>\n",
       "      <td>3.2</td>\n",
       "      <td>4.5</td>\n",
       "      <td>1.5</td>\n",
       "      <td>versicolor</td>\n",
       "    </tr>\n",
       "    <tr>\n",
       "      <th>13</th>\n",
       "      <td>4.3</td>\n",
       "      <td>3.0</td>\n",
       "      <td>1.1</td>\n",
       "      <td>0.1</td>\n",
       "      <td>setosa</td>\n",
       "    </tr>\n",
       "    <tr>\n",
       "      <th>123</th>\n",
       "      <td>6.3</td>\n",
       "      <td>2.7</td>\n",
       "      <td>4.9</td>\n",
       "      <td>1.8</td>\n",
       "      <td>virginica</td>\n",
       "    </tr>\n",
       "    <tr>\n",
       "      <th>139</th>\n",
       "      <td>6.9</td>\n",
       "      <td>3.1</td>\n",
       "      <td>5.4</td>\n",
       "      <td>2.1</td>\n",
       "      <td>virginica</td>\n",
       "    </tr>\n",
       "    <tr>\n",
       "      <th>22</th>\n",
       "      <td>4.6</td>\n",
       "      <td>3.6</td>\n",
       "      <td>1.0</td>\n",
       "      <td>0.2</td>\n",
       "      <td>setosa</td>\n",
       "    </tr>\n",
       "    <tr>\n",
       "      <th>141</th>\n",
       "      <td>6.9</td>\n",
       "      <td>3.1</td>\n",
       "      <td>5.1</td>\n",
       "      <td>2.3</td>\n",
       "      <td>virginica</td>\n",
       "    </tr>\n",
       "    <tr>\n",
       "      <th>146</th>\n",
       "      <td>6.3</td>\n",
       "      <td>2.5</td>\n",
       "      <td>5.0</td>\n",
       "      <td>1.9</td>\n",
       "      <td>virginica</td>\n",
       "    </tr>\n",
       "    <tr>\n",
       "      <th>134</th>\n",
       "      <td>6.1</td>\n",
       "      <td>2.6</td>\n",
       "      <td>5.6</td>\n",
       "      <td>1.4</td>\n",
       "      <td>virginica</td>\n",
       "    </tr>\n",
       "  </tbody>\n",
       "</table>\n",
       "</div>"
      ],
      "text/plain": [
       "     sepal_length  sepal_width  petal_length  petal_width     species\n",
       "59            5.2          2.7           3.9          1.4  versicolor\n",
       "109           7.2          3.6           6.1          2.5   virginica\n",
       "51            6.4          3.2           4.5          1.5  versicolor\n",
       "13            4.3          3.0           1.1          0.1      setosa\n",
       "123           6.3          2.7           4.9          1.8   virginica\n",
       "139           6.9          3.1           5.4          2.1   virginica\n",
       "22            4.6          3.6           1.0          0.2      setosa\n",
       "141           6.9          3.1           5.1          2.3   virginica\n",
       "146           6.3          2.5           5.0          1.9   virginica\n",
       "134           6.1          2.6           5.6          1.4   virginica"
      ]
     },
     "execution_count": 96,
     "metadata": {},
     "output_type": "execute_result"
    }
   ],
   "source": [
    "df1"
   ]
  },
  {
   "cell_type": "code",
   "execution_count": 112,
   "id": "e4e4735d",
   "metadata": {},
   "outputs": [
    {
     "data": {
      "text/html": [
       "<div>\n",
       "<style scoped>\n",
       "    .dataframe tbody tr th:only-of-type {\n",
       "        vertical-align: middle;\n",
       "    }\n",
       "\n",
       "    .dataframe tbody tr th {\n",
       "        vertical-align: top;\n",
       "    }\n",
       "\n",
       "    .dataframe thead th {\n",
       "        text-align: right;\n",
       "    }\n",
       "</style>\n",
       "<table border=\"1\" class=\"dataframe\">\n",
       "  <thead>\n",
       "    <tr style=\"text-align: right;\">\n",
       "      <th></th>\n",
       "      <th>sepal_width</th>\n",
       "      <th>sepal_width</th>\n",
       "      <th>species</th>\n",
       "    </tr>\n",
       "  </thead>\n",
       "  <tbody>\n",
       "    <tr>\n",
       "      <th>59</th>\n",
       "      <td>2.7</td>\n",
       "      <td>2.7</td>\n",
       "      <td>versicolor</td>\n",
       "    </tr>\n",
       "    <tr>\n",
       "      <th>22</th>\n",
       "      <td>3.6</td>\n",
       "      <td>3.6</td>\n",
       "      <td>setosa</td>\n",
       "    </tr>\n",
       "    <tr>\n",
       "      <th>134</th>\n",
       "      <td>2.6</td>\n",
       "      <td>2.6</td>\n",
       "      <td>virginica</td>\n",
       "    </tr>\n",
       "    <tr>\n",
       "      <th>22</th>\n",
       "      <td>3.6</td>\n",
       "      <td>3.6</td>\n",
       "      <td>setosa</td>\n",
       "    </tr>\n",
       "    <tr>\n",
       "      <th>109</th>\n",
       "      <td>3.6</td>\n",
       "      <td>3.6</td>\n",
       "      <td>virginica</td>\n",
       "    </tr>\n",
       "    <tr>\n",
       "      <th>109</th>\n",
       "      <td>3.6</td>\n",
       "      <td>3.6</td>\n",
       "      <td>virginica</td>\n",
       "    </tr>\n",
       "    <tr>\n",
       "      <th>141</th>\n",
       "      <td>3.1</td>\n",
       "      <td>3.1</td>\n",
       "      <td>virginica</td>\n",
       "    </tr>\n",
       "    <tr>\n",
       "      <th>139</th>\n",
       "      <td>3.1</td>\n",
       "      <td>3.1</td>\n",
       "      <td>virginica</td>\n",
       "    </tr>\n",
       "  </tbody>\n",
       "</table>\n",
       "</div>"
      ],
      "text/plain": [
       "     sepal_width  sepal_width     species\n",
       "59           2.7          2.7  versicolor\n",
       "22           3.6          3.6      setosa\n",
       "134          2.6          2.6   virginica\n",
       "22           3.6          3.6      setosa\n",
       "109          3.6          3.6   virginica\n",
       "109          3.6          3.6   virginica\n",
       "141          3.1          3.1   virginica\n",
       "139          3.1          3.1   virginica"
      ]
     },
     "execution_count": 112,
     "metadata": {},
     "output_type": "execute_result"
    }
   ],
   "source": [
    "# row and column both sampling\n",
    "# df1.sample(8, replace=True) -> This is row only\n",
    "# axis = 1 -> gives the column sampling\n",
    "\n",
    "df1.sample(8, replace=True).sample(3, replace=True, axis=1)"
   ]
  },
  {
   "cell_type": "markdown",
   "id": "6aac6241",
   "metadata": {},
   "source": [
    "- 20:16 IST\n",
    "- 18-06-2025"
   ]
  }
 ],
 "metadata": {
  "kernelspec": {
   "display_name": "Python 3",
   "language": "python",
   "name": "python3"
  },
  "language_info": {
   "codemirror_mode": {
    "name": "ipython",
    "version": 3
   },
   "file_extension": ".py",
   "mimetype": "text/x-python",
   "name": "python",
   "nbconvert_exporter": "python",
   "pygments_lexer": "ipython3",
   "version": "3.12.3"
  }
 },
 "nbformat": 4,
 "nbformat_minor": 5
}
