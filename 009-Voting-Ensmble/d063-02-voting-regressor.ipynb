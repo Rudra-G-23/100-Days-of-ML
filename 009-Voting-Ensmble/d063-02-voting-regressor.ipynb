{
 "cells": [
  {
   "cell_type": "markdown",
   "id": "ad1f39f3",
   "metadata": {},
   "source": [
    "# import the libraries "
   ]
  },
  {
   "cell_type": "code",
   "execution_count": 75,
   "id": "e5dd1f47",
   "metadata": {},
   "outputs": [],
   "source": [
    "from sklearn.datasets import load_digits"
   ]
  },
  {
   "cell_type": "code",
   "execution_count": 78,
   "id": "842930da",
   "metadata": {},
   "outputs": [],
   "source": [
    "X, y = load_digits(return_X_y=True)"
   ]
  },
  {
   "cell_type": "code",
   "execution_count": 79,
   "id": "b05744ab",
   "metadata": {},
   "outputs": [
    {
     "data": {
      "text/plain": [
       "(1797, 64)"
      ]
     },
     "execution_count": 79,
     "metadata": {},
     "output_type": "execute_result"
    }
   ],
   "source": [
    "X.shape"
   ]
  },
  {
   "cell_type": "code",
   "execution_count": 80,
   "id": "90cb191a",
   "metadata": {},
   "outputs": [
    {
     "data": {
      "text/plain": [
       "(1797,)"
      ]
     },
     "execution_count": 80,
     "metadata": {},
     "output_type": "execute_result"
    }
   ],
   "source": [
    "y.shape"
   ]
  },
  {
   "cell_type": "code",
   "execution_count": 81,
   "id": "d20374f1",
   "metadata": {},
   "outputs": [
    {
     "data": {
      "text/plain": [
       "array([0, 1, 2, ..., 8, 9, 8], shape=(1797,))"
      ]
     },
     "execution_count": 81,
     "metadata": {},
     "output_type": "execute_result"
    }
   ],
   "source": [
    "y"
   ]
  },
  {
   "cell_type": "markdown",
   "id": "02672f71",
   "metadata": {},
   "source": [
    "# import various model "
   ]
  },
  {
   "cell_type": "code",
   "execution_count": 82,
   "id": "e0832068",
   "metadata": {},
   "outputs": [],
   "source": [
    "from sklearn.linear_model import LinearRegression\n",
    "from sklearn.tree import DecisionTreeRegressor\n",
    "from sklearn.svm import SVR\n",
    "from sklearn.model_selection import cross_val_score"
   ]
  },
  {
   "cell_type": "code",
   "execution_count": 83,
   "id": "21ff4ded",
   "metadata": {},
   "outputs": [],
   "source": [
    "# create an object of each model\n",
    "lr = LinearRegression()\n",
    "dt = DecisionTreeRegressor()\n",
    "svr = SVR()"
   ]
  },
  {
   "cell_type": "code",
   "execution_count": 84,
   "id": "59fb238e",
   "metadata": {},
   "outputs": [],
   "source": [
    "# create an estimators\n",
    "estimators = [('lr', lr), ('dt', dt), ('svr', svr)]"
   ]
  },
  {
   "cell_type": "code",
   "execution_count": 86,
   "id": "cba758f0",
   "metadata": {},
   "outputs": [
    {
     "name": "stdout",
     "output_type": "stream",
     "text": [
      "lr 0.534\n",
      "dt 0.599\n",
      "svr 0.824\n"
     ]
    }
   ],
   "source": [
    "# calculate individually\n",
    "for estimator in estimators:\n",
    "    scores = cross_val_score(estimator[1], X, y, cv=10, scoring='r2')\n",
    "    print(estimator[0], np.round(np.mean(scores), 3))"
   ]
  },
  {
   "cell_type": "markdown",
   "id": "fcd21d11",
   "metadata": {},
   "source": [
    "# Voting Regressor"
   ]
  },
  {
   "cell_type": "code",
   "execution_count": 87,
   "id": "8bbbd3f8",
   "metadata": {},
   "outputs": [],
   "source": [
    "from sklearn.ensemble import VotingRegressor"
   ]
  },
  {
   "cell_type": "code",
   "execution_count": 88,
   "id": "b8711466",
   "metadata": {},
   "outputs": [
    {
     "name": "stdout",
     "output_type": "stream",
     "text": [
      "Voting regressor score is  0.778\n"
     ]
    }
   ],
   "source": [
    "vr = VotingRegressor(estimators)\n",
    "scores = cross_val_score(vr, X, y, scoring='r2', cv=10)\n",
    "print('Voting regressor score is ', np.round(np.mean(scores), 3))"
   ]
  },
  {
   "cell_type": "code",
   "execution_count": 91,
   "id": "4c0974cc",
   "metadata": {},
   "outputs": [
    {
     "data": {
      "text/plain": [
       "[('lr', LinearRegression()), ('dt', DecisionTreeRegressor()), ('svr', SVR())]"
      ]
     },
     "execution_count": 91,
     "metadata": {},
     "output_type": "execute_result"
    }
   ],
   "source": [
    "estimators"
   ]
  },
  {
   "cell_type": "markdown",
   "id": "93761482",
   "metadata": {},
   "source": [
    "# weight"
   ]
  },
  {
   "cell_type": "code",
   "execution_count": null,
   "id": "dbdff02d",
   "metadata": {},
   "outputs": [
    {
     "name": "stdout",
     "output_type": "stream",
     "text": [
      "lr -> 1 | dt -> 1 | svr -> 1 >> 0.777\n",
      "lr -> 1 | dt -> 1 | svr -> 2 >> 0.8\n",
      "lr -> 1 | dt -> 1 | svr -> 3 >> 0.813\n",
      "lr -> 1 | dt -> 2 | svr -> 1 >> 0.776\n",
      "lr -> 1 | dt -> 2 | svr -> 2 >> 0.796\n",
      "lr -> 1 | dt -> 2 | svr -> 3 >> 0.809\n",
      "lr -> 1 | dt -> 3 | svr -> 1 >> 0.75\n",
      "lr -> 1 | dt -> 3 | svr -> 2 >> 0.779\n",
      "lr -> 1 | dt -> 3 | svr -> 3 >> 0.799\n",
      "lr -> 2 | dt -> 1 | svr -> 1 >> 0.741\n",
      "lr -> 2 | dt -> 1 | svr -> 2 >> 0.766\n",
      "lr -> 2 | dt -> 1 | svr -> 3 >> 0.785\n",
      "lr -> 2 | dt -> 2 | svr -> 1 >> 0.752\n",
      "lr -> 2 | dt -> 2 | svr -> 2 >> 0.773\n",
      "lr -> 2 | dt -> 2 | svr -> 3 >> 0.798\n",
      "lr -> 2 | dt -> 3 | svr -> 1 >> 0.759\n",
      "lr -> 2 | dt -> 3 | svr -> 2 >> 0.778\n",
      "lr -> 2 | dt -> 3 | svr -> 3 >> 0.791\n",
      "lr -> 3 | dt -> 1 | svr -> 1 >> 0.712\n",
      "lr -> 3 | dt -> 1 | svr -> 2 >> 0.746\n",
      "lr -> 3 | dt -> 1 | svr -> 3 >> 0.76\n",
      "lr -> 3 | dt -> 2 | svr -> 1 >> 0.736\n",
      "lr -> 3 | dt -> 2 | svr -> 2 >> 0.761\n",
      "lr -> 3 | dt -> 2 | svr -> 3 >> 0.775\n",
      "lr -> 3 | dt -> 3 | svr -> 1 >> 0.744\n",
      "lr -> 3 | dt -> 3 | svr -> 2 >> 0.768\n",
      "lr -> 3 | dt -> 3 | svr -> 3 >> 0.779\n"
     ]
    }
   ],
   "source": [
    "for lr in range(1, 4):\n",
    "    for dt in range(1, 4):\n",
    "        for svr in range(1, 4):\n",
    "            vr = VotingRegressor(estimators, weights=[lr, dt, svr])\n",
    "            scores = cross_val_score(vr, X, y, scoring='r2', cv=10)\n",
    "            print(f\"lr -> {lr} | dt -> {dt} | svr -> {svr} >> {np.round(np.mean(scores), 3)}\")"
   ]
  },
  {
   "cell_type": "markdown",
   "id": "914837fc",
   "metadata": {},
   "source": [
    "# using the same algorithm"
   ]
  },
  {
   "cell_type": "code",
   "execution_count": 93,
   "id": "9c1a1c45",
   "metadata": {},
   "outputs": [],
   "source": [
    "dt1 = DecisionTreeRegressor(max_depth=1)\n",
    "dt2 = DecisionTreeRegressor(max_depth=3)\n",
    "dt3 = DecisionTreeRegressor(max_depth=5)\n",
    "dt4 = DecisionTreeRegressor(max_depth=7)\n",
    "dt5 = DecisionTreeRegressor(max_depth=None)"
   ]
  },
  {
   "cell_type": "code",
   "execution_count": 94,
   "id": "bcd10699",
   "metadata": {},
   "outputs": [],
   "source": [
    "estimators = [('d1', dt1), ('d2', dt2), ('d3', dt3), ('d4', dt4), ('d5', dt5)]"
   ]
  },
  {
   "cell_type": "code",
   "execution_count": 98,
   "id": "f13dd6ea",
   "metadata": {},
   "outputs": [
    {
     "name": "stdout",
     "output_type": "stream",
     "text": [
      "d1 0.111\n",
      "d2 0.423\n",
      "d3 0.536\n",
      "d4 0.617\n",
      "d5 0.633\n"
     ]
    }
   ],
   "source": [
    "for estimator in estimators:\n",
    "  scores = cross_val_score(estimator[1],X,y,scoring='r2',cv=10)\n",
    "  print(estimator[0],np.round(np.mean(scores),3))"
   ]
  },
  {
   "cell_type": "markdown",
   "id": "2b9ea550",
   "metadata": {},
   "source": [
    "- 20:11 IST\n",
    "- 15/06/2025"
   ]
  }
 ],
 "metadata": {
  "kernelspec": {
   "display_name": "Python 3",
   "language": "python",
   "name": "python3"
  },
  "language_info": {
   "codemirror_mode": {
    "name": "ipython",
    "version": 3
   },
   "file_extension": ".py",
   "mimetype": "text/x-python",
   "name": "python",
   "nbconvert_exporter": "python",
   "pygments_lexer": "ipython3",
   "version": "3.12.3"
  }
 },
 "nbformat": 4,
 "nbformat_minor": 5
}
