{
 "cells": [
  {
   "cell_type": "code",
   "execution_count": 16,
   "metadata": {},
   "outputs": [],
   "source": [
    "from sklearn.datasets import load_digits\n",
    "from sklearn.model_selection import train_test_split\n",
    "from sklearn.linear_model import LogisticRegression\n",
    "from sklearn.tree import DecisionTreeClassifier\n",
    "from sklearn.metrics import (\n",
    "    confusion_matrix,\n",
    "    accuracy_score,\n",
    "    precision_score,\n",
    "    recall_score,\n",
    "    f1_score,\n",
    "    classification_report\n",
    ")\n",
    "import pandas as pd\n"
   ]
  },
  {
   "cell_type": "code",
   "execution_count": 17,
   "metadata": {},
   "outputs": [],
   "source": [
    "\n",
    "# Load the digits dataset (8x8 pixel images of digits 0–9)\n",
    "digits = load_digits()\n",
    "X = digits.data\n",
    "y = digits.target\n",
    "\n",
    "# Train-test split\n",
    "X_train, X_test, y_train, y_test = train_test_split(X, y, test_size=0.2, random_state=42)\n"
   ]
  },
  {
   "cell_type": "code",
   "execution_count": 18,
   "metadata": {},
   "outputs": [],
   "source": [
    "\n",
    "# Initialize classifiers\n",
    "clf1 = LogisticRegression(max_iter=1000)\n",
    "clf2 = DecisionTreeClassifier()\n",
    "\n",
    "# Fit models\n",
    "clf1.fit(X_train, y_train)\n",
    "clf2.fit(X_train, y_train)\n",
    "\n",
    "# Predictions\n",
    "y_pred1 = clf1.predict(X_test)\n",
    "y_pred2 = clf2.predict(X_test)\n"
   ]
  },
  {
   "cell_type": "code",
   "execution_count": 19,
   "metadata": {},
   "outputs": [],
   "source": [
    "\n",
    "# --- Evaluation Function ---\n",
    "def evaluate_model(name, y_true, y_pred):\n",
    "    print(f\"{'-'*30}\\n{name} Evaluation\\n{'-'*30}\")\n",
    "    print(\"Confusion Matrix:\")\n",
    "    print(pd.DataFrame(confusion_matrix(y_true, y_pred)))\n",
    "    print(\"Accuracy:\", accuracy_score(y_true, y_pred))\n",
    "    print(\"Precision (macro):\", precision_score(y_true, y_pred, average='macro'))\n",
    "    print(\"Recall (macro):\", recall_score(y_true, y_pred, average='macro'))\n",
    "    print(\"F1 Score (macro):\", f1_score(y_true, y_pred, average='macro'))\n",
    "    print(f\"{'='*30}\\nClassification Report:\\n\")\n",
    "    print(classification_report(y_true, y_pred))\n"
   ]
  },
  {
   "cell_type": "code",
   "execution_count": 20,
   "metadata": {},
   "outputs": [
    {
     "name": "stdout",
     "output_type": "stream",
     "text": [
      "------------------------------\n",
      "Logistic Regression Evaluation\n",
      "------------------------------\n",
      "Confusion Matrix:\n",
      "    0   1   2   3   4   5   6   7   8   9\n",
      "0  33   0   0   0   0   0   0   0   0   0\n",
      "1   0  28   0   0   0   0   0   0   0   0\n",
      "2   0   0  33   0   0   0   0   0   0   0\n",
      "3   0   0   0  33   0   1   0   0   0   0\n",
      "4   0   1   0   0  45   0   0   0   0   0\n",
      "5   0   0   0   0   0  45   1   0   0   1\n",
      "6   0   0   0   0   0   1  34   0   0   0\n",
      "7   0   0   0   0   0   1   0  33   0   0\n",
      "8   0   0   0   0   0   1   0   0  29   0\n",
      "9   0   0   0   1   0   0   0   0   1  38\n",
      "Accuracy: 0.975\n",
      "Precision (macro): 0.9766927036066416\n",
      "Recall (macro): 0.9764979386759329\n",
      "F1 Score (macro): 0.9764750546072589\n",
      "==============================\n",
      "Classification Report:\n",
      "\n",
      "              precision    recall  f1-score   support\n",
      "\n",
      "           0       1.00      1.00      1.00        33\n",
      "           1       0.97      1.00      0.98        28\n",
      "           2       1.00      1.00      1.00        33\n",
      "           3       0.97      0.97      0.97        34\n",
      "           4       1.00      0.98      0.99        46\n",
      "           5       0.92      0.96      0.94        47\n",
      "           6       0.97      0.97      0.97        35\n",
      "           7       1.00      0.97      0.99        34\n",
      "           8       0.97      0.97      0.97        30\n",
      "           9       0.97      0.95      0.96        40\n",
      "\n",
      "    accuracy                           0.97       360\n",
      "   macro avg       0.98      0.98      0.98       360\n",
      "weighted avg       0.98      0.97      0.98       360\n",
      "\n"
     ]
    }
   ],
   "source": [
    "\n",
    "# Evaluate both models\n",
    "evaluate_model(\"Logistic Regression\", y_test, y_pred1)\n"
   ]
  },
  {
   "cell_type": "code",
   "execution_count": 21,
   "metadata": {},
   "outputs": [
    {
     "name": "stdout",
     "output_type": "stream",
     "text": [
      "------------------------------\n",
      "Decision Tree Evaluation\n",
      "------------------------------\n",
      "Confusion Matrix:\n",
      "    0   1   2   3   4   5   6   7   8   9\n",
      "0  29   0   0   0   2   1   0   0   0   1\n",
      "1   0  21   1   2   2   0   0   0   1   1\n",
      "2   0   2  25   2   1   0   1   0   2   0\n",
      "3   0   0   0  31   0   0   0   0   2   1\n",
      "4   0   2   0   1  40   0   1   2   0   0\n",
      "5   0   0   0   0   2  44   1   0   0   0\n",
      "6   0   0   0   0   1   1  33   0   0   0\n",
      "7   0   0   0   2   2   0   1  29   0   0\n",
      "8   0   1   0   3   1   1   0   0  22   2\n",
      "9   0   0   0   2   1   0   1   0   1  35\n",
      "Accuracy: 0.8583333333333333\n",
      "Precision (macro): 0.8660181193099241\n",
      "Recall (macro): 0.8507995425064315\n",
      "F1 Score (macro): 0.8548448795441133\n",
      "==============================\n",
      "Classification Report:\n",
      "\n",
      "              precision    recall  f1-score   support\n",
      "\n",
      "           0       1.00      0.88      0.94        33\n",
      "           1       0.81      0.75      0.78        28\n",
      "           2       0.96      0.76      0.85        33\n",
      "           3       0.72      0.91      0.81        34\n",
      "           4       0.77      0.87      0.82        46\n",
      "           5       0.94      0.94      0.94        47\n",
      "           6       0.87      0.94      0.90        35\n",
      "           7       0.94      0.85      0.89        34\n",
      "           8       0.79      0.73      0.76        30\n",
      "           9       0.88      0.88      0.88        40\n",
      "\n",
      "    accuracy                           0.86       360\n",
      "   macro avg       0.87      0.85      0.85       360\n",
      "weighted avg       0.87      0.86      0.86       360\n",
      "\n"
     ]
    }
   ],
   "source": [
    "evaluate_model(\"Decision Tree\", y_test, y_pred2)"
   ]
  }
 ],
 "metadata": {
  "kernelspec": {
   "display_name": "Python 3",
   "language": "python",
   "name": "python3"
  },
  "language_info": {
   "codemirror_mode": {
    "name": "ipython",
    "version": 3
   },
   "file_extension": ".py",
   "mimetype": "text/x-python",
   "name": "python",
   "nbconvert_exporter": "python",
   "pygments_lexer": "ipython3",
   "version": "3.12.3"
  }
 },
 "nbformat": 4,
 "nbformat_minor": 4
}
