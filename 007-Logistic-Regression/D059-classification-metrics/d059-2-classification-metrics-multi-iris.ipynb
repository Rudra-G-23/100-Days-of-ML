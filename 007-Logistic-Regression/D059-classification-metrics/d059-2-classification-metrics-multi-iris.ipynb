{
 "cells": [
  {
   "cell_type": "code",
   "execution_count": 21,
   "metadata": {},
   "outputs": [],
   "source": [
    "from sklearn.datasets import load_iris\n",
    "from sklearn.model_selection import train_test_split\n",
    "from sklearn.linear_model import LogisticRegression\n",
    "from sklearn.tree import DecisionTreeClassifier\n",
    "from sklearn.metrics import (\n",
    "    confusion_matrix,\n",
    "    accuracy_score,\n",
    "    precision_score,\n",
    "    recall_score,\n",
    "    f1_score,\n",
    "    classification_report\n",
    ")\n",
    "import pandas as pd\n"
   ]
  },
  {
   "cell_type": "code",
   "execution_count": 22,
   "metadata": {},
   "outputs": [],
   "source": [
    "# Load the Iris dataset\n",
    "iris = load_iris()\n",
    "X = iris.data\n",
    "y = iris.target\n",
    "class_names = iris.target_names\n"
   ]
  },
  {
   "cell_type": "code",
   "execution_count": 23,
   "metadata": {},
   "outputs": [],
   "source": [
    "# Split into training and testing\n",
    "X_train, X_test, y_train, y_test = train_test_split(X, y, test_size=0.2, random_state=42)\n",
    "\n",
    "# Initialize classifiers\n",
    "clf1 = LogisticRegression(max_iter=200)\n",
    "clf2 = DecisionTreeClassifier()\n",
    "\n",
    "# Train classifiers\n",
    "clf1.fit(X_train, y_train)\n",
    "clf2.fit(X_train, y_train)\n",
    "\n",
    "# Predictions\n",
    "y_pred1 = clf1.predict(X_test)\n",
    "y_pred2 = clf2.predict(X_test)\n"
   ]
  },
  {
   "cell_type": "code",
   "execution_count": 24,
   "metadata": {},
   "outputs": [],
   "source": [
    "# --- Evaluation Function ---\n",
    "def evaluate_model(name, y_true, y_pred):\n",
    "    print(f\"\\n{'-'*30}\\n{name} Evaluation\\n{'-'*30}\")\n",
    "    print(\"Confusion Matrix:\")\n",
    "    cm_df = pd.DataFrame(confusion_matrix(y_true, y_pred),\n",
    "                         index=[f\"Actual {c}\" for c in class_names],\n",
    "                         columns=[f\"Predicted {c}\" for c in class_names])\n",
    "    print(cm_df)\n",
    "    \n",
    "    print(\"Accuracy:\", accuracy_score(y_true, y_pred))\n",
    "    print(\"-\" * 10 )\n",
    "    \n",
    "    print(\"Precision (macro):\", precision_score(y_true, y_pred, average='macro'))\n",
    "    print(\"Recall (macro):\", recall_score(y_true, y_pred, average='macro'))\n",
    "    print(\"F1 Score (macro):\", f1_score(y_true, y_pred, average='macro'))\n",
    "    print(\"=\"*50)\n",
    "    \n",
    "    print(\"\\nClassification Report:\\n\")\n",
    "    print(classification_report(y_true, y_pred, target_names=class_names))\n"
   ]
  },
  {
   "cell_type": "code",
   "execution_count": 25,
   "metadata": {},
   "outputs": [
    {
     "name": "stdout",
     "output_type": "stream",
     "text": [
      "\n",
      "------------------------------\n",
      "Logistic Regression Evaluation\n",
      "------------------------------\n",
      "Confusion Matrix:\n",
      "                   Predicted setosa  Predicted versicolor  Predicted virginica\n",
      "Actual setosa                    10                     0                    0\n",
      "Actual versicolor                 0                     9                    0\n",
      "Actual virginica                  0                     0                   11\n",
      "Accuracy: 1.0\n",
      "----------\n",
      "Precision (macro): 1.0\n",
      "Recall (macro): 1.0\n",
      "F1 Score (macro): 1.0\n",
      "==================================================\n",
      "\n",
      "Classification Report:\n",
      "\n",
      "              precision    recall  f1-score   support\n",
      "\n",
      "      setosa       1.00      1.00      1.00        10\n",
      "  versicolor       1.00      1.00      1.00         9\n",
      "   virginica       1.00      1.00      1.00        11\n",
      "\n",
      "    accuracy                           1.00        30\n",
      "   macro avg       1.00      1.00      1.00        30\n",
      "weighted avg       1.00      1.00      1.00        30\n",
      "\n"
     ]
    }
   ],
   "source": [
    "\n",
    "# Evaluate both models\n",
    "evaluate_model(\"Logistic Regression\", y_test, y_pred1)\n"
   ]
  },
  {
   "cell_type": "code",
   "execution_count": 26,
   "metadata": {},
   "outputs": [
    {
     "name": "stdout",
     "output_type": "stream",
     "text": [
      "\n",
      "------------------------------\n",
      "Decision Tree Evaluation\n",
      "------------------------------\n",
      "Confusion Matrix:\n",
      "                   Predicted setosa  Predicted versicolor  Predicted virginica\n",
      "Actual setosa                    10                     0                    0\n",
      "Actual versicolor                 0                     9                    0\n",
      "Actual virginica                  0                     0                   11\n",
      "Accuracy: 1.0\n",
      "----------\n",
      "Precision (macro): 1.0\n",
      "Recall (macro): 1.0\n",
      "F1 Score (macro): 1.0\n",
      "==================================================\n",
      "\n",
      "Classification Report:\n",
      "\n",
      "              precision    recall  f1-score   support\n",
      "\n",
      "      setosa       1.00      1.00      1.00        10\n",
      "  versicolor       1.00      1.00      1.00         9\n",
      "   virginica       1.00      1.00      1.00        11\n",
      "\n",
      "    accuracy                           1.00        30\n",
      "   macro avg       1.00      1.00      1.00        30\n",
      "weighted avg       1.00      1.00      1.00        30\n",
      "\n"
     ]
    }
   ],
   "source": [
    "evaluate_model(\"Decision Tree\", y_test, y_pred2)\n"
   ]
  }
 ],
 "metadata": {
  "kernelspec": {
   "display_name": "Python 3",
   "language": "python",
   "name": "python3"
  },
  "language_info": {
   "codemirror_mode": {
    "name": "ipython",
    "version": 3
   },
   "file_extension": ".py",
   "mimetype": "text/x-python",
   "name": "python",
   "nbconvert_exporter": "python",
   "pygments_lexer": "ipython3",
   "version": "3.12.3"
  }
 },
 "nbformat": 4,
 "nbformat_minor": 4
}
