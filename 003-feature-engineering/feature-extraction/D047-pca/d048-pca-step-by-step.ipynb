{
 "cells": [
  {
   "cell_type": "markdown",
   "id": "80984c69",
   "metadata": {},
   "source": [
    "# Sample data"
   ]
  },
  {
   "cell_type": "code",
   "execution_count": null,
   "id": "f39ab7de",
   "metadata": {},
   "outputs": [],
   "source": [
    "import numpy as np\n",
    "import pandas as pd\n",
    "import matplotlib.pyplot as plt\n",
    "import plotly.graph_objects as go\n",
    "import plotly.express as px\n",
    "from sklearn.decomposition import PCA\n",
    "from sklearn.preprocessing import StandardScaler"
   ]
  },
  {
   "cell_type": "code",
   "execution_count": 42,
   "id": "b0ba45cf",
   "metadata": {},
   "outputs": [],
   "source": [
    "np.random.seed(42)\n",
    "df = pd.DataFrame({\n",
    "    'f1': np.random.normal(0, 1, 100),\n",
    "    'f2': np.random.normal(0, 1, 100),\n",
    "    'f3': np.random.normal(0, 1, 100),\n",
    "    'op': np.random.choice([1, 0], 100)\n",
    "})\n"
   ]
  },
  {
   "cell_type": "code",
   "execution_count": 43,
   "id": "35669134",
   "metadata": {},
   "outputs": [
    {
     "data": {
      "text/html": [
       "<div>\n",
       "<style scoped>\n",
       "    .dataframe tbody tr th:only-of-type {\n",
       "        vertical-align: middle;\n",
       "    }\n",
       "\n",
       "    .dataframe tbody tr th {\n",
       "        vertical-align: top;\n",
       "    }\n",
       "\n",
       "    .dataframe thead th {\n",
       "        text-align: right;\n",
       "    }\n",
       "</style>\n",
       "<table border=\"1\" class=\"dataframe\">\n",
       "  <thead>\n",
       "    <tr style=\"text-align: right;\">\n",
       "      <th></th>\n",
       "      <th>f1</th>\n",
       "      <th>f2</th>\n",
       "      <th>f3</th>\n",
       "      <th>op</th>\n",
       "    </tr>\n",
       "  </thead>\n",
       "  <tbody>\n",
       "    <tr>\n",
       "      <th>0</th>\n",
       "      <td>0.496714</td>\n",
       "      <td>-1.415371</td>\n",
       "      <td>0.357787</td>\n",
       "      <td>1</td>\n",
       "    </tr>\n",
       "    <tr>\n",
       "      <th>1</th>\n",
       "      <td>-0.138264</td>\n",
       "      <td>-0.420645</td>\n",
       "      <td>0.560785</td>\n",
       "      <td>0</td>\n",
       "    </tr>\n",
       "    <tr>\n",
       "      <th>2</th>\n",
       "      <td>0.647689</td>\n",
       "      <td>-0.342715</td>\n",
       "      <td>1.083051</td>\n",
       "      <td>0</td>\n",
       "    </tr>\n",
       "    <tr>\n",
       "      <th>3</th>\n",
       "      <td>1.523030</td>\n",
       "      <td>-0.802277</td>\n",
       "      <td>1.053802</td>\n",
       "      <td>1</td>\n",
       "    </tr>\n",
       "    <tr>\n",
       "      <th>4</th>\n",
       "      <td>-0.234153</td>\n",
       "      <td>-0.161286</td>\n",
       "      <td>-1.377669</td>\n",
       "      <td>1</td>\n",
       "    </tr>\n",
       "    <tr>\n",
       "      <th>...</th>\n",
       "      <td>...</td>\n",
       "      <td>...</td>\n",
       "      <td>...</td>\n",
       "      <td>...</td>\n",
       "    </tr>\n",
       "    <tr>\n",
       "      <th>95</th>\n",
       "      <td>-1.463515</td>\n",
       "      <td>0.385317</td>\n",
       "      <td>-0.692910</td>\n",
       "      <td>0</td>\n",
       "    </tr>\n",
       "    <tr>\n",
       "      <th>96</th>\n",
       "      <td>0.296120</td>\n",
       "      <td>-0.883857</td>\n",
       "      <td>0.899600</td>\n",
       "      <td>1</td>\n",
       "    </tr>\n",
       "    <tr>\n",
       "      <th>97</th>\n",
       "      <td>0.261055</td>\n",
       "      <td>0.153725</td>\n",
       "      <td>0.307300</td>\n",
       "      <td>0</td>\n",
       "    </tr>\n",
       "    <tr>\n",
       "      <th>98</th>\n",
       "      <td>0.005113</td>\n",
       "      <td>0.058209</td>\n",
       "      <td>0.812862</td>\n",
       "      <td>1</td>\n",
       "    </tr>\n",
       "    <tr>\n",
       "      <th>99</th>\n",
       "      <td>-0.234587</td>\n",
       "      <td>-1.142970</td>\n",
       "      <td>0.629629</td>\n",
       "      <td>0</td>\n",
       "    </tr>\n",
       "  </tbody>\n",
       "</table>\n",
       "<p>100 rows × 4 columns</p>\n",
       "</div>"
      ],
      "text/plain": [
       "          f1        f2        f3  op\n",
       "0   0.496714 -1.415371  0.357787   1\n",
       "1  -0.138264 -0.420645  0.560785   0\n",
       "2   0.647689 -0.342715  1.083051   0\n",
       "3   1.523030 -0.802277  1.053802   1\n",
       "4  -0.234153 -0.161286 -1.377669   1\n",
       "..       ...       ...       ...  ..\n",
       "95 -1.463515  0.385317 -0.692910   0\n",
       "96  0.296120 -0.883857  0.899600   1\n",
       "97  0.261055  0.153725  0.307300   0\n",
       "98  0.005113  0.058209  0.812862   1\n",
       "99 -0.234587 -1.142970  0.629629   0\n",
       "\n",
       "[100 rows x 4 columns]"
      ]
     },
     "execution_count": 43,
     "metadata": {},
     "output_type": "execute_result"
    }
   ],
   "source": [
    "df"
   ]
  },
  {
   "cell_type": "markdown",
   "id": "14dfb9a8",
   "metadata": {},
   "source": [
    "# Plot the data"
   ]
  },
  {
   "cell_type": "code",
   "execution_count": 44,
   "id": "de9689d6",
   "metadata": {},
   "outputs": [
    {
     "data": {
      "application/vnd.plotly.v1+json": {
       "config": {
        "plotlyServerURL": "https://plot.ly"
       },
       "data": [
        {
         "marker": {
          "color": {
           "bdata": "AQAAAQEAAAEBAQAAAAEBAAABAAABAAEBAQEBAQEAAQEAAAABAAEBAQEAAAEBAQABAQAAAQAAAQABAAEBAQABAAEBAAEBAAEBAQEAAAEAAQABAQEBAQEAAQABAAAAAQEAAQABAA==",
           "dtype": "i1"
          },
          "colorscale": [
           [
            0,
            "#440154"
           ],
           [
            0.1111111111111111,
            "#482878"
           ],
           [
            0.2222222222222222,
            "#3e4989"
           ],
           [
            0.3333333333333333,
            "#31688e"
           ],
           [
            0.4444444444444444,
            "#26828e"
           ],
           [
            0.5555555555555556,
            "#1f9e89"
           ],
           [
            0.6666666666666666,
            "#35b779"
           ],
           [
            0.7777777777777778,
            "#6ece58"
           ],
           [
            0.8888888888888888,
            "#b5de2b"
           ],
           [
            1,
            "#fde725"
           ]
          ],
          "size": 5
         },
         "mode": "markers",
         "name": "Data Points",
         "type": "scatter3d",
         "x": {
          "bdata": "fDCpKCrK3z8qBd4FpbLBv2heJFDdueQ/K6oBjlRe+D9AplffvPjNvzvbcCYz+M2/CHRAqHRE+T/z1/BG047oP4ueeUveC96/fS1q4aZc4T9wG8Guoqjdv+fvFiuEzt2/cPmepZ74zj++Ne6+y5z+vxLk7nBDmfu/YzyhakL+4b95UaNnjjTwvx+GFtigHNQ/+QOLgYgO7b/HExTEy5j2v0ENnx9Mc/c/2Zhm4TzmzL/GNbFGh0mxP2InDcHEy/a/KPrKUZVr4b81BjE/bGW8PxX1zj14avK/6N19s28L2D/SOz2hbjjjv6DS80Icq9K/p/2pOS5B479X9hhz7qL9P4aDsNZupIu/RsyHS2Ls8L83Lh+1SVLqPxx64lmTiPO/tWnv0gq8yj/DMFAPz1r/v/9asANAQPW/QDr0vL8yyT++nUiqhKHnPwwupFVl78U/XzGyNiCbvb/hr1BvSEXTvwa4sKwGqPe/J6aouPYI57/ZriIKG3vdv2LC1/746fA/iEEAkdf91T9OFQ2YaTX8vzhYbbDKvdQ/QA8qJjCl2L9NOahTWKnlv/nsCSfakuM/1Pz0Wvl+8D8enOD2C83tP1MVD7Xe2uq/zylztCLK07+KTA+JazPVPwBoGGqqN+8/VWYobMqq3r8Tbn1grMPHvzBuPE2Ms/G/9PWajqkj87+w1UonNgDqP/3Ng74os/U/+iMrXUFvsr9qgA6DeA7wP0KkKG0LJdc/rwoBL9Kk5L+P6aQIGyHXPyBgEDvMm/g/UhmlZMpXor8x1znJxwj5P19fz+s89QTAv1gZewZN6j8hrkt3t0i2P8Dt4LnvItO/OIpGXqJ9tz/iHOwPFc3/v8FsDls1Hsy/04nor+7a1j8349E5dKX3PzA8v2yrleC/S3Lu+S3f6b+hdpfJZA7gv5AGx2H5Su0/gMUgGEIK1T/02ryry/PgvwNc6tKvbOA/OiugAxPauD9TvHjHI//uP3hIyAw4d+a/l5Lxpmr41L8apYzLTBjZvxD0dqaOave/IzBrdqLz0j8UgR0sIbXQPw06yBDZ8XQ/hE70gPMGzr8=",
          "dtype": "f8"
         },
         "y": {
          "bdata": "BCaNylul9r90hh9c2uvavws0Ft4I79W/fDE0YUGs6b/Ac3WcAqXEvzMc/B/429k/GwJ+RNEt/j+RJ1zWkFjGP517TqK0e9A/YFWJNeMOs7/tciNySbP+vzhGxw90Jpu/rRjbe37Wrj+4CNpHuLQDQOSGYbpIn8i/cjBhOY1M0z8IMle3vcWhv88R8r3nsvK/XG9XkwBJ8j9WfwXd1Q/oP9CD1DoiUOk//I03uLMZ7b80xIdy2HH2PxrkSGH7bfa/S4cph4jH4j9pi2GZDYYBQGn2PTx5su+/syyOahwf4r/knA16wIK5P29cmPl4HOC/2oM4dYTP+L/WI4LWV42xP6z3zS0y//C/LYVNoFZP3j+P4yVf7Gvtv8btxwSIzPg/3zBiNWkQ6b/G09nnp5zUv6+9akJVCOo/EVsOyJ6x879VNCM6aB3NP9OKTYUO6vQ/uPAUV0C4+b9xtRAQFaLHP87DhXHrodA/FIwxZrEE6T/Ywx/UjMrzvwa+Dx2XIPW/c+xXzL6z4D81ybwAzAHTP9yCByoTCNA/bQZjHDUs1j8B1nQ0w8Llv50+1zh9us0/Kj4LDLPB0j9/yEiB99vmv987sV822v0/4GTFUEdT3j9piIFBlA/zvwzmpLZ8AuU/U2I0nZcw779TSQgNzC/pPyEIkoSbifI/3Du3kAdD6r/tPhst+tPuP3e1ZrEAa9o/56rQG1FO6j/5fjyZQ1n+P92Zh7bgaM+/8kr3TZse6L+U+RH35nbsvwxYtSseG+q/vzZmCPC8s79JabMXb9XVP3p/jlNNtdE/chRNAUl46j/EwjZjvKCKPwoy0PKsQfc/auDaNiPw0L9MuFAN6MIFQKFsmod3BeQ/fngKr9Vt6799RAssYCLxv2JDLPvT4N4/Gn5stW2azL8Pgm6QF9nmPy3tMXaGSd4/qoMQZuqksr9D/LEj7xjrv/pkh3HQPPi/HGITc7OT3L8ogL5xnmfrPyehqH5sZ8s/3tQeyYvu87+mMWnmyirGP1UCIToKqdg/we3ZY49I7L9MGk6nQ63DP+ihInyIza0/47UXOZtJ8r8=",
          "dtype": "f8"
         },
         "z": {
          "bdata": "CI7n9Pzl1j9hVxtk8vHhP4JHVYotVPE/XSlfil/c8D8mOgEJ7wr2v2fFeaipAu6/gFSePSt74D+H/Qk873DgPwMUEklFe+A/BQ1F42TSDkC2wyAtvETiP3SXcOBGK/I/vPLQtC6H7j8SSSh3MtjkP9mNyg1fLdS/5g2W0XlJ6D9Y0b7x+7rovwAthHUSUM6/kS0mRTIQ378lag0ftPW0P9Im6rVrhAJATkByd1Hg/b+RkUbu1/XlP8j+Ryivzfm/TmBgtiE03r/F8w52V2zxP+gfzcOndLA/KULqTnE+8b9tVL+axOPmv0SCQ8dDv+U/qhKq1ylf57/pr5hB6rTLP3XHAjQxVac/V+/g+OjZ5L+V1qAozCYBQIFhpYsQSeQ/PXPb9H0zAMD8/hAovN3HP6yz485aLeW/PwrfRSJH6z8KDJ9zVFzpv/J+wg9eX72/N78DFdso4D+NsKk8RLTrP0v5XAFqNPO/JiQa33do1b9ayrQEgWXev4qY7bQS6OS/KngJ8kw//D8ljANpOOvZPwu5PqeULPS/D/uaBCBf7T9KYjkHLfoAQDcsBUv6hPA/AsGk4VZP+L+NcaTosP3ev/EbC6BERfQ/Frxmbzql5r8U602aiWfcP/QZu1rNyeg/yf+iF2qp7b9e6SKDG3quv0GEOZId7gnAUVGfS+Rj8L/Pqo+bEyrQvwSbcH/r9vO/Ch3AUFse+j/p9O/s2+H2v4WDyVmwKdy/JBracxu8wD93MpKUdA/3PxIUTpdK+fa/CF82mFGc8j/kN1YzEvWEP6y+n9SEaO+/1wlVcxqT3T9gSjjByXrJP83vPAb6NOO/zog5qIzesT/DbE5c+qjYv4oCYgV5D70/0uEXqyww5T9cAUQrU2D5P4YX358XzvO/xWZLzXMQAUB/6p1qwDv/v8NamamxbcO/jM8wm37T4j+DSpdQxfvRP8qoG4sn7eO/rl1t+b+jyr+ndNDKU43fvyyxj3oT3OK/rS+qvPAv6z/Pqhh7V9nWP9dUV75QLOa/aRaPrYXJ7D/XdA+cy6rTP1lCEmv3Auo/wsSVYusl5D8=",
          "dtype": "f8"
         }
        }
       ],
       "layout": {
        "height": 700,
        "scene": {
         "xaxis": {
          "title": {
           "text": "Feature 1"
          }
         },
         "yaxis": {
          "title": {
           "text": "Feature 2"
          }
         },
         "zaxis": {
          "title": {
           "text": "Feature 3"
          }
         }
        },
        "template": {
         "data": {
          "bar": [
           {
            "error_x": {
             "color": "#2a3f5f"
            },
            "error_y": {
             "color": "#2a3f5f"
            },
            "marker": {
             "line": {
              "color": "#E5ECF6",
              "width": 0.5
             },
             "pattern": {
              "fillmode": "overlay",
              "size": 10,
              "solidity": 0.2
             }
            },
            "type": "bar"
           }
          ],
          "barpolar": [
           {
            "marker": {
             "line": {
              "color": "#E5ECF6",
              "width": 0.5
             },
             "pattern": {
              "fillmode": "overlay",
              "size": 10,
              "solidity": 0.2
             }
            },
            "type": "barpolar"
           }
          ],
          "carpet": [
           {
            "aaxis": {
             "endlinecolor": "#2a3f5f",
             "gridcolor": "white",
             "linecolor": "white",
             "minorgridcolor": "white",
             "startlinecolor": "#2a3f5f"
            },
            "baxis": {
             "endlinecolor": "#2a3f5f",
             "gridcolor": "white",
             "linecolor": "white",
             "minorgridcolor": "white",
             "startlinecolor": "#2a3f5f"
            },
            "type": "carpet"
           }
          ],
          "choropleth": [
           {
            "colorbar": {
             "outlinewidth": 0,
             "ticks": ""
            },
            "type": "choropleth"
           }
          ],
          "contour": [
           {
            "colorbar": {
             "outlinewidth": 0,
             "ticks": ""
            },
            "colorscale": [
             [
              0,
              "#0d0887"
             ],
             [
              0.1111111111111111,
              "#46039f"
             ],
             [
              0.2222222222222222,
              "#7201a8"
             ],
             [
              0.3333333333333333,
              "#9c179e"
             ],
             [
              0.4444444444444444,
              "#bd3786"
             ],
             [
              0.5555555555555556,
              "#d8576b"
             ],
             [
              0.6666666666666666,
              "#ed7953"
             ],
             [
              0.7777777777777778,
              "#fb9f3a"
             ],
             [
              0.8888888888888888,
              "#fdca26"
             ],
             [
              1,
              "#f0f921"
             ]
            ],
            "type": "contour"
           }
          ],
          "contourcarpet": [
           {
            "colorbar": {
             "outlinewidth": 0,
             "ticks": ""
            },
            "type": "contourcarpet"
           }
          ],
          "heatmap": [
           {
            "colorbar": {
             "outlinewidth": 0,
             "ticks": ""
            },
            "colorscale": [
             [
              0,
              "#0d0887"
             ],
             [
              0.1111111111111111,
              "#46039f"
             ],
             [
              0.2222222222222222,
              "#7201a8"
             ],
             [
              0.3333333333333333,
              "#9c179e"
             ],
             [
              0.4444444444444444,
              "#bd3786"
             ],
             [
              0.5555555555555556,
              "#d8576b"
             ],
             [
              0.6666666666666666,
              "#ed7953"
             ],
             [
              0.7777777777777778,
              "#fb9f3a"
             ],
             [
              0.8888888888888888,
              "#fdca26"
             ],
             [
              1,
              "#f0f921"
             ]
            ],
            "type": "heatmap"
           }
          ],
          "histogram": [
           {
            "marker": {
             "pattern": {
              "fillmode": "overlay",
              "size": 10,
              "solidity": 0.2
             }
            },
            "type": "histogram"
           }
          ],
          "histogram2d": [
           {
            "colorbar": {
             "outlinewidth": 0,
             "ticks": ""
            },
            "colorscale": [
             [
              0,
              "#0d0887"
             ],
             [
              0.1111111111111111,
              "#46039f"
             ],
             [
              0.2222222222222222,
              "#7201a8"
             ],
             [
              0.3333333333333333,
              "#9c179e"
             ],
             [
              0.4444444444444444,
              "#bd3786"
             ],
             [
              0.5555555555555556,
              "#d8576b"
             ],
             [
              0.6666666666666666,
              "#ed7953"
             ],
             [
              0.7777777777777778,
              "#fb9f3a"
             ],
             [
              0.8888888888888888,
              "#fdca26"
             ],
             [
              1,
              "#f0f921"
             ]
            ],
            "type": "histogram2d"
           }
          ],
          "histogram2dcontour": [
           {
            "colorbar": {
             "outlinewidth": 0,
             "ticks": ""
            },
            "colorscale": [
             [
              0,
              "#0d0887"
             ],
             [
              0.1111111111111111,
              "#46039f"
             ],
             [
              0.2222222222222222,
              "#7201a8"
             ],
             [
              0.3333333333333333,
              "#9c179e"
             ],
             [
              0.4444444444444444,
              "#bd3786"
             ],
             [
              0.5555555555555556,
              "#d8576b"
             ],
             [
              0.6666666666666666,
              "#ed7953"
             ],
             [
              0.7777777777777778,
              "#fb9f3a"
             ],
             [
              0.8888888888888888,
              "#fdca26"
             ],
             [
              1,
              "#f0f921"
             ]
            ],
            "type": "histogram2dcontour"
           }
          ],
          "mesh3d": [
           {
            "colorbar": {
             "outlinewidth": 0,
             "ticks": ""
            },
            "type": "mesh3d"
           }
          ],
          "parcoords": [
           {
            "line": {
             "colorbar": {
              "outlinewidth": 0,
              "ticks": ""
             }
            },
            "type": "parcoords"
           }
          ],
          "pie": [
           {
            "automargin": true,
            "type": "pie"
           }
          ],
          "scatter": [
           {
            "fillpattern": {
             "fillmode": "overlay",
             "size": 10,
             "solidity": 0.2
            },
            "type": "scatter"
           }
          ],
          "scatter3d": [
           {
            "line": {
             "colorbar": {
              "outlinewidth": 0,
              "ticks": ""
             }
            },
            "marker": {
             "colorbar": {
              "outlinewidth": 0,
              "ticks": ""
             }
            },
            "type": "scatter3d"
           }
          ],
          "scattercarpet": [
           {
            "marker": {
             "colorbar": {
              "outlinewidth": 0,
              "ticks": ""
             }
            },
            "type": "scattercarpet"
           }
          ],
          "scattergeo": [
           {
            "marker": {
             "colorbar": {
              "outlinewidth": 0,
              "ticks": ""
             }
            },
            "type": "scattergeo"
           }
          ],
          "scattergl": [
           {
            "marker": {
             "colorbar": {
              "outlinewidth": 0,
              "ticks": ""
             }
            },
            "type": "scattergl"
           }
          ],
          "scattermap": [
           {
            "marker": {
             "colorbar": {
              "outlinewidth": 0,
              "ticks": ""
             }
            },
            "type": "scattermap"
           }
          ],
          "scattermapbox": [
           {
            "marker": {
             "colorbar": {
              "outlinewidth": 0,
              "ticks": ""
             }
            },
            "type": "scattermapbox"
           }
          ],
          "scatterpolar": [
           {
            "marker": {
             "colorbar": {
              "outlinewidth": 0,
              "ticks": ""
             }
            },
            "type": "scatterpolar"
           }
          ],
          "scatterpolargl": [
           {
            "marker": {
             "colorbar": {
              "outlinewidth": 0,
              "ticks": ""
             }
            },
            "type": "scatterpolargl"
           }
          ],
          "scatterternary": [
           {
            "marker": {
             "colorbar": {
              "outlinewidth": 0,
              "ticks": ""
             }
            },
            "type": "scatterternary"
           }
          ],
          "surface": [
           {
            "colorbar": {
             "outlinewidth": 0,
             "ticks": ""
            },
            "colorscale": [
             [
              0,
              "#0d0887"
             ],
             [
              0.1111111111111111,
              "#46039f"
             ],
             [
              0.2222222222222222,
              "#7201a8"
             ],
             [
              0.3333333333333333,
              "#9c179e"
             ],
             [
              0.4444444444444444,
              "#bd3786"
             ],
             [
              0.5555555555555556,
              "#d8576b"
             ],
             [
              0.6666666666666666,
              "#ed7953"
             ],
             [
              0.7777777777777778,
              "#fb9f3a"
             ],
             [
              0.8888888888888888,
              "#fdca26"
             ],
             [
              1,
              "#f0f921"
             ]
            ],
            "type": "surface"
           }
          ],
          "table": [
           {
            "cells": {
             "fill": {
              "color": "#EBF0F8"
             },
             "line": {
              "color": "white"
             }
            },
            "header": {
             "fill": {
              "color": "#C8D4E3"
             },
             "line": {
              "color": "white"
             }
            },
            "type": "table"
           }
          ]
         },
         "layout": {
          "annotationdefaults": {
           "arrowcolor": "#2a3f5f",
           "arrowhead": 0,
           "arrowwidth": 1
          },
          "autotypenumbers": "strict",
          "coloraxis": {
           "colorbar": {
            "outlinewidth": 0,
            "ticks": ""
           }
          },
          "colorscale": {
           "diverging": [
            [
             0,
             "#8e0152"
            ],
            [
             0.1,
             "#c51b7d"
            ],
            [
             0.2,
             "#de77ae"
            ],
            [
             0.3,
             "#f1b6da"
            ],
            [
             0.4,
             "#fde0ef"
            ],
            [
             0.5,
             "#f7f7f7"
            ],
            [
             0.6,
             "#e6f5d0"
            ],
            [
             0.7,
             "#b8e186"
            ],
            [
             0.8,
             "#7fbc41"
            ],
            [
             0.9,
             "#4d9221"
            ],
            [
             1,
             "#276419"
            ]
           ],
           "sequential": [
            [
             0,
             "#0d0887"
            ],
            [
             0.1111111111111111,
             "#46039f"
            ],
            [
             0.2222222222222222,
             "#7201a8"
            ],
            [
             0.3333333333333333,
             "#9c179e"
            ],
            [
             0.4444444444444444,
             "#bd3786"
            ],
            [
             0.5555555555555556,
             "#d8576b"
            ],
            [
             0.6666666666666666,
             "#ed7953"
            ],
            [
             0.7777777777777778,
             "#fb9f3a"
            ],
            [
             0.8888888888888888,
             "#fdca26"
            ],
            [
             1,
             "#f0f921"
            ]
           ],
           "sequentialminus": [
            [
             0,
             "#0d0887"
            ],
            [
             0.1111111111111111,
             "#46039f"
            ],
            [
             0.2222222222222222,
             "#7201a8"
            ],
            [
             0.3333333333333333,
             "#9c179e"
            ],
            [
             0.4444444444444444,
             "#bd3786"
            ],
            [
             0.5555555555555556,
             "#d8576b"
            ],
            [
             0.6666666666666666,
             "#ed7953"
            ],
            [
             0.7777777777777778,
             "#fb9f3a"
            ],
            [
             0.8888888888888888,
             "#fdca26"
            ],
            [
             1,
             "#f0f921"
            ]
           ]
          },
          "colorway": [
           "#636efa",
           "#EF553B",
           "#00cc96",
           "#ab63fa",
           "#FFA15A",
           "#19d3f3",
           "#FF6692",
           "#B6E880",
           "#FF97FF",
           "#FECB52"
          ],
          "font": {
           "color": "#2a3f5f"
          },
          "geo": {
           "bgcolor": "white",
           "lakecolor": "white",
           "landcolor": "#E5ECF6",
           "showlakes": true,
           "showland": true,
           "subunitcolor": "white"
          },
          "hoverlabel": {
           "align": "left"
          },
          "hovermode": "closest",
          "mapbox": {
           "style": "light"
          },
          "paper_bgcolor": "white",
          "plot_bgcolor": "#E5ECF6",
          "polar": {
           "angularaxis": {
            "gridcolor": "white",
            "linecolor": "white",
            "ticks": ""
           },
           "bgcolor": "#E5ECF6",
           "radialaxis": {
            "gridcolor": "white",
            "linecolor": "white",
            "ticks": ""
           }
          },
          "scene": {
           "xaxis": {
            "backgroundcolor": "#E5ECF6",
            "gridcolor": "white",
            "gridwidth": 2,
            "linecolor": "white",
            "showbackground": true,
            "ticks": "",
            "zerolinecolor": "white"
           },
           "yaxis": {
            "backgroundcolor": "#E5ECF6",
            "gridcolor": "white",
            "gridwidth": 2,
            "linecolor": "white",
            "showbackground": true,
            "ticks": "",
            "zerolinecolor": "white"
           },
           "zaxis": {
            "backgroundcolor": "#E5ECF6",
            "gridcolor": "white",
            "gridwidth": 2,
            "linecolor": "white",
            "showbackground": true,
            "ticks": "",
            "zerolinecolor": "white"
           }
          },
          "shapedefaults": {
           "line": {
            "color": "#2a3f5f"
           }
          },
          "ternary": {
           "aaxis": {
            "gridcolor": "white",
            "linecolor": "white",
            "ticks": ""
           },
           "baxis": {
            "gridcolor": "white",
            "linecolor": "white",
            "ticks": ""
           },
           "bgcolor": "#E5ECF6",
           "caxis": {
            "gridcolor": "white",
            "linecolor": "white",
            "ticks": ""
           }
          },
          "title": {
           "x": 0.05
          },
          "xaxis": {
           "automargin": true,
           "gridcolor": "white",
           "linecolor": "white",
           "ticks": "",
           "title": {
            "standoff": 15
           },
           "zerolinecolor": "white",
           "zerolinewidth": 2
          },
          "yaxis": {
           "automargin": true,
           "gridcolor": "white",
           "linecolor": "white",
           "ticks": "",
           "title": {
            "standoff": 15
           },
           "zerolinecolor": "white",
           "zerolinewidth": 2
          }
         }
        },
        "title": {
         "text": "3D PCA with Eigenvectors"
        },
        "width": 800
       }
      }
     },
     "metadata": {},
     "output_type": "display_data"
    }
   ],
   "source": [
    "# === Plotly 3D Scatter ===\n",
    "fig = go.Figure(scatter)\n",
    "\n",
    "scatter = go.Scatter3d(\n",
    "    x=df['f1'], y=df['f2'], z=df['f3'],\n",
    "    mode='markers',\n",
    "    marker=dict(size=5, color=df['op'].astype('category').cat.codes, colorscale='Viridis'),\n",
    "    name='Data Points',\n",
    "    \n",
    ")\n",
    "\n",
    "fig.update_layout(\n",
    "    scene=dict(\n",
    "        xaxis_title='Feature 1',\n",
    "        yaxis_title='Feature 2',\n",
    "        zaxis_title='Feature 3'\n",
    "    ),\n",
    "    title='3D PCA with Eigenvectors',\n",
    "    width=800,\n",
    "    height=700,\n",
    ")\n",
    "fig.show()"
   ]
  },
  {
   "cell_type": "markdown",
   "id": "9084bce9",
   "metadata": {},
   "source": [
    "# S1: Apply standard scaling"
   ]
  },
  {
   "cell_type": "code",
   "execution_count": 45,
   "id": "2fe62a32",
   "metadata": {},
   "outputs": [],
   "source": [
    "scalar = StandardScaler()"
   ]
  },
  {
   "cell_type": "code",
   "execution_count": 47,
   "id": "7f480da0",
   "metadata": {},
   "outputs": [
    {
     "data": {
      "text/html": [
       "<div>\n",
       "<style scoped>\n",
       "    .dataframe tbody tr th:only-of-type {\n",
       "        vertical-align: middle;\n",
       "    }\n",
       "\n",
       "    .dataframe tbody tr th {\n",
       "        vertical-align: top;\n",
       "    }\n",
       "\n",
       "    .dataframe thead th {\n",
       "        text-align: right;\n",
       "    }\n",
       "</style>\n",
       "<table border=\"1\" class=\"dataframe\">\n",
       "  <thead>\n",
       "    <tr style=\"text-align: right;\">\n",
       "      <th></th>\n",
       "      <th>f1</th>\n",
       "      <th>f2</th>\n",
       "      <th>f3</th>\n",
       "    </tr>\n",
       "  </thead>\n",
       "  <tbody>\n",
       "    <tr>\n",
       "      <th>0</th>\n",
       "      <td>0.664619</td>\n",
       "      <td>-1.515115</td>\n",
       "      <td>0.271485</td>\n",
       "    </tr>\n",
       "    <tr>\n",
       "      <th>1</th>\n",
       "      <td>-0.038089</td>\n",
       "      <td>-0.466809</td>\n",
       "      <td>0.459646</td>\n",
       "    </tr>\n",
       "    <tr>\n",
       "      <th>2</th>\n",
       "      <td>0.831697</td>\n",
       "      <td>-0.384681</td>\n",
       "      <td>0.943743</td>\n",
       "    </tr>\n",
       "    <tr>\n",
       "      <th>3</th>\n",
       "      <td>1.800406</td>\n",
       "      <td>-0.868997</td>\n",
       "      <td>0.916631</td>\n",
       "    </tr>\n",
       "    <tr>\n",
       "      <th>4</th>\n",
       "      <td>-0.144206</td>\n",
       "      <td>-0.193479</td>\n",
       "      <td>-1.337135</td>\n",
       "    </tr>\n",
       "  </tbody>\n",
       "</table>\n",
       "</div>"
      ],
      "text/plain": [
       "         f1        f2        f3\n",
       "0  0.664619 -1.515115  0.271485\n",
       "1 -0.038089 -0.466809  0.459646\n",
       "2  0.831697 -0.384681  0.943743\n",
       "3  1.800406 -0.868997  0.916631\n",
       "4 -0.144206 -0.193479 -1.337135"
      ]
     },
     "execution_count": 47,
     "metadata": {},
     "output_type": "execute_result"
    }
   ],
   "source": [
    "df.iloc[:, 0:3] = scalar.fit_transform(df.iloc[:, 0:3])\n",
    "df.iloc[:, 0:3].head(5)"
   ]
  },
  {
   "cell_type": "markdown",
   "id": "07177088",
   "metadata": {},
   "source": [
    "# S2: Find Covariance Matrix"
   ]
  },
  {
   "cell_type": "code",
   "execution_count": 49,
   "id": "c643616d",
   "metadata": {},
   "outputs": [
    {
     "data": {
      "text/plain": [
       "Index(['f1', 'f2', 'f3', 'op'], dtype='object')"
      ]
     },
     "execution_count": 49,
     "metadata": {},
     "output_type": "execute_result"
    }
   ],
   "source": [
    "df.columns"
   ]
  },
  {
   "cell_type": "code",
   "execution_count": 56,
   "id": "cc1348de",
   "metadata": {},
   "outputs": [
    {
     "data": {
      "text/html": [
       "<div>\n",
       "<style scoped>\n",
       "    .dataframe tbody tr th:only-of-type {\n",
       "        vertical-align: middle;\n",
       "    }\n",
       "\n",
       "    .dataframe tbody tr th {\n",
       "        vertical-align: top;\n",
       "    }\n",
       "\n",
       "    .dataframe thead th {\n",
       "        text-align: right;\n",
       "    }\n",
       "</style>\n",
       "<table border=\"1\" class=\"dataframe\">\n",
       "  <thead>\n",
       "    <tr style=\"text-align: right;\">\n",
       "      <th></th>\n",
       "      <th>f1</th>\n",
       "      <th>f2</th>\n",
       "      <th>f3</th>\n",
       "    </tr>\n",
       "  </thead>\n",
       "  <tbody>\n",
       "    <tr>\n",
       "      <th>f1</th>\n",
       "      <td>1.010101</td>\n",
       "      <td>-0.137800</td>\n",
       "      <td>0.192768</td>\n",
       "    </tr>\n",
       "    <tr>\n",
       "      <th>f2</th>\n",
       "      <td>-0.137800</td>\n",
       "      <td>1.010101</td>\n",
       "      <td>-0.037002</td>\n",
       "    </tr>\n",
       "    <tr>\n",
       "      <th>f3</th>\n",
       "      <td>0.192768</td>\n",
       "      <td>-0.037002</td>\n",
       "      <td>1.010101</td>\n",
       "    </tr>\n",
       "  </tbody>\n",
       "</table>\n",
       "</div>"
      ],
      "text/plain": [
       "          f1        f2        f3\n",
       "f1  1.010101 -0.137800  0.192768\n",
       "f2 -0.137800  1.010101 -0.037002\n",
       "f3  0.192768 -0.037002  1.010101"
      ]
     },
     "execution_count": 56,
     "metadata": {},
     "output_type": "execute_result"
    }
   ],
   "source": [
    "covariance_matrix = df[['f1', 'f2', 'f3']].cov()\n",
    "covariance_matrix"
   ]
  },
  {
   "cell_type": "code",
   "execution_count": 52,
   "id": "77121185",
   "metadata": {},
   "outputs": [
    {
     "name": "stdout",
     "output_type": "stream",
     "text": [
      "Covariance Matrix:\n",
      " [[ 1.01010101 -0.13780021  0.19276759]\n",
      " [-0.13780021  1.01010101 -0.03700176]\n",
      " [ 0.19276759 -0.03700176  1.01010101]]\n"
     ]
    }
   ],
   "source": [
    "# Step 2 - Find Covariance Matrix\n",
    "covariance_matrix = np.cov([df.iloc[:,0],df.iloc[:,1],df.iloc[:,2]])\n",
    "print('Covariance Matrix:\\n', covariance_matrix)"
   ]
  },
  {
   "cell_type": "markdown",
   "id": "ea0a58fd",
   "metadata": {},
   "source": [
    "# S3: finding Eige Vector and Eigen Vector \n",
    "\n",
    "<img src='https://th.bing.com/th/id/OIP.TUJvCoXugGJACoHOsBv_xAHaEK?rs=1&pid=ImgDetMain'>"
   ]
  },
  {
   "cell_type": "code",
   "execution_count": 61,
   "id": "3bfd04e7",
   "metadata": {},
   "outputs": [],
   "source": [
    "egien_values, egien_vectors = np.linalg.eig(covariance_matrix)"
   ]
  },
  {
   "cell_type": "code",
   "execution_count": 62,
   "id": "8e917cc6",
   "metadata": {},
   "outputs": [
    {
     "data": {
      "text/plain": [
       "array([[ 0.67987019, -0.73143236,  0.05275631],\n",
       "       [-0.45068202, -0.35999193,  0.81687914],\n",
       "       [ 0.57849999,  0.5791481 ,  0.57439119]])"
      ]
     },
     "execution_count": 62,
     "metadata": {},
     "output_type": "execute_result"
    }
   ],
   "source": [
    "egien_vectors"
   ]
  },
  {
   "cell_type": "code",
   "execution_count": null,
   "id": "fed7067e",
   "metadata": {},
   "outputs": [
    {
     "data": {
      "text/plain": [
       "array([1.26547347, 0.78964597, 0.97518358])"
      ]
     },
     "execution_count": 63,
     "metadata": {},
     "output_type": "execute_result"
    }
   ],
   "source": [
    "egien_values"
   ]
  },
  {
   "cell_type": "markdown",
   "id": "5d350065",
   "metadata": {},
   "source": [
    "# Plot the Egien Vectors"
   ]
  },
  {
   "cell_type": "code",
   "execution_count": null,
   "id": "e03b7303",
   "metadata": {},
   "outputs": [
    {
     "data": {
      "application/vnd.plotly.v1+json": {
       "config": {
        "plotlyServerURL": "https://plot.ly"
       },
       "data": [
        {
         "marker": {
          "color": {
           "bdata": "AQAAAQEAAAEBAQAAAAEBAAABAAABAAEBAQEBAQEAAQEAAAABAAEBAQEAAAEBAQABAQAAAQAAAQABAAEBAQABAAEBAAEBAAEBAQEAAAEAAQABAQEBAQEAAQABAAAAAQEAAQABAA==",
           "dtype": "i1"
          },
          "colorscale": [
           [
            0,
            "#440154"
           ],
           [
            0.1111111111111111,
            "#482878"
           ],
           [
            0.2222222222222222,
            "#3e4989"
           ],
           [
            0.3333333333333333,
            "#31688e"
           ],
           [
            0.4444444444444444,
            "#26828e"
           ],
           [
            0.5555555555555556,
            "#1f9e89"
           ],
           [
            0.6666666666666666,
            "#35b779"
           ],
           [
            0.7777777777777778,
            "#6ece58"
           ],
           [
            0.8888888888888888,
            "#b5de2b"
           ],
           [
            1,
            "#fde725"
           ]
          ],
          "size": 5
         },
         "mode": "markers",
         "name": "Data Points",
         "type": "scatter3d",
         "x": {
          "bdata": "Jdj2gY9E5T9eK/zMZICjv1BzG3lDneo/JL3C+HbO/D9ffnJyV3XCvwk+4gi/dMK/gaZn6CLN/T9ucJGt29ruP9XEuldq5dm/WyWUqDDk5j9MeLoQmXfZv6LM2O2Eodm/MkznXRB+2D97h+NC/QQAwDM1jacmtPy/deO7+iE84L+WQLKjVRjwv+oVvwm1nN0/Dzu1f4J67L/9gOFeGiv3v91dgbNcyvs/qqGD7I9Fwb81UBHYl0bIP7c5MTmDY/e/73Hpcp8z378PN5czNmzOP9M8XGGcivK/wNJE9nP74D8dsmkI0Zfhvxjnclbwm8q/nyCEg3+h4b+xyJL4dFEBQKjsv8O0mLk/Ybz2JsXj8L8U3fTmPGfwP6ndJe87x/O/Opt7pu4l1j9xlFotIW4AwKABlWfOrfW/EXjjck9M1T8bW/AgPdTtP1uNAh4VftM/+L0AZoO/ir+G5yNlLPHLv47p+oVDV/i/xkHTa4LQ5b95n6EtNkXZv8wu+I2NjvQ/RoJD2D+x3z9+Y/6h9GD9v9MsE6IPT94/bnSdjUDr079DxUOuYkvkv1iF7qrIVuk/P/p0MiQY9D+GmByeH1TyP4nTFz25Cuq/VSP4UDgXzb+VIu9zPNHeP8lDybPFHPM/CppmBkqV2r9cFJKCjy23v2kCFY8twPG/lq78lo5X87/7y/OH0jnwP/n0JGds2vk/V4Mq1PQJoj/tOgxTo5vzP3uupEX4e+A//fbQohIr47+zp7xLynngPwSjMhZ9Ev0/8hXgPUdFsz9hpS6JGIv9PxflhegnRgbAbm4scFNk8D9ATBnHaArLPyFTnDwnpcu/I32B5le1yz/L+2tcXK0AwP169F4yaMC/AjL/CvZS4D9W0y1j3gH8P65ZO1opWt2/8baU0S/06L+spLRawC7cvzR5428mDPI/CcdJCq+j3j/Pi49GfirevwopzBWh2uU/gFJMfyV2zD90f/ehfv3yP9AG/QU4L+W/1+vbdUS0z798OZ11pGrUvzQf3QU9E/i/orrD6AhU3D8+w2ccQNjZP+628qN43r4/A4T9MBKFwr8=",
          "dtype": "f8"
         },
         "y": {
          "bdata": "hRpOIuk9+L/8VZqHM+Ddv/P49Jubnti/g8NJ2NPO678j05Dn7cPIv0p5wH5tv9k/aWeZBq9t/z98YFS1dIrEP/4suRvAu88/cxDyES0aur+Zw4+qc10AwM2fetJlV6q/JBhiKL92pD9XaliBT5QEQB3yqk0N9cy/oajtmozV0j+CJnhOysOuv45YoKQHFfS/8gpieNzk8j/amFT9EZvoP9UKdAuf7Ok/cOTKjolr779aeGHID0f3P9BtSB6NA/i/RqiiW+0J4z+yrq8zjUcCQAguNecOFPG/kT6CLY7Z47+Y+fSHCd60P6xC2Tsyu+G/tskbQ+uF+r8vZ6TpxPWoP30uqPTZSfK/IPfHGCtw3j+x39r7L8LvvyCC5fc1wvk/XHNIsJYq67/Pi1OkADrXvy8tyQ2+ruo/5aoFBnch9b+bG4HDoqzLPyvZLF0rqvU/K061YTB7+781qyW8uOXFP6tuJs8lBtA/c75x8B2d6T/L5AnWvDv1v5bBZZ0zpPa/SAAfpX7Z4D/JhHGRxIbSP2o8NDwIyM4/00c/q9Tc1T/RsGLJY6/nv5drK88tUsw/5oTFwDdD0j+1GVKyvdfov/iH7EaTFf8/be1dHlJ03j+Q55IQsnb0v7itmJiiY+U/24k5m57P8L9wr2H3isrpP78mA0byKPM/G9asGblt7L+rsndSg7zvP9rB7WQqVto/XfIp7n746j+aXXp0eJv/P52EGr4eDtK/d/oTecIr6r8Irnfo97/uv2G5+FmpQ+y/FVce7JnRur9MCNkaYoHVP95EfAVdKNE/xuRvirkk6z/xw84IARSEv8d4Xx0WIvg/bYH93NJa0782kDkF174GQL0Q1nD8WOQ/k7QtiJ+o7b8FqjcN7W7yv9Yf8aZ+Cd8/zTYDyYuT0L8z8vnBllPnP6Ab7sUKat4/clk6+36qub+1orpEJk/tvyelWVBQ6/m/6UiML+Ge37//Pmw58yDsP0LRfYwP38k/i0bSJqxh9b+k70CXN1rEP6IgBUL3e9g/+ArhTiGP7r/QMtNGWbrBP5Pfm4iDX6M/CWVOIA+m878=",
          "dtype": "f8"
         },
         "z": {
          "bdata": "7p1TAgNg0T+1sLu912rdP+627UwkM+4/uHlWWQtV7T9DIIUQ6GT1v+TKEAfzve2/3jXWfhG02j+pHF1zGKHaP2gNKMdBtNo/TlzqYocWDEBE7PlnUQTePwH3HQzmwe8/OgTWcjtf6j8O5m6TbGXhP4obchhpjda/ElH4XEuW5D8kL+D5Dtnov7fOcakD5tG/VhGgqEdS4L8QMKbIXx2QP6D9eaTFrgBANkgYHbqn/L8+jUimMW7iPz3ihExL4fi/2QJQIZTY37/KNHTx71/uP3hPS+2Kt0K/OvVXLzPy8L9Pp30BSCTnv1oOuaeaO+I/XWt2iaiW5795AiOubPvBP230KJuLV5K/JSbPPZBA5b8BaQL1ZtX+P/7goqPA4OA//v80jyH//r9kT6RnM9i8P96muNfojeW/JeRsfv5b5z/wWd67nG7pv3Ne3XACUMW/wiY0Tnkb2j/Zy/KaJsHnPw60FRZ8w/K/6/+QgXqx17+X4kDYKwPgv2DMBP2wTeW/ebpsUGk4+T/pXUdtuyzUP8oZAJWDqfO/RTu88M9M6T8grJ9rroL+P4g0fCkHs+w/PB0xoOR+97+4zfUXtEngv5Imvw2f0/E/nICG8U/q5r+Jd3k9i3rWP8dSzu89DeU/htgPSDlr7b/Hc66SJoa9v2/TKkcphAjAJsz9N58n8L+N6+clMtXSvzmj5WjGd/O/sx1RfEs/9z86QYS9Hyz2v4PoUZRR9N2/jdRdqJg/rz/Pl12xnGn0P+pD7/3XQfa/5Iujv7pJ8D/+IET8K/Gpv5rqssamCe+/drT9QzeQ1z85YXtN7tW/P0L/peFkuuO/RUJ9VS2gcj/Uem/jJLXav1Grhf8ZE6c/SN0Dvfi24T9p1ODMJo/2P/JN/mnuUfO/l3IHZPqr/j/dpLalxOn9v2nRwChLtcm/IR7gQfgM3z9J+B/GgKPJP6RKhXccZeS/NsCJDDcy0L/QMb/URYzgv2V2Qab9Z+O/Lipy535G5z9QaRslSlTRPwYZdII8eua/hUq5pCTC6D8gAzGUjMLMP2XctcCEL+Y/y9rSCS3A4D8=",
          "dtype": "f8"
         }
        },
        {
         "line": {
          "color": "red",
          "width": 6
         },
         "mode": "lines+text",
         "name": "PC1",
         "text": [
          null,
          "PC1"
         ],
         "textposition": "top center",
         "type": "scatter3d",
         "x": [
          -1.2212453270876722e-17,
          0.8603576967107903
         ],
         "y": [
          -8.881784197001253e-18,
          -0.5703261414894074
         ],
         "z": [
          3.1086244689504386e-17,
          0.7320763902359624
         ]
        },
        {
         "line": {
          "color": "red",
          "width": 6
         },
         "mode": "lines+text",
         "name": "PC2",
         "text": [
          null,
          "PC2"
         ],
         "textposition": "top center",
         "type": "scatter3d",
         "x": [
          -1.2212453270876722e-17,
          0.05144708457133974
         ],
         "y": [
          -8.881784197001253e-18,
          0.7966071257408094
         ],
         "z": [
          3.1086244689504386e-17,
          0.56013686357276
         ]
        },
        {
         "line": {
          "color": "red",
          "width": 6
         },
         "mode": "lines+text",
         "name": "PC3",
         "text": [
          null,
          "PC3"
         ],
         "textposition": "top center",
         "type": "scatter3d",
         "x": [
          -1.2212453270876722e-17,
          0.5775726139094225
         ],
         "y": [
          -8.881784197001253e-18,
          0.2842661775834389
         ],
         "z": [
          3.1086244689504386e-17,
          -0.4573219626183072
         ]
        }
       ],
       "layout": {
        "height": 700,
        "scene": {
         "xaxis": {
          "title": {
           "text": "Feature 1"
          }
         },
         "yaxis": {
          "title": {
           "text": "Feature 2"
          }
         },
         "zaxis": {
          "title": {
           "text": "Feature 3"
          }
         }
        },
        "template": {
         "data": {
          "bar": [
           {
            "error_x": {
             "color": "#2a3f5f"
            },
            "error_y": {
             "color": "#2a3f5f"
            },
            "marker": {
             "line": {
              "color": "#E5ECF6",
              "width": 0.5
             },
             "pattern": {
              "fillmode": "overlay",
              "size": 10,
              "solidity": 0.2
             }
            },
            "type": "bar"
           }
          ],
          "barpolar": [
           {
            "marker": {
             "line": {
              "color": "#E5ECF6",
              "width": 0.5
             },
             "pattern": {
              "fillmode": "overlay",
              "size": 10,
              "solidity": 0.2
             }
            },
            "type": "barpolar"
           }
          ],
          "carpet": [
           {
            "aaxis": {
             "endlinecolor": "#2a3f5f",
             "gridcolor": "white",
             "linecolor": "white",
             "minorgridcolor": "white",
             "startlinecolor": "#2a3f5f"
            },
            "baxis": {
             "endlinecolor": "#2a3f5f",
             "gridcolor": "white",
             "linecolor": "white",
             "minorgridcolor": "white",
             "startlinecolor": "#2a3f5f"
            },
            "type": "carpet"
           }
          ],
          "choropleth": [
           {
            "colorbar": {
             "outlinewidth": 0,
             "ticks": ""
            },
            "type": "choropleth"
           }
          ],
          "contour": [
           {
            "colorbar": {
             "outlinewidth": 0,
             "ticks": ""
            },
            "colorscale": [
             [
              0,
              "#0d0887"
             ],
             [
              0.1111111111111111,
              "#46039f"
             ],
             [
              0.2222222222222222,
              "#7201a8"
             ],
             [
              0.3333333333333333,
              "#9c179e"
             ],
             [
              0.4444444444444444,
              "#bd3786"
             ],
             [
              0.5555555555555556,
              "#d8576b"
             ],
             [
              0.6666666666666666,
              "#ed7953"
             ],
             [
              0.7777777777777778,
              "#fb9f3a"
             ],
             [
              0.8888888888888888,
              "#fdca26"
             ],
             [
              1,
              "#f0f921"
             ]
            ],
            "type": "contour"
           }
          ],
          "contourcarpet": [
           {
            "colorbar": {
             "outlinewidth": 0,
             "ticks": ""
            },
            "type": "contourcarpet"
           }
          ],
          "heatmap": [
           {
            "colorbar": {
             "outlinewidth": 0,
             "ticks": ""
            },
            "colorscale": [
             [
              0,
              "#0d0887"
             ],
             [
              0.1111111111111111,
              "#46039f"
             ],
             [
              0.2222222222222222,
              "#7201a8"
             ],
             [
              0.3333333333333333,
              "#9c179e"
             ],
             [
              0.4444444444444444,
              "#bd3786"
             ],
             [
              0.5555555555555556,
              "#d8576b"
             ],
             [
              0.6666666666666666,
              "#ed7953"
             ],
             [
              0.7777777777777778,
              "#fb9f3a"
             ],
             [
              0.8888888888888888,
              "#fdca26"
             ],
             [
              1,
              "#f0f921"
             ]
            ],
            "type": "heatmap"
           }
          ],
          "histogram": [
           {
            "marker": {
             "pattern": {
              "fillmode": "overlay",
              "size": 10,
              "solidity": 0.2
             }
            },
            "type": "histogram"
           }
          ],
          "histogram2d": [
           {
            "colorbar": {
             "outlinewidth": 0,
             "ticks": ""
            },
            "colorscale": [
             [
              0,
              "#0d0887"
             ],
             [
              0.1111111111111111,
              "#46039f"
             ],
             [
              0.2222222222222222,
              "#7201a8"
             ],
             [
              0.3333333333333333,
              "#9c179e"
             ],
             [
              0.4444444444444444,
              "#bd3786"
             ],
             [
              0.5555555555555556,
              "#d8576b"
             ],
             [
              0.6666666666666666,
              "#ed7953"
             ],
             [
              0.7777777777777778,
              "#fb9f3a"
             ],
             [
              0.8888888888888888,
              "#fdca26"
             ],
             [
              1,
              "#f0f921"
             ]
            ],
            "type": "histogram2d"
           }
          ],
          "histogram2dcontour": [
           {
            "colorbar": {
             "outlinewidth": 0,
             "ticks": ""
            },
            "colorscale": [
             [
              0,
              "#0d0887"
             ],
             [
              0.1111111111111111,
              "#46039f"
             ],
             [
              0.2222222222222222,
              "#7201a8"
             ],
             [
              0.3333333333333333,
              "#9c179e"
             ],
             [
              0.4444444444444444,
              "#bd3786"
             ],
             [
              0.5555555555555556,
              "#d8576b"
             ],
             [
              0.6666666666666666,
              "#ed7953"
             ],
             [
              0.7777777777777778,
              "#fb9f3a"
             ],
             [
              0.8888888888888888,
              "#fdca26"
             ],
             [
              1,
              "#f0f921"
             ]
            ],
            "type": "histogram2dcontour"
           }
          ],
          "mesh3d": [
           {
            "colorbar": {
             "outlinewidth": 0,
             "ticks": ""
            },
            "type": "mesh3d"
           }
          ],
          "parcoords": [
           {
            "line": {
             "colorbar": {
              "outlinewidth": 0,
              "ticks": ""
             }
            },
            "type": "parcoords"
           }
          ],
          "pie": [
           {
            "automargin": true,
            "type": "pie"
           }
          ],
          "scatter": [
           {
            "fillpattern": {
             "fillmode": "overlay",
             "size": 10,
             "solidity": 0.2
            },
            "type": "scatter"
           }
          ],
          "scatter3d": [
           {
            "line": {
             "colorbar": {
              "outlinewidth": 0,
              "ticks": ""
             }
            },
            "marker": {
             "colorbar": {
              "outlinewidth": 0,
              "ticks": ""
             }
            },
            "type": "scatter3d"
           }
          ],
          "scattercarpet": [
           {
            "marker": {
             "colorbar": {
              "outlinewidth": 0,
              "ticks": ""
             }
            },
            "type": "scattercarpet"
           }
          ],
          "scattergeo": [
           {
            "marker": {
             "colorbar": {
              "outlinewidth": 0,
              "ticks": ""
             }
            },
            "type": "scattergeo"
           }
          ],
          "scattergl": [
           {
            "marker": {
             "colorbar": {
              "outlinewidth": 0,
              "ticks": ""
             }
            },
            "type": "scattergl"
           }
          ],
          "scattermap": [
           {
            "marker": {
             "colorbar": {
              "outlinewidth": 0,
              "ticks": ""
             }
            },
            "type": "scattermap"
           }
          ],
          "scattermapbox": [
           {
            "marker": {
             "colorbar": {
              "outlinewidth": 0,
              "ticks": ""
             }
            },
            "type": "scattermapbox"
           }
          ],
          "scatterpolar": [
           {
            "marker": {
             "colorbar": {
              "outlinewidth": 0,
              "ticks": ""
             }
            },
            "type": "scatterpolar"
           }
          ],
          "scatterpolargl": [
           {
            "marker": {
             "colorbar": {
              "outlinewidth": 0,
              "ticks": ""
             }
            },
            "type": "scatterpolargl"
           }
          ],
          "scatterternary": [
           {
            "marker": {
             "colorbar": {
              "outlinewidth": 0,
              "ticks": ""
             }
            },
            "type": "scatterternary"
           }
          ],
          "surface": [
           {
            "colorbar": {
             "outlinewidth": 0,
             "ticks": ""
            },
            "colorscale": [
             [
              0,
              "#0d0887"
             ],
             [
              0.1111111111111111,
              "#46039f"
             ],
             [
              0.2222222222222222,
              "#7201a8"
             ],
             [
              0.3333333333333333,
              "#9c179e"
             ],
             [
              0.4444444444444444,
              "#bd3786"
             ],
             [
              0.5555555555555556,
              "#d8576b"
             ],
             [
              0.6666666666666666,
              "#ed7953"
             ],
             [
              0.7777777777777778,
              "#fb9f3a"
             ],
             [
              0.8888888888888888,
              "#fdca26"
             ],
             [
              1,
              "#f0f921"
             ]
            ],
            "type": "surface"
           }
          ],
          "table": [
           {
            "cells": {
             "fill": {
              "color": "#EBF0F8"
             },
             "line": {
              "color": "white"
             }
            },
            "header": {
             "fill": {
              "color": "#C8D4E3"
             },
             "line": {
              "color": "white"
             }
            },
            "type": "table"
           }
          ]
         },
         "layout": {
          "annotationdefaults": {
           "arrowcolor": "#2a3f5f",
           "arrowhead": 0,
           "arrowwidth": 1
          },
          "autotypenumbers": "strict",
          "coloraxis": {
           "colorbar": {
            "outlinewidth": 0,
            "ticks": ""
           }
          },
          "colorscale": {
           "diverging": [
            [
             0,
             "#8e0152"
            ],
            [
             0.1,
             "#c51b7d"
            ],
            [
             0.2,
             "#de77ae"
            ],
            [
             0.3,
             "#f1b6da"
            ],
            [
             0.4,
             "#fde0ef"
            ],
            [
             0.5,
             "#f7f7f7"
            ],
            [
             0.6,
             "#e6f5d0"
            ],
            [
             0.7,
             "#b8e186"
            ],
            [
             0.8,
             "#7fbc41"
            ],
            [
             0.9,
             "#4d9221"
            ],
            [
             1,
             "#276419"
            ]
           ],
           "sequential": [
            [
             0,
             "#0d0887"
            ],
            [
             0.1111111111111111,
             "#46039f"
            ],
            [
             0.2222222222222222,
             "#7201a8"
            ],
            [
             0.3333333333333333,
             "#9c179e"
            ],
            [
             0.4444444444444444,
             "#bd3786"
            ],
            [
             0.5555555555555556,
             "#d8576b"
            ],
            [
             0.6666666666666666,
             "#ed7953"
            ],
            [
             0.7777777777777778,
             "#fb9f3a"
            ],
            [
             0.8888888888888888,
             "#fdca26"
            ],
            [
             1,
             "#f0f921"
            ]
           ],
           "sequentialminus": [
            [
             0,
             "#0d0887"
            ],
            [
             0.1111111111111111,
             "#46039f"
            ],
            [
             0.2222222222222222,
             "#7201a8"
            ],
            [
             0.3333333333333333,
             "#9c179e"
            ],
            [
             0.4444444444444444,
             "#bd3786"
            ],
            [
             0.5555555555555556,
             "#d8576b"
            ],
            [
             0.6666666666666666,
             "#ed7953"
            ],
            [
             0.7777777777777778,
             "#fb9f3a"
            ],
            [
             0.8888888888888888,
             "#fdca26"
            ],
            [
             1,
             "#f0f921"
            ]
           ]
          },
          "colorway": [
           "#636efa",
           "#EF553B",
           "#00cc96",
           "#ab63fa",
           "#FFA15A",
           "#19d3f3",
           "#FF6692",
           "#B6E880",
           "#FF97FF",
           "#FECB52"
          ],
          "font": {
           "color": "#2a3f5f"
          },
          "geo": {
           "bgcolor": "white",
           "lakecolor": "white",
           "landcolor": "#E5ECF6",
           "showlakes": true,
           "showland": true,
           "subunitcolor": "white"
          },
          "hoverlabel": {
           "align": "left"
          },
          "hovermode": "closest",
          "mapbox": {
           "style": "light"
          },
          "paper_bgcolor": "white",
          "plot_bgcolor": "#E5ECF6",
          "polar": {
           "angularaxis": {
            "gridcolor": "white",
            "linecolor": "white",
            "ticks": ""
           },
           "bgcolor": "#E5ECF6",
           "radialaxis": {
            "gridcolor": "white",
            "linecolor": "white",
            "ticks": ""
           }
          },
          "scene": {
           "xaxis": {
            "backgroundcolor": "#E5ECF6",
            "gridcolor": "white",
            "gridwidth": 2,
            "linecolor": "white",
            "showbackground": true,
            "ticks": "",
            "zerolinecolor": "white"
           },
           "yaxis": {
            "backgroundcolor": "#E5ECF6",
            "gridcolor": "white",
            "gridwidth": 2,
            "linecolor": "white",
            "showbackground": true,
            "ticks": "",
            "zerolinecolor": "white"
           },
           "zaxis": {
            "backgroundcolor": "#E5ECF6",
            "gridcolor": "white",
            "gridwidth": 2,
            "linecolor": "white",
            "showbackground": true,
            "ticks": "",
            "zerolinecolor": "white"
           }
          },
          "shapedefaults": {
           "line": {
            "color": "#2a3f5f"
           }
          },
          "ternary": {
           "aaxis": {
            "gridcolor": "white",
            "linecolor": "white",
            "ticks": ""
           },
           "baxis": {
            "gridcolor": "white",
            "linecolor": "white",
            "ticks": ""
           },
           "bgcolor": "#E5ECF6",
           "caxis": {
            "gridcolor": "white",
            "linecolor": "white",
            "ticks": ""
           }
          },
          "title": {
           "x": 0.05
          },
          "xaxis": {
           "automargin": true,
           "gridcolor": "white",
           "linecolor": "white",
           "ticks": "",
           "title": {
            "standoff": 15
           },
           "zerolinecolor": "white",
           "zerolinewidth": 2
          },
          "yaxis": {
           "automargin": true,
           "gridcolor": "white",
           "linecolor": "white",
           "ticks": "",
           "title": {
            "standoff": 15
           },
           "zerolinecolor": "white",
           "zerolinewidth": 2
          }
         }
        },
        "title": {
         "text": "3D PCA with Eigenvectors (Plotly)"
        },
        "width": 800
       }
      }
     },
     "metadata": {},
     "output_type": "display_data"
    }
   ],
   "source": [
    "# === PCA ===\n",
    "features = ['f1', 'f2', 'f3']\n",
    "X = df[features]\n",
    "X_centered = X - X.mean()\n",
    "pca = PCA(n_components=3)\n",
    "pca.fit(X_centered)\n",
    "eigen_vectors = pca.components_\n",
    "eigen_values = pca.explained_variance_\n",
    "\n",
    "mean = X.mean().values  # Convert mean Series to NumPy array\n",
    "\n",
    "# === Plotly 3D Scatter ===\n",
    "scatter = go.Scatter3d(\n",
    "    x=df['f1'], y=df['f2'], z=df['f3'],\n",
    "    mode='markers',\n",
    "    marker=dict(size=5, color=df['op'].astype('category').cat.codes, colorscale='Viridis'),\n",
    "    name='Data Points',\n",
    ")\n",
    "\n",
    "# === PCA Arrows (as lines) ===\n",
    "arrows = []\n",
    "for i, vec in enumerate(eigen_vectors):\n",
    "    scaled_vec = vec * eigen_values[i]\n",
    "    arrows.append(go.Scatter3d(\n",
    "        x=[mean[0], mean[0] + scaled_vec[0]],\n",
    "        y=[mean[1], mean[1] + scaled_vec[1]],\n",
    "        z=[mean[2], mean[2] + scaled_vec[2]],\n",
    "        mode='lines+text',\n",
    "        line=dict(color='red', width=6),\n",
    "        name=f'PC{i+1}',\n",
    "        text=[None, f'PC{i+1}'],\n",
    "        textposition='top center'\n",
    "    ))\n",
    "\n",
    "# === Combine and Show Plot ===\n",
    "fig = go.Figure(data=[scatter] + arrows)\n",
    "fig.update_layout(\n",
    "    scene=dict(\n",
    "        xaxis_title='Feature 1',\n",
    "        yaxis_title='Feature 2',\n",
    "        zaxis_title='Feature 3'\n",
    "    ),\n",
    "    title='3D PCA with Eigenvectors (Plotly)',\n",
    "    width=800,\n",
    "    height=700\n",
    ")\n",
    "fig.show()\n"
   ]
  },
  {
   "cell_type": "markdown",
   "id": "350e0b61",
   "metadata": {},
   "source": [
    "# Make into lower dimension"
   ]
  },
  {
   "cell_type": "code",
   "execution_count": 76,
   "id": "4e027af6",
   "metadata": {},
   "outputs": [
    {
     "data": {
      "text/plain": [
       "array([[ 0.67987019, -0.73143236,  0.05275631],\n",
       "       [-0.45068202, -0.35999193,  0.81687914]])"
      ]
     },
     "execution_count": 76,
     "metadata": {},
     "output_type": "execute_result"
    }
   ],
   "source": [
    "pc = egien_vectors[0:2]\n",
    "pc"
   ]
  },
  {
   "cell_type": "code",
   "execution_count": 77,
   "id": "5a1e1521",
   "metadata": {},
   "outputs": [
    {
     "data": {
      "text/plain": [
       "(100, 3)"
      ]
     },
     "execution_count": 77,
     "metadata": {},
     "output_type": "execute_result"
    }
   ],
   "source": [
    "# Points \n",
    "x = df.iloc[:, 0:3]\n",
    "x.shape"
   ]
  },
  {
   "cell_type": "code",
   "execution_count": 80,
   "id": "2d442d33",
   "metadata": {},
   "outputs": [
    {
     "data": {
      "text/plain": [
       "(3, 2)"
      ]
     },
     "execution_count": 80,
     "metadata": {},
     "output_type": "execute_result"
    }
   ],
   "source": [
    "# Unit Vector \n",
    "u = pc.T\n",
    "u.shape"
   ]
  },
  {
   "cell_type": "code",
   "execution_count": 81,
   "id": "bbcd3d77",
   "metadata": {},
   "outputs": [
    {
     "data": {
      "text/plain": [
       "array([[ 1.57438141,  0.46766772],\n",
       "       [ 0.33979302,  0.56068889],\n",
       "       [ 0.89660241,  0.53457484],\n",
       "       [ 1.90801364,  0.25019834],\n",
       "       [-0.02706666, -0.95763597],\n",
       "       [-0.44132436, -0.83908291],\n",
       "       [-0.14841053, -1.20572153],\n",
       "       [ 0.56011589, -0.15243557],\n",
       "       [-0.43441609,  0.43395457],\n",
       "       [ 0.74615436,  2.58237072],\n",
       "       [ 1.25044683,  1.29887545],\n",
       "       [-0.18228956,  1.00969812],\n",
       "       [ 0.27442603,  0.48634876],\n",
       "       [-3.21426594,  0.42049325],\n",
       "       [-1.07279457,  0.60210321],\n",
       "       [-0.52623389,  0.64824566],\n",
       "       [-0.68092447, -0.15931315],\n",
       "       [ 1.21786066,  0.01486064],\n",
       "       [-1.49569147, -0.44066285],\n",
       "       [-1.54605748,  0.38864488],\n",
       "       [ 0.698326  ,  0.62903541],\n",
       "       [ 0.5319543 , -1.04870807],\n",
       "       [-0.90479826, -0.13872502],\n",
       "       [ 0.02191555, -0.07114512],\n",
       "       [-0.7928798 , -0.40093642],\n",
       "       [-1.45961044, -0.15428516],\n",
       "       [-0.00716256,  0.90605631],\n",
       "       [ 0.75864049, -0.88105103],\n",
       "       [-0.4715541 , -0.37231676],\n",
       "       [ 0.2940127 ,  0.75859949],\n",
       "       [ 0.79901889,  0.24291144],\n",
       "       [ 1.44351935, -0.87841473],\n",
       "       [ 0.90308199,  0.35178756],\n",
       "       [-1.10057995, -0.23798227],\n",
       "       [ 1.52458606,  1.46944226],\n",
       "       [-1.9901337 ,  0.40840141],\n",
       "       [ 0.75402389, -1.43288069],\n",
       "       [-1.1249077 ,  1.14828666],\n",
       "       [-1.56660477, -0.23975605],\n",
       "       [ 1.2307409 ,  0.92175669],\n",
       "       [ 0.43367826, -1.14715598],\n",
       "       [-0.79210828, -0.7607236 ],\n",
       "       [ 1.26893145,  0.95742642],\n",
       "       [-0.23437986,  0.64319009],\n",
       "       [-1.27929089, -0.36248363],\n",
       "       [-1.0684601 , -0.28333162],\n",
       "       [ 0.67582758,  0.24693537],\n",
       "       [ 1.87341894, -0.61344129],\n",
       "       [ 0.03469012,  0.87489556],\n",
       "       [-1.44345922,  0.98082529],\n",
       "       [ 0.08124394, -1.30385337],\n",
       "       [-0.41974776,  0.66313922],\n",
       "       [ 0.21080288,  2.10998578],\n",
       "       [ 0.42383047,  0.29610053],\n",
       "       [ 0.5676571 , -1.86830392],\n",
       "       [ 1.31980127, -0.65258786],\n",
       "       [-1.9155082 ,  0.57752695],\n",
       "       [-0.54034562, -0.65384428],\n",
       "       [ 1.28138737,  0.5303212 ],\n",
       "       [ 0.35792967, -0.24157643],\n",
       "       [ 0.43761438, -0.18555325],\n",
       "       [-0.65715483, -0.34354925],\n",
       "       [-1.79182173, -2.43444634],\n",
       "       [-0.22534548,  0.03985234],\n",
       "       [-0.05146312, -1.05444732],\n",
       "       [ 0.73337006, -1.87029483],\n",
       "       [-0.51587027,  0.86759492],\n",
       "       [-0.6848419 , -2.39546678],\n",
       "       [ 0.5318774 , -0.5129329 ],\n",
       "       [ 0.19416813,  0.61423436],\n",
       "       [ 1.12020633,  1.15604857],\n",
       "       [ 1.8079901 , -1.63726943],\n",
       "       [ 0.18150916,  0.83537082],\n",
       "       [ 1.00690203, -0.99452076],\n",
       "       [-2.14019103,  0.36599023],\n",
       "       [ 0.09552129, -0.46632159],\n",
       "       [ 0.15735757,  0.00990589],\n",
       "       [-1.28259657, -0.94925508],\n",
       "       [ 0.36861116,  0.0150229 ],\n",
       "       [-3.51890258, -0.42489809],\n",
       "       [-0.5498585 , -0.13432226],\n",
       "       [ 1.05394161,  0.55595998],\n",
       "       [ 2.10713644,  0.77759893],\n",
       "       [-0.73022233, -0.95426812],\n",
       "       [-0.23959004,  2.01063187],\n",
       "       [-0.93119527, -1.59117268],\n",
       "       [ 0.40868189, -0.84349655],\n",
       "       [ 0.42440878,  0.21665477],\n",
       "       [ 0.36004228,  0.70576964],\n",
       "       [ 1.61556902, -0.24525108],\n",
       "       [ 0.49920256, -0.12907305],\n",
       "       [ 0.1367032 , -1.27377725],\n",
       "       [-0.6299143 , -0.26979528],\n",
       "       [ 0.84742291,  1.18686409],\n",
       "       [-0.31889995,  0.30771778],\n",
       "       [-1.33987706, -0.03337436],\n",
       "       [ 1.0402452 ,  0.77631589],\n",
       "       [ 0.18509853, -0.04831257],\n",
       "       [ 0.09088018,  0.49837719],\n",
       "       [ 0.82747754,  0.93489523]])"
      ]
     },
     "execution_count": 81,
     "metadata": {},
     "output_type": "execute_result"
    }
   ],
   "source": [
    "# Now take the dot product\n",
    "transformed_df = np.dot(df.iloc[:, 0:3], pc.T )\n",
    "transformed_df"
   ]
  },
  {
   "cell_type": "code",
   "execution_count": 82,
   "id": "9be52645",
   "metadata": {},
   "outputs": [
    {
     "data": {
      "text/html": [
       "<div>\n",
       "<style scoped>\n",
       "    .dataframe tbody tr th:only-of-type {\n",
       "        vertical-align: middle;\n",
       "    }\n",
       "\n",
       "    .dataframe tbody tr th {\n",
       "        vertical-align: top;\n",
       "    }\n",
       "\n",
       "    .dataframe thead th {\n",
       "        text-align: right;\n",
       "    }\n",
       "</style>\n",
       "<table border=\"1\" class=\"dataframe\">\n",
       "  <thead>\n",
       "    <tr style=\"text-align: right;\">\n",
       "      <th></th>\n",
       "      <th>pc1</th>\n",
       "      <th>pc2</th>\n",
       "      <th>op</th>\n",
       "    </tr>\n",
       "  </thead>\n",
       "  <tbody>\n",
       "    <tr>\n",
       "      <th>0</th>\n",
       "      <td>1.574381</td>\n",
       "      <td>0.467668</td>\n",
       "      <td>1</td>\n",
       "    </tr>\n",
       "    <tr>\n",
       "      <th>1</th>\n",
       "      <td>0.339793</td>\n",
       "      <td>0.560689</td>\n",
       "      <td>0</td>\n",
       "    </tr>\n",
       "    <tr>\n",
       "      <th>2</th>\n",
       "      <td>0.896602</td>\n",
       "      <td>0.534575</td>\n",
       "      <td>0</td>\n",
       "    </tr>\n",
       "    <tr>\n",
       "      <th>3</th>\n",
       "      <td>1.908014</td>\n",
       "      <td>0.250198</td>\n",
       "      <td>1</td>\n",
       "    </tr>\n",
       "    <tr>\n",
       "      <th>4</th>\n",
       "      <td>-0.027067</td>\n",
       "      <td>-0.957636</td>\n",
       "      <td>1</td>\n",
       "    </tr>\n",
       "    <tr>\n",
       "      <th>...</th>\n",
       "      <td>...</td>\n",
       "      <td>...</td>\n",
       "      <td>...</td>\n",
       "    </tr>\n",
       "    <tr>\n",
       "      <th>95</th>\n",
       "      <td>-1.339877</td>\n",
       "      <td>-0.033374</td>\n",
       "      <td>0</td>\n",
       "    </tr>\n",
       "    <tr>\n",
       "      <th>96</th>\n",
       "      <td>1.040245</td>\n",
       "      <td>0.776316</td>\n",
       "      <td>1</td>\n",
       "    </tr>\n",
       "    <tr>\n",
       "      <th>97</th>\n",
       "      <td>0.185099</td>\n",
       "      <td>-0.048313</td>\n",
       "      <td>0</td>\n",
       "    </tr>\n",
       "    <tr>\n",
       "      <th>98</th>\n",
       "      <td>0.090880</td>\n",
       "      <td>0.498377</td>\n",
       "      <td>1</td>\n",
       "    </tr>\n",
       "    <tr>\n",
       "      <th>99</th>\n",
       "      <td>0.827478</td>\n",
       "      <td>0.934895</td>\n",
       "      <td>0</td>\n",
       "    </tr>\n",
       "  </tbody>\n",
       "</table>\n",
       "<p>100 rows × 3 columns</p>\n",
       "</div>"
      ],
      "text/plain": [
       "         pc1       pc2  op\n",
       "0   1.574381  0.467668   1\n",
       "1   0.339793  0.560689   0\n",
       "2   0.896602  0.534575   0\n",
       "3   1.908014  0.250198   1\n",
       "4  -0.027067 -0.957636   1\n",
       "..       ...       ...  ..\n",
       "95 -1.339877 -0.033374   0\n",
       "96  1.040245  0.776316   1\n",
       "97  0.185099 -0.048313   0\n",
       "98  0.090880  0.498377   1\n",
       "99  0.827478  0.934895   0\n",
       "\n",
       "[100 rows x 3 columns]"
      ]
     },
     "execution_count": 82,
     "metadata": {},
     "output_type": "execute_result"
    }
   ],
   "source": [
    "new_df = pd.DataFrame(transformed_df, columns=['pc1', 'pc2'])\n",
    "new_df['op'] = df['op'].values\n",
    "new_df"
   ]
  },
  {
   "cell_type": "markdown",
   "id": "31a6685e",
   "metadata": {},
   "source": [
    "# Now visualize the 2D  data  "
   ]
  },
  {
   "cell_type": "code",
   "execution_count": 99,
   "id": "5116df03",
   "metadata": {},
   "outputs": [
    {
     "data": {
      "application/vnd.plotly.v1+json": {
       "config": {
        "plotlyServerURL": "https://plot.ly"
       },
       "data": [
        {
         "hovertemplate": "color=1<br>x=%{x}<br>y=%{y}<extra></extra>",
         "legendgroup": "1",
         "marker": {
          "color": "#3366CC",
          "symbol": "circle"
         },
         "mode": "markers",
         "name": "1",
         "orientation": "v",
         "showlegend": true,
         "type": "scatter",
         "x": {
          "bdata": "NzZlkKow+T+XR4lQOYf+Pxe4hORct5u/LXFmKnjs4T/GjfAkec3bv5R1UBx/4Oc/ZwP5D9G2CcD0x0KiKirxv3HKKHVbfPM/Tm4Mxq9Y5j9B/bp7G/Tsvzt9Bt4HcZY/7ie4d0Vf6b+y0zt6kFr3v+VcB198Vn2/1kWabMhG6D+Hnd0+8S3evzDdSBCQkek/w/2Lv6cY9z+vEJ5vltf/vxNcWjef//G/0tZmKdAQ+b/5uY1dHbHzP5VpAnhiwds/S5Y3yigAzr9oFb26+Xf0v2H5k55pGPG/mS9cJIb5/T/CgF1J58KhP8hsgbIl3dq/YQrINz8q4j8QvDjs66X+v+/IUQyQgPQ/Br5q2VHo1j81wkW+3wHcP47FI0RNq/y/iYDAo19Zqr8Nb+F6xHfnP8houZE56uW/Jo9vwyMF4T8qcDl4XezxPxqdLwiH7fw/SW21LrE7xz/V/blNRRzwP9ueiu5KJMQ/9dZQQVOX1z+mi07ZcJjhvxzL8+Hx3PA/lBsSWWrbAEDc4/A4+13nv7RvxPDiqs6/Mpf3B1rM7b/iBw9wgynbP0hC8+Ze2fk/12GvpBYe6z8tN/BZ22jUv6pPPCbYpPA/hds/c+xDtz8=",
          "dtype": "f8"
         },
         "xaxis": "x",
         "y": {
          "bdata": "BBZHmETu3T+yG1PmPwPQP4LhXTD0pO6/BCjGPwKDw799i/Jl6cXbP3Y7H/uxqARALy5AgVzp2j/I8PbxbUTjP6nSZEZBb44/Iuj+3Q4h5D8DzsvMvcHBvzt+4wORNrK/LwnZO/Go2b+2IJCznb/DvzvcAs9p/uw/0JYA7ZEx7L8L0EqyCdTXv9BStdO4F88/qtGhNvkb7L/1PcyuPyPaP4PE2NVhX/I/l2OQflOwzr91Rn/gB3/tPw/O7DnAWvK/BwimZAOV5D+qkuqF7jLXv8iZ+fEaItK/P9Mzok+h478ZSFn6JP/rP7aHCr9vOOU/5CLHp5Lk/b+tV8/KGXviP8rx+Chk+OA/QDTv/Pnrzr+90zh6NcDHv/nmJgC/eQPAb5bmJQTf8L8+z61Euuz9v724W33qKQPAeuiPQvJp4L88AaXILH/yP7mHlG5BMvq/xFNek1u76j8J68AyHdPvv2/wrKqKSYQ/NfjdElPEjj92uha/eDHBv8A10ZVsyuE/Du6IJBfi6D8EMNhMXYnuvy0rlCnGFQBAFnu/enF1+b8/IIzrV7vLP0LF7yhjZM+/ZY9sM2X98j9vKx/tpbHTP9RiyWuU1+g/uO3oc2nl3z8=",
          "dtype": "f8"
         },
         "yaxis": "y"
        },
        {
         "hovertemplate": "color=0<br>x=%{x}<br>y=%{y}<extra></extra>",
         "legendgroup": "0",
         "marker": {
          "color": "#DC3912",
          "symbol": "circle"
         },
         "mode": "markers",
         "name": "0",
         "orientation": "v",
         "showlegend": true,
         "type": "scatter",
         "x": {
          "bdata": "rC1sOyu/1T+zkSqL97DsPzPIRISoPty/nxzywx3/wr8NCyWJ1AH0PxFtj6JDVce/6pIBNjKQ0T/2CXV26Nbgv6W+2xsiyuW/GOilLFru978XS+DEprz4v6b1RwfFBeE/gJxSoBrR0j+FI1EyDObsPwDyE7j5m/G/L+bBWrRk+D/qvNSz9iDoP+x6d3fzWOm/9DGlEYtN9D9feJgqYaDlPx4CYLFoGPe/L4kKFWfMtD/NrXSwlvvKPxmVSNQJINs/Ophm8Ocd9T8qTLHmgkrhv07Q1o9pB+W/AVWt6h7YzL+ru5hgAoLgv05HoEmA2sg/mFg+eRwfAcDrIdBfFXS4P4Ug2vqDhfS/Fib5ZLYmDMDjyu0R2CfaP9S7BMbuCtc/IzS9Tu/y3z8J8HaTfX/BP6znWAdCKOS/E/2t7iJw9b+h3p8IT7HHPxPWiy+yeuo/",
          "dtype": "f8"
         },
         "xaxis": "x",
         "y": {
          "bdata": "CHPE1Snx4T8RXmGvPBvhP7QHY2jE2eq/1AE6qKJK87+vsgugMcj0P9tJkTe5J/A/h/i6j1Yg3z+fSlmtbb7kP1NVnYtfZMS/ndX78NEz3L/4yIXJjt/YPwCEGx6Cx/C/kvyocHJG6D9Mkyr2r4PWP7biz/Mzds6/QM+A4tWC9z8fbzpMFO32v9CrMAfZV+i/DYnFvDyj7j9O8WgGlJvPPxrNW7rrYu8/7APWWZXc9L961yI5QOEAQDGRTaVP89I/dysF8P/h5L++HqDYSuzkv4ccev61/NW/f4o8tIZnpD+PcjdtVsPrP9raM8/Op+M/V1nvQ2Js1z/75+SDNtjdv1V1DDBMYO6/VBAGwocx278hCaR47P3qv7zy5zSqleY/n0N3NXeFwL/9iFpBZGH0v9V/d21TRNG/OFDcw3EWob/IHF3kbLyov6iud2Sp6u0/",
          "dtype": "f8"
         },
         "yaxis": "y"
        }
       ],
       "layout": {
        "height": 500,
        "legend": {
         "title": {
          "text": "color"
         },
         "tracegroupgap": 0
        },
        "margin": {
         "t": 60
        },
        "template": {
         "data": {
          "bar": [
           {
            "error_x": {
             "color": "#2a3f5f"
            },
            "error_y": {
             "color": "#2a3f5f"
            },
            "marker": {
             "line": {
              "color": "#E5ECF6",
              "width": 0.5
             },
             "pattern": {
              "fillmode": "overlay",
              "size": 10,
              "solidity": 0.2
             }
            },
            "type": "bar"
           }
          ],
          "barpolar": [
           {
            "marker": {
             "line": {
              "color": "#E5ECF6",
              "width": 0.5
             },
             "pattern": {
              "fillmode": "overlay",
              "size": 10,
              "solidity": 0.2
             }
            },
            "type": "barpolar"
           }
          ],
          "carpet": [
           {
            "aaxis": {
             "endlinecolor": "#2a3f5f",
             "gridcolor": "white",
             "linecolor": "white",
             "minorgridcolor": "white",
             "startlinecolor": "#2a3f5f"
            },
            "baxis": {
             "endlinecolor": "#2a3f5f",
             "gridcolor": "white",
             "linecolor": "white",
             "minorgridcolor": "white",
             "startlinecolor": "#2a3f5f"
            },
            "type": "carpet"
           }
          ],
          "choropleth": [
           {
            "colorbar": {
             "outlinewidth": 0,
             "ticks": ""
            },
            "type": "choropleth"
           }
          ],
          "contour": [
           {
            "colorbar": {
             "outlinewidth": 0,
             "ticks": ""
            },
            "colorscale": [
             [
              0,
              "#0d0887"
             ],
             [
              0.1111111111111111,
              "#46039f"
             ],
             [
              0.2222222222222222,
              "#7201a8"
             ],
             [
              0.3333333333333333,
              "#9c179e"
             ],
             [
              0.4444444444444444,
              "#bd3786"
             ],
             [
              0.5555555555555556,
              "#d8576b"
             ],
             [
              0.6666666666666666,
              "#ed7953"
             ],
             [
              0.7777777777777778,
              "#fb9f3a"
             ],
             [
              0.8888888888888888,
              "#fdca26"
             ],
             [
              1,
              "#f0f921"
             ]
            ],
            "type": "contour"
           }
          ],
          "contourcarpet": [
           {
            "colorbar": {
             "outlinewidth": 0,
             "ticks": ""
            },
            "type": "contourcarpet"
           }
          ],
          "heatmap": [
           {
            "colorbar": {
             "outlinewidth": 0,
             "ticks": ""
            },
            "colorscale": [
             [
              0,
              "#0d0887"
             ],
             [
              0.1111111111111111,
              "#46039f"
             ],
             [
              0.2222222222222222,
              "#7201a8"
             ],
             [
              0.3333333333333333,
              "#9c179e"
             ],
             [
              0.4444444444444444,
              "#bd3786"
             ],
             [
              0.5555555555555556,
              "#d8576b"
             ],
             [
              0.6666666666666666,
              "#ed7953"
             ],
             [
              0.7777777777777778,
              "#fb9f3a"
             ],
             [
              0.8888888888888888,
              "#fdca26"
             ],
             [
              1,
              "#f0f921"
             ]
            ],
            "type": "heatmap"
           }
          ],
          "histogram": [
           {
            "marker": {
             "pattern": {
              "fillmode": "overlay",
              "size": 10,
              "solidity": 0.2
             }
            },
            "type": "histogram"
           }
          ],
          "histogram2d": [
           {
            "colorbar": {
             "outlinewidth": 0,
             "ticks": ""
            },
            "colorscale": [
             [
              0,
              "#0d0887"
             ],
             [
              0.1111111111111111,
              "#46039f"
             ],
             [
              0.2222222222222222,
              "#7201a8"
             ],
             [
              0.3333333333333333,
              "#9c179e"
             ],
             [
              0.4444444444444444,
              "#bd3786"
             ],
             [
              0.5555555555555556,
              "#d8576b"
             ],
             [
              0.6666666666666666,
              "#ed7953"
             ],
             [
              0.7777777777777778,
              "#fb9f3a"
             ],
             [
              0.8888888888888888,
              "#fdca26"
             ],
             [
              1,
              "#f0f921"
             ]
            ],
            "type": "histogram2d"
           }
          ],
          "histogram2dcontour": [
           {
            "colorbar": {
             "outlinewidth": 0,
             "ticks": ""
            },
            "colorscale": [
             [
              0,
              "#0d0887"
             ],
             [
              0.1111111111111111,
              "#46039f"
             ],
             [
              0.2222222222222222,
              "#7201a8"
             ],
             [
              0.3333333333333333,
              "#9c179e"
             ],
             [
              0.4444444444444444,
              "#bd3786"
             ],
             [
              0.5555555555555556,
              "#d8576b"
             ],
             [
              0.6666666666666666,
              "#ed7953"
             ],
             [
              0.7777777777777778,
              "#fb9f3a"
             ],
             [
              0.8888888888888888,
              "#fdca26"
             ],
             [
              1,
              "#f0f921"
             ]
            ],
            "type": "histogram2dcontour"
           }
          ],
          "mesh3d": [
           {
            "colorbar": {
             "outlinewidth": 0,
             "ticks": ""
            },
            "type": "mesh3d"
           }
          ],
          "parcoords": [
           {
            "line": {
             "colorbar": {
              "outlinewidth": 0,
              "ticks": ""
             }
            },
            "type": "parcoords"
           }
          ],
          "pie": [
           {
            "automargin": true,
            "type": "pie"
           }
          ],
          "scatter": [
           {
            "fillpattern": {
             "fillmode": "overlay",
             "size": 10,
             "solidity": 0.2
            },
            "type": "scatter"
           }
          ],
          "scatter3d": [
           {
            "line": {
             "colorbar": {
              "outlinewidth": 0,
              "ticks": ""
             }
            },
            "marker": {
             "colorbar": {
              "outlinewidth": 0,
              "ticks": ""
             }
            },
            "type": "scatter3d"
           }
          ],
          "scattercarpet": [
           {
            "marker": {
             "colorbar": {
              "outlinewidth": 0,
              "ticks": ""
             }
            },
            "type": "scattercarpet"
           }
          ],
          "scattergeo": [
           {
            "marker": {
             "colorbar": {
              "outlinewidth": 0,
              "ticks": ""
             }
            },
            "type": "scattergeo"
           }
          ],
          "scattergl": [
           {
            "marker": {
             "colorbar": {
              "outlinewidth": 0,
              "ticks": ""
             }
            },
            "type": "scattergl"
           }
          ],
          "scattermap": [
           {
            "marker": {
             "colorbar": {
              "outlinewidth": 0,
              "ticks": ""
             }
            },
            "type": "scattermap"
           }
          ],
          "scattermapbox": [
           {
            "marker": {
             "colorbar": {
              "outlinewidth": 0,
              "ticks": ""
             }
            },
            "type": "scattermapbox"
           }
          ],
          "scatterpolar": [
           {
            "marker": {
             "colorbar": {
              "outlinewidth": 0,
              "ticks": ""
             }
            },
            "type": "scatterpolar"
           }
          ],
          "scatterpolargl": [
           {
            "marker": {
             "colorbar": {
              "outlinewidth": 0,
              "ticks": ""
             }
            },
            "type": "scatterpolargl"
           }
          ],
          "scatterternary": [
           {
            "marker": {
             "colorbar": {
              "outlinewidth": 0,
              "ticks": ""
             }
            },
            "type": "scatterternary"
           }
          ],
          "surface": [
           {
            "colorbar": {
             "outlinewidth": 0,
             "ticks": ""
            },
            "colorscale": [
             [
              0,
              "#0d0887"
             ],
             [
              0.1111111111111111,
              "#46039f"
             ],
             [
              0.2222222222222222,
              "#7201a8"
             ],
             [
              0.3333333333333333,
              "#9c179e"
             ],
             [
              0.4444444444444444,
              "#bd3786"
             ],
             [
              0.5555555555555556,
              "#d8576b"
             ],
             [
              0.6666666666666666,
              "#ed7953"
             ],
             [
              0.7777777777777778,
              "#fb9f3a"
             ],
             [
              0.8888888888888888,
              "#fdca26"
             ],
             [
              1,
              "#f0f921"
             ]
            ],
            "type": "surface"
           }
          ],
          "table": [
           {
            "cells": {
             "fill": {
              "color": "#EBF0F8"
             },
             "line": {
              "color": "white"
             }
            },
            "header": {
             "fill": {
              "color": "#C8D4E3"
             },
             "line": {
              "color": "white"
             }
            },
            "type": "table"
           }
          ]
         },
         "layout": {
          "annotationdefaults": {
           "arrowcolor": "#2a3f5f",
           "arrowhead": 0,
           "arrowwidth": 1
          },
          "autotypenumbers": "strict",
          "coloraxis": {
           "colorbar": {
            "outlinewidth": 0,
            "ticks": ""
           }
          },
          "colorscale": {
           "diverging": [
            [
             0,
             "#8e0152"
            ],
            [
             0.1,
             "#c51b7d"
            ],
            [
             0.2,
             "#de77ae"
            ],
            [
             0.3,
             "#f1b6da"
            ],
            [
             0.4,
             "#fde0ef"
            ],
            [
             0.5,
             "#f7f7f7"
            ],
            [
             0.6,
             "#e6f5d0"
            ],
            [
             0.7,
             "#b8e186"
            ],
            [
             0.8,
             "#7fbc41"
            ],
            [
             0.9,
             "#4d9221"
            ],
            [
             1,
             "#276419"
            ]
           ],
           "sequential": [
            [
             0,
             "#0d0887"
            ],
            [
             0.1111111111111111,
             "#46039f"
            ],
            [
             0.2222222222222222,
             "#7201a8"
            ],
            [
             0.3333333333333333,
             "#9c179e"
            ],
            [
             0.4444444444444444,
             "#bd3786"
            ],
            [
             0.5555555555555556,
             "#d8576b"
            ],
            [
             0.6666666666666666,
             "#ed7953"
            ],
            [
             0.7777777777777778,
             "#fb9f3a"
            ],
            [
             0.8888888888888888,
             "#fdca26"
            ],
            [
             1,
             "#f0f921"
            ]
           ],
           "sequentialminus": [
            [
             0,
             "#0d0887"
            ],
            [
             0.1111111111111111,
             "#46039f"
            ],
            [
             0.2222222222222222,
             "#7201a8"
            ],
            [
             0.3333333333333333,
             "#9c179e"
            ],
            [
             0.4444444444444444,
             "#bd3786"
            ],
            [
             0.5555555555555556,
             "#d8576b"
            ],
            [
             0.6666666666666666,
             "#ed7953"
            ],
            [
             0.7777777777777778,
             "#fb9f3a"
            ],
            [
             0.8888888888888888,
             "#fdca26"
            ],
            [
             1,
             "#f0f921"
            ]
           ]
          },
          "colorway": [
           "#636efa",
           "#EF553B",
           "#00cc96",
           "#ab63fa",
           "#FFA15A",
           "#19d3f3",
           "#FF6692",
           "#B6E880",
           "#FF97FF",
           "#FECB52"
          ],
          "font": {
           "color": "#2a3f5f"
          },
          "geo": {
           "bgcolor": "white",
           "lakecolor": "white",
           "landcolor": "#E5ECF6",
           "showlakes": true,
           "showland": true,
           "subunitcolor": "white"
          },
          "hoverlabel": {
           "align": "left"
          },
          "hovermode": "closest",
          "mapbox": {
           "style": "light"
          },
          "paper_bgcolor": "white",
          "plot_bgcolor": "#E5ECF6",
          "polar": {
           "angularaxis": {
            "gridcolor": "white",
            "linecolor": "white",
            "ticks": ""
           },
           "bgcolor": "#E5ECF6",
           "radialaxis": {
            "gridcolor": "white",
            "linecolor": "white",
            "ticks": ""
           }
          },
          "scene": {
           "xaxis": {
            "backgroundcolor": "#E5ECF6",
            "gridcolor": "white",
            "gridwidth": 2,
            "linecolor": "white",
            "showbackground": true,
            "ticks": "",
            "zerolinecolor": "white"
           },
           "yaxis": {
            "backgroundcolor": "#E5ECF6",
            "gridcolor": "white",
            "gridwidth": 2,
            "linecolor": "white",
            "showbackground": true,
            "ticks": "",
            "zerolinecolor": "white"
           },
           "zaxis": {
            "backgroundcolor": "#E5ECF6",
            "gridcolor": "white",
            "gridwidth": 2,
            "linecolor": "white",
            "showbackground": true,
            "ticks": "",
            "zerolinecolor": "white"
           }
          },
          "shapedefaults": {
           "line": {
            "color": "#2a3f5f"
           }
          },
          "ternary": {
           "aaxis": {
            "gridcolor": "white",
            "linecolor": "white",
            "ticks": ""
           },
           "baxis": {
            "gridcolor": "white",
            "linecolor": "white",
            "ticks": ""
           },
           "bgcolor": "#E5ECF6",
           "caxis": {
            "gridcolor": "white",
            "linecolor": "white",
            "ticks": ""
           }
          },
          "title": {
           "x": 0.05
          },
          "xaxis": {
           "automargin": true,
           "gridcolor": "white",
           "linecolor": "white",
           "ticks": "",
           "title": {
            "standoff": 15
           },
           "zerolinecolor": "white",
           "zerolinewidth": 2
          },
          "yaxis": {
           "automargin": true,
           "gridcolor": "white",
           "linecolor": "white",
           "ticks": "",
           "title": {
            "standoff": 15
           },
           "zerolinecolor": "white",
           "zerolinewidth": 2
          }
         }
        },
        "width": 800,
        "xaxis": {
         "anchor": "y",
         "domain": [
          0,
          1
         ],
         "title": {
          "text": "x"
         }
        },
        "yaxis": {
         "anchor": "x",
         "domain": [
          0,
          1
         ],
         "title": {
          "text": "y"
         }
        }
       }
      }
     },
     "metadata": {},
     "output_type": "display_data"
    }
   ],
   "source": [
    "new_df['op'] = new_df['op'].astype('str')\n",
    "\n",
    "fig = px.scatter(\n",
    "    x=new_df['pc1'],\n",
    "    y= new_df['pc2'],\n",
    "    color= new_df['op'],\n",
    "    width= 800,\n",
    "    height= 500,\n",
    "    color_discrete_sequence=  px.colors.qualitative.G10\n",
    ")\n",
    "\n",
    "\n",
    "fig.show()"
   ]
  },
  {
   "cell_type": "code",
   "execution_count": null,
   "id": "ac2ef08b",
   "metadata": {},
   "outputs": [],
   "source": []
  }
 ],
 "metadata": {
  "kernelspec": {
   "display_name": "Python 3",
   "language": "python",
   "name": "python3"
  },
  "language_info": {
   "codemirror_mode": {
    "name": "ipython",
    "version": 3
   },
   "file_extension": ".py",
   "mimetype": "text/x-python",
   "name": "python",
   "nbconvert_exporter": "python",
   "pygments_lexer": "ipython3",
   "version": "3.12.3"
  }
 },
 "nbformat": 4,
 "nbformat_minor": 5
}
