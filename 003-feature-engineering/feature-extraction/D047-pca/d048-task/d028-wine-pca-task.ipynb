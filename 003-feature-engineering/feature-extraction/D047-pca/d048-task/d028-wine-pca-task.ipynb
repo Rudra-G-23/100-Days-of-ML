{
 "cells": [
  {
   "cell_type": "markdown",
   "id": "b19dfdfc",
   "metadata": {},
   "source": [
    "# Import data and libraries\n",
    "\n",
    "- without seeing the ans \n",
    "- I do what i think "
   ]
  },
  {
   "cell_type": "code",
   "execution_count": 78,
   "id": "15b638c1",
   "metadata": {},
   "outputs": [],
   "source": [
    "import numpy as np\n",
    "import pandas as pd\n",
    "import matplotlib.pyplot as plt\n",
    "import plotly.express as px\n",
    "from tqdm import tqdm "
   ]
  },
  {
   "cell_type": "code",
   "execution_count": 60,
   "id": "9acb42a6",
   "metadata": {},
   "outputs": [],
   "source": [
    "from sklearn.model_selection import train_test_split\n",
    "from sklearn.preprocessing import StandardScaler\n",
    "\n",
    "from sklearn.neighbors import KNeighborsClassifier\n",
    "from sklearn.model_selection import cross_val_score\n",
    "\n",
    "from sklearn.preprocessing import StandardScaler\n",
    "from sklearn.decomposition import PCA\n",
    "from sklearn.metrics import accuracy_score"
   ]
  },
  {
   "cell_type": "code",
   "execution_count": 9,
   "id": "8aaf255e",
   "metadata": {},
   "outputs": [
    {
     "data": {
      "text/plain": [
       "'# Data Loading from online\\nwine_data_path = \"https://docs.google.com/spreadsheets/d/e/2PACX-1vQDVwxneOKOaJL13QMhkAhYrgWlH1tICY7RacUnj_lL8m9uUWaaUf3p7bScNyh_D2Rvt7nc1q11adSy/pub?gid=647503637&single=true&output=csv\"\\nwine = pd.read_csv(wine_data_path)\\nwine.head(1)'"
      ]
     },
     "execution_count": 9,
     "metadata": {},
     "output_type": "execute_result"
    }
   ],
   "source": [
    "\"\"\"# Data Loading from online\n",
    "wine_data_path = \"https://docs.google.com/spreadsheets/d/e/2PACX-1vQDVwxneOKOaJL13QMhkAhYrgWlH1tICY7RacUnj_lL8m9uUWaaUf3p7bScNyh_D2Rvt7nc1q11adSy/pub?gid=647503637&single=true&output=csv\"\n",
    "wine = pd.read_csv(wine_data_path)\n",
    "wine.head(1)\"\"\""
   ]
  },
  {
   "cell_type": "code",
   "execution_count": 4,
   "id": "690047da",
   "metadata": {},
   "outputs": [],
   "source": [
    "df = pd.read_csv('wine-data.csv')"
   ]
  },
  {
   "cell_type": "code",
   "execution_count": 5,
   "id": "42424944",
   "metadata": {},
   "outputs": [
    {
     "data": {
      "text/plain": [
       "Index(['type', 'fixed acidity', 'volatile acidity', 'citric acid',\n",
       "       'residual sugar', 'chlorides', 'free sulfur dioxide',\n",
       "       'total sulfur dioxide', 'density', 'pH', 'sulphates', 'alcohol',\n",
       "       'quality'],\n",
       "      dtype='object')"
      ]
     },
     "execution_count": 5,
     "metadata": {},
     "output_type": "execute_result"
    }
   ],
   "source": [
    "df.columns"
   ]
  },
  {
   "cell_type": "code",
   "execution_count": 7,
   "id": "bef6bd22",
   "metadata": {},
   "outputs": [
    {
     "data": {
      "text/html": [
       "<div>\n",
       "<style scoped>\n",
       "    .dataframe tbody tr th:only-of-type {\n",
       "        vertical-align: middle;\n",
       "    }\n",
       "\n",
       "    .dataframe tbody tr th {\n",
       "        vertical-align: top;\n",
       "    }\n",
       "\n",
       "    .dataframe thead th {\n",
       "        text-align: right;\n",
       "    }\n",
       "</style>\n",
       "<table border=\"1\" class=\"dataframe\">\n",
       "  <thead>\n",
       "    <tr style=\"text-align: right;\">\n",
       "      <th></th>\n",
       "      <th>type</th>\n",
       "      <th>fixed acidity</th>\n",
       "      <th>volatile acidity</th>\n",
       "      <th>citric acid</th>\n",
       "      <th>residual sugar</th>\n",
       "      <th>chlorides</th>\n",
       "      <th>free sulfur dioxide</th>\n",
       "      <th>total sulfur dioxide</th>\n",
       "      <th>density</th>\n",
       "      <th>pH</th>\n",
       "      <th>sulphates</th>\n",
       "      <th>alcohol</th>\n",
       "      <th>quality</th>\n",
       "    </tr>\n",
       "  </thead>\n",
       "  <tbody>\n",
       "    <tr>\n",
       "      <th>5415</th>\n",
       "      <td>red</td>\n",
       "      <td>10.4</td>\n",
       "      <td>0.61</td>\n",
       "      <td>0.49</td>\n",
       "      <td>2.1</td>\n",
       "      <td>0.200</td>\n",
       "      <td>5.0</td>\n",
       "      <td>16.0</td>\n",
       "      <td>0.99940</td>\n",
       "      <td>3.16</td>\n",
       "      <td>0.63</td>\n",
       "      <td>8.400000</td>\n",
       "      <td>3</td>\n",
       "    </tr>\n",
       "    <tr>\n",
       "      <th>2505</th>\n",
       "      <td>white</td>\n",
       "      <td>7.4</td>\n",
       "      <td>0.40</td>\n",
       "      <td>0.41</td>\n",
       "      <td>14.1</td>\n",
       "      <td>0.053</td>\n",
       "      <td>37.0</td>\n",
       "      <td>194.0</td>\n",
       "      <td>0.99886</td>\n",
       "      <td>3.20</td>\n",
       "      <td>0.63</td>\n",
       "      <td>9.400000</td>\n",
       "      <td>6</td>\n",
       "    </tr>\n",
       "    <tr>\n",
       "      <th>4663</th>\n",
       "      <td>white</td>\n",
       "      <td>6.0</td>\n",
       "      <td>0.17</td>\n",
       "      <td>0.33</td>\n",
       "      <td>6.0</td>\n",
       "      <td>0.036</td>\n",
       "      <td>30.0</td>\n",
       "      <td>111.0</td>\n",
       "      <td>0.99362</td>\n",
       "      <td>3.32</td>\n",
       "      <td>0.58</td>\n",
       "      <td>10.133333</td>\n",
       "      <td>7</td>\n",
       "    </tr>\n",
       "    <tr>\n",
       "      <th>2498</th>\n",
       "      <td>white</td>\n",
       "      <td>6.8</td>\n",
       "      <td>0.21</td>\n",
       "      <td>0.36</td>\n",
       "      <td>18.1</td>\n",
       "      <td>0.046</td>\n",
       "      <td>32.0</td>\n",
       "      <td>133.0</td>\n",
       "      <td>1.00000</td>\n",
       "      <td>3.27</td>\n",
       "      <td>0.48</td>\n",
       "      <td>8.800000</td>\n",
       "      <td>5</td>\n",
       "    </tr>\n",
       "  </tbody>\n",
       "</table>\n",
       "</div>"
      ],
      "text/plain": [
       "       type  fixed acidity  volatile acidity  citric acid  residual sugar  \\\n",
       "5415    red           10.4              0.61         0.49             2.1   \n",
       "2505  white            7.4              0.40         0.41            14.1   \n",
       "4663  white            6.0              0.17         0.33             6.0   \n",
       "2498  white            6.8              0.21         0.36            18.1   \n",
       "\n",
       "      chlorides  free sulfur dioxide  total sulfur dioxide  density    pH  \\\n",
       "5415      0.200                  5.0                  16.0  0.99940  3.16   \n",
       "2505      0.053                 37.0                 194.0  0.99886  3.20   \n",
       "4663      0.036                 30.0                 111.0  0.99362  3.32   \n",
       "2498      0.046                 32.0                 133.0  1.00000  3.27   \n",
       "\n",
       "      sulphates    alcohol  quality  \n",
       "5415       0.63   8.400000        3  \n",
       "2505       0.63   9.400000        6  \n",
       "4663       0.58  10.133333        7  \n",
       "2498       0.48   8.800000        5  "
      ]
     },
     "execution_count": 7,
     "metadata": {},
     "output_type": "execute_result"
    }
   ],
   "source": [
    "df.sample(4)"
   ]
  },
  {
   "cell_type": "code",
   "execution_count": 24,
   "id": "3dcf0cf6",
   "metadata": {},
   "outputs": [
    {
     "data": {
      "text/plain": [
       "type\n",
       "white    4898\n",
       "red      1599\n",
       "Name: count, dtype: int64"
      ]
     },
     "execution_count": 24,
     "metadata": {},
     "output_type": "execute_result"
    }
   ],
   "source": [
    "df['type'].value_counts()"
   ]
  },
  {
   "cell_type": "code",
   "execution_count": null,
   "id": "6326b97b",
   "metadata": {},
   "outputs": [],
   "source": [
    "# i think `type` column is not use full that much\n",
    "df1 = df.drop('type', axis=1).copy()"
   ]
  },
  {
   "cell_type": "code",
   "execution_count": 26,
   "id": "b16ec2a3",
   "metadata": {},
   "outputs": [
    {
     "data": {
      "text/plain": [
       "quality\n",
       "6    2836\n",
       "5    2138\n",
       "7    1079\n",
       "4     216\n",
       "8     193\n",
       "3      30\n",
       "9       5\n",
       "Name: count, dtype: int64"
      ]
     },
     "execution_count": 26,
     "metadata": {},
     "output_type": "execute_result"
    }
   ],
   "source": [
    "df1['quality'].value_counts()"
   ]
  },
  {
   "cell_type": "code",
   "execution_count": null,
   "id": "fa8d6676",
   "metadata": {},
   "outputs": [
    {
     "data": {
      "text/plain": [
       "fixed acidity           10\n",
       "volatile acidity         8\n",
       "citric acid              3\n",
       "residual sugar           2\n",
       "chlorides                2\n",
       "free sulfur dioxide      0\n",
       "total sulfur dioxide     0\n",
       "density                  0\n",
       "pH                       9\n",
       "sulphates                4\n",
       "alcohol                  0\n",
       "quality                  0\n",
       "dtype: int64"
      ]
     },
     "execution_count": 46,
     "metadata": {},
     "output_type": "execute_result"
    }
   ],
   "source": [
    "# check the null value \n",
    "df1.isnull().sum()"
   ]
  },
  {
   "cell_type": "code",
   "execution_count": 48,
   "id": "650b6d87",
   "metadata": {},
   "outputs": [],
   "source": [
    "df1 = df1.dropna()"
   ]
  },
  {
   "cell_type": "markdown",
   "id": "1c1fefe5",
   "metadata": {},
   "source": [
    "# Train Test Split"
   ]
  },
  {
   "cell_type": "code",
   "execution_count": 49,
   "id": "e1eba812",
   "metadata": {},
   "outputs": [],
   "source": [
    "X = df1.drop('quality', axis=1)\n",
    "y = df1['quality']"
   ]
  },
  {
   "cell_type": "code",
   "execution_count": 50,
   "id": "bd47fd99",
   "metadata": {},
   "outputs": [
    {
     "name": "stdout",
     "output_type": "stream",
     "text": [
      "(6463, 11) (6463,)\n"
     ]
    }
   ],
   "source": [
    "print(X.shape, y.shape)"
   ]
  },
  {
   "cell_type": "code",
   "execution_count": 51,
   "id": "0c3f7466",
   "metadata": {},
   "outputs": [],
   "source": [
    "X_train, X_test, y_train, y_test = train_test_split(X, y, test_size=0.2, random_state=42)"
   ]
  },
  {
   "cell_type": "code",
   "execution_count": 52,
   "id": "71f7b1b4",
   "metadata": {},
   "outputs": [
    {
     "name": "stdout",
     "output_type": "stream",
     "text": [
      "Train :  (5170, 11) (5170,)\n",
      "Test :  (1293, 11) (1293,)\n"
     ]
    }
   ],
   "source": [
    "print(\"Train : \", X_train.shape, y_train.shape)\n",
    "print(\"Test : \", X_test.shape, y_test.shape)"
   ]
  },
  {
   "cell_type": "markdown",
   "id": "26484804",
   "metadata": {},
   "source": [
    "# Before KNN"
   ]
  },
  {
   "cell_type": "code",
   "execution_count": 53,
   "id": "696949b7",
   "metadata": {},
   "outputs": [],
   "source": [
    "knn = KNeighborsClassifier()"
   ]
  },
  {
   "cell_type": "code",
   "execution_count": 56,
   "id": "997a6d1c",
   "metadata": {},
   "outputs": [
    {
     "data": {
      "text/html": [
       "<style>#sk-container-id-1 {\n",
       "  /* Definition of color scheme common for light and dark mode */\n",
       "  --sklearn-color-text: #000;\n",
       "  --sklearn-color-text-muted: #666;\n",
       "  --sklearn-color-line: gray;\n",
       "  /* Definition of color scheme for unfitted estimators */\n",
       "  --sklearn-color-unfitted-level-0: #fff5e6;\n",
       "  --sklearn-color-unfitted-level-1: #f6e4d2;\n",
       "  --sklearn-color-unfitted-level-2: #ffe0b3;\n",
       "  --sklearn-color-unfitted-level-3: chocolate;\n",
       "  /* Definition of color scheme for fitted estimators */\n",
       "  --sklearn-color-fitted-level-0: #f0f8ff;\n",
       "  --sklearn-color-fitted-level-1: #d4ebff;\n",
       "  --sklearn-color-fitted-level-2: #b3dbfd;\n",
       "  --sklearn-color-fitted-level-3: cornflowerblue;\n",
       "\n",
       "  /* Specific color for light theme */\n",
       "  --sklearn-color-text-on-default-background: var(--sg-text-color, var(--theme-code-foreground, var(--jp-content-font-color1, black)));\n",
       "  --sklearn-color-background: var(--sg-background-color, var(--theme-background, var(--jp-layout-color0, white)));\n",
       "  --sklearn-color-border-box: var(--sg-text-color, var(--theme-code-foreground, var(--jp-content-font-color1, black)));\n",
       "  --sklearn-color-icon: #696969;\n",
       "\n",
       "  @media (prefers-color-scheme: dark) {\n",
       "    /* Redefinition of color scheme for dark theme */\n",
       "    --sklearn-color-text-on-default-background: var(--sg-text-color, var(--theme-code-foreground, var(--jp-content-font-color1, white)));\n",
       "    --sklearn-color-background: var(--sg-background-color, var(--theme-background, var(--jp-layout-color0, #111)));\n",
       "    --sklearn-color-border-box: var(--sg-text-color, var(--theme-code-foreground, var(--jp-content-font-color1, white)));\n",
       "    --sklearn-color-icon: #878787;\n",
       "  }\n",
       "}\n",
       "\n",
       "#sk-container-id-1 {\n",
       "  color: var(--sklearn-color-text);\n",
       "}\n",
       "\n",
       "#sk-container-id-1 pre {\n",
       "  padding: 0;\n",
       "}\n",
       "\n",
       "#sk-container-id-1 input.sk-hidden--visually {\n",
       "  border: 0;\n",
       "  clip: rect(1px 1px 1px 1px);\n",
       "  clip: rect(1px, 1px, 1px, 1px);\n",
       "  height: 1px;\n",
       "  margin: -1px;\n",
       "  overflow: hidden;\n",
       "  padding: 0;\n",
       "  position: absolute;\n",
       "  width: 1px;\n",
       "}\n",
       "\n",
       "#sk-container-id-1 div.sk-dashed-wrapped {\n",
       "  border: 1px dashed var(--sklearn-color-line);\n",
       "  margin: 0 0.4em 0.5em 0.4em;\n",
       "  box-sizing: border-box;\n",
       "  padding-bottom: 0.4em;\n",
       "  background-color: var(--sklearn-color-background);\n",
       "}\n",
       "\n",
       "#sk-container-id-1 div.sk-container {\n",
       "  /* jupyter's `normalize.less` sets `[hidden] { display: none; }`\n",
       "     but bootstrap.min.css set `[hidden] { display: none !important; }`\n",
       "     so we also need the `!important` here to be able to override the\n",
       "     default hidden behavior on the sphinx rendered scikit-learn.org.\n",
       "     See: https://github.com/scikit-learn/scikit-learn/issues/21755 */\n",
       "  display: inline-block !important;\n",
       "  position: relative;\n",
       "}\n",
       "\n",
       "#sk-container-id-1 div.sk-text-repr-fallback {\n",
       "  display: none;\n",
       "}\n",
       "\n",
       "div.sk-parallel-item,\n",
       "div.sk-serial,\n",
       "div.sk-item {\n",
       "  /* draw centered vertical line to link estimators */\n",
       "  background-image: linear-gradient(var(--sklearn-color-text-on-default-background), var(--sklearn-color-text-on-default-background));\n",
       "  background-size: 2px 100%;\n",
       "  background-repeat: no-repeat;\n",
       "  background-position: center center;\n",
       "}\n",
       "\n",
       "/* Parallel-specific style estimator block */\n",
       "\n",
       "#sk-container-id-1 div.sk-parallel-item::after {\n",
       "  content: \"\";\n",
       "  width: 100%;\n",
       "  border-bottom: 2px solid var(--sklearn-color-text-on-default-background);\n",
       "  flex-grow: 1;\n",
       "}\n",
       "\n",
       "#sk-container-id-1 div.sk-parallel {\n",
       "  display: flex;\n",
       "  align-items: stretch;\n",
       "  justify-content: center;\n",
       "  background-color: var(--sklearn-color-background);\n",
       "  position: relative;\n",
       "}\n",
       "\n",
       "#sk-container-id-1 div.sk-parallel-item {\n",
       "  display: flex;\n",
       "  flex-direction: column;\n",
       "}\n",
       "\n",
       "#sk-container-id-1 div.sk-parallel-item:first-child::after {\n",
       "  align-self: flex-end;\n",
       "  width: 50%;\n",
       "}\n",
       "\n",
       "#sk-container-id-1 div.sk-parallel-item:last-child::after {\n",
       "  align-self: flex-start;\n",
       "  width: 50%;\n",
       "}\n",
       "\n",
       "#sk-container-id-1 div.sk-parallel-item:only-child::after {\n",
       "  width: 0;\n",
       "}\n",
       "\n",
       "/* Serial-specific style estimator block */\n",
       "\n",
       "#sk-container-id-1 div.sk-serial {\n",
       "  display: flex;\n",
       "  flex-direction: column;\n",
       "  align-items: center;\n",
       "  background-color: var(--sklearn-color-background);\n",
       "  padding-right: 1em;\n",
       "  padding-left: 1em;\n",
       "}\n",
       "\n",
       "\n",
       "/* Toggleable style: style used for estimator/Pipeline/ColumnTransformer box that is\n",
       "clickable and can be expanded/collapsed.\n",
       "- Pipeline and ColumnTransformer use this feature and define the default style\n",
       "- Estimators will overwrite some part of the style using the `sk-estimator` class\n",
       "*/\n",
       "\n",
       "/* Pipeline and ColumnTransformer style (default) */\n",
       "\n",
       "#sk-container-id-1 div.sk-toggleable {\n",
       "  /* Default theme specific background. It is overwritten whether we have a\n",
       "  specific estimator or a Pipeline/ColumnTransformer */\n",
       "  background-color: var(--sklearn-color-background);\n",
       "}\n",
       "\n",
       "/* Toggleable label */\n",
       "#sk-container-id-1 label.sk-toggleable__label {\n",
       "  cursor: pointer;\n",
       "  display: flex;\n",
       "  width: 100%;\n",
       "  margin-bottom: 0;\n",
       "  padding: 0.5em;\n",
       "  box-sizing: border-box;\n",
       "  text-align: center;\n",
       "  align-items: start;\n",
       "  justify-content: space-between;\n",
       "  gap: 0.5em;\n",
       "}\n",
       "\n",
       "#sk-container-id-1 label.sk-toggleable__label .caption {\n",
       "  font-size: 0.6rem;\n",
       "  font-weight: lighter;\n",
       "  color: var(--sklearn-color-text-muted);\n",
       "}\n",
       "\n",
       "#sk-container-id-1 label.sk-toggleable__label-arrow:before {\n",
       "  /* Arrow on the left of the label */\n",
       "  content: \"▸\";\n",
       "  float: left;\n",
       "  margin-right: 0.25em;\n",
       "  color: var(--sklearn-color-icon);\n",
       "}\n",
       "\n",
       "#sk-container-id-1 label.sk-toggleable__label-arrow:hover:before {\n",
       "  color: var(--sklearn-color-text);\n",
       "}\n",
       "\n",
       "/* Toggleable content - dropdown */\n",
       "\n",
       "#sk-container-id-1 div.sk-toggleable__content {\n",
       "  max-height: 0;\n",
       "  max-width: 0;\n",
       "  overflow: hidden;\n",
       "  text-align: left;\n",
       "  /* unfitted */\n",
       "  background-color: var(--sklearn-color-unfitted-level-0);\n",
       "}\n",
       "\n",
       "#sk-container-id-1 div.sk-toggleable__content.fitted {\n",
       "  /* fitted */\n",
       "  background-color: var(--sklearn-color-fitted-level-0);\n",
       "}\n",
       "\n",
       "#sk-container-id-1 div.sk-toggleable__content pre {\n",
       "  margin: 0.2em;\n",
       "  border-radius: 0.25em;\n",
       "  color: var(--sklearn-color-text);\n",
       "  /* unfitted */\n",
       "  background-color: var(--sklearn-color-unfitted-level-0);\n",
       "}\n",
       "\n",
       "#sk-container-id-1 div.sk-toggleable__content.fitted pre {\n",
       "  /* unfitted */\n",
       "  background-color: var(--sklearn-color-fitted-level-0);\n",
       "}\n",
       "\n",
       "#sk-container-id-1 input.sk-toggleable__control:checked~div.sk-toggleable__content {\n",
       "  /* Expand drop-down */\n",
       "  max-height: 200px;\n",
       "  max-width: 100%;\n",
       "  overflow: auto;\n",
       "}\n",
       "\n",
       "#sk-container-id-1 input.sk-toggleable__control:checked~label.sk-toggleable__label-arrow:before {\n",
       "  content: \"▾\";\n",
       "}\n",
       "\n",
       "/* Pipeline/ColumnTransformer-specific style */\n",
       "\n",
       "#sk-container-id-1 div.sk-label input.sk-toggleable__control:checked~label.sk-toggleable__label {\n",
       "  color: var(--sklearn-color-text);\n",
       "  background-color: var(--sklearn-color-unfitted-level-2);\n",
       "}\n",
       "\n",
       "#sk-container-id-1 div.sk-label.fitted input.sk-toggleable__control:checked~label.sk-toggleable__label {\n",
       "  background-color: var(--sklearn-color-fitted-level-2);\n",
       "}\n",
       "\n",
       "/* Estimator-specific style */\n",
       "\n",
       "/* Colorize estimator box */\n",
       "#sk-container-id-1 div.sk-estimator input.sk-toggleable__control:checked~label.sk-toggleable__label {\n",
       "  /* unfitted */\n",
       "  background-color: var(--sklearn-color-unfitted-level-2);\n",
       "}\n",
       "\n",
       "#sk-container-id-1 div.sk-estimator.fitted input.sk-toggleable__control:checked~label.sk-toggleable__label {\n",
       "  /* fitted */\n",
       "  background-color: var(--sklearn-color-fitted-level-2);\n",
       "}\n",
       "\n",
       "#sk-container-id-1 div.sk-label label.sk-toggleable__label,\n",
       "#sk-container-id-1 div.sk-label label {\n",
       "  /* The background is the default theme color */\n",
       "  color: var(--sklearn-color-text-on-default-background);\n",
       "}\n",
       "\n",
       "/* On hover, darken the color of the background */\n",
       "#sk-container-id-1 div.sk-label:hover label.sk-toggleable__label {\n",
       "  color: var(--sklearn-color-text);\n",
       "  background-color: var(--sklearn-color-unfitted-level-2);\n",
       "}\n",
       "\n",
       "/* Label box, darken color on hover, fitted */\n",
       "#sk-container-id-1 div.sk-label.fitted:hover label.sk-toggleable__label.fitted {\n",
       "  color: var(--sklearn-color-text);\n",
       "  background-color: var(--sklearn-color-fitted-level-2);\n",
       "}\n",
       "\n",
       "/* Estimator label */\n",
       "\n",
       "#sk-container-id-1 div.sk-label label {\n",
       "  font-family: monospace;\n",
       "  font-weight: bold;\n",
       "  display: inline-block;\n",
       "  line-height: 1.2em;\n",
       "}\n",
       "\n",
       "#sk-container-id-1 div.sk-label-container {\n",
       "  text-align: center;\n",
       "}\n",
       "\n",
       "/* Estimator-specific */\n",
       "#sk-container-id-1 div.sk-estimator {\n",
       "  font-family: monospace;\n",
       "  border: 1px dotted var(--sklearn-color-border-box);\n",
       "  border-radius: 0.25em;\n",
       "  box-sizing: border-box;\n",
       "  margin-bottom: 0.5em;\n",
       "  /* unfitted */\n",
       "  background-color: var(--sklearn-color-unfitted-level-0);\n",
       "}\n",
       "\n",
       "#sk-container-id-1 div.sk-estimator.fitted {\n",
       "  /* fitted */\n",
       "  background-color: var(--sklearn-color-fitted-level-0);\n",
       "}\n",
       "\n",
       "/* on hover */\n",
       "#sk-container-id-1 div.sk-estimator:hover {\n",
       "  /* unfitted */\n",
       "  background-color: var(--sklearn-color-unfitted-level-2);\n",
       "}\n",
       "\n",
       "#sk-container-id-1 div.sk-estimator.fitted:hover {\n",
       "  /* fitted */\n",
       "  background-color: var(--sklearn-color-fitted-level-2);\n",
       "}\n",
       "\n",
       "/* Specification for estimator info (e.g. \"i\" and \"?\") */\n",
       "\n",
       "/* Common style for \"i\" and \"?\" */\n",
       "\n",
       ".sk-estimator-doc-link,\n",
       "a:link.sk-estimator-doc-link,\n",
       "a:visited.sk-estimator-doc-link {\n",
       "  float: right;\n",
       "  font-size: smaller;\n",
       "  line-height: 1em;\n",
       "  font-family: monospace;\n",
       "  background-color: var(--sklearn-color-background);\n",
       "  border-radius: 1em;\n",
       "  height: 1em;\n",
       "  width: 1em;\n",
       "  text-decoration: none !important;\n",
       "  margin-left: 0.5em;\n",
       "  text-align: center;\n",
       "  /* unfitted */\n",
       "  border: var(--sklearn-color-unfitted-level-1) 1pt solid;\n",
       "  color: var(--sklearn-color-unfitted-level-1);\n",
       "}\n",
       "\n",
       ".sk-estimator-doc-link.fitted,\n",
       "a:link.sk-estimator-doc-link.fitted,\n",
       "a:visited.sk-estimator-doc-link.fitted {\n",
       "  /* fitted */\n",
       "  border: var(--sklearn-color-fitted-level-1) 1pt solid;\n",
       "  color: var(--sklearn-color-fitted-level-1);\n",
       "}\n",
       "\n",
       "/* On hover */\n",
       "div.sk-estimator:hover .sk-estimator-doc-link:hover,\n",
       ".sk-estimator-doc-link:hover,\n",
       "div.sk-label-container:hover .sk-estimator-doc-link:hover,\n",
       ".sk-estimator-doc-link:hover {\n",
       "  /* unfitted */\n",
       "  background-color: var(--sklearn-color-unfitted-level-3);\n",
       "  color: var(--sklearn-color-background);\n",
       "  text-decoration: none;\n",
       "}\n",
       "\n",
       "div.sk-estimator.fitted:hover .sk-estimator-doc-link.fitted:hover,\n",
       ".sk-estimator-doc-link.fitted:hover,\n",
       "div.sk-label-container:hover .sk-estimator-doc-link.fitted:hover,\n",
       ".sk-estimator-doc-link.fitted:hover {\n",
       "  /* fitted */\n",
       "  background-color: var(--sklearn-color-fitted-level-3);\n",
       "  color: var(--sklearn-color-background);\n",
       "  text-decoration: none;\n",
       "}\n",
       "\n",
       "/* Span, style for the box shown on hovering the info icon */\n",
       ".sk-estimator-doc-link span {\n",
       "  display: none;\n",
       "  z-index: 9999;\n",
       "  position: relative;\n",
       "  font-weight: normal;\n",
       "  right: .2ex;\n",
       "  padding: .5ex;\n",
       "  margin: .5ex;\n",
       "  width: min-content;\n",
       "  min-width: 20ex;\n",
       "  max-width: 50ex;\n",
       "  color: var(--sklearn-color-text);\n",
       "  box-shadow: 2pt 2pt 4pt #999;\n",
       "  /* unfitted */\n",
       "  background: var(--sklearn-color-unfitted-level-0);\n",
       "  border: .5pt solid var(--sklearn-color-unfitted-level-3);\n",
       "}\n",
       "\n",
       ".sk-estimator-doc-link.fitted span {\n",
       "  /* fitted */\n",
       "  background: var(--sklearn-color-fitted-level-0);\n",
       "  border: var(--sklearn-color-fitted-level-3);\n",
       "}\n",
       "\n",
       ".sk-estimator-doc-link:hover span {\n",
       "  display: block;\n",
       "}\n",
       "\n",
       "/* \"?\"-specific style due to the `<a>` HTML tag */\n",
       "\n",
       "#sk-container-id-1 a.estimator_doc_link {\n",
       "  float: right;\n",
       "  font-size: 1rem;\n",
       "  line-height: 1em;\n",
       "  font-family: monospace;\n",
       "  background-color: var(--sklearn-color-background);\n",
       "  border-radius: 1rem;\n",
       "  height: 1rem;\n",
       "  width: 1rem;\n",
       "  text-decoration: none;\n",
       "  /* unfitted */\n",
       "  color: var(--sklearn-color-unfitted-level-1);\n",
       "  border: var(--sklearn-color-unfitted-level-1) 1pt solid;\n",
       "}\n",
       "\n",
       "#sk-container-id-1 a.estimator_doc_link.fitted {\n",
       "  /* fitted */\n",
       "  border: var(--sklearn-color-fitted-level-1) 1pt solid;\n",
       "  color: var(--sklearn-color-fitted-level-1);\n",
       "}\n",
       "\n",
       "/* On hover */\n",
       "#sk-container-id-1 a.estimator_doc_link:hover {\n",
       "  /* unfitted */\n",
       "  background-color: var(--sklearn-color-unfitted-level-3);\n",
       "  color: var(--sklearn-color-background);\n",
       "  text-decoration: none;\n",
       "}\n",
       "\n",
       "#sk-container-id-1 a.estimator_doc_link.fitted:hover {\n",
       "  /* fitted */\n",
       "  background-color: var(--sklearn-color-fitted-level-3);\n",
       "}\n",
       "</style><div id=\"sk-container-id-1\" class=\"sk-top-container\"><div class=\"sk-text-repr-fallback\"><pre>KNeighborsClassifier()</pre><b>In a Jupyter environment, please rerun this cell to show the HTML representation or trust the notebook. <br />On GitHub, the HTML representation is unable to render, please try loading this page with nbviewer.org.</b></div><div class=\"sk-container\" hidden><div class=\"sk-item\"><div class=\"sk-estimator fitted sk-toggleable\"><input class=\"sk-toggleable__control sk-hidden--visually\" id=\"sk-estimator-id-1\" type=\"checkbox\" checked><label for=\"sk-estimator-id-1\" class=\"sk-toggleable__label fitted sk-toggleable__label-arrow\"><div><div>KNeighborsClassifier</div></div><div><a class=\"sk-estimator-doc-link fitted\" rel=\"noreferrer\" target=\"_blank\" href=\"https://scikit-learn.org/1.6/modules/generated/sklearn.neighbors.KNeighborsClassifier.html\">?<span>Documentation for KNeighborsClassifier</span></a><span class=\"sk-estimator-doc-link fitted\">i<span>Fitted</span></span></div></label><div class=\"sk-toggleable__content fitted\"><pre>KNeighborsClassifier()</pre></div> </div></div></div></div>"
      ],
      "text/plain": [
       "KNeighborsClassifier()"
      ]
     },
     "execution_count": 56,
     "metadata": {},
     "output_type": "execute_result"
    }
   ],
   "source": [
    "# Then fit with the training data\n",
    "knn.fit(X_train, y_train)"
   ]
  },
  {
   "cell_type": "code",
   "execution_count": 59,
   "id": "a78e999d",
   "metadata": {},
   "outputs": [
    {
     "data": {
      "text/plain": [
       "(1293,)"
      ]
     },
     "execution_count": 59,
     "metadata": {},
     "output_type": "execute_result"
    }
   ],
   "source": [
    "y_pred = knn.predict(X_test)\n",
    "y_pred.shape"
   ]
  },
  {
   "cell_type": "markdown",
   "id": "461cbac7",
   "metadata": {},
   "source": [
    "# Now use Standard Scalar"
   ]
  },
  {
   "cell_type": "code",
   "execution_count": 66,
   "id": "cf8fa5c1",
   "metadata": {},
   "outputs": [],
   "source": [
    "scalar = StandardScaler()\n",
    "\n",
    "# Learn the Parameters \n",
    "X_train_scaled = scalar.fit_transform(X_train.values)\n",
    "X_test_scaled = scalar.transform(X_test.values)"
   ]
  },
  {
   "cell_type": "code",
   "execution_count": 67,
   "id": "89645352",
   "metadata": {},
   "outputs": [
    {
     "name": "stdout",
     "output_type": "stream",
     "text": [
      "(5170, 11) (1293, 11)\n"
     ]
    }
   ],
   "source": [
    "# Check the shape\n",
    "print(X_train_scaled.shape, X_test_scaled.shape)"
   ]
  },
  {
   "cell_type": "markdown",
   "id": "83bf1111",
   "metadata": {},
   "source": [
    "# Apply PCA"
   ]
  },
  {
   "cell_type": "code",
   "execution_count": 77,
   "id": "aa22a82f",
   "metadata": {},
   "outputs": [
    {
     "data": {
      "text/plain": [
       "(6463, 12)"
      ]
     },
     "execution_count": 77,
     "metadata": {},
     "output_type": "execute_result"
    }
   ],
   "source": [
    "# before Choosing the components\n",
    "# Check how many columns is their\n",
    "df1.shape"
   ]
  },
  {
   "cell_type": "code",
   "execution_count": 72,
   "id": "0c848af1",
   "metadata": {},
   "outputs": [],
   "source": [
    "pca = PCA(n_components=None)"
   ]
  },
  {
   "cell_type": "code",
   "execution_count": 73,
   "id": "e220a935",
   "metadata": {},
   "outputs": [],
   "source": [
    "X_train_trf = pca.fit_transform(X_train_scaled)\n",
    "X_test_trf = pca.transform(X_test_scaled)"
   ]
  },
  {
   "cell_type": "code",
   "execution_count": 74,
   "id": "57f4fdf0",
   "metadata": {},
   "outputs": [
    {
     "name": "stdout",
     "output_type": "stream",
     "text": [
      "(5170, 11) (1293, 11)\n"
     ]
    }
   ],
   "source": [
    "# Check the shape\n",
    "print(X_train_trf.shape, X_test_trf.shape)"
   ]
  },
  {
   "cell_type": "code",
   "execution_count": 81,
   "id": "0e723e5e",
   "metadata": {},
   "outputs": [
    {
     "data": {
      "text/plain": [
       "(1293,)"
      ]
     },
     "execution_count": 81,
     "metadata": {},
     "output_type": "execute_result"
    }
   ],
   "source": [
    "knn = KNeighborsClassifier()\n",
    "\n",
    "knn.fit(X_train_trf, y_train)\n",
    "\n",
    "y_pred = knn.predict(X_test_trf)\n",
    "y_pred.shape"
   ]
  },
  {
   "cell_type": "code",
   "execution_count": 82,
   "id": "ff8652a4",
   "metadata": {},
   "outputs": [
    {
     "data": {
      "text/plain": [
       "0.5583913379737045"
      ]
     },
     "execution_count": 82,
     "metadata": {},
     "output_type": "execute_result"
    }
   ],
   "source": [
    "accuracy_score(y_test, y_pred)"
   ]
  },
  {
   "cell_type": "code",
   "execution_count": 134,
   "id": "faaca788",
   "metadata": {},
   "outputs": [],
   "source": [
    "# Split the dataset into training and testing sets\n",
    "X_train, X_test, y_train, y_test = train_test_split(X, y, test_size=0.2, random_state=42)"
   ]
  },
  {
   "cell_type": "code",
   "execution_count": 135,
   "id": "25c7ab61",
   "metadata": {},
   "outputs": [],
   "source": [
    "# Standardize the features\n",
    "scaler = StandardScaler()\n",
    "X_train_scaled = scaler.fit_transform(X_train)\n",
    "X_test_scaled = scaler.transform(X_test)"
   ]
  },
  {
   "cell_type": "markdown",
   "id": "c0295f32",
   "metadata": {},
   "source": [
    "# Best Components"
   ]
  },
  {
   "cell_type": "code",
   "execution_count": 155,
   "id": "22bbfddf",
   "metadata": {},
   "outputs": [],
   "source": [
    "def best_components_with_accuracy(components:int=5, neighbor:int=5) -> str:\n",
    "    \"\"\" This function take the number of components & provide the accuracy.\"\"\"\n",
    "    \n",
    "    if components >= df1.shape[-1]:\n",
    "        print(\"Give valid components ... \")\n",
    "    else:\n",
    "        # Apply the PCA on standardized features\n",
    "        pca = PCA(n_components=components)\n",
    "        X_train_pca = pca.fit_transform(X_train_scaled)\n",
    "        X_test_pca = pca.transform(X_test_scaled)\n",
    "        \n",
    "        # Train on KNN algorithm\n",
    "        knn_with_pca = KNeighborsClassifier(n_neighbors=neighbor)\n",
    "        knn_with_pca.fit(X_train_pca, y_train)\n",
    "        \n",
    "        # Predict the test data\n",
    "        y_pred_pca = knn_with_pca.predict(X_test_pca)\n",
    "        \n",
    "        # Evaluate the accuracy\n",
    "        accuracy_score_pca = accuracy_score(y_test, y_pred_pca) * 100\n",
    "        \n",
    "        # Show \n",
    "        print(f\"No of Neighbors : {neighbor}\")\n",
    "        print(f'KNN having Features : {components}')\n",
    "        print(f\"Accuracy Score is : {accuracy_score_pca}\")"
   ]
  },
  {
   "cell_type": "code",
   "execution_count": 157,
   "id": "fd00521b",
   "metadata": {},
   "outputs": [
    {
     "name": "stdout",
     "output_type": "stream",
     "text": [
      "No of Neighbors : 3\n",
      "KNN having Features : 10\n",
      "Accuracy Score is : 55.529775715390564\n"
     ]
    }
   ],
   "source": [
    "best_components_with_accuracy(10, 3)"
   ]
  },
  {
   "cell_type": "markdown",
   "id": "4c85968e",
   "metadata": {},
   "source": [
    "# Transform into 3D and 2D"
   ]
  },
  {
   "cell_type": "code",
   "execution_count": null,
   "id": "8b47219f",
   "metadata": {},
   "outputs": [],
   "source": [
    "pca = PCA(n_components=3)\n",
    "X_train_trf = pca.fit_transform(X_train_scaled)\n",
    "X_test_trf = pca.transform(X_test_scaled)"
   ]
  },
  {
   "cell_type": "code",
   "execution_count": 86,
   "id": "6c1d7584",
   "metadata": {},
   "outputs": [
    {
     "name": "stdout",
     "output_type": "stream",
     "text": [
      "(5170, 3) (1293, 3)\n"
     ]
    }
   ],
   "source": [
    "print(X_train_trf.shape, X_test_trf.shape)"
   ]
  },
  {
   "cell_type": "code",
   "execution_count": 90,
   "id": "79a57680",
   "metadata": {},
   "outputs": [
    {
     "data": {
      "text/plain": [
       "array([[ 2.69273447,  1.50135826, -2.20496383],\n",
       "       [ 0.58683394, -0.78733515,  2.84153562],\n",
       "       [ 1.97285275, -0.20774693, -0.1674416 ],\n",
       "       ...,\n",
       "       [-2.55615136,  2.64091517,  2.13960805],\n",
       "       [-2.65129947,  1.90196693,  1.37047937],\n",
       "       [-0.6374396 ,  0.41964335,  1.1585281 ]], shape=(5170, 3))"
      ]
     },
     "execution_count": 90,
     "metadata": {},
     "output_type": "execute_result"
    }
   ],
   "source": [
    "X_train_trf"
   ]
  },
  {
   "cell_type": "code",
   "execution_count": 96,
   "id": "7aa81903",
   "metadata": {},
   "outputs": [],
   "source": [
    "y_train_str = y_train.astype(str)\n",
    "\n",
    "df_plot_3d = pd.DataFrame(\n",
    "    {\n",
    "        'pc1': X_train_trf[:, 0],\n",
    "        'pc2': X_train_trf[:, 1],\n",
    "        'pc3': X_train_trf[:, 2],\n",
    "        'label':y_train_str,\n",
    "    }\n",
    ")"
   ]
  },
  {
   "cell_type": "code",
   "execution_count": 104,
   "id": "4174e305",
   "metadata": {},
   "outputs": [
    {
     "data": {
      "application/vnd.plotly.v1+json": {
       "config": {
        "plotlyServerURL": "https://plot.ly"
       },
       "data": [
        {
         "hovertemplate": "label=5<br>pc1=%{x}<br>pc2=%{y}<br>pc3=%{z}<extra></extra>",
         "legendgroup": "5",
         "marker": {
          "color": "#636efa",
          "size": 5,
          "symbol": "circle"
         },
         "mode": "markers",
         "name": "5",
         "scene": "scene",
         "showlegend": true,
         "type": "scatter3d",
         "x": {
          "bdata": "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",
          "dtype": "f8"
         },
         "y": {
          "bdata": "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",
          "dtype": "f8"
         },
         "z": {
          "bdata": "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",
          "dtype": "f8"
         }
        },
        {
         "hovertemplate": "label=6<br>pc1=%{x}<br>pc2=%{y}<br>pc3=%{z}<extra></extra>",
         "legendgroup": "6",
         "marker": {
          "color": "#EF553B",
          "size": 5,
          "symbol": "circle"
         },
         "mode": "markers",
         "name": "6",
         "scene": "scene",
         "showlegend": true,
         "type": "scatter3d",
         "x": {
          "bdata": "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",
          "dtype": "f8"
         },
         "y": {
          "bdata": "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",
          "dtype": "f8"
         },
         "z": {
          "bdata": "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",
          "dtype": "f8"
         }
        },
        {
         "hovertemplate": "label=7<br>pc1=%{x}<br>pc2=%{y}<br>pc3=%{z}<extra></extra>",
         "legendgroup": "7",
         "marker": {
          "color": "#00cc96",
          "size": 5,
          "symbol": "circle"
         },
         "mode": "markers",
         "name": "7",
         "scene": "scene",
         "showlegend": true,
         "type": "scatter3d",
         "x": {
          "bdata": "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",
          "dtype": "f8"
         },
         "y": {
          "bdata": "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",
          "dtype": "f8"
         },
         "z": {
          "bdata": "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",
          "dtype": "f8"
         }
        },
        {
         "hovertemplate": "label=8<br>pc1=%{x}<br>pc2=%{y}<br>pc3=%{z}<extra></extra>",
         "legendgroup": "8",
         "marker": {
          "color": "#ab63fa",
          "size": 5,
          "symbol": "circle"
         },
         "mode": "markers",
         "name": "8",
         "scene": "scene",
         "showlegend": true,
         "type": "scatter3d",
         "x": {
          "bdata": "ysjqOxNC5b9UAtRpSPaUv+RDQs29CeE/fcq50pCW8z/xdfCijeCwv6CY7wms5Ne/6YIL+2BmAkAzUZ4TnoPkPwXIM49OyQBAm6q3b6fY9j/ouHNoNeX3P55+Xf5csvI/VlizJFxu8j/pggv7YGYCQBniv4oYVNK/ZO5W5+hR6D8wYvWbwv/cP74VB6G3/qy/Ejp/xkWF+T9M37jxUpjuv4iJDGFPUpK/lxVpexyuAMCxbjiAjqLwP6h0Oeba9dY/E40AIVtVrb+zTWgGDXDTP8QpRU10r8O/gAZVWt8e7j8JoLrOb8e/P74VB6G3/qy/dYynK+ufB8Dpggv7YGYCQPQzbVi49wTA8Q8rYDD48T+mJ2qkOVLJv2mvqbzdEwJAKPxnvSLLxD+xhGxpEqwEQPJ6+hOxreu/tjoOxFa62D9627f4u6fzP5uqt2+n2PY/+doGRar+tb/z57CldmfQPzNRnhOeg+Q/6YIL+2BmAkAP376bHUgFwKTr+0cRYgBABLiQJp5oAMDRGNGOsjrnP9G8lVBzl+6/+OEntMGQ0z+0XfSra3b3PzWjZbzzP8O/zUp6+bf86T+r2OFo7RHiP17lpBaZz/c/FogQnmZNxz/N1DqmPJrhP55+Xf5csvI/gJWwV8Id8T/dy50vTJLiP3Tuejwd2gPAPgMJguJ81j/ouHNoNeX3P6Wi/YrruwbABEHIwou2tz/pggv7YGYCQATCY2CuBOi/h3N8lo3Vsj/NSnr5t/zpP+mCC/tgZgJALK2cc3Qbwb/5290QLZHkP7GEbGkSrARAzla/Fa6H8j87h7M0t1D4P+2d6wCHUuS/FfzH/XZZ9z+gEELwrSHmP3jjyfE/aew/s/Q8sKGP5D/YuH+i/bwFQJ+7N+nzvsg/sYRsaRKsBEDkQ0LNvQnhP50wJE7aZPY/WwuOgKZj4r/9hrZB8qoCwKcSN84EGfI/wmhkLb/Uyj/Cp5ar3TwFQOFhT92shNQ/akyRNTxf4T+xhGxpEqwEQMOvQEDSfOc/seyfetEd2b/PBWvtinLlvx6gcRcEAOM/1jGNuTWzA8Bk7lbn6FHoP7I110GulfU/fKX8sZVbBsDz57CldmfQP2yMTvzBvLY/LbaV/6AQ0D80x3FJLELvv7r+qhPKmt8/in0m8Vqx/z9d7e22JfrRv1Q8wfJmvdE/E7Jv8sCqzT/HXcM/rSjzP0zfuPFSmO6/6YIL+2BmAkB/B2TdGBKyP4fu5A8DYgrAeSh0V1iZxL+dMCRO2mT2P9EY0Y6yOuc/KPxnvSLLxD/A+2fve47+PxcdBMhRXwfAXZatH4iXs7/ouHNoNeX3P7BxuXf7jvI/h+hvzOxV5D8JmD8P6bPwP6cSN84EGfI/O4ezNLdQ+D/IvX13YL3zP38HZN0YErI/sYRsaRKsBEAJmD8P6bPwP+mCC/tgZgJAgdT0OQswz7+L+IA0GtTUPxDK91VaafE/MlMEsLgV9D/sjzHzyuT0P+O7JLYko/k/n8t9J2J94r/NSnr5t/zpP7GEbGkSrARAweJd4RdyzD/+8Mw6mCfiv4v4gDQa1NQ/ya9B/0uS8T+u7klkVG3cP9i4f6L9vAVA",
          "dtype": "f8"
         },
         "y": {
          "bdata": "MexY9N3BC8C0E6CDXrQBwIGfymT/WvW/DSOkhOVW5r//cbCxImzyv6LeXdqhsfC/X8a4m2N7/z+FgTuc4Tz7vwUT6JqBGADAHefTn904AsDJkXCC7STLP1Nwx+xPfeS/8GIUYh829r9fxribY3v/P9RiNekKW+i/8tKIACfv4T+9/8a7WgQKwDzAmRJsFAHA/fJKyd57zL/thsMsUMsIwDWxwFz9bgXAGzZUXNAB4L98MmD6BwD3v/aj6uRURAbAciNqdc7Q9L+HedTm0dsHwGL0JMtMkv2/wikvd0fP2b8QgfgaSmkCwDzAmRJsFAHA0oz0kq095z9fxribY3v/P8QbD582qMa/m420KR+UB0Cd5D8dxA4MwAzpGSOfQ++/ow60bwd2CsBCxblao8cBQDMU2eKtNvi/EhmEq1iU+b+1SRJ++Kv4vx3n05/dOALAXbi0vfpM8L9TIajC6Xrvv4WBO5zhPPu/X8a4m2N7/z+ilqZ5rV7yvyq3Hs2rqvK/vmAS9VRMCcAr7bO1AGu4v4ZjhdH09gPA9KqfLdl/CMBYWIs0YUfxvwoWfB7s7OG/cUGJW5uo/b9EaqME+6AEwFUAcJw2Bd6/rHW5Wxxm7b8fjNKBV7QJwFNwx+xPfeS/35LOQnei879V7ZtxmrIFwHGIWXiPGPY/Xo6E0ZVHCsDJkXCC7STLP+LJyYyiY8i/yqOG0d21A8BfxribY3v/PygWZKQDsfi/w7mhEr5j/L9xQYlbm6j9v1/GuJtje/8/zFsb6Zax4L+TM/rpOE7Yv0LFuVqjxwFAbBc2Gc4o/r9fGe3dEpv4v0QEAPLvoQXA0JRGnT2D2T8xK8ZXxk/sv1y9Rh4YQNi/Pm0wHsUrAMBalUfbljfnv8VUNmSJMQDAQsW5WqPHAUCBn8pk/1r1vyD8YeqU3fi/GkdMqbKVAMAuztUQqesKQA3NSx9oF/S/o4wMzgSECcDdfG75zK7Cv2oB1pwPQ6q/Wb2Z9PqG9L9Cxblao8cBQN5zXOaOkQvARJH0OUcQ/7/9xL64n4HnP7uB9sv4PuW/zKDncw9YxD/y0ogAJ+/hPwGqab/Tie6/4xwzB/KQ8D9TIajC6Xrvv+3yi+9xPvu/ygAMRe5YA8B/5hntLVT/v/yPN6OHXeO/c0tjxzK9BMCjAIQW8RgJwLW9hxJSVQDA1KkUoUpX779sIpe1XG3iv+2GwyxQywjAX8a4m2N7/z949KWDvdD3v0BaAW6lBALAuYZR4AfKBMAg/GHqlN34vyvts7UAa7i/ow60bwd2CsASDGp4XEoFwDFJxhQDC/K/I5+cxYIF+r/JkXCC7STLP3QEyI4N+AVA/JapaSdO97/ciC6XRzXbvw3NSx9oF/S/Xxnt3RKb+L8jS3AcdC/wv3j0pYO90Pe/QsW5WqPHAUDciC6XRzXbv1/GuJtje/8/i6NdIZHD8r8SkpkCFS8AwIHxeIv+hfi/XJuPQGraAsAocNAzeqv5vxzB7I1aJOa/c6srMMaQAMBxQYlbm6j9v0LFuVqjxwFAbcQC6XexAcD1lLH06GYHwBKSmQIVLwDApf7IAK0r9r9ceuLex1gQwFqVR9uWN+e/",
          "dtype": "f8"
         },
         "z": {
          "bdata": "wZXPi0NT1b+7TE+hvMLnP/80GZS+8Zk/vZjf4d929T+ZeHSS2dboP0QTdovwkLU/08EJ9csAyb+PZo8WbhDVP98vgy14Ici/t9CI9sfdxT9J3H8drTzEv3umvUgcyNE/62w/z+VT7z/TwQn1ywDJvy4uZBRbTas/0oBBDBJaxb/XmHysi6XxP9p1Z91hZOA/HvEBFyUZ7r/tQ/v6Dhnqvzh0l2ONRu2/RC1nm5jN4j//i9E8JcvPPxyB+pX5R8S/GysnQ9E/4b+eerp01mPoPwA4+Vo649I/XHIMo+CUw79Zx6+d4bgCwNp1Z91hZOA/EIFgHGKR5D/TwQn1ywDJv/eSxb9tPgJAKhwbk2OzvL9xWjHA5ePnv7rSEqH0psG/Z2zmhn5K/L+FvdZHlMTnv0TW/Hv86fQ/qobdWlL98j9uCqjhRanvP7fQiPbH3cU/gPk7pTn67D8CvY1XzNrQP49mjxZuENU/08EJ9csAyb+IsxqubqDwv5RUjbEmnOu/7pEXL56f97/uiYbZCS/AvyLYOWvKGeU/PcLHX6XMyT8wabLjib/pPz6NMVr48M6/dgC79Pwj6T8jijIpvj/aP2ewVcLRHfU/J5dzj4n44T/tInoLep3nP3umvUgcyNE/Pc0TUuLd+j8xbceqOMbtv2F6T6SycQVAGcoD5ycS9j9J3H8drTzEvxDAegKAn/A/uolXgh+007/TwQn1ywDJv7IBtb8/q+k/c66KmkNhsr92ALv0/CPpP9PBCfXLAMm/M+lCWXZp6j+sezVpulG9v4W91keUxOe/tQsCOBq76D+eVZYf6xjOv/wsvhSl0Nm/lLk7GgFrqj+nixuY+9HuPyrIQhnVHPC/suDSYI/x0z8xy/Wlf3zLP30jfYhSkNc/hb3WR5TE57//NBmUvvGZPx0n0F9NbeY/NL3e1Q610T8XcsZQZ4cSQN4Jl8qj8+M/iYJwLJYnt7/J8DiHTPPiPxLR689yw/Y/AjnNYMUh9z+FvdZHlMTnv/xGlbGvVt6/JpuxLsiU0j9LzHED0c8IQNaYr8k6YMI/K0Sd5Orl8z/SgEEMElrFv/a8l6qhLvI/ZgCGbwi3AkACvY1XzNrQP3nAF3QK3fs/8L6booqp8z9PzRxw/MfVv4UuWLK5ubU/FwpAi+UB5D+AnvYBGy7hv5CKWTRsDu4/+56TFKMZw7/cSUQ2X+7PP+1D+/oOGeq/08EJ9csAyb/MMzNnr4zXP6wNJHSefQPAm3cmrpUO4T8dJ9BfTW3mP+6JhtkJL8C/Z2zmhn5K/L92euUl4PnLv4xgPZ4bufM/yZHJ/KFp7j9J3H8drTzEv9kKil6KLo8/oI1mP3KI4z8dbpwtvtTRP94Jl8qj8+M/nlWWH+sYzr9oJgeIgxzRv8wzM2evjNc/hb3WR5TE578dbpwtvtTRP9PBCfXLAMm/yK5gDn2b4z+7+SLtKBvcvyBPgqizWfI/u82AN9k08T+b+MmCXk7vP35Ix20/QfM/p+pAPtgk6j92ALv0/CPpP4W91keUxOe/CdvnOtGn+D+xLf430XHDv7v5Iu0oG9y/MZVCOik93z8++ZEamgjLPzHL9aV/fMs/",
          "dtype": "f8"
         }
        },
        {
         "hovertemplate": "label=4<br>pc1=%{x}<br>pc2=%{y}<br>pc3=%{z}<extra></extra>",
         "legendgroup": "4",
         "marker": {
          "color": "#FFA15A",
          "size": 5,
          "symbol": "circle"
         },
         "mode": "markers",
         "name": "4",
         "scene": "scene",
         "showlegend": true,
         "type": "scatter3d",
         "x": {
          "bdata": "KOX3Ow+78b+rcawLedPyv1ctJHWfYOS/O7vWnGl34z/F6a5xipYNwLhLhpiymgzADodhrA+u878HUppIcXzzPzVYcwbSVgVA/5sB9RhABcB0J+6wup7dv6TA+ZjrEry/fUx+ccH97r9yYyAY9uEKwBBqt82GeMC/YomiijyqD8CvGar0W4UAwJi7r7ohRwtA+VEjCl+h5b9yCvJaDMvav/XxiljBoQnAlrlyEbZc4L8Y4/X/lG7nPySVPXG1Tee/mcCBRuOu+T/uQaV2Ap7lPybmjiod7Om/syDg1Q6Ixr99at0pQpTyv8OPGlKgg/s/ACSgLkbc9r8Q21zoLyr8P1ZrypgR8u6/6NAkc4d0zr+ZwIFG4675P5WknfIklry/G+ZfgBH4rr9nSSlQpW4KwDTdkHBgJfu/jvmD45vKCMCGfK1M+r3zvxmnSGSUZtg/M5Gf8Xmpjz8DebEnjfcJwBzmtaxFyf8/rWclHMm58r9ol6q+RsziP4JR75E+2u4/4GfWSbxF3L/13eXkTsrgvzk+ugOsnsM/AVQ4a8i+qD835XKgt+7iv6XrbACXSOC/l7KfMWKZBsDQ2oBgrZD7P9cQZdrKYtE/HmZ3HUWlBMBzBHWM0Fzuv18I4RhxSHO/Nfnpn/iQ4D+gS0fAWeYKwDu7h3UkldS/75bf5+yh+b//FsCuBcT9PwBbKaZ3tsK/pzC+x1al0b9jd0Teet/hP4umnCwOlem/SMcFxIqDAMDamKRdBnvNvwYuLOy0GwrAJi9/M3aq4r+SAKOV9yPyv9gJjqK7eAFA/W2IFB4UCcAuesxHZd0KwFWXcuFxVuc/JUIL6un4BMDl0kpcHqwSwFX5/QPqYwnAvMRlhizeBsC9Ou5qdk4NwABbKaZ3tsK/NIH+1sl3178zV1ysNvbovzue2CufM/m/dWfqR5LE5r9v44Gg0pLiP+VZWjxhyADANVhzBtJWBUCSHY0nAqTgv1C4peqmDuW/YU29PFXn0j9OSA5HF/nSv3xYn9V5xOC/TP6AEljN8b9LCsUkG7zovy8w1J6TLBDAxsYACOc0DsAQsfZyy+fxv3fSZxuBXR3AT85WSIFZ1r8oKKphAGfxvwnligU5HeW/Sk5AIiYX4j/3C8HW8hgHwA1UCi3VwATAbmvS1ZN8t79jwcTSyTDMP15qNXNKT/C/Y3dE3nrf4T9xZaPPP3z0P+QSNJt1Yuu/XtCJxj25579msCezPWjmv57md/5sBvU/LlwjTIIS8D9EYmVwB+DAPxyqNbnYHMM/Hpn0ndsI67+BDuM3ktUEQLLpgFXRLvq/Uen44z6v8L9rc402tXP+P+m+W21affC/pQDFzasTD8Bgnw9t9Mjqv05l2GU3rfi/nc4br0iB+b9hM+C5jwzjv8nI3HaIBIk/i6acLA6V6b+3pNlgVRnRP9Q+K3VJVNO/APkJxi8W97+9dQlQwYXzP2PBxNLJMMw/+YhYZhlWAsAM2FGFRvADwLYJVx53oArASBMi6vEk8z9TtBm0A7LKvzwvZo1ng+Y/moMYXXwX8L/38tEpMHv8vzQ+jkYDv9E/N+VyoLfu4r//yty8LMn2v9V7aBRctAJA+OPp2dCJ+b8LIfE9o1fkv1nIpIZw+MQ/ogZXHCTN6780eas07s38P2ukvV6Q6NS/5VX89vTV1L+5HT7EmbHXP7MDzVNQSfy/xc0bCFLnlz/vqPYSlSXJPxmnSGSUZtg/UIx5TDsktz8/kqUUqigCwAKsh2vmJ9s/4tnbKRMa0D8=",
          "dtype": "f8"
         },
         "y": {
          "bdata": "SwJSgmE/8b+JpjOQtFimv8iNLP+EPAHAjgPTYEFs6z8y1TAdNRfxv2QrFsT7DOC/c+0qsIhv4T/8vR9HeL7jP3XNip9qMQJAsP3ZA+Xs8z8nwl0b83L1v736iVtit/m/niekVBkP1b8CtiyWQ8roP0Th46AxYeA/Cxf4RhNiAECTyqjqBlHKv+kILsXvyu0/5qJY6xNuAsAJ3Q/QHzjyP5ccJNElUtu/oZsbWyIIB8AbpnRhI5fzP0TZ634uxPI/fMaQQaFz+j+EqbrI8CXzP8FqPVmmePm/8lh1EfNl6T81S2nYfM3lv6he57vP4ABACea5bn0/B8CKoNAqFxP7P3m3mr5xe/C/cYxTBbzL+b98xpBBoXP6P298qstU8ALAr6+KSuAX1r8TF31bd38IQN+5TmgratM/hk2amqo65D9Q4V0OzxDyPzh/GQCNh9y/bTFsz3Lj/7/mWyEs2iTUP4k/NkI0VQNAnqSFa4QE+L8kJW1EwufgP+sgnxyzGOA/LI+wQrMa8D+G/C34Uz/yv0qOGD7vqui/GjaZoHsx6b/qdHWb65fgP6Ja6F4XZd2/Hq7B9aKh6L88uhjtJdLpPx1CNCwJRe4/A3QNSc806T+M2gQht6+3v0RTymZ4gQHAY6UTTmGOyb/08utm0v7NP4/tvxqDTc6/avp11F1lEUAs0WEHPA4BwBSH9DtEjqO/CbZjnVcg5L8mNVpoNGX3P7ZCeUdcne6/IKd1kMdsDMA0lvDgz8/sv4zt8TrOKuc/W4GExctByb/Bj9Nrcynxv2OBuXWdt/E/uu9meGusAUCC96EZdVbwv2Xs9U3p+rq/21av3+6v87+PKhiSyzC8v8zy5X6TH/U/Up7/SS849b/NVME4klTWvxSH9DtEjqO/9nOgfCKKsL+sfe45fegFQGAkrnA2ass/C76grUsY7b9iIffY+JOmvwRjMuida7o/dc2Kn2oxAkCE8hMxdgMGwKyrGrYWuNs/T267o+byxr8cvF+iObXyP8xveZxvO/K/BrINSZmjsT//VozrPxCyP31ABrJD5eK/wsLHJRUmsj836RR1J+Hlvx+5zIfW7yNASAQ1zJ5Tab9Sybngzjf7Px+qp4IRjgPAgJpTKNni8L9JtMplUOPiv87gcgcnY+a/ntnKWNo0x7/deHknaenUP4QVq9H63cI/JjVaaDRl9z8mcxAJQ+EGQCRbkhJajbc/c9wjWXVnzL9NfTC9Y0rHvw+sNaKRuto/+dL5cgCryT/KZnlqGAPiv6MzTu+cVs8/ob9QnaOH6b/xr1F4C4oBQI2RThQfvAbA9g8Y9+9r4L9DnwlQoJ8DQPRUf6hlnvG/e14qm/Ka8z9BsTrdx2r9vxObiXb3oQTAQL7XWV+dA8A0SQ+sgkbnP0VMKgjbmPm/tkJ5R1yd7r9UOUbBXdfbv54aKPMmD8E/oIFgisB4BMDHe988MLTpv914eSdp6dQ/kD3NlJ4q+r/2oGVSpD/3P8knUXE8JN8/bQkTKxfE+j/GPX+t+Ur4v6w6RmxsAeM/8le2yfKj+r8+wr3TKwX3vzsf8VPG288/6nR1m+uX4D/7/WpFVsLwP0ndVFT03ABAPPGqjpTBAsASWt1SVAT5v0HmvtfC3t2/bGUsBNmVsT8mNnbFsljzP0fNVS/vNuO/B9HNdiM2/D+AtSG0MNjwv8Efx+qyyAZAIUNlb7Anr78CpOxKk+jtvzh/GQCNh9y/qPkJ1YjQAkBrOeRRwZj3Pxte3wrvz8e/6uV1H8Zr278=",
          "dtype": "f8"
         },
         "z": {
          "bdata": "HWH3R8VZA8A/PT48w+22P5QI72avnfW/MTcgLlBG6T9FzFNRoIADwMFXCKl7+gnA7u/PqVPO77/L2wwNS00CQO6O+s7soNI/nlMrUCnA67/+n/i/V6b1P5F0rfY6LABApafLChdC8b8Ebd4+pV7sv8z0wiCpgwFATDyiQESv8b+5lU4LvUTyP7M9FR+WC+M/pDN2d3D62b+7TRGu2aoEwLkniJkD3Pi/1Ib7z26B7D9Sg3GWUTgEwGYnY00JnwFAetzE8D62+L9UjxmSgs/BvyEwILfYevY/3TPPShSVzr+DdgCREQjnPz4/+Dug5te/dFeWGg8L+L+aBrZsUw3zv5NGZGdFJf4/XOhdi2ZA4z963MTwPrb4v86UroiykO4/4Nxy9pdd4b/Z+Iz43ELzPxI6iOBmLLi/FPUWqEoLAsCxCufJ47jVP1TnQReIM++/CwdXUpk55D+lkEw27oUDwLC/vvWUwwNAECGWzUuy+7+MKws0qTnwP3LA0tN4H+q/rNxqKBKLBsAWwSbjePXvP/TXEGyctvU/0dpNNqhA/L+yKxb6EmTnP6b6ynaqVABA8wKvWfFP27/HYuL6tFPPPxIeuWs6kPg/AO1m06Px/7/0de56U8gBwEu7R31V9vc/dypWYQR3BECTO72P3YYBwPZi1Vt/T/I/VH82z27P9r/2RXmLVX7Ev3oXmwb2x9s/cTHJLur747/+1i3HVhLkv2WpZbGLB/m/IkePmuZS87+V6i+oNUbwP8x0zWS8SgLAJgZ3lkUOyr8p1Xd3E+7hv0BxxkHBlem/SqXz5KPeA0DpsyuzA4QIwBSeAKIws/u/Dn1/e2z4/b/B09VTVhcFwE8D/iDTNrE/AM6/jFVlAcBwBQqXReEHwHoXmwb2x9s/1oFHwzcT+b9dOfY/8Naqv7iL6Ln30vI/FvQvdG//5b+PyIumXsHgvwzDLlhWaPW/7o76zuyg0j/cnJ5ECevxPzWu2X3X5+O/yIUrlQexrb/8Y0Jfi6MDwLNTQ1P7vvW/Dm+A2NnI+T8ia+TzOrLXPxGHj1LnxwTAwJuDvtYLA8DC80Qqx1boP1IGq4lYsBFACS5aQrV0+b9F3TieiPHgPwTscaQWPdk/MsIzG/NX7z/xK9MZpOEJwCG+Vj7hlP2/OPZpMjEn378d2by1SGTtv/zH6TFHaP0//tYtx1YS5L/0OqbgrfnQv0OBsT02KgVAJtS8aoegqz/4Klk31t0AQGAG0+rRotq//66KhkGbwD8CaMyu7/DIvySyeQ1BQv8/yTi2o7m47L8UiEFg0KDqP027LUXKOvq/P7AXIewZ/b9uf5cMe0fQv2Oabie8S/C/cJz1pmNi9L+7HO9M81nzP7Ifw6B31vu/sQBbUV0k4j8u+PFiTob+P4lX4jjAKfg/ZallsYsH+b8qBitYazHWv0ciPFNtdeG/ZFl2CGg6+L9dKO9XMYfHvx3ZvLVIZO2/CwVcriUgEsCa/48bm3bqv8XLsd4M/AXAL8+trX858z+vLLGHvLbwP+2mrvgZfd+/NIxGAN/NAUCfYkhSQS/9v1QI/aAA5uq/sisW+hJk5z//dRXJY1P2P/vk2psK5Nk/DzH/JW018b8t+27u03IAQBPvVhC02Oe/Q97J6vDs97/LwAxZ4qH5v+iTcrsSM7y/9bcQY16bAcClIxh7rLTQv7d/EgvC8wNAj1ykCKx08L+eG3CXj9bpv1TnQReIM++/4/LKxqIkDEBc6CmwnnrVv8KO96QTmADABpZw3Ass078=",
          "dtype": "f8"
         }
        },
        {
         "hovertemplate": "label=3<br>pc1=%{x}<br>pc2=%{y}<br>pc3=%{z}<extra></extra>",
         "legendgroup": "3",
         "marker": {
          "color": "#19d3f3",
          "size": 5,
          "symbol": "circle"
         },
         "mode": "markers",
         "name": "3",
         "scene": "scene",
         "showlegend": true,
         "type": "scatter3d",
         "x": {
          "bdata": "HZy68vb08r8QZhZeOmARwBUPuUGX3QvAsIucfBEyqb9tUmU0pjvBv89gls+xbBBAXqyBtApY+T8RjKr8VG4EwP/2igl8tuW/255i9PDR3b/UcXEha5QBQNxHNwpg6Q3AAiUrECT+AEA0ijVrE2aXv+GUdk7EpNG/2zlR8jkSEsDnU/xou9jXv5+HI3Q/Og9AqAPnxd/V9b/I/5skyni6PzeNnktyVvw/e7PK03d3IUAcHp0GPfHNv9Xh95dWWw/ATxJU7HojBEAY5pJo0y4IwA==",
          "dtype": "f8"
         },
         "y": {
          "bdata": "jLWwG4NuAsBV+iPTcB/hP/v6ygqn8+E/VkDkQ076/L/YVx8dlx36P3hPZVCXf+K/Cn/0hDUL8T8RA1/3F1EKQKM7N5E4WBJAwpLvIKRS2T/G+KbI+nG0P9T/5O0F/dC/+dQpRpD3tz+AsR+i7u7nv9mUghkS4ALAmJgyHGQg9T96dydBTVP+v2yfibPsYuc/Owpn+qKn479Myz2hVnIHQCmLyWQK7QFAcayBgWyw0z/OPLNBqR7jP70t+7Hajw9Au5eNVK/qpD8orbtSeovfPw==",
          "dtype": "f8"
         },
         "z": {
          "bdata": "2iYbF2tH7D8g+5l4qy4FwKpyu3TTrgTATO8HZ19RrT9oa7WJGmfTv2RlOl9imvu/VevIwuYY47/ANS+LawIAQLoGoGIuMdE/3zMAuzsBCUB+KOCw1pTRv6dFpNLqZwbAMrQxs3u2BcAOevY9nDDJP0sNR/O+LrA/QwczplY2BMDJuM42LNv6Py+rkTRuJuo/nJNShbXk8T+35n10ywsCQH8EXRibg9G/tj3xMp1pC8BbnGV72c3Hv5e3t+LRqvE/OWRviTSiAMDExjmzgX4EwA==",
          "dtype": "f8"
         }
        },
        {
         "hovertemplate": "label=9<br>pc1=%{x}<br>pc2=%{y}<br>pc3=%{z}<extra></extra>",
         "legendgroup": "9",
         "marker": {
          "color": "#FF6692",
          "size": 5,
          "symbol": "circle"
         },
         "mode": "markers",
         "name": "9",
         "scene": "scene",
         "showlegend": true,
         "type": "scatter3d",
         "x": {
          "bdata": "7voFyr5B8D/WFst+eIjkP1KAahwTI8c/F3jX9sgPxT8=",
          "dtype": "f8"
         },
         "y": {
          "bdata": "30V3Y73mA8Chd7lHAsPyP46jMD18LgHAxzLGhfZgA8A=",
          "dtype": "f8"
         },
         "z": {
          "bdata": "0guyO26k1T9aPZNwyw7wP2DwJyWeqfA/nHiTnuZL9D8=",
          "dtype": "f8"
         }
        }
       ],
       "layout": {
        "legend": {
         "title": {
          "text": "label"
         },
         "tracegroupgap": 0
        },
        "margin": {
         "b": 0,
         "l": 0,
         "r": 0,
         "t": 30
        },
        "scene": {
         "domain": {
          "x": [
           0,
           1
          ],
          "y": [
           0,
           1
          ]
         },
         "xaxis": {
          "title": {
           "text": "pc1"
          }
         },
         "yaxis": {
          "title": {
           "text": "pc2"
          }
         },
         "zaxis": {
          "title": {
           "text": "pc3"
          }
         }
        },
        "template": {
         "data": {
          "bar": [
           {
            "error_x": {
             "color": "#2a3f5f"
            },
            "error_y": {
             "color": "#2a3f5f"
            },
            "marker": {
             "line": {
              "color": "#E5ECF6",
              "width": 0.5
             },
             "pattern": {
              "fillmode": "overlay",
              "size": 10,
              "solidity": 0.2
             }
            },
            "type": "bar"
           }
          ],
          "barpolar": [
           {
            "marker": {
             "line": {
              "color": "#E5ECF6",
              "width": 0.5
             },
             "pattern": {
              "fillmode": "overlay",
              "size": 10,
              "solidity": 0.2
             }
            },
            "type": "barpolar"
           }
          ],
          "carpet": [
           {
            "aaxis": {
             "endlinecolor": "#2a3f5f",
             "gridcolor": "white",
             "linecolor": "white",
             "minorgridcolor": "white",
             "startlinecolor": "#2a3f5f"
            },
            "baxis": {
             "endlinecolor": "#2a3f5f",
             "gridcolor": "white",
             "linecolor": "white",
             "minorgridcolor": "white",
             "startlinecolor": "#2a3f5f"
            },
            "type": "carpet"
           }
          ],
          "choropleth": [
           {
            "colorbar": {
             "outlinewidth": 0,
             "ticks": ""
            },
            "type": "choropleth"
           }
          ],
          "contour": [
           {
            "colorbar": {
             "outlinewidth": 0,
             "ticks": ""
            },
            "colorscale": [
             [
              0,
              "#0d0887"
             ],
             [
              0.1111111111111111,
              "#46039f"
             ],
             [
              0.2222222222222222,
              "#7201a8"
             ],
             [
              0.3333333333333333,
              "#9c179e"
             ],
             [
              0.4444444444444444,
              "#bd3786"
             ],
             [
              0.5555555555555556,
              "#d8576b"
             ],
             [
              0.6666666666666666,
              "#ed7953"
             ],
             [
              0.7777777777777778,
              "#fb9f3a"
             ],
             [
              0.8888888888888888,
              "#fdca26"
             ],
             [
              1,
              "#f0f921"
             ]
            ],
            "type": "contour"
           }
          ],
          "contourcarpet": [
           {
            "colorbar": {
             "outlinewidth": 0,
             "ticks": ""
            },
            "type": "contourcarpet"
           }
          ],
          "heatmap": [
           {
            "colorbar": {
             "outlinewidth": 0,
             "ticks": ""
            },
            "colorscale": [
             [
              0,
              "#0d0887"
             ],
             [
              0.1111111111111111,
              "#46039f"
             ],
             [
              0.2222222222222222,
              "#7201a8"
             ],
             [
              0.3333333333333333,
              "#9c179e"
             ],
             [
              0.4444444444444444,
              "#bd3786"
             ],
             [
              0.5555555555555556,
              "#d8576b"
             ],
             [
              0.6666666666666666,
              "#ed7953"
             ],
             [
              0.7777777777777778,
              "#fb9f3a"
             ],
             [
              0.8888888888888888,
              "#fdca26"
             ],
             [
              1,
              "#f0f921"
             ]
            ],
            "type": "heatmap"
           }
          ],
          "histogram": [
           {
            "marker": {
             "pattern": {
              "fillmode": "overlay",
              "size": 10,
              "solidity": 0.2
             }
            },
            "type": "histogram"
           }
          ],
          "histogram2d": [
           {
            "colorbar": {
             "outlinewidth": 0,
             "ticks": ""
            },
            "colorscale": [
             [
              0,
              "#0d0887"
             ],
             [
              0.1111111111111111,
              "#46039f"
             ],
             [
              0.2222222222222222,
              "#7201a8"
             ],
             [
              0.3333333333333333,
              "#9c179e"
             ],
             [
              0.4444444444444444,
              "#bd3786"
             ],
             [
              0.5555555555555556,
              "#d8576b"
             ],
             [
              0.6666666666666666,
              "#ed7953"
             ],
             [
              0.7777777777777778,
              "#fb9f3a"
             ],
             [
              0.8888888888888888,
              "#fdca26"
             ],
             [
              1,
              "#f0f921"
             ]
            ],
            "type": "histogram2d"
           }
          ],
          "histogram2dcontour": [
           {
            "colorbar": {
             "outlinewidth": 0,
             "ticks": ""
            },
            "colorscale": [
             [
              0,
              "#0d0887"
             ],
             [
              0.1111111111111111,
              "#46039f"
             ],
             [
              0.2222222222222222,
              "#7201a8"
             ],
             [
              0.3333333333333333,
              "#9c179e"
             ],
             [
              0.4444444444444444,
              "#bd3786"
             ],
             [
              0.5555555555555556,
              "#d8576b"
             ],
             [
              0.6666666666666666,
              "#ed7953"
             ],
             [
              0.7777777777777778,
              "#fb9f3a"
             ],
             [
              0.8888888888888888,
              "#fdca26"
             ],
             [
              1,
              "#f0f921"
             ]
            ],
            "type": "histogram2dcontour"
           }
          ],
          "mesh3d": [
           {
            "colorbar": {
             "outlinewidth": 0,
             "ticks": ""
            },
            "type": "mesh3d"
           }
          ],
          "parcoords": [
           {
            "line": {
             "colorbar": {
              "outlinewidth": 0,
              "ticks": ""
             }
            },
            "type": "parcoords"
           }
          ],
          "pie": [
           {
            "automargin": true,
            "type": "pie"
           }
          ],
          "scatter": [
           {
            "fillpattern": {
             "fillmode": "overlay",
             "size": 10,
             "solidity": 0.2
            },
            "type": "scatter"
           }
          ],
          "scatter3d": [
           {
            "line": {
             "colorbar": {
              "outlinewidth": 0,
              "ticks": ""
             }
            },
            "marker": {
             "colorbar": {
              "outlinewidth": 0,
              "ticks": ""
             }
            },
            "type": "scatter3d"
           }
          ],
          "scattercarpet": [
           {
            "marker": {
             "colorbar": {
              "outlinewidth": 0,
              "ticks": ""
             }
            },
            "type": "scattercarpet"
           }
          ],
          "scattergeo": [
           {
            "marker": {
             "colorbar": {
              "outlinewidth": 0,
              "ticks": ""
             }
            },
            "type": "scattergeo"
           }
          ],
          "scattergl": [
           {
            "marker": {
             "colorbar": {
              "outlinewidth": 0,
              "ticks": ""
             }
            },
            "type": "scattergl"
           }
          ],
          "scattermap": [
           {
            "marker": {
             "colorbar": {
              "outlinewidth": 0,
              "ticks": ""
             }
            },
            "type": "scattermap"
           }
          ],
          "scattermapbox": [
           {
            "marker": {
             "colorbar": {
              "outlinewidth": 0,
              "ticks": ""
             }
            },
            "type": "scattermapbox"
           }
          ],
          "scatterpolar": [
           {
            "marker": {
             "colorbar": {
              "outlinewidth": 0,
              "ticks": ""
             }
            },
            "type": "scatterpolar"
           }
          ],
          "scatterpolargl": [
           {
            "marker": {
             "colorbar": {
              "outlinewidth": 0,
              "ticks": ""
             }
            },
            "type": "scatterpolargl"
           }
          ],
          "scatterternary": [
           {
            "marker": {
             "colorbar": {
              "outlinewidth": 0,
              "ticks": ""
             }
            },
            "type": "scatterternary"
           }
          ],
          "surface": [
           {
            "colorbar": {
             "outlinewidth": 0,
             "ticks": ""
            },
            "colorscale": [
             [
              0,
              "#0d0887"
             ],
             [
              0.1111111111111111,
              "#46039f"
             ],
             [
              0.2222222222222222,
              "#7201a8"
             ],
             [
              0.3333333333333333,
              "#9c179e"
             ],
             [
              0.4444444444444444,
              "#bd3786"
             ],
             [
              0.5555555555555556,
              "#d8576b"
             ],
             [
              0.6666666666666666,
              "#ed7953"
             ],
             [
              0.7777777777777778,
              "#fb9f3a"
             ],
             [
              0.8888888888888888,
              "#fdca26"
             ],
             [
              1,
              "#f0f921"
             ]
            ],
            "type": "surface"
           }
          ],
          "table": [
           {
            "cells": {
             "fill": {
              "color": "#EBF0F8"
             },
             "line": {
              "color": "white"
             }
            },
            "header": {
             "fill": {
              "color": "#C8D4E3"
             },
             "line": {
              "color": "white"
             }
            },
            "type": "table"
           }
          ]
         },
         "layout": {
          "annotationdefaults": {
           "arrowcolor": "#2a3f5f",
           "arrowhead": 0,
           "arrowwidth": 1
          },
          "autotypenumbers": "strict",
          "coloraxis": {
           "colorbar": {
            "outlinewidth": 0,
            "ticks": ""
           }
          },
          "colorscale": {
           "diverging": [
            [
             0,
             "#8e0152"
            ],
            [
             0.1,
             "#c51b7d"
            ],
            [
             0.2,
             "#de77ae"
            ],
            [
             0.3,
             "#f1b6da"
            ],
            [
             0.4,
             "#fde0ef"
            ],
            [
             0.5,
             "#f7f7f7"
            ],
            [
             0.6,
             "#e6f5d0"
            ],
            [
             0.7,
             "#b8e186"
            ],
            [
             0.8,
             "#7fbc41"
            ],
            [
             0.9,
             "#4d9221"
            ],
            [
             1,
             "#276419"
            ]
           ],
           "sequential": [
            [
             0,
             "#0d0887"
            ],
            [
             0.1111111111111111,
             "#46039f"
            ],
            [
             0.2222222222222222,
             "#7201a8"
            ],
            [
             0.3333333333333333,
             "#9c179e"
            ],
            [
             0.4444444444444444,
             "#bd3786"
            ],
            [
             0.5555555555555556,
             "#d8576b"
            ],
            [
             0.6666666666666666,
             "#ed7953"
            ],
            [
             0.7777777777777778,
             "#fb9f3a"
            ],
            [
             0.8888888888888888,
             "#fdca26"
            ],
            [
             1,
             "#f0f921"
            ]
           ],
           "sequentialminus": [
            [
             0,
             "#0d0887"
            ],
            [
             0.1111111111111111,
             "#46039f"
            ],
            [
             0.2222222222222222,
             "#7201a8"
            ],
            [
             0.3333333333333333,
             "#9c179e"
            ],
            [
             0.4444444444444444,
             "#bd3786"
            ],
            [
             0.5555555555555556,
             "#d8576b"
            ],
            [
             0.6666666666666666,
             "#ed7953"
            ],
            [
             0.7777777777777778,
             "#fb9f3a"
            ],
            [
             0.8888888888888888,
             "#fdca26"
            ],
            [
             1,
             "#f0f921"
            ]
           ]
          },
          "colorway": [
           "#636efa",
           "#EF553B",
           "#00cc96",
           "#ab63fa",
           "#FFA15A",
           "#19d3f3",
           "#FF6692",
           "#B6E880",
           "#FF97FF",
           "#FECB52"
          ],
          "font": {
           "color": "#2a3f5f"
          },
          "geo": {
           "bgcolor": "white",
           "lakecolor": "white",
           "landcolor": "#E5ECF6",
           "showlakes": true,
           "showland": true,
           "subunitcolor": "white"
          },
          "hoverlabel": {
           "align": "left"
          },
          "hovermode": "closest",
          "mapbox": {
           "style": "light"
          },
          "paper_bgcolor": "white",
          "plot_bgcolor": "#E5ECF6",
          "polar": {
           "angularaxis": {
            "gridcolor": "white",
            "linecolor": "white",
            "ticks": ""
           },
           "bgcolor": "#E5ECF6",
           "radialaxis": {
            "gridcolor": "white",
            "linecolor": "white",
            "ticks": ""
           }
          },
          "scene": {
           "xaxis": {
            "backgroundcolor": "#E5ECF6",
            "gridcolor": "white",
            "gridwidth": 2,
            "linecolor": "white",
            "showbackground": true,
            "ticks": "",
            "zerolinecolor": "white"
           },
           "yaxis": {
            "backgroundcolor": "#E5ECF6",
            "gridcolor": "white",
            "gridwidth": 2,
            "linecolor": "white",
            "showbackground": true,
            "ticks": "",
            "zerolinecolor": "white"
           },
           "zaxis": {
            "backgroundcolor": "#E5ECF6",
            "gridcolor": "white",
            "gridwidth": 2,
            "linecolor": "white",
            "showbackground": true,
            "ticks": "",
            "zerolinecolor": "white"
           }
          },
          "shapedefaults": {
           "line": {
            "color": "#2a3f5f"
           }
          },
          "ternary": {
           "aaxis": {
            "gridcolor": "white",
            "linecolor": "white",
            "ticks": ""
           },
           "baxis": {
            "gridcolor": "white",
            "linecolor": "white",
            "ticks": ""
           },
           "bgcolor": "#E5ECF6",
           "caxis": {
            "gridcolor": "white",
            "linecolor": "white",
            "ticks": ""
           }
          },
          "title": {
           "x": 0.05
          },
          "xaxis": {
           "automargin": true,
           "gridcolor": "white",
           "linecolor": "white",
           "ticks": "",
           "title": {
            "standoff": 15
           },
           "zerolinecolor": "white",
           "zerolinewidth": 2
          },
          "yaxis": {
           "automargin": true,
           "gridcolor": "white",
           "linecolor": "white",
           "ticks": "",
           "title": {
            "standoff": 15
           },
           "zerolinecolor": "white",
           "zerolinewidth": 2
          }
         }
        }
       }
      }
     },
     "metadata": {},
     "output_type": "display_data"
    }
   ],
   "source": [
    "fig = px.scatter_3d(\n",
    "    df_plot_3d,\n",
    "    x= 'pc1',\n",
    "    y= 'pc2',\n",
    "    z= 'pc3',\n",
    "    color= 'label'\n",
    ")\n",
    "fig.update_traces(marker=dict(size=5))\n",
    "fig.update_layout(margin = dict(l=0, r=0, b=0, t=30))\n",
    "fig.show(remind='iframe')"
   ]
  },
  {
   "cell_type": "code",
   "execution_count": 100,
   "id": "4d21cf34",
   "metadata": {},
   "outputs": [],
   "source": [
    "pca = PCA(n_components=2)\n",
    "X_train_trf = pca.fit_transform(X_train_scaled)\n",
    "X_test_trf = pca.transform(X_test_scaled)"
   ]
  },
  {
   "cell_type": "code",
   "execution_count": 101,
   "id": "a6826684",
   "metadata": {},
   "outputs": [
    {
     "name": "stdout",
     "output_type": "stream",
     "text": [
      "(5170, 2) (1293, 2)\n"
     ]
    }
   ],
   "source": [
    "# Check the shape\n",
    "print(X_train_trf.shape, X_test_trf.shape)"
   ]
  },
  {
   "cell_type": "code",
   "execution_count": 103,
   "id": "18880777",
   "metadata": {},
   "outputs": [
    {
     "data": {
      "application/vnd.plotly.v1+json": {
       "config": {
        "plotlyServerURL": "https://plot.ly"
       },
       "data": [
        {
         "hovertemplate": "color=5<br>x=%{x}<br>y=%{y}<extra></extra>",
         "legendgroup": "5",
         "marker": {
          "color": "#636efa",
          "symbol": "circle"
         },
         "mode": "markers",
         "name": "5",
         "showlegend": true,
         "type": "scattergl",
         "x": {
          "bdata": "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",
          "dtype": "f8"
         },
         "xaxis": "x",
         "y": {
          "bdata": "X59cPJAF+D/wBb6Fc5fKv0+8NZrfju+/dp5wGECs+D+lEp2wcRWyv/DoyLzkh/I/eC2OEBZH6T+vb00SoqvxP/zBfSa9aP4/9URr2Yor1j9fItuECKz9PySl/TZ4GeE/WYERbBtg/D+0ap7EEMrAP4wnEhG1tfQ/8V/Vm6DH6L93+t5IyqLnP4RKsvWKOcI/AuCsnK3r3D+j8hn5esHxPy2pzfu/gvY/qt2ONxrW9D/1dQR2jfLIP1soQyDp7wVA1Eaq9x2g578PApJuLBzuP440D5F9feI/L4uUafz39D8SuJzaurnyvwzUmkltte8/pou8e7MI478zqTTXLUX7PzEpBF3l3P0/pHa5uwgPvT/wfvggkzreP1xkPlHUchxAYHDwr/kZ4z+0H1CRqPQCQBSUNAw7V8c/V+kay7Wg+z9Z5PaqKfb8PzmHViAOYQPAeGL7AVxrCEDPJjNF6NnhP7KBqCVz4rY/z7kDnQzH3j+9/XOlfpvXP+S9l3h7tPy/H/OKFodN8L9eCTm0nb+hvxrclbdfowNA9z+utRIX7r84AeCEbarXvwoxdp0G+vM/1dsKLbwK+7+K4+V/8y7jv2mHvkp+jgJAVXGapP88vz/KtzJzqVzwP5H/vcfVDRJAQ6x2gTwk37/nX8fj2l3xP2YDBYAsb+o/Dy4kCn/M1L8f0HktZ6bQP2EjpRYK0uo/IffAWjt22T9DbmVCcYDxv/1UGvmaFuQ/69zbuaYC7z9v9w9p1f2EP31si/NRWr4/eF8H2lF6CkCu/9DjDiYLQOZK+cvk1QFAnmBng/QL8j+AxcUgt7DdPzNzqZx8UvO/v/3KcTnT9D8OYhXFLpPmv7cj8pJjceY/OCtsldyB6z+jkaAIuJHbv6BOpXGOTts/StAAst295D+DK74A7Nb4P1hbbMXf38u/cvwB1SMvBsBLy+MwP75qPxTjwB2LkLI/dtg41j3g6T/DysUO0vv4P5fnjlCEfgFAja9t5sV5pz/t9HxdR078P4GPUD9oO+m/2wCtup4Z878b21SrsSH6PwstfKc/f+o/Ai6shevR+r/mov+JotbTvwvDaGPJ5fM/tIqGOkQjCUB7te5V7FnZP5ovet+NR8w/O8bjC6jkzL8i32Kuo6DVP+v77dZKaQZA85um06wS4D/OT8B1T6nTP2V0M1g7Cf0/u24fQuzd6j9jYhuG/Mnsv+dfx+PaXfE/mPvoO0f6AkAnEdKVDG/7P9rbe7uysOi/35bsHGwC4D+rJWYqAJXiP6IUttjHbvu/HRpih7tp6D+xPxJ1ewzwP2jzFXP3+Ow/JiRHiKFe5T/ZQplh3pnvP04GD47qvOs/Z5Br1yV3wj9p/lX9dU/Zv6g8StG9hvc/+SDvkDMN4r9VOvtmJIoJwG825c0C4v4/Rb+rf6Eg4T+kJNwWR5PwPzc7cBRdzcY/+MXCmclO6D/YpqYjrjviP+v7UDxb4gBA4T9rK6UYxr9ZeIW5cJXSPxxXZA/uWfY/IhLG5N0EBkA5Xb7H/JEDQMVtbmayEPW/y4pIuOic17/HfwtfQMblP2xfMKhWLghAmvpLqALb7L8wKBUSbaP8P2DhyR7UjPa/hT8BnjjO0z83It4ekz3hv/s74p3A7wBASA7z+4fDz79BmgKgn9HVPw9gfzylxPE/uVBQcUp28z8FhVXg3bXLv5B96wrMe/E/x7nzAlA19D/66W6cYgf5vzEvNMFOOeO/HiLH7qly2j/MlBZkXQ+yvw8q54mhc/m/JiRHiKFe5T8M+y/XIpvJvyb8Y3w4kvk/6zuP8cCawz/rZaR/C/bUP22jt8QorAZAPS8sgaDi0r/7XnaC0pv/P3OctdgFIPU/F/wj7JV94j/d7E3DS166P97b4FsF2QJAAmeANWk+AkDEiM612Bv+v86UN9wt+/a/MSkEXeXc/T/fg/9qyUsCQDnJ3RZWePI/AvQXIZZHAEBVCa7nj3TYv86tzLEoZAVAxF0SBZj2x78vrsXSED3Iv2hzyWkwI+s/J2QP9ZjPqD9pVNc2YtvVv6ndSudsgfU/Hsbacm/W6j9VXjEU79uiv5O5Rfw9aQPAcd7ZU1RSCkAlnpabGAXhvwncjfdpNaY/DFh8u1h0A0A6FnBFUIUKQIalNoS+6xBAKY2CKZuc57/Bb88PrLn0PxV2sIM3vwFAkGXRWt8s8r+1sUs+pzz4P4Q0L726s+4/IWfED4mA7b87UpUsIVPyv7RwgoqBL+s/n4T0zg5l4D8+70IC/8fqv5RVCqdKvvQ/lPzFDxQs5z9Ck2avEd3kP/HUqG020/E/pmAOhq1T4z+dyDoTF1LlP0nHej2Qb/A/M/wDUSQ+9T8cn2mbWQnwPzlR+DQCRcQ/m6vnJcNV9D/bejTmmHP8v3BwaLgdkcS/LXTPQUv94T8Uq0ZVxea0v3nUT5ifDvs/qecniKsW9D/3EEfjTxYDQPVd5w0ktfc/BPRNZKyv47/XCZ3ADPSivyE6aDEjEPU/ROpEsF+sB0DbRqgH1+3XP4QRkFadvb2/OV2+x/yRA0CnBKexsqv1v6YMZcshKrS/csCtC8Ngvb9aNr102Bryv57/uBv+9cQ/A9bz2jFk7L+AAegnpJnjP8L0RjmA++g/44ASetMZ3D/y45vp/NUDQL27XgGUzPE/6PgbYrjJAUDTBhuMQwfCvzkJDPT91Oq/FDpnS6Pa/z/WjiHISOH5Pw3ZZjOG9PY/c5y12AUg9T8h98BaO3bZP12V4DPhPee/HIl+fWVm8L/edaYtc//3P4fI7nuz7tU/zcErnztU2T/lnDrIzU4GQKH3cn+B2/I/JntvHMd85L8W0ws3F23TvzZ8Mj+Y6es/T7w1mt+O77/mfCg9JJLgv1tqHjxaL/W/Pj+gTdQ2tT+PIGAtCYgAQHFAMfV9Hf4/cXBj77kE9j8Ks6w7LQLvPxKs7gDBOrA/OG1F3BHS6D/M8foKrB8XQGxg2ivROe4/tG1x9B7tCkBpWTpFFx3PP+iLcv2rkQNAn6JoRmIW4b87rT7eFdwGQBI1p6BTVvw/wO73H1UUwb951E+Ynw77P+ZjC8Fo+e4//245l5pH/j8cuvMToGIAQJovet+NR8w/X1gl7ChPAECre37RkMfXP20IXyvRqva/vrO7EKwEAMCzoEjkqJ/dv1/KI/6vE/M//cWLtwZf9T+m0745xdvmP2+Z3HbpCt0/lBPXk5+h+T/+6Gv4D8Hhv1xnKFpj96W/fwGCsWmFxj/gw25CMzP2P8choawZf/K/EsTNtc7dA8Al7pDA2wPiv15Tks8P1Zc/PBr0l5jG5j8n1XOm8qQCQMtxqJa5ode/SJMhroTr2r+cBHnglpn7Pw583k35uOK/XKB8QYRLq7+j8hn5esHxPwqMyU27Y+q/jRkecAro2z8sypd0eqHyP4IKhlgS7eG/v/3KcTnT9D+i4lW+kpXyP2jE+sP2x8o/Ph4G2HLP4T+cZJzFtqbtvzEpBF3l3P0/KHhZuZJN+T8FhVXg3bXLv1V8+xNctMY//AQf5VSl5D9nNj84Flyyv3hfB9pRegpAEa2aDaB36b+L77i8isTnv5PV0+ktyfW/FDpnS6Pa/z9QUJdKav3sP0RwJckNsNo/zu3YTury1L+0rKyVMmfpv/50oXhduu2/fS7Mu8WI3j+l5l4n9ScGQGGfif3AAdq/CVfLBW821T8GV7VpI3HQP87W7jx8Jvy/8MFnxWij0T/EZFkOl+v7PzuxXqGTNP8/7fR8XUdO/D/XcaeBXGMDQH3QI5jjlAFA4WmF0BwR+j8SUC4u4fnEv+IkTvwZhPw/pRKdsHEVsr8pnPnjx8u8P8h27GRVwvC/SNclpHrd0j8Qm+EJh5MAQDSObFmB+/Q/b46ctjFV8T+5zzcwt5zpvxX07L29FP4/m5p8YKRCt787IcQnwyQCQKmZ+CWg4wJArsS2NnNPB0CqL7xM+QkDQFuNl2svZfK/7q7QR8z7BMDfLhyZtn0EwFxPU6MSp/Q/OlLSLPpX/T+9NvDjDXP2P0aU8bQUzJi/6TBnQ67AAUCZeVP21o7Mv0eUJrKr3QJAAJqXLJatzb/mrDxWTwL4Py53S12Vr+k/7F0uyr5huj8z0d6BAYXaP4yk81uWA/Y/uEKFUdm28b8ed4L22Qryv4M4XJDpVPK/06q9mBVV4r/XhQuKjTHoP1ddIcMHAPY/+8At+29a8j83IZxabVTYv3iIJCU6XwJARvbn6bgi9b93+t5IyqLnPzs8SKnbfAJAE2FuNt4j+D/CwzeazaoCQPyledylfPe/e6srVSRZ+D8DL2JhmKXDv7j1xlpuZ80/oTwY5r7y6r/Wl6BFREPHP4eSAJexMeM/nFqOCQFT6z+PHwgHJ7P/Pw57Zc42ieg/9wBuRhO6zD/SuAzj5tZyP00SBdYyneo/Iaoahx3h/L9wsdQquN3cv5L79ViPKqA/MGH4f0Za/j+TsjaiFwThv/jFwpnJTug/AjgYJMpX5T9iL3I5TE/0v875Mp0hVf4/Y1/br99U8T+5Q+cIO1XHv1IxGrzftwVAPZeuolYECMCNzd7SmOXxPxHl6mE3/Pw/pJ8PR74uAkBDiDgEg47iP7cE3iyIKrK/Evt2zZ2z7L8mg1OF68XsP2MkmWPJ/OY/Kf8pABxauD8iWKQQE3Rzvxb+qAxjatc/P1zWoi7K8D/X2qjTFEzhP2WoaW719/Q/HHWa5eGp5z/CwzeazaoCQIvQ8gfdYxNAsGwVQEkL/T9WJQJp9m7AP7rhyO7rugdAbVGbvPEm07/zughLc8H+P77XGNAK8Ly/dBipB2C97z8vWm0BgnsSQBiEoJZfvwZAJ4yjHXSE779sYNor0TnuPy0dxHqlSfC/Bpw0M3o23j/SyiyeRBvZP2CQPIu+Vb4/FTbwUwh17T/y83lTWoTQPxX07L29FP4/KGxPqWZx5D/yI/CJQJX3PzByN9FtGco/+zvincDvAEAUrGDJCjfvP9rozKqPzeA/1ReOZ+Jlqz/KPpCyx/Lxvy9abQGCexJAZiCDq8w2yD8cLjxnWKz5PxRXwJzK2+Y/fZYYiXpwAkBtvQkrZKzvP/jw2qp7B+e/Hgkne1q16z+CStcq+q4FQKvLNUCBre2/PywhVq9Qxr+WO/83uHbwP/HMzdUHHgJAq2yFd2Pq0D8y6Tm4+Ga8P+aUNyCHNPG/LCw1JT6N5L8NyZVeo4THv1+NpJUpYwJAxTxzWASe97+bZpOu2Y7yPxjcfbQGV+E/XplqyEGuBECp9Cp3EIEGQG711U8BEe0/1QZ/6vKZ0b+iCFJVjyjzv2IozriN6/K/36duybBu0r+KtNtsxAr5P7cE3iyIKrK/Zy2pksAk9T+TiYwTUcjkv/ObptOsEuA/acl6pVfg8D+pODSdmovsPzchnFptVNi/wDorQPws6L8MGSfVAeHav7PfQNJbvOA/ViUCafZuwD9NLWvZ3O7WvwYFsR0r2sW/ig8+5MPL1z85uL+GCojiP/e0xa5yAdI/CjbB5Jz36j8Wz/vo+SvNv4g+nwq9pfM/3YoUuxYXBECvl9c5JlF4v5SOzcUNbuC/C0Tf2Kkd7T+4f4YxFvj1P5EGs814I/g/XV56OMZikj+GYGopudD3v40DCUX4H/s/HZgseFE3+z+TMow6DsLiPwHZepHFK/W/Vy+EIU/I9L86zSofDpv4P0Aa27GvWv0/sjjEITpd2T9YeifJqkPhP6bW6dZOt+e/G/6XpNcWyb9soTSX2sn1P+AG4e4SKss/WmZTFiVy6L/1aOawx87Pv86tzLEoZAVAg5x4e30Wvb/PCDw5wbHbv2Iu5lntwKU/ZpclXeK3BEDOfAf9QjfyP//mlcKzhQDA0ISX73iv6L8H7ThB8J/fP3FmQM2Iici/Dyuru0FX8D9dnoglGb39PydNNPGb47o/4SXEKf99979McBQBzIL8P1kh8mQVSPC/KMBVtr1for9ZPnygBbwAQETKgJL9JdO/Fs/76Pkrzb/zWRluQsXvP7ycb8GlCOe/bWyHWb+P979HsAoWuQnxP+DDbkIzM/Y/HGesgaag6z9fQkqWyVnmP//Pqu9C7/4/2gixsomc6b8FzOmYgZPXP5AD4DBd2dw/DN+VN3YC/T+IWDot0fPov+sqduwb4fQ/xl0b0kHn+D9snnlzy3XZv4MQRcvkQ/g/u2XhtGA49T/x1KhtNtPxP6ywUR0ENANAcMx7OuaOBkDiJE78GYT8P9ejakENbue/g+VbXBu/8b8h98BaO3bZP5uKx0tvqv8/zJENyYQg0z83rocvnX4FQMnNf+ztjtE/Hsbacm/W6j/+MB5UWW7vP0oTgv9Mr9o/TsKAe+Hm5j/qoP3lNKriPyOY+vce4/e/ZP93DCAj5z/3qyMXAn7Tv5x9B2zpCO8/L6u3WO8Rw79StzsYAAflP9YClFS0Mu4/tBDzchqDxz/qTXlJGR32P1TXWaaSUPA/Oty8YUutCEBSOpa9nnLgv26+SFUMfOo/bGxrtBzA7j9D7d5c9l7rv7dOKWAwsf8/tb2hwUBe6T+X7kjx+FzzP0xhjE1trdk//aet1km41D9CoUGMFrfyP5kYa+aMjgXATHECEZ23FkA67KjMZ6H2P2HN7mTWMQBAStmaQ9U+3D9H9t2qvOPiP5F18L61VwBAWmZTFiVy6L88ETM46HavP9TxwQxGRu6/ReT9xBNTAUCRQiDSH+bnP1ufRaDml+a/j9DeOwEX878rLI7bkVDPP2Ej3Nhffd2/vBBw9nm3+D9d8DsCrzzVv5DU94i7Bvg/zYTukf/P1L8HrEHGMSj4P1o0zvoauOc/dNPk24Bp8T/NYrWnwowDQA3c6q8sOPo/0Grk63dS5L8xKQRd5dz9P440D5F9feI/DMqqfMNV8D/4sWUYVfzhP3KxwytW8v4/b0re+EB18j9j5t22Y+/cPxEYduFqHfW/Xju25jHX9T99843j2qG+P6BjTF/qS+U/nQJ62Uxp9T/Jx0y3wkv/P5pQ9FJgEQFApU0TnSJhAsBzhq5gItzkP9+nbsmwbtK/am/W0+7azL/0q1r10wr8PxrclbdfowNAkBHugK3/67/REVoyfSXqPw+m3H56F/U/WR8hg2SX8j9r/WARUeiqv/B++CCTOt4/YSPc2F993b82pbDQVqfoP19rdRnpMb+/CSEdC4WmA0B+0AIbVv3wv9xV05vrrsO/hocoQGZY/T8rli9D7oXgPwTXda7geOg/0jPjA1pSBkBMJ1pMvWEAQMRWBLdKSL2/mxJ/Cn7/D0DSu0mX+uSxP3FmQM2Iici/yqeWbERoBkBKpDmSCaLvP9cRwJTdMNo/jUnyxnoo9D/g9x8HM/IAQM3MaFv1AOw/0KXVJ+W08D8vq7dY7xHDv/wKenDWme+/tjWdmHkK1z/wPiKT39fkP6u/cWTNZPs/gzFQflSxoj+GhtROi/kLQE9kmR+8a/A/5CZyvxoN6b+wUs7V//XoP/eCf+UOAAlA7Lqy+t7V8r/cXM6JANP0PyyCMXeO5PE/1b0lDjGrA0BV3E56LF/0P+fIHCg/+vK/ghxaK3pi9z8BtVQJGmXBP1nOHtubodI/Sw4fvOmq6j+Ib9zs38ryPyQlzecjRPY/2kxR3IiS078AM/xPxlb+vw2LhYQvAe0/QxETIvUg4j8HRmc3CEyyv5H9yk2Zedu/yYtAsskw0z/ydB9qtzKpPxdhxo9Zfve/kdlZ1FYN5L/QD0Mx2y7xPwBGJVSM0Oc/UI8sJc6B+j+OTpB4gmj+P/ftUpGyytG/vTbw4w1z9j+Hfn/Popjqvy6YMIiHMOg/zj51t+3R9b/nPx1RRWvkP+VaiLmYF78/SOcz4lO08b8BTgc1R33+v9Vp/A3fRqA/uwDSEQ+LDUCgk9H0Mv3wP0V8t7j0zfs//l0+ktEco7+dexJt+2f3PwvDaGPJ5fM/LJx9JTCg7b8gRBuv1JHqPzeuhy+dfgVAl+5I8fhc8z/zrdVRUj78v5YQAUHitPG/PCq2bjLb8z+gY0xf6kvlPwGOy3LaRPw/yhv5BOsj6T+NTQjA3EjcP4MQRcvkQ/g/m6vnJcNV9D8kKTgoRYzsv69kYeCqzec/Uf8e30q9sL+mePPPFdrmP7QfUJGo9AJARYTFS+Be9L8x0XsEcmfSv6PMCxMV8b+/o4E0OiTV7D+fomhGYhbhv4/zQ4qDF+s/HRpih7tp6D/a3eeq44HpP//H2NpxJvK/oMlP2ZZ88L/MXOUEweEAwIPeP93Vp+U/Z9rk6ML/3T955QiIHxkBwFziwE4bU/Q/yZMN3yxi67922DjWPeDpP2eXAhCoi7o/Z29s6Ywc6D9Ck2avEd3kPy6YMIiHMOg/6Ity/auRA0Cy0AcNzVEAwDWmunoPusy/O7FeoZM0/z/D6/UkD03YP9uSmXvmMPQ/9it9CtejAkCC2xM0T9rnv4PjMUKzYAxAn5J2QhGG57+xpBwk1R7jP5WBqI5abdW/vnu/A9me/T9sxWApXXfmP7W9ocFAXuk/4EFjZ8qt+z9V9Nu53Gbev9GAGoL55Ki/NiVaEyMG87/uJWzrCD/fP9W9JQ4xqwNAp3ur1Cem8T+YprBG4NG1v2cg7CVNkum/1Dv83xLP6j/TBhuMQwfCv9rozKqPzeA/DboJEkyA8L/JV24vURL3v1ygfEGES6u/SCXUuunE/D+LH4NcuXXbPxiEoJZfvwZAMEBQPXzT8L91JnftqlcDQLm3ejTvCADACy18pz9/6j/hVV3JoyDoPyOY+vce4/e/1o4hyEjh+T/KbWr4TQ7+Pzeuhy+dfgVAC5ceqhOgAkDM9pCsgp7Yv8eduwMiq8Y/wqpeCgxx/b/Vk4NQCX3rP4cBvm9yM+S/9REq9zWp2z/hBuw7B3b0P4Iwkjl9Pd0/e/YUrtVhBEDxzM3VBx4CQA7a3TTH4gNAEWcpuU1kAEBAjuRYd2e2v4vvuLyKxOe/VmUdDRcp+L8aUAM4Jnnjv/3Fi7cGX/U/oeY7z0Nk979fUIBZwagPQMPTLimf3f8/TgYPjuq86z/6kBGL7Rn2Pzyyu3hToeC/MWOZpRTl5z+5f8BYWZX2P3CV07BtPNs/WlM9j5AxA0B7m+4TlYz5v/kg75AzDeK/8B+YLrbM/z9jlcNRJ77tv1HKFN4BwfA/uQWyGiWV5T+apbhyfZ/3P5SxHXUmod8/zdx/7CG07j+hHWS9zXUAQKbNa20zofI/6AWPc1sb4T+ZOhzq6aQHQIg/sPCeK9g/eVVqd0AV2j+mVcPyRNG4P+iLcv2rkQNAo8DnXjQI+b//mIGfvHXZP1VeMRTv26K/t6nU4XRb+j8Mt6FNiRT9v9uCPIjWAATAhFFg+abm9D95KmHFFZHxPyu+1lQHlOY/81qUQkYM9D/I7RxVwpIFQKDSmIIicNO/l+eOUIR+AUDr56Xjuhj8P9AOGNsODM6/2YeoOTKo2D8OW1MpO0DhP2u7POQnp8E/GM78R9PQF0BCUU9zl/Hev2n+Vf11T9m/6RQLfFdysj/NEpu2mfn5P7jBtWNi0vY/YJA8i75Vvj8y/hdZA0P1P6wuPbA0YAdAI+OZZU3K279TiLZwr/etP9WZCyiNFca/1P1FNbjxA0CpYauBrZ2Vv8TDYkyULaK/xkvwFs8c+b8KNsHknPfqP2uPlsDE0eY/8AstRTiMAkAcHsBQv3KJv3Vo6IvqJuA/QltWj4sV4z+Xfl5SjBTmP+N0BE6gnvS/OJDCPrFO6D9yMzRybT3kPw9hir4b+9s/oNytxQfv5z+mCbT/9Enqv6HWq+btVvg/ZMmP3I7JB0B6AI20XsDuP+9KD4Aj1QxA8RgyhEqLsT+PnOt5TBTav+btSctJj+Y/hEqy9Yo5wj/WT96Xj/vzPxy68xOgYgBA9QKrsp8D1r91CSzHI5kAQLUw+lfHr/G/pwcIMSqHAcACc3+j26jMv44xdT47F+M/gXC8SKEMAUAhqhqHHeH8v7gGlabqI/U/ahAGHkXm5z93Byh3tSv3vwqECUXWx7W/k9MsMRpY6T9icbmb3Av3PzpF+UA5XsQ/ez0T6uAk6z+bmvBy7QG0v/i2glzYc+K/aMmFDa/s0r+YprBG4NG1v8Bj7RATj/o/e21SdEifzL+kZmUMu6P5Pwd0F9CfGfG/ELsDHSYH7b+y1QpgoKHdvyiMw7516OI/2zf//nNm6z8f84oWh03wv64SEje3HdO/+jy3Bz0U8z/Liki46JzXv2WlN+gVwsa/ZP93DCAj5z8l7jXoyr3ev01TY6ScB/w/JqIpKH4j5z+HO4G3gOjjP1BQl0pq/ew/nLHN59CsBECxCfATfL/1P6u/7Q5xEre/X1x+BKpW87814qrGAjDzPwG1VAkaZcE/tBjel8tE/z+GVxyF/3ENQOAwQn24aue/s+wrYWWf2r95KmHFFZHxPwIG/QTBZe6/rMXLFDGswj/1MF7DG0v0vzcrmvrl6gZAtiJ3f7yp87+mEYOfjGnhP8HZq6PiiP8/ScTgSvXuAUCRNKMBrT7rv/SDdkhhdNw/XCW2NpBH/T+pkFzUgzTrP2tXpZ8JSuc/5+EHtbDl5j+wbBVASQv9P66SWP0zYPe/KMBVtr1for+NfBtqnMH+P3loTDjvSOc/mdQsCY8p4r+MQadmQlUCQGf96ASB39Q/gXC8SKEMAUBstSkNsYv3PxdZ9ynbr8a//LRJ5vzv9j//LNsoKGsAQLsvxhuN7eQ/al5/HNqq6b/M9pCsgp7Yv3ZS0CI4wBVAX42klSljAkBgkcPvhivhP7Pd54n4vO8/NBvPGpFOBsA2rHO4pl35v5bNXgovUeU/bmCON7Sv6L8nLXGrFSDLPxI1p6BTVvw/ZWcAseP04j+WfXRJ6EO3PxMtqvETN9U/lTmaWCTj8D8k2eg2AZ3WP9CX89vlpfM/T5r+o0X/wb9LFr+4EeLbv5Rd+1ISluk/gKTpbwbbD0DdihS7FhcEQB6AfFJ06O4/rS+8TF2K8r89Td071OP9v+ArxythHaC/RXjnS5wHBcAXTYYpWeoVQL4Y0RNEdQFA8OjIvOSH8j/CvnttDGh+v/J0H2q3Mqk/D2XhsY+n9T95sKg8Bo7bP++7BzvBiP6/1PHBDEZG7r8R4Jf1fn3vPzYlWhMjBvO/ixkQOTy5AsBFdEKGyrvUv10xgf1TuQFAxZCPdUEV9z+ST9+KWLDfPxsdEAetido/wijtPHHHvz+Wo+FQQ2fyv86dzopKVuY/TLQqvZ/i9D/pMGdDrsABQLycb8GlCOe/LeoCFUgR0j+qqbFGZir4Pzttq/tYJ/y/ggmry5AIA0CPHwgHJ7P/P8EENJqeQwNArLmGKTbBCEDu31qVciTcPxua8R8ThQVA5yvKc9Bo+j+2imuuIhP/v6K5R78m8+4/6yI33izo57/qoP3lNKriPx7AsICFCsu/AdHE0pyd5D8/XNaiLsrwP95LM5fwxw5ARvAirdKICECLgMxSxFPbv0MREyL1IOI/FDLXxSUy1D+QA+AwXdncP3h8o99KbAFA063UGUbJ1j8O0hsIG+bpP/bVcTURVcg/4vKDxLxl/79d8DsCrzzVv2KZVoZf7Me/Ol43c+e0zD/+R2BK+x/YP9zHEzh3k/y/tUm0+Q/7ez9+di/x/nrSv5ZguHwgocE/8utKWNXZ8b9oK+5ZOnPev8LbzMxBEsC/0s4Aiqv4+D9gTiOBOgjyv7vilcLYYfY/O8K9RumlwD9SdC0ZDMvePyjAVba9X6K/j+nEfVH94r/vAS2o8vfpP5as7zayitw/j3OAdhDV+j9Q+25iMZv7v9WTg1AJfes/glVNmsdYAkDbVYGpcjDIv2KSN7L42/o/vbteAZTM8T+RxjoYTm7jP5KLQQGgIP4/Nyua+uXqBkCL9f1ogrSuP8XHg5y5xes/9dYlHUNS+D/ywm2Z5Ezqv5CABRKyhgFA8IybxC3iDkDNhO6R/8/Uv/pmwZHDK+Q/S4LS0BwV0L9flhnmvt30P9xV05vrrsO/sO+6YsipAUBrAP104Q3rP2X4E3kivARAS5qGFQtyuL+i9aYlqabgv1rTP4qnENc/xuUez6TO1j9l+BN5IrwEQHvRmxKTbAhAkyC6wVIQ0r99D9O42xXRv8DdG4hWwcg/6ZdmR4RG1j8MGSfVAeHav93HEw4kxQPAzrNeNgOA/r8sgc4ohaf3Pzjopiz4Feg/vLcIblJ0EMC80o96E8/Rv2aXxtbAQ+K/YlTht+yQ/T+3/E1Q4aHiPzshxCfDJAJASxa/uBHi27/XldgQHCT/v08iJOlJzfA/TVibRyYM8j8z/ANRJD71Pxpz65mByeY/PCAlBRQa2z/6jfuO2L0EQNEqQOuRpARATyIk6UnN8D9dYf0C+jsGQCw/NP6I2Pi/5kyJXClp2D87x9SMbYO+P35giQJgMfw/5kr5y+TVAUAE9E1krK/jv9D1Vdn7LQRAxLGLjVZP5D+hX8uuQ+HLP6PMnNxhSv4/qZn4JaDjAkBfFQi+7j3QPw5bmX3gfpu/Zix45lmWEkDhRW7C5Az1v+R7uQLRytM/UFCXSmr97D/pJdkrJtT1P76pboZK48m/IwVYgQPn8r+jgEsEenHkPwWCSBpaOvE/fdg0rkcc3z/R4vcKQS0BQEl/xPk7xfa/9zSIuQj+9b/apFjpQ3oFQBNhbjbeI/g/apmaOIeYxj/QnrxYgCfyPxVREaRsVsc/4hmXrmcNAECTuUX8PWkDwAxJ3qQNGKK/sHDLJiBA0z/D0y4pn93/Py9SCcXTUvY/r20+BaAOCkBN6GTCOGTzv4/pxH1R/eK/g+HwJ+vMAMA2fDI/mOnrP7O8Jl7KIfW/Uoc2r29S8j+vStDNMU3Sv3u9iqenYse/+QLXxrbW7L8Qm+EJh5MAQLo589NbLeO/gHqeBsT4wr+gV2lKYUrHv4qLu6+dkfA/P3eYOeh28b+ydeiAlFH6v1fNQxLnYfo/DYuFhC8B7T9oxyPSGjbqvxEYduFqHfW//6zeDUfi2D8ZjxzFWXbEv3lD877ZCPw/IYALyIMd9D/MSJ2eBJj5Pzo4JyEh7dI/QfJwt/tB8b8qAIcaMovav9aOIchI4fk/qi+8TPkJA0DJJjH4/ifVv2JqKz0Ge/g/k4mME1HI5L82pbDQVqfoP3oFMRnJQNI/9vNzJMSq1D8WDfgau3sCwH3QI5jjlAFAQszuL95097/rYEJo1tzwP5c2aFzDDvG/yVduL1ES979KpDmSCaLvP8I2sd2E3da/pATcqHn8AEBRj2npVMr1v1wltjaQR/0/BSL38iATA8B8ry3TUFHsPwQz2bq0wPi/7fR8XUdO/D9THNJbdsEDQI9AyzDOa/g/0uZr2HnBAEDiY7uN0UHdP8yEM5Rwa/G/jzkPxsuc6z8UpgXek/OwP5g+wH9vwO+/GC90SlEI+b+AWeDuRcrHP4JamkHupvi/nesN2nKquT9NYa6IpP/JP7nYPS9mO/C/swFoJ92l9T/SyiyeRBvZP2M0rfu0CvC/43jn/NFe7r8CZZ1h5jH7v10xgf1TuQFAsXHsYcLg5z+kAH+hYq7Dv2koD0QtCQBAJI0bX3KT/b93tpyqwiHNP0z4yPCJZQJAO+iIBzFY1T+Q1PeIuwb4P5u7qYSNkNm/oMPUCYH18z+i0SeQ3lPyP0PT1wCL/M+/k+TKx9pt4b+6rLaMVy/yv1vW9w+46fs/hvfJ90um0T8Ira0Nf/oCQND5hPCtHPo/F/egjfjiAkCCw5TXlcX7P4uAzFLEU9u/zu3YTury1L8nTTTxm+O6P5l0jPRmDfQ/3McTOHeT/L8owFW2vV+ivz1gxcFaKPI/b0re+EB18j95KmHFFZHxP5Vrjtcw7ta/o03wPHIRpj/MkQ3JhCDTP/O6CEtzwf4/RqjxOE/xCcDr+1A8W+IAQJFzXMrLSes/0VuE7LED7j/SnuejMXz7PwtBXJMO1QZA2zkp0VAR3D82ccSJCxEEwOWt7win2PG/NXIwbwwo3782fDI/mOnrPwL0FyGWRwBAX/SQSIu53j9TiLZwr/etP2tX8f93LZu/ry+e0zjN6r8LVNndy8DlP2n45XnH/sK/R8P/0TIL7r/HSK1pfH3oPwBfEUm9muu/kH3rCsx78T88SknXnnH0v3Wbcqwdur2/cENdWROL7z+13yVVavP8PzuXLNxV5gTAJyjiDiYw9j8C8FBmEtkAQAp6XImLc5I/y6aBDaWY+z+pN2UIyzvCv0oVnlaf6Oq/e5vuE5WM+b8+j67ztdUEQG2uSu/1KOo/ls2iG/wO+D/gBuHuEirLP8q/XUpQvOQ/+P8M05By+z/PwqgUbRDaPxCb4QmHkwBAV5rGOwhu8T+p3UrnbIH1P92Qw5LusO+/4zO46r2m7T/8hHUuNfPav8I2sd2E3da/pnjzzxXa5j/SnuejMXz7P3UkC0PzrO+/ZpzfDBhJvj83It4ekz3hvxLEzbXO3QPAYYgu8N1G/j/zNDR+5Undv/J0Z81mrvQ/NmV9X7rW57+gTqVxjk7bP6n0KncQgQZAQTGGYb8d2z94w6XxvQn1v1Gc9wlmCt0/8UgYWVz8/j+WzV4KL1HlP896apF/9+Y/401mvfJL9L+vm/Wy4okOQHJxFEZTV/G/Qp3sLow76D8D1vPaMWTsv4enr5qRieW/5qL/iaLW07/8x0IBtQrgP1xNtbe2bOg/qgZA6xx/0T+PdDqC6c/+P+PmtTtdfPk/T5f1PCMC/j8VdrCDN78BQHUJLMcjmQBA6Ity/auRA0A3weWRBk/XP46qvz9kJ/0/H9P+7QmAwb+rO0KmBRwFwKsX4HE13/g//tT3qUPG9j/WjiHISOH5PzCBprL9feG/nOdBvp5P7z/KMKOBpYznP9s5KdFQEdw/AuCsnK3r3D9wptu3AHnmP8PuwejP/u+/VdxOeixf9D/2t0MlCpvzvwPshGSBVPM/koHw/Pc89j8Rfby7zvO2P0Tzptr+jvQ/5Ohv8EBU5b9lubQG2lR/P448/w8APfS/hwG+b3Iz5L/gBuHuEirLP4cFRN1jkPq/cBjmofRX8z/VBn/q8pnRv4yk81uWA/Y/1Hcpd1Jo5D8h98BaO3bZP9OqvZgVVeK/PrHNXX3s0z+dexJt+2f3P4TyXh3Ujt4/CVfLBW821T+QXQF93QDdP6PjwjvnxghA8YLKDdrx4T8Z3zKTuFsFwKZnhEgWhQxA7Lqy+t7V8r/akgvHncXzP6zFyxQxrMI/560k9NZUBEB4FKtTCvLBv3h8o99KbAFA4T1nd8TOlL/Hh6f9WbUQQJ7ZvCWui/k/jIIX7OC20r+K4vEo9kXjP69Di7/ccAxADRm/1pSk3b/UO/zfEs/qPzTWDwqxI/C/qJQbM+/X0T99fdCq4+r1PyWqCZ9CAOC/orQAKjNV2T8iQNtD2q4AQIfFnT1/zghAA+yEZIFU8z9+ju2Jb8v6P+pP5AZ2oMM/H9B5LWem0D/AY+0QE4/6P0Q/9/pHTfY/r29NEqKr8T9VcMbfeO2rv075Af7syfa/fQ/TuNsV0b9FwJbk9fzev07FNeMazQHAh8DZWXhQBEC1NJeSYcKoP8Xg/5sCDvM/scS9+HFuxL8yzHhMqELgP36gPRPLcv4/zWK1p8KMA0BhI6UWCtLqP2zFYCldd+Y/jx8IByez/z/0dlIH10HgP3IQAMWOAARADcmVXqOEx79SRb/b3J3wP0zlmHDhwua/rGnZZ3/K4z84nPRKa3/xP5vBpeT2hfU/4VxqkYHjCEDCO0La8T4PQJ3IOhMXUuU/ou+6t5xk+r867KjMZ6H2P+pNeUkZHfY/oe6jD1uVAUBhszoZzHLZP5YdB0hGBda/oHI5rxUuFkCwuSDNx6QAQLyYmJUnsQBAMIXCNwCG2z/caP0BSdT5Py1QcAIVJ/m/zPz2/wXl4T/JzILOQuXUv1M2WUg8Vse/IWfED4mA7b+FZAEt7vz6Pza9o903aQJAYDRmJoMeAEBXfmwuZjsLQDLXlGppa/g/tjwJ/qf5/b+/PicF8qXmvzaj6QNHb8i/raKB2KojgT801g8KsSPwv0JXNe+O3dk/g94/3dWn5T+IbhXChV3kv8jZAym3ELI/1U0Az47k5L+uklj9M2D3v757vwPZnv0/2zkp0VAR3D9rxFHTBE/uP8M9gZs0Dv+//3jo7dBb2D99bIvzUVq+P56LhWrBTv0/LyrkvkMx2r9LS1SvE03gP1A6j4J03cQ/2uC3BDxy2z+gAsAe7ScIQCWQ+IUPFts/mv7i0inr/D8qj65klIIBQBX01XFSN/c/bzblzQLi/j+ssFEdBDQDQP6WeTSvj9Y/mxPeH18P9D9AGtuxr1r9P62LwPf/UvM/YtBZADgm8D8UV8CcytvmP47wV2bHL/I/Gplw+KFByz8v9EBifuvjv0qEFVX2//K/h6ciDpxN7z8z+vX/9G7gvwgo+xV2EgZAPo90glrl6L9Qazflp8+0P3oFMRnJQNI/xceDnLnF6z9SNWtn3snuv61pKpZ2O+w/SXk69mZq7b/YNrnV/zvmv0KA/Y3t7fc/fqA9E8ty/j/qlW/6reXxv52GrXheof0/t3hIBKT2DECCwxGFIoXhPwqzrDstAu8/GmSTW8dnuT/+lnk0r4/WPyJmPfUee+S/nxZSYRnB+b8w1TpAH47EP3LXhFhvo+K/vD7n1o20E0AGtIblaY3tP/DTzEjNJwFA4GV9FX0l7z8KelyJi3OSP6cKmcpL0eW/F6DVsEpY9T8yrCMG7hP+Pw4RY1nyKtk/YJJDDYKS2T9oyYUNr+zSv3icKdBB29Y/sGRnTyfl5b8cZ6yBpqDrP1/bGKDuqQdAE6sCf+4J5j8+ID+2Cr/Rv1K5WPhMS/A/RwMO7ykKpD/SuAzj5tZyPyVBUhZ3t+w/ucnkREk5qT+CdKJamt30P6cSr6bo5fs/vtcY0ArwvL8Vm7xye73CvwSbadColPm/N0+6J6U63j+DUkOVzBkYQBcLcCsK2fQ/ilt2B4LK1j/5bTmWRr7YP7ZZ3umlU+8/gEA1SlsGCEBzhq5gItzkPwjA3vYnYfi//p+A5kVdEEDbk1d+/gzRvwI4GCTKV+U/Q9PXAIv8z7/NdIVhwPP1P9C8P/CW0qA/fZYYiXpwAkCsadlnf8rjP8P+c3smPAFAt/yJXW5X+z9L1G0HEFgAQBkA4MQ3rv4/mqKD6yHA9z/9NgawCdjyP3yvLdNQUew/wcV5hNtI9D9ldDNYOwn9P56HDVMqewVAFFN5pO5+wb+GGbb6CI3JP29iyENqvOI//6JKYlyaBkAz/ANRJD71P8Ny5oP/08Q/PPF8ngevDUCh1qvm7Vb4P2Iu5lntwKU/WvLkkvhD9z8xq75mJnDkv0NZQqEGOwFA/mIkWdWJ3z/MSJ2eBJj5PzyG1+ECm+Y/N5EnzzUYAsAAXAdB+nHbP8UyMiSs9/m/yqeWbERoBkDaX05+2RvsP896apF/9+Y/Gn4Zu15wxb+TGs+OQxjSP+BetfxboAZApggOyT+27T86Q2xMko2Gv4D1AypvQABA6i61PHh58D9Z2fADBJzzP+/aER9J++s/oHI5rxUuFkCp15B+cLz+P0oDwtUC5tc/9kOJnD3z4T8CDRtMGbrZP73J3xoeReK/VXz7E1y0xj/OT1wktAkHQL56zHHSMHs/w9MuKZ/d/z9/ZVMHJKMGQADlOOANDuu//12GkSYJ7r8FF0zn4iTAPx9n37kl+O0/tHyzczps97+c90fk+LMAwJWBqI5abdW/PjMnZ82QEkB9tInBkKDsv313zvsnFue/jzkPxsuc6z9fUIBZwagPQETzptr+jvQ/anSppJMm5L9ejb+mox7XvxhZ335mVu0/e84Q8VYKAECm1unWTrfnv/AfmC62zP8/Zst/8clZ8T8KMXadBvrzP92WLVqqSvS/4u12UPAJ178zqTTXLUX7PzRGStoXV/8/tjWdmHkK1z9t77A3V7Pmv0x10DeZPPs/5vIa4kSMEEDsjsA1Avr5P+wABWAEarU/R8lEltjq8D8YOMWJEcL2P5GEqu8BTOw/GVe6da/e47//oi/qGIrxP/ltOZZGvtg/k4mME1HI5L+s1QuvOwoBQEiQJiKYIAVA",
          "dtype": "f8"
         },
         "yaxis": "y"
        },
        {
         "hovertemplate": "color=6<br>x=%{x}<br>y=%{y}<extra></extra>",
         "legendgroup": "6",
         "marker": {
          "color": "#EF553B",
          "symbol": "circle"
         },
         "mode": "markers",
         "name": "6",
         "showlegend": true,
         "type": "scattergl",
         "x": {
          "bdata": "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",
          "dtype": "f8"
         },
         "xaxis": "x",
         "y": {
          "bdata": "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",
          "dtype": "f8"
         },
         "yaxis": "y"
        },
        {
         "hovertemplate": "color=7<br>x=%{x}<br>y=%{y}<extra></extra>",
         "legendgroup": "7",
         "marker": {
          "color": "#00cc96",
          "symbol": "circle"
         },
         "mode": "markers",
         "name": "7",
         "showlegend": true,
         "type": "scattergl",
         "x": {
          "bdata": "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",
          "dtype": "f8"
         },
         "xaxis": "x",
         "y": {
          "bdata": "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",
          "dtype": "f8"
         },
         "yaxis": "y"
        },
        {
         "hovertemplate": "color=8<br>x=%{x}<br>y=%{y}<extra></extra>",
         "legendgroup": "8",
         "marker": {
          "color": "#ab63fa",
          "symbol": "circle"
         },
         "mode": "markers",
         "name": "8",
         "showlegend": true,
         "type": "scattergl",
         "x": {
          "bdata": "ysjqOxNC5b9UAtRpSPaUv+RDQs29CeE/fcq50pCW8z/xdfCijeCwv6CY7wms5Ne/6YIL+2BmAkAzUZ4TnoPkPwXIM49OyQBAm6q3b6fY9j/ouHNoNeX3P55+Xf5csvI/VlizJFxu8j/pggv7YGYCQBniv4oYVNK/ZO5W5+hR6D8wYvWbwv/cP74VB6G3/qy/Ejp/xkWF+T9M37jxUpjuv4iJDGFPUpK/lxVpexyuAMCxbjiAjqLwP6h0Oeba9dY/E40AIVtVrb+zTWgGDXDTP8QpRU10r8O/gAZVWt8e7j8JoLrOb8e/P74VB6G3/qy/dYynK+ufB8Dpggv7YGYCQPQzbVi49wTA8Q8rYDD48T+mJ2qkOVLJv2mvqbzdEwJAKPxnvSLLxD+xhGxpEqwEQPJ6+hOxreu/tjoOxFa62D9627f4u6fzP5uqt2+n2PY/+doGRar+tb/z57CldmfQPzNRnhOeg+Q/6YIL+2BmAkAP376bHUgFwKTr+0cRYgBABLiQJp5oAMDRGNGOsjrnP9G8lVBzl+6/+OEntMGQ0z+0XfSra3b3PzWjZbzzP8O/zUp6+bf86T+r2OFo7RHiP17lpBaZz/c/FogQnmZNxz/N1DqmPJrhP55+Xf5csvI/gJWwV8Id8T/dy50vTJLiP3Tuejwd2gPAPgMJguJ81j/ouHNoNeX3P6Wi/YrruwbABEHIwou2tz/pggv7YGYCQATCY2CuBOi/h3N8lo3Vsj/NSnr5t/zpP+mCC/tgZgJALK2cc3Qbwb/5290QLZHkP7GEbGkSrARAzla/Fa6H8j87h7M0t1D4P+2d6wCHUuS/FfzH/XZZ9z+gEELwrSHmP3jjyfE/aew/s/Q8sKGP5D/YuH+i/bwFQJ+7N+nzvsg/sYRsaRKsBEDkQ0LNvQnhP50wJE7aZPY/WwuOgKZj4r/9hrZB8qoCwKcSN84EGfI/wmhkLb/Uyj/Cp5ar3TwFQOFhT92shNQ/akyRNTxf4T+xhGxpEqwEQMOvQEDSfOc/seyfetEd2b/PBWvtinLlvx6gcRcEAOM/1jGNuTWzA8Bk7lbn6FHoP7I110GulfU/fKX8sZVbBsDz57CldmfQP2yMTvzBvLY/LbaV/6AQ0D80x3FJLELvv7r+qhPKmt8/in0m8Vqx/z9d7e22JfrRv1Q8wfJmvdE/E7Jv8sCqzT/HXcM/rSjzP0zfuPFSmO6/6YIL+2BmAkB/B2TdGBKyP4fu5A8DYgrAeSh0V1iZxL+dMCRO2mT2P9EY0Y6yOuc/KPxnvSLLxD/A+2fve47+PxcdBMhRXwfAXZatH4iXs7/ouHNoNeX3P7BxuXf7jvI/h+hvzOxV5D8JmD8P6bPwP6cSN84EGfI/O4ezNLdQ+D/IvX13YL3zP38HZN0YErI/sYRsaRKsBEAJmD8P6bPwP+mCC/tgZgJAgdT0OQswz7+L+IA0GtTUPxDK91VaafE/MlMEsLgV9D/sjzHzyuT0P+O7JLYko/k/n8t9J2J94r/NSnr5t/zpP7GEbGkSrARAweJd4RdyzD/+8Mw6mCfiv4v4gDQa1NQ/ya9B/0uS8T+u7klkVG3cP9i4f6L9vAVA",
          "dtype": "f8"
         },
         "xaxis": "x",
         "y": {
          "bdata": "MexY9N3BC8C0E6CDXrQBwIGfymT/WvW/DSOkhOVW5r//cbCxImzyv6LeXdqhsfC/X8a4m2N7/z+FgTuc4Tz7vwUT6JqBGADAHefTn904AsDJkXCC7STLP1Nwx+xPfeS/8GIUYh829r9fxribY3v/P9RiNekKW+i/8tKIACfv4T+9/8a7WgQKwDzAmRJsFAHA/fJKyd57zL/thsMsUMsIwDWxwFz9bgXAGzZUXNAB4L98MmD6BwD3v/aj6uRURAbAciNqdc7Q9L+HedTm0dsHwGL0JMtMkv2/wikvd0fP2b8QgfgaSmkCwDzAmRJsFAHA0oz0kq095z9fxribY3v/P8QbD582qMa/m420KR+UB0Cd5D8dxA4MwAzpGSOfQ++/ow60bwd2CsBCxblao8cBQDMU2eKtNvi/EhmEq1iU+b+1SRJ++Kv4vx3n05/dOALAXbi0vfpM8L9TIajC6Xrvv4WBO5zhPPu/X8a4m2N7/z+ilqZ5rV7yvyq3Hs2rqvK/vmAS9VRMCcAr7bO1AGu4v4ZjhdH09gPA9KqfLdl/CMBYWIs0YUfxvwoWfB7s7OG/cUGJW5uo/b9EaqME+6AEwFUAcJw2Bd6/rHW5Wxxm7b8fjNKBV7QJwFNwx+xPfeS/35LOQnei879V7ZtxmrIFwHGIWXiPGPY/Xo6E0ZVHCsDJkXCC7STLP+LJyYyiY8i/yqOG0d21A8BfxribY3v/PygWZKQDsfi/w7mhEr5j/L9xQYlbm6j9v1/GuJtje/8/zFsb6Zax4L+TM/rpOE7Yv0LFuVqjxwFAbBc2Gc4o/r9fGe3dEpv4v0QEAPLvoQXA0JRGnT2D2T8xK8ZXxk/sv1y9Rh4YQNi/Pm0wHsUrAMBalUfbljfnv8VUNmSJMQDAQsW5WqPHAUCBn8pk/1r1vyD8YeqU3fi/GkdMqbKVAMAuztUQqesKQA3NSx9oF/S/o4wMzgSECcDdfG75zK7Cv2oB1pwPQ6q/Wb2Z9PqG9L9Cxblao8cBQN5zXOaOkQvARJH0OUcQ/7/9xL64n4HnP7uB9sv4PuW/zKDncw9YxD/y0ogAJ+/hPwGqab/Tie6/4xwzB/KQ8D9TIajC6Xrvv+3yi+9xPvu/ygAMRe5YA8B/5hntLVT/v/yPN6OHXeO/c0tjxzK9BMCjAIQW8RgJwLW9hxJSVQDA1KkUoUpX779sIpe1XG3iv+2GwyxQywjAX8a4m2N7/z949KWDvdD3v0BaAW6lBALAuYZR4AfKBMAg/GHqlN34vyvts7UAa7i/ow60bwd2CsASDGp4XEoFwDFJxhQDC/K/I5+cxYIF+r/JkXCC7STLP3QEyI4N+AVA/JapaSdO97/ciC6XRzXbvw3NSx9oF/S/Xxnt3RKb+L8jS3AcdC/wv3j0pYO90Pe/QsW5WqPHAUDciC6XRzXbv1/GuJtje/8/i6NdIZHD8r8SkpkCFS8AwIHxeIv+hfi/XJuPQGraAsAocNAzeqv5vxzB7I1aJOa/c6srMMaQAMBxQYlbm6j9v0LFuVqjxwFAbcQC6XexAcD1lLH06GYHwBKSmQIVLwDApf7IAK0r9r9ceuLex1gQwFqVR9uWN+e/",
          "dtype": "f8"
         },
         "yaxis": "y"
        },
        {
         "hovertemplate": "color=4<br>x=%{x}<br>y=%{y}<extra></extra>",
         "legendgroup": "4",
         "marker": {
          "color": "#FFA15A",
          "symbol": "circle"
         },
         "mode": "markers",
         "name": "4",
         "showlegend": true,
         "type": "scattergl",
         "x": {
          "bdata": "KOX3Ow+78b+rcawLedPyv1ctJHWfYOS/O7vWnGl34z/F6a5xipYNwLhLhpiymgzADodhrA+u878HUppIcXzzPzVYcwbSVgVA/5sB9RhABcB0J+6wup7dv6TA+ZjrEry/fUx+ccH97r9yYyAY9uEKwBBqt82GeMC/YomiijyqD8CvGar0W4UAwJi7r7ohRwtA+VEjCl+h5b9yCvJaDMvav/XxiljBoQnAlrlyEbZc4L8Y4/X/lG7nPySVPXG1Tee/mcCBRuOu+T/uQaV2Ap7lPybmjiod7Om/syDg1Q6Ixr99at0pQpTyv8OPGlKgg/s/ACSgLkbc9r8Q21zoLyr8P1ZrypgR8u6/6NAkc4d0zr+ZwIFG4675P5WknfIklry/G+ZfgBH4rr9nSSlQpW4KwDTdkHBgJfu/jvmD45vKCMCGfK1M+r3zvxmnSGSUZtg/M5Gf8Xmpjz8DebEnjfcJwBzmtaxFyf8/rWclHMm58r9ol6q+RsziP4JR75E+2u4/4GfWSbxF3L/13eXkTsrgvzk+ugOsnsM/AVQ4a8i+qD835XKgt+7iv6XrbACXSOC/l7KfMWKZBsDQ2oBgrZD7P9cQZdrKYtE/HmZ3HUWlBMBzBHWM0Fzuv18I4RhxSHO/Nfnpn/iQ4D+gS0fAWeYKwDu7h3UkldS/75bf5+yh+b//FsCuBcT9PwBbKaZ3tsK/pzC+x1al0b9jd0Teet/hP4umnCwOlem/SMcFxIqDAMDamKRdBnvNvwYuLOy0GwrAJi9/M3aq4r+SAKOV9yPyv9gJjqK7eAFA/W2IFB4UCcAuesxHZd0KwFWXcuFxVuc/JUIL6un4BMDl0kpcHqwSwFX5/QPqYwnAvMRlhizeBsC9Ou5qdk4NwABbKaZ3tsK/NIH+1sl3178zV1ysNvbovzue2CufM/m/dWfqR5LE5r9v44Gg0pLiP+VZWjxhyADANVhzBtJWBUCSHY0nAqTgv1C4peqmDuW/YU29PFXn0j9OSA5HF/nSv3xYn9V5xOC/TP6AEljN8b9LCsUkG7zovy8w1J6TLBDAxsYACOc0DsAQsfZyy+fxv3fSZxuBXR3AT85WSIFZ1r8oKKphAGfxvwnligU5HeW/Sk5AIiYX4j/3C8HW8hgHwA1UCi3VwATAbmvS1ZN8t79jwcTSyTDMP15qNXNKT/C/Y3dE3nrf4T9xZaPPP3z0P+QSNJt1Yuu/XtCJxj25579msCezPWjmv57md/5sBvU/LlwjTIIS8D9EYmVwB+DAPxyqNbnYHMM/Hpn0ndsI67+BDuM3ktUEQLLpgFXRLvq/Uen44z6v8L9rc402tXP+P+m+W21affC/pQDFzasTD8Bgnw9t9Mjqv05l2GU3rfi/nc4br0iB+b9hM+C5jwzjv8nI3HaIBIk/i6acLA6V6b+3pNlgVRnRP9Q+K3VJVNO/APkJxi8W97+9dQlQwYXzP2PBxNLJMMw/+YhYZhlWAsAM2FGFRvADwLYJVx53oArASBMi6vEk8z9TtBm0A7LKvzwvZo1ng+Y/moMYXXwX8L/38tEpMHv8vzQ+jkYDv9E/N+VyoLfu4r//yty8LMn2v9V7aBRctAJA+OPp2dCJ+b8LIfE9o1fkv1nIpIZw+MQ/ogZXHCTN6780eas07s38P2ukvV6Q6NS/5VX89vTV1L+5HT7EmbHXP7MDzVNQSfy/xc0bCFLnlz/vqPYSlSXJPxmnSGSUZtg/UIx5TDsktz8/kqUUqigCwAKsh2vmJ9s/4tnbKRMa0D8=",
          "dtype": "f8"
         },
         "xaxis": "x",
         "y": {
          "bdata": "SwJSgmE/8b+JpjOQtFimv8iNLP+EPAHAjgPTYEFs6z8y1TAdNRfxv2QrFsT7DOC/c+0qsIhv4T/8vR9HeL7jP3XNip9qMQJAsP3ZA+Xs8z8nwl0b83L1v736iVtit/m/niekVBkP1b8CtiyWQ8roP0Th46AxYeA/Cxf4RhNiAECTyqjqBlHKv+kILsXvyu0/5qJY6xNuAsAJ3Q/QHzjyP5ccJNElUtu/oZsbWyIIB8AbpnRhI5fzP0TZ634uxPI/fMaQQaFz+j+EqbrI8CXzP8FqPVmmePm/8lh1EfNl6T81S2nYfM3lv6he57vP4ABACea5bn0/B8CKoNAqFxP7P3m3mr5xe/C/cYxTBbzL+b98xpBBoXP6P298qstU8ALAr6+KSuAX1r8TF31bd38IQN+5TmgratM/hk2amqo65D9Q4V0OzxDyPzh/GQCNh9y/bTFsz3Lj/7/mWyEs2iTUP4k/NkI0VQNAnqSFa4QE+L8kJW1EwufgP+sgnxyzGOA/LI+wQrMa8D+G/C34Uz/yv0qOGD7vqui/GjaZoHsx6b/qdHWb65fgP6Ja6F4XZd2/Hq7B9aKh6L88uhjtJdLpPx1CNCwJRe4/A3QNSc806T+M2gQht6+3v0RTymZ4gQHAY6UTTmGOyb/08utm0v7NP4/tvxqDTc6/avp11F1lEUAs0WEHPA4BwBSH9DtEjqO/CbZjnVcg5L8mNVpoNGX3P7ZCeUdcne6/IKd1kMdsDMA0lvDgz8/sv4zt8TrOKuc/W4GExctByb/Bj9Nrcynxv2OBuXWdt/E/uu9meGusAUCC96EZdVbwv2Xs9U3p+rq/21av3+6v87+PKhiSyzC8v8zy5X6TH/U/Up7/SS849b/NVME4klTWvxSH9DtEjqO/9nOgfCKKsL+sfe45fegFQGAkrnA2ass/C76grUsY7b9iIffY+JOmvwRjMuida7o/dc2Kn2oxAkCE8hMxdgMGwKyrGrYWuNs/T267o+byxr8cvF+iObXyP8xveZxvO/K/BrINSZmjsT//VozrPxCyP31ABrJD5eK/wsLHJRUmsj836RR1J+Hlvx+5zIfW7yNASAQ1zJ5Tab9Sybngzjf7Px+qp4IRjgPAgJpTKNni8L9JtMplUOPiv87gcgcnY+a/ntnKWNo0x7/deHknaenUP4QVq9H63cI/JjVaaDRl9z8mcxAJQ+EGQCRbkhJajbc/c9wjWXVnzL9NfTC9Y0rHvw+sNaKRuto/+dL5cgCryT/KZnlqGAPiv6MzTu+cVs8/ob9QnaOH6b/xr1F4C4oBQI2RThQfvAbA9g8Y9+9r4L9DnwlQoJ8DQPRUf6hlnvG/e14qm/Ka8z9BsTrdx2r9vxObiXb3oQTAQL7XWV+dA8A0SQ+sgkbnP0VMKgjbmPm/tkJ5R1yd7r9UOUbBXdfbv54aKPMmD8E/oIFgisB4BMDHe988MLTpv914eSdp6dQ/kD3NlJ4q+r/2oGVSpD/3P8knUXE8JN8/bQkTKxfE+j/GPX+t+Ur4v6w6RmxsAeM/8le2yfKj+r8+wr3TKwX3vzsf8VPG288/6nR1m+uX4D/7/WpFVsLwP0ndVFT03ABAPPGqjpTBAsASWt1SVAT5v0HmvtfC3t2/bGUsBNmVsT8mNnbFsljzP0fNVS/vNuO/B9HNdiM2/D+AtSG0MNjwv8Efx+qyyAZAIUNlb7Anr78CpOxKk+jtvzh/GQCNh9y/qPkJ1YjQAkBrOeRRwZj3Pxte3wrvz8e/6uV1H8Zr278=",
          "dtype": "f8"
         },
         "yaxis": "y"
        },
        {
         "hovertemplate": "color=3<br>x=%{x}<br>y=%{y}<extra></extra>",
         "legendgroup": "3",
         "marker": {
          "color": "#19d3f3",
          "symbol": "circle"
         },
         "mode": "markers",
         "name": "3",
         "showlegend": true,
         "type": "scattergl",
         "x": {
          "bdata": "HZy68vb08r8QZhZeOmARwBUPuUGX3QvAsIucfBEyqb9tUmU0pjvBv89gls+xbBBAXqyBtApY+T8RjKr8VG4EwP/2igl8tuW/255i9PDR3b/UcXEha5QBQNxHNwpg6Q3AAiUrECT+AEA0ijVrE2aXv+GUdk7EpNG/2zlR8jkSEsDnU/xou9jXv5+HI3Q/Og9AqAPnxd/V9b/I/5skyni6PzeNnktyVvw/e7PK03d3IUAcHp0GPfHNv9Xh95dWWw/ATxJU7HojBEAY5pJo0y4IwA==",
          "dtype": "f8"
         },
         "xaxis": "x",
         "y": {
          "bdata": "jLWwG4NuAsBV+iPTcB/hP/v6ygqn8+E/VkDkQ076/L/YVx8dlx36P3hPZVCXf+K/Cn/0hDUL8T8RA1/3F1EKQKM7N5E4WBJAwpLvIKRS2T/G+KbI+nG0P9T/5O0F/dC/+dQpRpD3tz+AsR+i7u7nv9mUghkS4ALAmJgyHGQg9T96dydBTVP+v2yfibPsYuc/Owpn+qKn479Myz2hVnIHQCmLyWQK7QFAcayBgWyw0z/OPLNBqR7jP70t+7Hajw9Au5eNVK/qpD8orbtSeovfPw==",
          "dtype": "f8"
         },
         "yaxis": "y"
        },
        {
         "hovertemplate": "color=9<br>x=%{x}<br>y=%{y}<extra></extra>",
         "legendgroup": "9",
         "marker": {
          "color": "#FF6692",
          "symbol": "circle"
         },
         "mode": "markers",
         "name": "9",
         "showlegend": true,
         "type": "scattergl",
         "x": {
          "bdata": "7voFyr5B8D/WFst+eIjkP1KAahwTI8c/F3jX9sgPxT8=",
          "dtype": "f8"
         },
         "xaxis": "x",
         "y": {
          "bdata": "30V3Y73mA8Chd7lHAsPyP46jMD18LgHAxzLGhfZgA8A=",
          "dtype": "f8"
         },
         "yaxis": "y"
        }
       ],
       "layout": {
        "legend": {
         "title": {
          "text": "color"
         },
         "tracegroupgap": 0
        },
        "margin": {
         "t": 60
        },
        "template": {
         "data": {
          "bar": [
           {
            "error_x": {
             "color": "#2a3f5f"
            },
            "error_y": {
             "color": "#2a3f5f"
            },
            "marker": {
             "line": {
              "color": "#E5ECF6",
              "width": 0.5
             },
             "pattern": {
              "fillmode": "overlay",
              "size": 10,
              "solidity": 0.2
             }
            },
            "type": "bar"
           }
          ],
          "barpolar": [
           {
            "marker": {
             "line": {
              "color": "#E5ECF6",
              "width": 0.5
             },
             "pattern": {
              "fillmode": "overlay",
              "size": 10,
              "solidity": 0.2
             }
            },
            "type": "barpolar"
           }
          ],
          "carpet": [
           {
            "aaxis": {
             "endlinecolor": "#2a3f5f",
             "gridcolor": "white",
             "linecolor": "white",
             "minorgridcolor": "white",
             "startlinecolor": "#2a3f5f"
            },
            "baxis": {
             "endlinecolor": "#2a3f5f",
             "gridcolor": "white",
             "linecolor": "white",
             "minorgridcolor": "white",
             "startlinecolor": "#2a3f5f"
            },
            "type": "carpet"
           }
          ],
          "choropleth": [
           {
            "colorbar": {
             "outlinewidth": 0,
             "ticks": ""
            },
            "type": "choropleth"
           }
          ],
          "contour": [
           {
            "colorbar": {
             "outlinewidth": 0,
             "ticks": ""
            },
            "colorscale": [
             [
              0,
              "#0d0887"
             ],
             [
              0.1111111111111111,
              "#46039f"
             ],
             [
              0.2222222222222222,
              "#7201a8"
             ],
             [
              0.3333333333333333,
              "#9c179e"
             ],
             [
              0.4444444444444444,
              "#bd3786"
             ],
             [
              0.5555555555555556,
              "#d8576b"
             ],
             [
              0.6666666666666666,
              "#ed7953"
             ],
             [
              0.7777777777777778,
              "#fb9f3a"
             ],
             [
              0.8888888888888888,
              "#fdca26"
             ],
             [
              1,
              "#f0f921"
             ]
            ],
            "type": "contour"
           }
          ],
          "contourcarpet": [
           {
            "colorbar": {
             "outlinewidth": 0,
             "ticks": ""
            },
            "type": "contourcarpet"
           }
          ],
          "heatmap": [
           {
            "colorbar": {
             "outlinewidth": 0,
             "ticks": ""
            },
            "colorscale": [
             [
              0,
              "#0d0887"
             ],
             [
              0.1111111111111111,
              "#46039f"
             ],
             [
              0.2222222222222222,
              "#7201a8"
             ],
             [
              0.3333333333333333,
              "#9c179e"
             ],
             [
              0.4444444444444444,
              "#bd3786"
             ],
             [
              0.5555555555555556,
              "#d8576b"
             ],
             [
              0.6666666666666666,
              "#ed7953"
             ],
             [
              0.7777777777777778,
              "#fb9f3a"
             ],
             [
              0.8888888888888888,
              "#fdca26"
             ],
             [
              1,
              "#f0f921"
             ]
            ],
            "type": "heatmap"
           }
          ],
          "histogram": [
           {
            "marker": {
             "pattern": {
              "fillmode": "overlay",
              "size": 10,
              "solidity": 0.2
             }
            },
            "type": "histogram"
           }
          ],
          "histogram2d": [
           {
            "colorbar": {
             "outlinewidth": 0,
             "ticks": ""
            },
            "colorscale": [
             [
              0,
              "#0d0887"
             ],
             [
              0.1111111111111111,
              "#46039f"
             ],
             [
              0.2222222222222222,
              "#7201a8"
             ],
             [
              0.3333333333333333,
              "#9c179e"
             ],
             [
              0.4444444444444444,
              "#bd3786"
             ],
             [
              0.5555555555555556,
              "#d8576b"
             ],
             [
              0.6666666666666666,
              "#ed7953"
             ],
             [
              0.7777777777777778,
              "#fb9f3a"
             ],
             [
              0.8888888888888888,
              "#fdca26"
             ],
             [
              1,
              "#f0f921"
             ]
            ],
            "type": "histogram2d"
           }
          ],
          "histogram2dcontour": [
           {
            "colorbar": {
             "outlinewidth": 0,
             "ticks": ""
            },
            "colorscale": [
             [
              0,
              "#0d0887"
             ],
             [
              0.1111111111111111,
              "#46039f"
             ],
             [
              0.2222222222222222,
              "#7201a8"
             ],
             [
              0.3333333333333333,
              "#9c179e"
             ],
             [
              0.4444444444444444,
              "#bd3786"
             ],
             [
              0.5555555555555556,
              "#d8576b"
             ],
             [
              0.6666666666666666,
              "#ed7953"
             ],
             [
              0.7777777777777778,
              "#fb9f3a"
             ],
             [
              0.8888888888888888,
              "#fdca26"
             ],
             [
              1,
              "#f0f921"
             ]
            ],
            "type": "histogram2dcontour"
           }
          ],
          "mesh3d": [
           {
            "colorbar": {
             "outlinewidth": 0,
             "ticks": ""
            },
            "type": "mesh3d"
           }
          ],
          "parcoords": [
           {
            "line": {
             "colorbar": {
              "outlinewidth": 0,
              "ticks": ""
             }
            },
            "type": "parcoords"
           }
          ],
          "pie": [
           {
            "automargin": true,
            "type": "pie"
           }
          ],
          "scatter": [
           {
            "fillpattern": {
             "fillmode": "overlay",
             "size": 10,
             "solidity": 0.2
            },
            "type": "scatter"
           }
          ],
          "scatter3d": [
           {
            "line": {
             "colorbar": {
              "outlinewidth": 0,
              "ticks": ""
             }
            },
            "marker": {
             "colorbar": {
              "outlinewidth": 0,
              "ticks": ""
             }
            },
            "type": "scatter3d"
           }
          ],
          "scattercarpet": [
           {
            "marker": {
             "colorbar": {
              "outlinewidth": 0,
              "ticks": ""
             }
            },
            "type": "scattercarpet"
           }
          ],
          "scattergeo": [
           {
            "marker": {
             "colorbar": {
              "outlinewidth": 0,
              "ticks": ""
             }
            },
            "type": "scattergeo"
           }
          ],
          "scattergl": [
           {
            "marker": {
             "colorbar": {
              "outlinewidth": 0,
              "ticks": ""
             }
            },
            "type": "scattergl"
           }
          ],
          "scattermap": [
           {
            "marker": {
             "colorbar": {
              "outlinewidth": 0,
              "ticks": ""
             }
            },
            "type": "scattermap"
           }
          ],
          "scattermapbox": [
           {
            "marker": {
             "colorbar": {
              "outlinewidth": 0,
              "ticks": ""
             }
            },
            "type": "scattermapbox"
           }
          ],
          "scatterpolar": [
           {
            "marker": {
             "colorbar": {
              "outlinewidth": 0,
              "ticks": ""
             }
            },
            "type": "scatterpolar"
           }
          ],
          "scatterpolargl": [
           {
            "marker": {
             "colorbar": {
              "outlinewidth": 0,
              "ticks": ""
             }
            },
            "type": "scatterpolargl"
           }
          ],
          "scatterternary": [
           {
            "marker": {
             "colorbar": {
              "outlinewidth": 0,
              "ticks": ""
             }
            },
            "type": "scatterternary"
           }
          ],
          "surface": [
           {
            "colorbar": {
             "outlinewidth": 0,
             "ticks": ""
            },
            "colorscale": [
             [
              0,
              "#0d0887"
             ],
             [
              0.1111111111111111,
              "#46039f"
             ],
             [
              0.2222222222222222,
              "#7201a8"
             ],
             [
              0.3333333333333333,
              "#9c179e"
             ],
             [
              0.4444444444444444,
              "#bd3786"
             ],
             [
              0.5555555555555556,
              "#d8576b"
             ],
             [
              0.6666666666666666,
              "#ed7953"
             ],
             [
              0.7777777777777778,
              "#fb9f3a"
             ],
             [
              0.8888888888888888,
              "#fdca26"
             ],
             [
              1,
              "#f0f921"
             ]
            ],
            "type": "surface"
           }
          ],
          "table": [
           {
            "cells": {
             "fill": {
              "color": "#EBF0F8"
             },
             "line": {
              "color": "white"
             }
            },
            "header": {
             "fill": {
              "color": "#C8D4E3"
             },
             "line": {
              "color": "white"
             }
            },
            "type": "table"
           }
          ]
         },
         "layout": {
          "annotationdefaults": {
           "arrowcolor": "#2a3f5f",
           "arrowhead": 0,
           "arrowwidth": 1
          },
          "autotypenumbers": "strict",
          "coloraxis": {
           "colorbar": {
            "outlinewidth": 0,
            "ticks": ""
           }
          },
          "colorscale": {
           "diverging": [
            [
             0,
             "#8e0152"
            ],
            [
             0.1,
             "#c51b7d"
            ],
            [
             0.2,
             "#de77ae"
            ],
            [
             0.3,
             "#f1b6da"
            ],
            [
             0.4,
             "#fde0ef"
            ],
            [
             0.5,
             "#f7f7f7"
            ],
            [
             0.6,
             "#e6f5d0"
            ],
            [
             0.7,
             "#b8e186"
            ],
            [
             0.8,
             "#7fbc41"
            ],
            [
             0.9,
             "#4d9221"
            ],
            [
             1,
             "#276419"
            ]
           ],
           "sequential": [
            [
             0,
             "#0d0887"
            ],
            [
             0.1111111111111111,
             "#46039f"
            ],
            [
             0.2222222222222222,
             "#7201a8"
            ],
            [
             0.3333333333333333,
             "#9c179e"
            ],
            [
             0.4444444444444444,
             "#bd3786"
            ],
            [
             0.5555555555555556,
             "#d8576b"
            ],
            [
             0.6666666666666666,
             "#ed7953"
            ],
            [
             0.7777777777777778,
             "#fb9f3a"
            ],
            [
             0.8888888888888888,
             "#fdca26"
            ],
            [
             1,
             "#f0f921"
            ]
           ],
           "sequentialminus": [
            [
             0,
             "#0d0887"
            ],
            [
             0.1111111111111111,
             "#46039f"
            ],
            [
             0.2222222222222222,
             "#7201a8"
            ],
            [
             0.3333333333333333,
             "#9c179e"
            ],
            [
             0.4444444444444444,
             "#bd3786"
            ],
            [
             0.5555555555555556,
             "#d8576b"
            ],
            [
             0.6666666666666666,
             "#ed7953"
            ],
            [
             0.7777777777777778,
             "#fb9f3a"
            ],
            [
             0.8888888888888888,
             "#fdca26"
            ],
            [
             1,
             "#f0f921"
            ]
           ]
          },
          "colorway": [
           "#636efa",
           "#EF553B",
           "#00cc96",
           "#ab63fa",
           "#FFA15A",
           "#19d3f3",
           "#FF6692",
           "#B6E880",
           "#FF97FF",
           "#FECB52"
          ],
          "font": {
           "color": "#2a3f5f"
          },
          "geo": {
           "bgcolor": "white",
           "lakecolor": "white",
           "landcolor": "#E5ECF6",
           "showlakes": true,
           "showland": true,
           "subunitcolor": "white"
          },
          "hoverlabel": {
           "align": "left"
          },
          "hovermode": "closest",
          "mapbox": {
           "style": "light"
          },
          "paper_bgcolor": "white",
          "plot_bgcolor": "#E5ECF6",
          "polar": {
           "angularaxis": {
            "gridcolor": "white",
            "linecolor": "white",
            "ticks": ""
           },
           "bgcolor": "#E5ECF6",
           "radialaxis": {
            "gridcolor": "white",
            "linecolor": "white",
            "ticks": ""
           }
          },
          "scene": {
           "xaxis": {
            "backgroundcolor": "#E5ECF6",
            "gridcolor": "white",
            "gridwidth": 2,
            "linecolor": "white",
            "showbackground": true,
            "ticks": "",
            "zerolinecolor": "white"
           },
           "yaxis": {
            "backgroundcolor": "#E5ECF6",
            "gridcolor": "white",
            "gridwidth": 2,
            "linecolor": "white",
            "showbackground": true,
            "ticks": "",
            "zerolinecolor": "white"
           },
           "zaxis": {
            "backgroundcolor": "#E5ECF6",
            "gridcolor": "white",
            "gridwidth": 2,
            "linecolor": "white",
            "showbackground": true,
            "ticks": "",
            "zerolinecolor": "white"
           }
          },
          "shapedefaults": {
           "line": {
            "color": "#2a3f5f"
           }
          },
          "ternary": {
           "aaxis": {
            "gridcolor": "white",
            "linecolor": "white",
            "ticks": ""
           },
           "baxis": {
            "gridcolor": "white",
            "linecolor": "white",
            "ticks": ""
           },
           "bgcolor": "#E5ECF6",
           "caxis": {
            "gridcolor": "white",
            "linecolor": "white",
            "ticks": ""
           }
          },
          "title": {
           "x": 0.05
          },
          "xaxis": {
           "automargin": true,
           "gridcolor": "white",
           "linecolor": "white",
           "ticks": "",
           "title": {
            "standoff": 15
           },
           "zerolinecolor": "white",
           "zerolinewidth": 2
          },
          "yaxis": {
           "automargin": true,
           "gridcolor": "white",
           "linecolor": "white",
           "ticks": "",
           "title": {
            "standoff": 15
           },
           "zerolinecolor": "white",
           "zerolinewidth": 2
          }
         }
        },
        "xaxis": {
         "anchor": "y",
         "domain": [
          0,
          1
         ],
         "title": {
          "text": "x"
         }
        },
        "yaxis": {
         "anchor": "x",
         "domain": [
          0,
          1
         ],
         "title": {
          "text": "y"
         }
        }
       }
      }
     },
     "metadata": {},
     "output_type": "display_data"
    }
   ],
   "source": [
    "# Plot the points see the graph\n",
    "y_train_str = y_train.astype(str)\n",
    "\n",
    "fig = px.scatter(\n",
    "    x= X_train_trf[:, 0],\n",
    "    y= X_train_trf[:, 1],\n",
    "    color=y_train_str\n",
    ")\n",
    "\n",
    "fig.show(remind='iframe')"
   ]
  },
  {
   "cell_type": "code",
   "execution_count": 105,
   "id": "372dc593",
   "metadata": {},
   "outputs": [],
   "source": [
    "# No components\n",
    "\n",
    "pca = PCA(n_components=None)\n",
    "X_train_trf = pca.fit_transform(X_train_scaled)\n",
    "X_test_trf = pca.transform(X_test_scaled)"
   ]
  },
  {
   "cell_type": "code",
   "execution_count": 106,
   "id": "46273f6b",
   "metadata": {},
   "outputs": [
    {
     "name": "stdout",
     "output_type": "stream",
     "text": [
      "(5170, 11) (1293, 11)\n"
     ]
    }
   ],
   "source": [
    "print(X_train_trf.shape, X_test_trf.shape)"
   ]
  },
  {
   "cell_type": "code",
   "execution_count": 108,
   "id": "6d5b4436",
   "metadata": {},
   "outputs": [
    {
     "data": {
      "text/plain": [
       "array([3.02507544, 2.48260719, 1.55255839, 0.99064339, 0.72282547,\n",
       "       0.60460104, 0.51839848, 0.502692  , 0.34090317, 0.22844185,\n",
       "       0.03338164])"
      ]
     },
     "execution_count": 108,
     "metadata": {},
     "output_type": "execute_result"
    }
   ],
   "source": [
    "# Egien values\n",
    "pca.explained_variance_"
   ]
  },
  {
   "cell_type": "code",
   "execution_count": 109,
   "id": "b7ae9f45",
   "metadata": {},
   "outputs": [
    {
     "data": {
      "text/plain": [
       "(11, 11)"
      ]
     },
     "execution_count": 109,
     "metadata": {},
     "output_type": "execute_result"
    }
   ],
   "source": [
    "# Egien Vectors\n",
    "pca.components_.shape"
   ]
  },
  {
   "cell_type": "code",
   "execution_count": 107,
   "id": "e1f5f6b6",
   "metadata": {},
   "outputs": [
    {
     "data": {
      "text/plain": [
       "array([0.27495367, 0.22564791, 0.14111437, 0.09004107, 0.0656987 ,\n",
       "       0.0549531 , 0.04711802, 0.04569043, 0.0309852 , 0.02076342,\n",
       "       0.00303411])"
      ]
     },
     "execution_count": 107,
     "metadata": {},
     "output_type": "execute_result"
    }
   ],
   "source": [
    "pca.explained_variance_ratio_"
   ]
  },
  {
   "cell_type": "code",
   "execution_count": 110,
   "id": "b943d9d0",
   "metadata": {},
   "outputs": [
    {
     "data": {
      "text/plain": [
       "array([0.27495367, 0.50060157, 0.64171595, 0.73175702, 0.79745571,\n",
       "       0.85240881, 0.89952683, 0.94521727, 0.97620247, 0.99696589,\n",
       "       1.        ])"
      ]
     },
     "execution_count": 110,
     "metadata": {},
     "output_type": "execute_result"
    }
   ],
   "source": [
    "variance_ratio_cumsum = np.cumsum(pca.explained_variance_ratio_)\n",
    "variance_ratio_cumsum"
   ]
  },
  {
   "cell_type": "code",
   "execution_count": 111,
   "id": "3169d02c",
   "metadata": {},
   "outputs": [
    {
     "data": {
      "text/plain": [
       "[<matplotlib.lines.Line2D at 0x1e691999f10>]"
      ]
     },
     "execution_count": 111,
     "metadata": {},
     "output_type": "execute_result"
    },
    {
     "data": {
      "image/png": "[encoded data removed]",
      "text/plain": [
       "<Figure size 640x480 with 1 Axes>"
      ]
     },
     "metadata": {},
     "output_type": "display_data"
    }
   ],
   "source": [
    "plt.plot(variance_ratio_cumsum)"
   ]
  }
 ],
 "metadata": {
  "kernelspec": {
   "display_name": "Python 3",
   "language": "python",
   "name": "python3"
  },
  "language_info": {
   "codemirror_mode": {
    "name": "ipython",
    "version": 3
   },
   "file_extension": ".py",
   "mimetype": "text/x-python",
   "name": "python",
   "nbconvert_exporter": "python",
   "pygments_lexer": "ipython3",
   "version": "3.12.3"
  }
 },
 "nbformat": 4,
 "nbformat_minor": 5
}
