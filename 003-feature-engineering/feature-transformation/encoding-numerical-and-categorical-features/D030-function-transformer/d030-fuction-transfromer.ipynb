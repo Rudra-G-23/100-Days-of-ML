{
 "cells": [
  {
   "cell_type": "markdown",
   "id": "c32c9b82",
   "metadata": {},
   "source": [
    "# Import all libraries and dataset"
   ]
  },
  {
   "cell_type": "code",
   "execution_count": 1,
   "id": "aa470dc1",
   "metadata": {},
   "outputs": [],
   "source": [
    "import numpy as np\n",
    "import pandas as pd\n",
    "\n",
    "import scipy.stats as stats\n",
    "\n",
    "import matplotlib.pyplot as plt\n",
    "import seaborn as sns\n",
    "\n",
    "from sklearn.model_selection import train_test_split\n",
    "from sklearn.metrics import accuracy_score\n",
    "from sklearn.model_selection import cross_val_score\n",
    "\n",
    "from sklearn.linear_model import LogisticRegression\n",
    "from sklearn.tree import DecisionTreeClassifier\n",
    "\n",
    "from sklearn.preprocessing import FunctionTransformer\n",
    "from sklearn.compose import ColumnTransformer"
   ]
  },
  {
   "cell_type": "code",
   "execution_count": 3,
   "id": "5131d4b0",
   "metadata": {},
   "outputs": [],
   "source": [
    "from sklearn import set_config\n",
    "set_config(display='diagram', transform_output='pandas')"
   ]
  },
  {
   "cell_type": "code",
   "execution_count": 12,
   "id": "57d347b7",
   "metadata": {},
   "outputs": [
    {
     "data": {
      "text/plain": [
       "Index(['PassengerId', 'Survived', 'Pclass', 'Name', 'Sex', 'Age', 'SibSp',\n",
       "       'Parch', 'Ticket', 'Fare', 'Cabin', 'Embarked'],\n",
       "      dtype='object')"
      ]
     },
     "execution_count": 12,
     "metadata": {},
     "output_type": "execute_result"
    }
   ],
   "source": [
    "df = pd.read_csv('train.csv')\n",
    "df.columns"
   ]
  },
  {
   "cell_type": "code",
   "execution_count": 13,
   "id": "46270091",
   "metadata": {},
   "outputs": [
    {
     "data": {
      "text/html": [
       "<div>\n",
       "<style scoped>\n",
       "    .dataframe tbody tr th:only-of-type {\n",
       "        vertical-align: middle;\n",
       "    }\n",
       "\n",
       "    .dataframe tbody tr th {\n",
       "        vertical-align: top;\n",
       "    }\n",
       "\n",
       "    .dataframe thead th {\n",
       "        text-align: right;\n",
       "    }\n",
       "</style>\n",
       "<table border=\"1\" class=\"dataframe\">\n",
       "  <thead>\n",
       "    <tr style=\"text-align: right;\">\n",
       "      <th></th>\n",
       "      <th>Age</th>\n",
       "      <th>Fare</th>\n",
       "      <th>Survived</th>\n",
       "    </tr>\n",
       "  </thead>\n",
       "  <tbody>\n",
       "    <tr>\n",
       "      <th>804</th>\n",
       "      <td>27.0</td>\n",
       "      <td>6.975</td>\n",
       "      <td>1</td>\n",
       "    </tr>\n",
       "    <tr>\n",
       "      <th>770</th>\n",
       "      <td>24.0</td>\n",
       "      <td>9.500</td>\n",
       "      <td>0</td>\n",
       "    </tr>\n",
       "    <tr>\n",
       "      <th>385</th>\n",
       "      <td>18.0</td>\n",
       "      <td>73.500</td>\n",
       "      <td>0</td>\n",
       "    </tr>\n",
       "  </tbody>\n",
       "</table>\n",
       "</div>"
      ],
      "text/plain": [
       "      Age    Fare  Survived\n",
       "804  27.0   6.975         1\n",
       "770  24.0   9.500         0\n",
       "385  18.0  73.500         0"
      ]
     },
     "execution_count": 13,
     "metadata": {},
     "output_type": "execute_result"
    }
   ],
   "source": [
    "df = df[['Age', 'Fare', 'Survived']]\n",
    "df.sample(3)"
   ]
  },
  {
   "cell_type": "code",
   "execution_count": 15,
   "id": "c2b95152",
   "metadata": {},
   "outputs": [
    {
     "data": {
      "text/plain": [
       "Age         177\n",
       "Fare          0\n",
       "Survived      0\n",
       "dtype: int64"
      ]
     },
     "execution_count": 15,
     "metadata": {},
     "output_type": "execute_result"
    }
   ],
   "source": [
    "df.isnull().sum()"
   ]
  },
  {
   "cell_type": "code",
   "execution_count": null,
   "id": "ca8c77fd",
   "metadata": {},
   "outputs": [
    {
     "name": "stderr",
     "output_type": "stream",
     "text": [
      "C:\\Users\\Rudra\\AppData\\Local\\Temp\\ipykernel_1168\\1698716155.py:1: FutureWarning: A value is trying to be set on a copy of a DataFrame or Series through chained assignment using an inplace method.\n",
      "The behavior will change in pandas 3.0. This inplace method will never work because the intermediate object on which we are setting values always behaves as a copy.\n",
      "\n",
      "For example, when doing 'df[col].method(value, inplace=True)', try using 'df.method({col: value}, inplace=True)' or df[col] = df[col].method(value) instead, to perform the operation inplace on the original object.\n",
      "\n",
      "\n",
      "  df['Age'].fillna(df['Age'].mean(), inplace=True)\n"
     ]
    }
   ],
   "source": [
    "# Mean imputation \n",
    "df['Age'].fillna(df['Age'].mean(), inplace=True)"
   ]
  },
  {
   "cell_type": "code",
   "execution_count": null,
   "id": "74f365f5",
   "metadata": {},
   "outputs": [],
   "source": [
    "df.fillna({\n",
    "    df['Age'] : df['Age'].mean(),\n",
    "}, inplace=True)"
   ]
  },
  {
   "cell_type": "code",
   "execution_count": 22,
   "id": "cd8807eb",
   "metadata": {},
   "outputs": [
    {
     "data": {
      "text/plain": [
       "Age         0\n",
       "Fare        0\n",
       "Survived    0\n",
       "dtype: int64"
      ]
     },
     "execution_count": 22,
     "metadata": {},
     "output_type": "execute_result"
    }
   ],
   "source": [
    "df.isnull().sum()"
   ]
  },
  {
   "cell_type": "markdown",
   "id": "94c358a0",
   "metadata": {},
   "source": [
    "# Train Test Split"
   ]
  },
  {
   "cell_type": "code",
   "execution_count": 27,
   "id": "380619c9",
   "metadata": {},
   "outputs": [],
   "source": [
    "X = df.iloc[:, :2]\n",
    "y = df.iloc[:, -1]"
   ]
  },
  {
   "cell_type": "code",
   "execution_count": 29,
   "id": "fe057899",
   "metadata": {},
   "outputs": [],
   "source": [
    "X_train, X_test, y_train, y_test = train_test_split(X, y, test_size=0.2, random_state=42)"
   ]
  },
  {
   "cell_type": "code",
   "execution_count": 30,
   "id": "686bab4d",
   "metadata": {},
   "outputs": [],
   "source": [
    "cols = df[['Age', 'Fare']]"
   ]
  },
  {
   "cell_type": "code",
   "execution_count": 31,
   "id": "23468745",
   "metadata": {},
   "outputs": [
    {
     "data": {
      "text/html": [
       "<div>\n",
       "<style scoped>\n",
       "    .dataframe tbody tr th:only-of-type {\n",
       "        vertical-align: middle;\n",
       "    }\n",
       "\n",
       "    .dataframe tbody tr th {\n",
       "        vertical-align: top;\n",
       "    }\n",
       "\n",
       "    .dataframe thead th {\n",
       "        text-align: right;\n",
       "    }\n",
       "</style>\n",
       "<table border=\"1\" class=\"dataframe\">\n",
       "  <thead>\n",
       "    <tr style=\"text-align: right;\">\n",
       "      <th></th>\n",
       "      <th>Age</th>\n",
       "      <th>Fare</th>\n",
       "    </tr>\n",
       "  </thead>\n",
       "  <tbody>\n",
       "    <tr>\n",
       "      <th>0</th>\n",
       "      <td>22.000000</td>\n",
       "      <td>7.2500</td>\n",
       "    </tr>\n",
       "    <tr>\n",
       "      <th>1</th>\n",
       "      <td>38.000000</td>\n",
       "      <td>71.2833</td>\n",
       "    </tr>\n",
       "    <tr>\n",
       "      <th>2</th>\n",
       "      <td>26.000000</td>\n",
       "      <td>7.9250</td>\n",
       "    </tr>\n",
       "    <tr>\n",
       "      <th>3</th>\n",
       "      <td>35.000000</td>\n",
       "      <td>53.1000</td>\n",
       "    </tr>\n",
       "    <tr>\n",
       "      <th>4</th>\n",
       "      <td>35.000000</td>\n",
       "      <td>8.0500</td>\n",
       "    </tr>\n",
       "    <tr>\n",
       "      <th>...</th>\n",
       "      <td>...</td>\n",
       "      <td>...</td>\n",
       "    </tr>\n",
       "    <tr>\n",
       "      <th>886</th>\n",
       "      <td>27.000000</td>\n",
       "      <td>13.0000</td>\n",
       "    </tr>\n",
       "    <tr>\n",
       "      <th>887</th>\n",
       "      <td>19.000000</td>\n",
       "      <td>30.0000</td>\n",
       "    </tr>\n",
       "    <tr>\n",
       "      <th>888</th>\n",
       "      <td>29.699118</td>\n",
       "      <td>23.4500</td>\n",
       "    </tr>\n",
       "    <tr>\n",
       "      <th>889</th>\n",
       "      <td>26.000000</td>\n",
       "      <td>30.0000</td>\n",
       "    </tr>\n",
       "    <tr>\n",
       "      <th>890</th>\n",
       "      <td>32.000000</td>\n",
       "      <td>7.7500</td>\n",
       "    </tr>\n",
       "  </tbody>\n",
       "</table>\n",
       "<p>891 rows × 2 columns</p>\n",
       "</div>"
      ],
      "text/plain": [
       "           Age     Fare\n",
       "0    22.000000   7.2500\n",
       "1    38.000000  71.2833\n",
       "2    26.000000   7.9250\n",
       "3    35.000000  53.1000\n",
       "4    35.000000   8.0500\n",
       "..         ...      ...\n",
       "886  27.000000  13.0000\n",
       "887  19.000000  30.0000\n",
       "888  29.699118  23.4500\n",
       "889  26.000000  30.0000\n",
       "890  32.000000   7.7500\n",
       "\n",
       "[891 rows x 2 columns]"
      ]
     },
     "execution_count": 31,
     "metadata": {},
     "output_type": "execute_result"
    }
   ],
   "source": [
    "cols"
   ]
  },
  {
   "cell_type": "code",
   "execution_count": 66,
   "id": "ae10e0cd",
   "metadata": {},
   "outputs": [
    {
     "data": {
      "image/png": "[encoded data removed]",
      "text/plain": [
       "<Figure size 1800x1000 with 2 Axes>"
      ]
     },
     "metadata": {},
     "output_type": "display_data"
    }
   ],
   "source": [
    "fig = plt.figure(figsize=(18, 10))\n",
    "\n",
    "ax1 = fig.add_subplot(221)\n",
    "sns.histplot(X_train['Age'], ax=ax1)\n",
    "plt.title(\"Age PDF\")\n",
    "\n",
    "ax2 = fig.add_subplot(222)\n",
    "stats.probplot(X_train['Age'], dist='norm', plot=plt)\n",
    "plt.title(\"Age QQ Plot\")\n",
    "plt.show()"
   ]
  },
  {
   "cell_type": "code",
   "execution_count": 67,
   "id": "168be480",
   "metadata": {},
   "outputs": [
    {
     "data": {
      "image/png": "[encoded data removed]",
      "text/plain": [
       "<Figure size 1800x1000 with 2 Axes>"
      ]
     },
     "metadata": {},
     "output_type": "display_data"
    }
   ],
   "source": [
    "fig = plt.figure(figsize=(18, 10))\n",
    "\n",
    "ax1 = fig.add_subplot(221)\n",
    "sns.histplot(X_train['Fare'], ax=ax1)\n",
    "plt.title(\"Fare PDF\")\n",
    "\n",
    "ax2 = fig.add_subplot(222)\n",
    "stats.probplot(X_train['Fare'], dist='norm', plot=plt)\n",
    "plt.title(\"Fare QQ Plot\")\n",
    "plt.show()"
   ]
  },
  {
   "cell_type": "markdown",
   "id": "f133d317",
   "metadata": {},
   "source": [
    "# Use algorithm Before Transformed"
   ]
  },
  {
   "cell_type": "code",
   "execution_count": 68,
   "id": "40fd2a55",
   "metadata": {},
   "outputs": [],
   "source": [
    "clf = LogisticRegression()\n",
    "clf2  = DecisionTreeClassifier()"
   ]
  },
  {
   "cell_type": "code",
   "execution_count": 73,
   "id": "17e98edf",
   "metadata": {},
   "outputs": [
    {
     "name": "stdout",
     "output_type": "stream",
     "text": [
      "Accuracy LR 0.6480446927374302\n",
      "Accuracy DT 0.6759776536312849\n"
     ]
    }
   ],
   "source": [
    "clf.fit(X_train, y_train)\n",
    "clf2.fit(X_train, y_train)\n",
    "\n",
    "y_pred = clf.predict(X_test)\n",
    "y_pred1 = clf2.predict(X_test)\n",
    "\n",
    "print(f\"Accuracy LR {accuracy_score(y_true=y_test, y_pred=y_pred)}\")\n",
    "print(f\"Accuracy DT {accuracy_score(y_true=y_test, y_pred=y_pred1)}\")\n"
   ]
  },
  {
   "cell_type": "markdown",
   "id": "e0345149",
   "metadata": {},
   "source": [
    "# After Transformed "
   ]
  },
  {
   "cell_type": "markdown",
   "id": "f4ce9ef3",
   "metadata": {},
   "source": [
    "- `np.log` : If we have zero in column then it doesn't work properly\n",
    "- `np.log1p` : This function add one in each number then find the log "
   ]
  },
  {
   "cell_type": "code",
   "execution_count": 75,
   "id": "c4dbc969",
   "metadata": {},
   "outputs": [],
   "source": [
    "trf = FunctionTransformer(func=np.log1p)"
   ]
  },
  {
   "cell_type": "code",
   "execution_count": 78,
   "id": "cc90efad",
   "metadata": {},
   "outputs": [
    {
     "data": {
      "text/html": [
       "<div>\n",
       "<style scoped>\n",
       "    .dataframe tbody tr th:only-of-type {\n",
       "        vertical-align: middle;\n",
       "    }\n",
       "\n",
       "    .dataframe tbody tr th {\n",
       "        vertical-align: top;\n",
       "    }\n",
       "\n",
       "    .dataframe thead th {\n",
       "        text-align: right;\n",
       "    }\n",
       "</style>\n",
       "<table border=\"1\" class=\"dataframe\">\n",
       "  <thead>\n",
       "    <tr style=\"text-align: right;\">\n",
       "      <th></th>\n",
       "      <th>Age</th>\n",
       "      <th>Fare</th>\n",
       "    </tr>\n",
       "  </thead>\n",
       "  <tbody>\n",
       "    <tr>\n",
       "      <th>331</th>\n",
       "      <td>3.839452</td>\n",
       "      <td>3.384390</td>\n",
       "    </tr>\n",
       "    <tr>\n",
       "      <th>733</th>\n",
       "      <td>3.178054</td>\n",
       "      <td>2.639057</td>\n",
       "    </tr>\n",
       "    <tr>\n",
       "      <th>382</th>\n",
       "      <td>3.496508</td>\n",
       "      <td>2.188856</td>\n",
       "    </tr>\n",
       "    <tr>\n",
       "      <th>704</th>\n",
       "      <td>3.295837</td>\n",
       "      <td>2.180892</td>\n",
       "    </tr>\n",
       "    <tr>\n",
       "      <th>813</th>\n",
       "      <td>1.945910</td>\n",
       "      <td>3.474293</td>\n",
       "    </tr>\n",
       "    <tr>\n",
       "      <th>...</th>\n",
       "      <td>...</td>\n",
       "      <td>...</td>\n",
       "    </tr>\n",
       "    <tr>\n",
       "      <th>106</th>\n",
       "      <td>3.091042</td>\n",
       "      <td>2.157559</td>\n",
       "    </tr>\n",
       "    <tr>\n",
       "      <th>270</th>\n",
       "      <td>3.424234</td>\n",
       "      <td>3.465736</td>\n",
       "    </tr>\n",
       "    <tr>\n",
       "      <th>860</th>\n",
       "      <td>3.737670</td>\n",
       "      <td>2.715244</td>\n",
       "    </tr>\n",
       "    <tr>\n",
       "      <th>435</th>\n",
       "      <td>2.708050</td>\n",
       "      <td>4.795791</td>\n",
       "    </tr>\n",
       "    <tr>\n",
       "      <th>102</th>\n",
       "      <td>3.091042</td>\n",
       "      <td>4.360388</td>\n",
       "    </tr>\n",
       "  </tbody>\n",
       "</table>\n",
       "<p>712 rows × 2 columns</p>\n",
       "</div>"
      ],
      "text/plain": [
       "          Age      Fare\n",
       "331  3.839452  3.384390\n",
       "733  3.178054  2.639057\n",
       "382  3.496508  2.188856\n",
       "704  3.295837  2.180892\n",
       "813  1.945910  3.474293\n",
       "..        ...       ...\n",
       "106  3.091042  2.157559\n",
       "270  3.424234  3.465736\n",
       "860  3.737670  2.715244\n",
       "435  2.708050  4.795791\n",
       "102  3.091042  4.360388\n",
       "\n",
       "[712 rows x 2 columns]"
      ]
     },
     "execution_count": 78,
     "metadata": {},
     "output_type": "execute_result"
    }
   ],
   "source": [
    "X_train_transformed = trf.fit_transform(X_train)\n",
    "X_train_transformed "
   ]
  },
  {
   "cell_type": "code",
   "execution_count": 79,
   "id": "ff7e1a67",
   "metadata": {},
   "outputs": [
    {
     "data": {
      "text/html": [
       "<div>\n",
       "<style scoped>\n",
       "    .dataframe tbody tr th:only-of-type {\n",
       "        vertical-align: middle;\n",
       "    }\n",
       "\n",
       "    .dataframe tbody tr th {\n",
       "        vertical-align: top;\n",
       "    }\n",
       "\n",
       "    .dataframe thead th {\n",
       "        text-align: right;\n",
       "    }\n",
       "</style>\n",
       "<table border=\"1\" class=\"dataframe\">\n",
       "  <thead>\n",
       "    <tr style=\"text-align: right;\">\n",
       "      <th></th>\n",
       "      <th>Age</th>\n",
       "      <th>Fare</th>\n",
       "    </tr>\n",
       "  </thead>\n",
       "  <tbody>\n",
       "    <tr>\n",
       "      <th>709</th>\n",
       "      <td>3.424234</td>\n",
       "      <td>2.787834</td>\n",
       "    </tr>\n",
       "    <tr>\n",
       "      <th>439</th>\n",
       "      <td>3.465736</td>\n",
       "      <td>2.442347</td>\n",
       "    </tr>\n",
       "    <tr>\n",
       "      <th>840</th>\n",
       "      <td>3.044522</td>\n",
       "      <td>2.188856</td>\n",
       "    </tr>\n",
       "    <tr>\n",
       "      <th>720</th>\n",
       "      <td>1.945910</td>\n",
       "      <td>3.526361</td>\n",
       "    </tr>\n",
       "    <tr>\n",
       "      <th>39</th>\n",
       "      <td>2.708050</td>\n",
       "      <td>2.504848</td>\n",
       "    </tr>\n",
       "    <tr>\n",
       "      <th>...</th>\n",
       "      <td>...</td>\n",
       "      <td>...</td>\n",
       "    </tr>\n",
       "    <tr>\n",
       "      <th>433</th>\n",
       "      <td>2.890372</td>\n",
       "      <td>2.094946</td>\n",
       "    </tr>\n",
       "    <tr>\n",
       "      <th>773</th>\n",
       "      <td>3.424234</td>\n",
       "      <td>2.107178</td>\n",
       "    </tr>\n",
       "    <tr>\n",
       "      <th>25</th>\n",
       "      <td>3.663562</td>\n",
       "      <td>3.477773</td>\n",
       "    </tr>\n",
       "    <tr>\n",
       "      <th>84</th>\n",
       "      <td>2.890372</td>\n",
       "      <td>2.442347</td>\n",
       "    </tr>\n",
       "    <tr>\n",
       "      <th>10</th>\n",
       "      <td>1.609438</td>\n",
       "      <td>2.873565</td>\n",
       "    </tr>\n",
       "  </tbody>\n",
       "</table>\n",
       "<p>179 rows × 2 columns</p>\n",
       "</div>"
      ],
      "text/plain": [
       "          Age      Fare\n",
       "709  3.424234  2.787834\n",
       "439  3.465736  2.442347\n",
       "840  3.044522  2.188856\n",
       "720  1.945910  3.526361\n",
       "39   2.708050  2.504848\n",
       "..        ...       ...\n",
       "433  2.890372  2.094946\n",
       "773  3.424234  2.107178\n",
       "25   3.663562  3.477773\n",
       "84   2.890372  2.442347\n",
       "10   1.609438  2.873565\n",
       "\n",
       "[179 rows x 2 columns]"
      ]
     },
     "execution_count": 79,
     "metadata": {},
     "output_type": "execute_result"
    }
   ],
   "source": [
    "X_test_transformed = trf.transform(X_test)\n",
    "X_test_transformed "
   ]
  },
  {
   "cell_type": "code",
   "execution_count": 80,
   "id": "acb56dff",
   "metadata": {},
   "outputs": [
    {
     "name": "stdout",
     "output_type": "stream",
     "text": [
      "Accuracy LR 0.6815642458100558\n",
      "Accuracy DT 0.6815642458100558\n"
     ]
    }
   ],
   "source": [
    "# Create an object on Model\n",
    "clf = LogisticRegression()\n",
    "clf2 = DecisionTreeClassifier()\n",
    "\n",
    "# train on the parameter\n",
    "clf.fit(X_train_transformed, y_train)\n",
    "clf2.fit(X_train_transformed, y_train)\n",
    "\n",
    "# predict\n",
    "y_pred = clf.predict(X_test_transformed)\n",
    "y_pred1 = clf.predict(X_test_transformed)\n",
    "\n",
    "# Now see what happen after function transformer\n",
    "print(f\"Accuracy LR {accuracy_score(y_true=y_test, y_pred=y_pred)}\")\n",
    "print(f\"Accuracy DT {accuracy_score(y_true=y_test, y_pred=y_pred1)}\")"
   ]
  },
  {
   "cell_type": "code",
   "execution_count": 86,
   "id": "2b0015c7",
   "metadata": {},
   "outputs": [
    {
     "name": "stdout",
     "output_type": "stream",
     "text": [
      "LR : 0.678027465667915\n",
      "DT : 0.6610861423220974\n"
     ]
    }
   ],
   "source": [
    "# Check though the cross val score\n",
    "X_transformed = trf.fit_transform(X)\n",
    "\n",
    "clf = LogisticRegression()\n",
    "clf2 = DecisionTreeClassifier()\n",
    "\n",
    "print(\"LR :\", np.mean(cross_val_score(clf, X_transformed, y, scoring='accuracy', cv=10)))\n",
    "print(\"DT :\", np.mean(cross_val_score(clf2, X_transformed, y, scoring='accuracy', cv=10)))"
   ]
  },
  {
   "cell_type": "markdown",
   "id": "e63f090c",
   "metadata": {},
   "source": [
    "- If you compare before and after then see the accuracy is increase\n",
    "- But in the decision tree algorithm nearly no changes\n",
    "- Because it not affect by the function Transformer"
   ]
  },
  {
   "cell_type": "markdown",
   "id": "281c12d1",
   "metadata": {},
   "source": [
    "# Function for quick viz and accuracy "
   ]
  },
  {
   "cell_type": "code",
   "execution_count": null,
   "id": "5dc9aa5f",
   "metadata": {},
   "outputs": [],
   "source": [
    "def apply_transform(transform):\n",
    "    X = df.iloc[:,1:3]\n",
    "    y = df.iloc[:,0]\n",
    "    \n",
    "    trf = ColumnTransformer([('log',FunctionTransformer(transform),['Fare'])],remainder='passthrough')\n",
    "    \n",
    "    X_trans = trf.fit_transform(X)\n",
    "    \n",
    "    clf = LogisticRegression()\n",
    "    \n",
    "    print(\"Accuracy\",np.mean(cross_val_score(clf,X_trans,y,scoring='accuracy',cv=10)))\n",
    "    \n",
    "    plt.figure(figsize=(14,4))\n",
    "\n",
    "    plt.subplot(121)\n",
    "    stats.probplot(X['Fare'], dist=\"norm\", plot=plt)\n",
    "    plt.title('Fare Before Transform')\n",
    "\n",
    "    plt.subplot(122)\n",
    "    stats.probplot(X_trans[:,0], dist=\"norm\", plot=plt)\n",
    "    plt.title('Fare After Transform')\n",
    "\n",
    "    plt.show()\n",
    "    "
   ]
  },
  {
   "cell_type": "code",
   "execution_count": null,
   "id": "91344183",
   "metadata": {},
   "outputs": [],
   "source": [
    "apply_transform(np.sin)"
   ]
  }
 ],
 "metadata": {
  "kernelspec": {
   "display_name": "Python 3",
   "language": "python",
   "name": "python3"
  },
  "language_info": {
   "codemirror_mode": {
    "name": "ipython",
    "version": 3
   },
   "file_extension": ".py",
   "mimetype": "text/x-python",
   "name": "python",
   "nbconvert_exporter": "python",
   "pygments_lexer": "ipython3",
   "version": "3.12.3"
  }
 },
 "nbformat": 4,
 "nbformat_minor": 5
}
